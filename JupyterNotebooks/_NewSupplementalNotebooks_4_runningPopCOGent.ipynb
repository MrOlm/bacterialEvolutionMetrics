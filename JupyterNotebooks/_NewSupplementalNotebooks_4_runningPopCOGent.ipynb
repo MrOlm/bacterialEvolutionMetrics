{
 "cells": [
  {
   "cell_type": "code",
   "execution_count": 8,
   "metadata": {},
   "outputs": [],
   "source": [
    "import os\n",
    "import sys\n",
    "import glob\n",
    "import scipy\n",
    "import pickle\n",
    "import matplotlib\n",
    "import numpy as np\n",
    "import pandas as pd\n",
    "import seaborn as sns\n",
    "from collections import defaultdict\n",
    "from matplotlib import pyplot as plt\n",
    "from matplotlib.backends.backend_pdf import PdfPages\n",
    "\n",
    "from tqdm import tqdm\n",
    "import concurrent.futures\n",
    "from subprocess import call\n",
    "from concurrent import futures\n",
    "from collections import defaultdict\n",
    "import concurrent\n",
    "\n",
    "sns.set_style('whitegrid')\n",
    "pd.set_option('display.max_rows', 100)\n",
    "matplotlib.rcParams['ps.fonttype'] = 42\n",
    "matplotlib.rcParams['pdf.fonttype'] = 42\n",
    "pd.set_option('display.max_columns', 100)"
   ]
  },
  {
   "cell_type": "markdown",
   "metadata": {},
   "source": [
    "# Declare a bunch of methods\n",
    "\n",
    "Make sure you update your variable \"mugsy_path\" to the proper location"
   ]
  },
  {
   "cell_type": "code",
   "execution_count": 9,
   "metadata": {},
   "outputs": [],
   "source": [
    "def mass_popcogent(genome1_list, genome2_list, alignment_directory, p=6):\n",
    "    mugsy_path = '/data8/Human/NIH_4/MethodDevelopment/Mugsy/mugsy_x86-64-v1r2.3/mugsy'\n",
    "    random_seed = 1\n",
    "\n",
    "    # do the multiprocessing\n",
    "    Alignment_files = []\n",
    "\n",
    "    if p > 1:\n",
    "        ex = concurrent.futures.ProcessPoolExecutor(max_workers=p)\n",
    "\n",
    "        total_cmds = len([x for x in iterate_POP_commands(genome1_list, genome2_list, alignment_directory)])\n",
    "\n",
    "        wait_for = [ex.submit(POP_wrap, cmd) for cmd in iterate_POP_commands(genome1_list, genome2_list, alignment_directory)]\n",
    "\n",
    "        for f in tqdm(futures.as_completed(wait_for), total=total_cmds, desc='Running PopCOGent'):\n",
    "            try:\n",
    "                results = f.result()\n",
    "                print(results)\n",
    "                Alignment_files.append(results)\n",
    "            except:\n",
    "                pass\n",
    "    else:\n",
    "        total_cmds = len([x for x in iterate_POP_commands(genome1_list, genome2_list, alignment_directory)])\n",
    "        for cmd in tqdm(iterate_POP_commands(genome1_list, genome2_list, alignment_directory), desc='Profiling scaffolds: ', total=total_cmds):\n",
    "            results = POP_wrap(cmd)\n",
    "            print(results)\n",
    "            Alignment_files.append(results)\n",
    "\n",
    "\n",
    "    header = ['Strain 1',\n",
    "         'Strain 2',\n",
    "         'Initial divergence',\n",
    "         'Alignment size',\n",
    "         'Genome 1 size',\n",
    "         'Genome 2 size',\n",
    "         'Observed SSD',\n",
    "         'SSD 95 CI low',\n",
    "         'SSD 95 CI high']\n",
    "    rows = [open(f).read().strip().split() for f in Alignment_files]\n",
    "    df = pd.DataFrame(rows, columns=header)\n",
    "    return df\n",
    "\n",
    "def iterate_POP_commands(genome1_list, genome2_list, alignment_directory):\n",
    "    i = 1\n",
    "    for genome_1_file, genome_2_file in zip(genome1_list, genome2_list):\n",
    "        yield [genome_1_file, genome_2_file, alignment_directory, i]\n",
    "        i += 1\n",
    "\n",
    "def POP_wrap(cmd):\n",
    "    mugsy_path = '/data8/Human/NIH_4/MethodDevelopment/Mugsy/mugsy_x86-64-v1r2.3/mugsy'\n",
    "    #random_seed = 1\n",
    "\n",
    "    genome_1_file, genome_2_file, alignment_dir, random_seed = cmd\n",
    "    alignment_file = align_genomes(genome_1_file,\n",
    "                           genome_2_file,\n",
    "                           alignment_dir,\n",
    "                           mugsy_path,\n",
    "                           random_seed)\n",
    "\n",
    "    length_bias_file = alignment_file + '.length_bias.txt'\n",
    "    calculate_length_bias(alignment_file,\n",
    "                          genome_1_file,\n",
    "                          genome_2_file,\n",
    "                          length_bias_file)\n",
    "\n",
    "    return length_bias_file\n",
    "\n",
    "import numpy as np\n",
    "from collections import Counter\n",
    "from os import system, path, remove, makedirs\n",
    "import random\n",
    "import string\n",
    "from Bio import SeqIO\n",
    "from itertools import combinations, groupby\n",
    "from subprocess import call\n",
    "\n",
    "\n",
    "def align_and_calculate_length_bias(genome_1_file,\n",
    "                                    genome_2_file,\n",
    "                                    alignment_dir,\n",
    "                                    mugsy_path,\n",
    "                                    random_seed,\n",
    "                                    keep_alignments):\n",
    "    alignment_file = align_genomes(genome_1_file,\n",
    "                                   genome_2_file,\n",
    "                                   alignment_dir,\n",
    "                                   mugsy_path,\n",
    "                                   random_seed)\n",
    "\n",
    "    length_bias_file = alignment_file + '.length_bias.txt'\n",
    "    calculate_length_bias(alignment_file,\n",
    "                          genome_1_file,\n",
    "                          genome_2_file,\n",
    "                          length_bias_file)\n",
    "    if not keep_alignments:\n",
    "        remove(alignment_file)\n",
    "    return length_bias_file\n",
    "\n",
    "\n",
    "def rename_for_mugsy(genome):\n",
    "    # Assumes the strain name is everythign except the extension\n",
    "    strain_name = '.'.join(path.basename(genome).split('.')[0:-1])\n",
    "\n",
    "    # We want to remove all periods and colons from sequence input so that mugsy doesn't break\n",
    "    mugsy_outname = genome + '.renamed.mugsy'\n",
    "\n",
    "    # Removes all bad characters\n",
    "    mugsy_name = strain_name.translate(({ord(c): '_' for c in \"\"\" !@#$%^&*()[]{};:,./<>?\\|`\"'~-=+\"\"\"}))\n",
    "\n",
    "    mugsy_s = []\n",
    "    for i, s in enumerate(SeqIO.parse(genome, 'fasta')):\n",
    "        s.description = ''\n",
    "        s.id = '{id}_{contig_num}'.format(id=mugsy_name, contig_num=str(i))\n",
    "        mugsy_s.append(s)\n",
    "    SeqIO.write(mugsy_s, mugsy_outname, 'fasta')\n",
    "    return mugsy_outname\n",
    "\n",
    "\n",
    "def align_genomes(contig1,\n",
    "                  contig2,\n",
    "                  alignment_dir,\n",
    "                  mugsy_path,\n",
    "                  random_seed):\n",
    "\n",
    "    random.seed(random_seed)\n",
    "    # Assumes that files are named strain.contigextension.renamed.mugsy\n",
    "#     strain1 = '.'.join(path.basename(contig1).split('.')[0:-3])\n",
    "#     strain2 = '.'.join(path.basename(contig2).split('.')[0:-3])\n",
    "    strain1 = path.basename(contig1)\n",
    "    strain2 = path.basename(contig2)\n",
    "    correct_name = '{strain1}_@_{strain2}.maf'.format(strain1 = strain1, strain2 = strain2)\n",
    "    final_name = alignment_dir+'/'+correct_name\n",
    "\n",
    "    if not path.exists(final_name): # Only run the alignment if the file doesn't exist\n",
    "        # make a temporary contig file due to parallelization issues with reading from the same filename\n",
    "        out_id_1 = ''.join(random.choice(string.ascii_uppercase + string.digits + string.ascii_lowercase) for i in range(16))\n",
    "        out_id_2 = ''.join(random.choice(string.ascii_uppercase + string.digits + string.ascii_lowercase) for i in range(16))\n",
    "\n",
    "        system('cp {contig1} {alignment_dir}/{randomcontigname1}.tempcontig'.format(contig1=contig1, randomcontigname1=out_id_1, alignment_dir=alignment_dir))\n",
    "        system('cp {contig2} {alignment_dir}/{randomcontigname2}.tempcontig'.format(contig2=contig2, randomcontigname2=out_id_2, alignment_dir=alignment_dir))\n",
    "#         out_id_1 = strain1\n",
    "#         out_id_2 = strain2\n",
    "\n",
    "\n",
    "        # Aligning the genomes\n",
    "        prefix = out_id_1 + out_id_2\n",
    "        #prefix = prefix.replace('-', '_').replace('.', '_')\n",
    "        cmd = '{mugsypath} --directory {align_directory} --prefix {prefix} {align_directory}/{randomcontigname1}.tempcontig {align_directory}/{randomcontigname2}.tempcontig'.format(\n",
    "            mugsypath=mugsy_path,\n",
    "            align_directory=alignment_dir,\n",
    "            prefix = prefix,\n",
    "            randomcontigname1 = out_id_1,\n",
    "            randomcontigname2 = out_id_2)\n",
    "\n",
    "        ADD = 'export MUGSY_INSTALL=/data8/Human/NIH_4/MethodDevelopment/Mugsy/mugsy_x86-64-v1r2.3'\n",
    "        cmd = ADD + ' ; ' + cmd\n",
    "        print(cmd)\n",
    "        call(cmd, shell=True)\n",
    "\n",
    "\n",
    "        # Remove unneeded files\n",
    "        remove('{align_directory}/{random_contig1}.tempcontig'.format(random_contig1=out_id_1, align_directory=alignment_dir))\n",
    "        remove('{align_directory}/{random_contig2}.tempcontig'.format(random_contig2=out_id_2, align_directory=alignment_dir))\n",
    "        #remove('{align_directory}/{prefix}'.format(prefix=prefix, align_directory=alignment_dir))\n",
    "#         remove('{prefix}.mugsy.log'.format(prefix=prefix))\n",
    "\n",
    "        system('mv {random_alignment_name} {correct_name}'.format(random_alignment_name=alignment_dir+'/'+prefix +'.maf',\n",
    "                                                                  correct_name=alignment_dir+'/'+correct_name))\n",
    "\n",
    "    return final_name\n",
    "\n",
    "def calculate_length_bias(input_alignment,\n",
    "                          genome_1_file,\n",
    "                          genome_2_file,\n",
    "                          output_file):\n",
    "\n",
    "\n",
    "    g1size = sum([len(s) for s in SeqIO.parse(genome_1_file, 'fasta')])\n",
    "    g2size = sum([len(s) for s in SeqIO.parse(genome_2_file, 'fasta')])\n",
    "\n",
    "    if not path.exists(output_file): # only calculate the length bias if the file doesn't exist\n",
    "        edge = get_transfer_measurement(input_alignment,\n",
    "                                        g1size,\n",
    "                                        g2size)\n",
    "\n",
    "        with open(output_file, 'w') as outfile:\n",
    "            outfile.write(edge + '\\n')\n",
    "\n",
    "def get_transfer_measurement(alignment,\n",
    "                             g1size,\n",
    "                             g2size,\n",
    "                             min_block_size=1000,\n",
    "                             filtering_window=1000):\n",
    "\n",
    "    # Initializes local variables\n",
    "    filtered_blocks = []\n",
    "    strain1, strain2 = alignment.split('/')[-1].split('_@_')\n",
    "    strain2 = strain2.replace('.maf', '')\n",
    "    all_blocks, prefilter_total_len = get_concatenated_alignment(alignment)\n",
    "\n",
    "    # Filter alignment to split into subblocks at any point where there are at least 2 gaps\n",
    "    for prefilter_s1, prefilter_s2 in all_blocks:\n",
    "        filtered_blocks += filter_block(prefilter_s1, prefilter_s2)\n",
    "    filtered_blocks = [block for block in filtered_blocks if len(block[0]) > min_block_size]\n",
    "    s1temp, s2temp = zip(*filtered_blocks)\n",
    "\n",
    "    # Assumes that each alignment block adds another divergence\n",
    "    Concat_S1 = '1'.join(s1temp)\n",
    "    Concat_S2 = '0'.join(s2temp)\n",
    "    alignment_size = len(Concat_S1)\n",
    "    init_div_count = naive_div_count(Concat_S1, Concat_S2)\n",
    "    init_div = init_div_count * 1.0 / alignment_size\n",
    "\n",
    "    # Second filtering step by divergence\n",
    "    final_filtered = []\n",
    "    for s1, s2 in filtered_blocks:\n",
    "        final_filtered += filter_block_by_divergence(s1, s2, init_div, winlen=filtering_window)\n",
    "    filtered_blocks = [block for block in final_filtered if len(block[0]) > min_block_size]\n",
    "    s1temp, s2temp = zip(*filtered_blocks)\n",
    "\n",
    "    # Assumes that each alignment block adds another divergence\n",
    "    Concat_S1 = '1'.join(s1temp)\n",
    "    Concat_S2 = '0'.join(s2temp)\n",
    "    alignment_size = len(Concat_S1)\n",
    "    init_div_count = naive_div_count(Concat_S1, Concat_S2)\n",
    "    init_div = (init_div_count * 1.0) / alignment_size\n",
    "\n",
    "    initial = id_var_window_counts(Concat_S1, Concat_S2)\n",
    "    initial_cumulative = get_cumulative_window_spectrum(initial, alignment_size)\n",
    "    null_expect = single_param_null_model(np.arange(0, len(initial_cumulative)), init_div)\n",
    "    observed_sum_sq_diff = np.sum(np.square(np.subtract(initial_cumulative, null_expect)))\n",
    "\n",
    "    # Given a distribution of identical windows, bootstraps to find\n",
    "    # length bias (SSD) confidence interval\n",
    "    ssds = []\n",
    "    for t in range(0, 200):\n",
    "        initial_boot = np.random.choice(initial, len(initial), replace=True)\n",
    "        initial_cumulative_boot = get_cumulative_window_spectrum(initial_boot, alignment_size)\n",
    "        ssd_boot = np.sum(np.square(np.subtract(initial_cumulative_boot, null_expect)))\n",
    "        ssds.append(ssd_boot)\n",
    "    low_percentile = np.percentile(ssds, 0.5)\n",
    "    high_percentile = np.percentile(ssds, 99.5)\n",
    "\n",
    "    edge = '\\t'.join([strain1,\n",
    "                     strain2,\n",
    "                     str(init_div),\n",
    "                     str(alignment_size),\n",
    "                     str(g1size),\n",
    "                     str(g2size),\n",
    "                     str(observed_sum_sq_diff),\n",
    "                     str(low_percentile),\n",
    "                     str(high_percentile)])\n",
    "    return edge\n",
    "\n",
    "\n",
    "def parse_alignment_file(alignment, min_block_size=1000, filtering_window=1000):\n",
    "\n",
    "    # Initializes local variables\n",
    "    filtered_blocks = []\n",
    "    all_blocks, prefilter_total_len = get_concatenated_alignment(alignment)\n",
    "\n",
    "    # Filter alignment to split into subblocks at any point where there are at least 2 gaps\n",
    "    for prefilter_s1, prefilter_s2 in all_blocks:\n",
    "        filtered_blocks += filter_block(prefilter_s1, prefilter_s2)\n",
    "    filtered_blocks = [block for block in filtered_blocks if len(block[0]) > min_block_size]\n",
    "    s1temp, s2temp = zip(*filtered_blocks)\n",
    "\n",
    "    # Assumes that each alignment block adds another divergence\n",
    "    Concat_S1 = '1'.join(s1temp)\n",
    "    Concat_S2 = '0'.join(s2temp)\n",
    "    alignment_size = len(Concat_S1)\n",
    "    init_div_count = naive_div_count(Concat_S1, Concat_S2)\n",
    "    init_div = init_div_count * 1.0 / alignment_size\n",
    "\n",
    "    # Second filtering step by divergence\n",
    "    final_filtered = []\n",
    "    for s1, s2 in filtered_blocks:\n",
    "        final_filtered += filter_block_by_divergence(s1, s2, init_div, winlen=filtering_window)\n",
    "    filtered_blocks = [block for block in final_filtered if len(block[0]) > min_block_size]\n",
    "    s1temp, s2temp = zip(*filtered_blocks)\n",
    "\n",
    "    # Assumes that each alignment block adds another divergence\n",
    "    Concat_S1 = '1'.join(s1temp)\n",
    "    Concat_S2 = '0'.join(s2temp)\n",
    "    alignment_size = len(Concat_S1)\n",
    "    init_div_count = naive_div_count(Concat_S1, Concat_S2)\n",
    "    init_div = (init_div_count * 1.0) / alignment_size\n",
    "\n",
    "    initial = id_var_window_counts(Concat_S1, Concat_S2)\n",
    "    initial_cumulative = get_cumulative_window_spectrum(initial, alignment_size)\n",
    "\n",
    "    return (initial_cumulative, init_div)\n",
    "\n",
    "\n",
    "def get_cumulative_window_spectrum(idw, gs):\n",
    "    '''\n",
    "    Gets the X and Y coordinates of the identical window spectrum\n",
    "    i.e., the fraction of the genome belonging to identical windows\n",
    "    above a certain size\n",
    "    '''\n",
    "\n",
    "    obs_frac_counts = np.zeros(gs)\n",
    "    norm = np.sum(idw)\n",
    "    windows = Counter(idw)\n",
    "    for wsize, count in windows.items():\n",
    "        obs_frac_counts[wsize] = count * wsize * 1.0 / norm\n",
    "    return 1.0 - np.cumsum(obs_frac_counts)\n",
    "\n",
    "\n",
    "def get_concatenated_alignment(alignment):\n",
    "    '''\n",
    "    This creates a list of tuples that constitute a concatenated alignment.\n",
    "    Every entry in the list is a tuple that corresponds to an alignment block.\n",
    "    '''\n",
    "\n",
    "    with open(alignment, 'r') as infile:\n",
    "        '''\n",
    "        Parser assumes a maf format where every alignment block begins with a\n",
    "        statement of how many sequences are in that block, indicated by\n",
    "        \"mult=.\" Also assumes that the order of sequences in each block is\n",
    "        the same.\n",
    "        '''\n",
    "        seqs = []\n",
    "        total_len = 0\n",
    "        for lines in infile:\n",
    "            if 'mult=2' in lines:\n",
    "                seq_line_1 = next(infile)\n",
    "                block_1 = seq_line_1.split()[-1].strip()\n",
    "                total_len += len(block_1)\n",
    "                seq_line_2 = next(infile)\n",
    "                block_2 = seq_line_2.split()[-1].replace('\\n', '')\n",
    "                seqs.append((block_1, block_2))\n",
    "    return seqs, total_len\n",
    "\n",
    "\n",
    "def id_var_window_counts(sequence_1, sequence_2):\n",
    "    '''\n",
    "    This method takes two aligned sequences (strings) and returns the\n",
    "    lengths of all identical windows between those sequences.\n",
    "    '''\n",
    "    if sequence_1 == sequence_2:\n",
    "        id_seqs = [len(sequence_1)]\n",
    "    else:\n",
    "        a1 = np.array(list(sequence_1))\n",
    "        a2 = np.array(list(sequence_2))\n",
    "        mutated_positions = np.where(a1 != a2)[0]\n",
    "        id_seqs = -1 + np.ediff1d(mutated_positions,\n",
    "                                  to_begin=mutated_positions[0] + 1,\n",
    "                                  to_end=len(sequence_1) - mutated_positions[-1])\n",
    "    return id_seqs\n",
    "\n",
    "\n",
    "def naive_div_count(sequence_1, sequence_2):\n",
    "    '''\n",
    "    Given two aligned strings, returns the number of differences between them.\n",
    "    '''\n",
    "    if sequence_1 == sequence_2:\n",
    "        return 0\n",
    "    a1 = np.array(list(sequence_1))\n",
    "    a2 = np.array(list(sequence_2))\n",
    "    return len(np.where(a1 != a2)[0])\n",
    "\n",
    "\n",
    "def filter_block(sequence_1, sequence_2):\n",
    "    removal_positions = filter_string(sequence_1)\n",
    "    removal_positions += filter_string(sequence_2)\n",
    "    return [block for block in get_filtered_subblocks(sequence_1, sequence_2, removal_positions) if block[0] != '']\n",
    "\n",
    "\n",
    "def filter_string(S):\n",
    "    groups = groupby(S)\n",
    "    result = [(label, sum(1 for _ in group)) for label, group in groups]\n",
    "    begin = 0\n",
    "    filter_intervals = []\n",
    "    for base, count in result:\n",
    "        end = begin + count\n",
    "        if base == '-' and count >= 2:\n",
    "            filter_intervals.append((end, begin))\n",
    "        begin += count\n",
    "    return(filter_intervals)\n",
    "\n",
    "\n",
    "def filter_block_by_divergence(sequence_1, sequence_2, init_div, winlen=1000):\n",
    "    '''\n",
    "    Filters two sequences from an alignment block to remove regions\n",
    "    that are significantly more diverged than expected\n",
    "    '''\n",
    "\n",
    "    if sequence_1 == sequence_2:\n",
    "        return [(sequence_1, sequence_2)]\n",
    "    else:\n",
    "        removal_positions = []\n",
    "        begin = 0\n",
    "        for end in range(winlen, len(sequence_1), winlen):\n",
    "            d = naive_div_count(sequence_1[begin:end], sequence_2[begin:end])\n",
    "            if d / winlen >= 10 * init_div:\n",
    "                removal_positions.append((end, begin))\n",
    "            begin = end\n",
    "\n",
    "        if begin < len(sequence_1):\n",
    "            d = naive_div_count(sequence_1[begin:], sequence_2[begin:])\n",
    "            if d / (len(sequence_1) - begin) >= 10 * init_div:\n",
    "                removal_positions.append((len(sequence_1), begin))\n",
    "\n",
    "        return [block for block in get_filtered_subblocks(sequence_1, sequence_2, removal_positions) if block[0] != '']\n",
    "\n",
    "\n",
    "def get_filtered_subblocks(sequence_1, sequence_2, positions_to_remove):\n",
    "    '''\n",
    "    Helper method that splits a string into substrings when given a list of\n",
    "    start and end positions to remove\n",
    "    '''\n",
    "    if positions_to_remove == []:\n",
    "        return [(sequence_1, sequence_2)]\n",
    "    else:\n",
    "        final_blocks = []\n",
    "        initial_start = 0\n",
    "        if len(positions_to_remove) > 1:\n",
    "            merged = merge_intervals(sorted(positions_to_remove, reverse=True))\n",
    "        else:\n",
    "            merged = positions_to_remove\n",
    "        ends, starts = zip(*sorted(merged, key=lambda x: x[1]))\n",
    "        for i, start_of_deleted_region in enumerate(starts):\n",
    "            end_of_deleted_region = ends[i]\n",
    "            subsequence_1 = sequence_1[initial_start:start_of_deleted_region]\n",
    "            subsequence_2 = sequence_2[initial_start:start_of_deleted_region]\n",
    "            initial_start = end_of_deleted_region\n",
    "            final_blocks.append((subsequence_1, subsequence_2))\n",
    "        final_blocks.append((sequence_1[initial_start:], sequence_2[initial_start:]))\n",
    "        return final_blocks\n",
    "\n",
    "\n",
    "def single_param_null_model(w, div):\n",
    "    '''\n",
    "    The simple single parameter null model that describes\n",
    "    the window spectrum under an assumption of only mutation\n",
    "    and no transfer\n",
    "    '''\n",
    "    return np.exp(-div * w) * (div * w + 1)\n",
    "\n",
    "\n",
    "def merge_intervals(intervals):\n",
    "    all_intervals = []\n",
    "    for j, interval in enumerate(intervals):\n",
    "        end, start = interval\n",
    "        if j == 0:\n",
    "            current_interval = interval\n",
    "        else:\n",
    "            if intervals[j-1][1] <= end:\n",
    "                current_interval = (current_interval[0], start)\n",
    "            else:\n",
    "                all_intervals.append(current_interval)\n",
    "                current_interval = interval\n",
    "    if len(all_intervals) > 0:\n",
    "        if all_intervals[-1] != current_interval:\n",
    "            all_intervals.append(current_interval)\n",
    "    else:\n",
    "        all_intervals.append(current_interval)\n",
    "    return all_intervals"
   ]
  },
  {
   "cell_type": "markdown",
   "metadata": {},
   "source": [
    "## Run it"
   ]
  },
  {
   "cell_type": "code",
   "execution_count": 10,
   "metadata": {},
   "outputs": [
    {
     "name": "stderr",
     "output_type": "stream",
     "text": [
      "\r",
      "Running PopCOGent:   0%|          | 0/495 [00:00<?, ?it/s]"
     ]
    },
    {
     "name": "stdout",
     "output_type": "stream",
     "text": [
      "export MUGSY_INSTALL=/data8/Human/NIH_4/MethodDevelopment/Mugsy/mugsy_x86-64-v1r2.3 ; /data8/Human/NIH_4/MethodDevelopment/Mugsy/mugsy_x86-64-v1r2.3/mugsy --directory /data1/bio_db/refseq/analysis/Manuscript/github_methods/bacterialEvolutionMetrics/popCOGent_example_ocean --prefix IaspmEQH5m24fYoNG5BvrY1cmnAi2Rkp /data1/bio_db/refseq/analysis/Manuscript/github_methods/bacterialEvolutionMetrics/popCOGent_example_ocean/IaspmEQH5m24fYoN.tempcontig /data1/bio_db/refseq/analysis/Manuscript/github_methods/bacterialEvolutionMetrics/popCOGent_example_ocean/G5BvrY1cmnAi2Rkp.tempcontig\n",
      "export MUGSY_INSTALL=/data8/Human/NIH_4/MethodDevelopment/Mugsy/mugsy_x86-64-v1r2.3 ; /data8/Human/NIH_4/MethodDevelopment/Mugsy/mugsy_x86-64-v1r2.3/mugsy --directory /data1/bio_db/refseq/analysis/Manuscript/github_methods/bacterialEvolutionMetrics/popCOGent_example_ocean --prefix ztysDFFXrKlpgsTQcNcCbhK1eZpkt6yX /data1/bio_db/refseq/analysis/Manuscript/github_methods/bacterialEvolutionMetrics/popCOGent_example_ocean/ztysDFFXrKlpgsTQ.tempcontig /data1/bio_db/refseq/analysis/Manuscript/github_methods/bacterialEvolutionMetrics/popCOGent_example_ocean/cNcCbhK1eZpkt6yX.tempcontig\n",
      "export MUGSY_INSTALL=/data8/Human/NIH_4/MethodDevelopment/Mugsy/mugsy_x86-64-v1r2.3 ; /data8/Human/NIH_4/MethodDevelopment/Mugsy/mugsy_x86-64-v1r2.3/mugsy --directory /data1/bio_db/refseq/analysis/Manuscript/github_methods/bacterialEvolutionMetrics/popCOGent_example_ocean --prefix Pb8IXwc4ebEcAwr4Q9OMj48r94ZetJOe /data1/bio_db/refseq/analysis/Manuscript/github_methods/bacterialEvolutionMetrics/popCOGent_example_ocean/Pb8IXwc4ebEcAwr4.tempcontig /data1/bio_db/refseq/analysis/Manuscript/github_methods/bacterialEvolutionMetrics/popCOGent_example_ocean/Q9OMj48r94ZetJOe.tempcontig\n",
      "export MUGSY_INSTALL=/data8/Human/NIH_4/MethodDevelopment/Mugsy/mugsy_x86-64-v1r2.3 ; /data8/Human/NIH_4/MethodDevelopment/Mugsy/mugsy_x86-64-v1r2.3/mugsy --directory /data1/bio_db/refseq/analysis/Manuscript/github_methods/bacterialEvolutionMetrics/popCOGent_example_ocean --prefix dQlWoiyrlfx7Br3nyPfDvKHX4tPY8GaP /data1/bio_db/refseq/analysis/Manuscript/github_methods/bacterialEvolutionMetrics/popCOGent_example_ocean/dQlWoiyrlfx7Br3n.tempcontig /data1/bio_db/refseq/analysis/Manuscript/github_methods/bacterialEvolutionMetrics/popCOGent_example_ocean/yPfDvKHX4tPY8GaP.tempcontig\n",
      "export MUGSY_INSTALL=/data8/Human/NIH_4/MethodDevelopment/Mugsy/mugsy_x86-64-v1r2.3 ; /data8/Human/NIH_4/MethodDevelopment/Mugsy/mugsy_x86-64-v1r2.3/mugsy --directory /data1/bio_db/refseq/analysis/Manuscript/github_methods/bacterialEvolutionMetrics/popCOGent_example_ocean --prefix PTGkZ4JFEBZ9wSpmDO78XRnLqGQNyxBr /data1/bio_db/refseq/analysis/Manuscript/github_methods/bacterialEvolutionMetrics/popCOGent_example_ocean/PTGkZ4JFEBZ9wSpm.tempcontig /data1/bio_db/refseq/analysis/Manuscript/github_methods/bacterialEvolutionMetrics/popCOGent_example_ocean/DO78XRnLqGQNyxBr.tempcontig\n",
      "export MUGSY_INSTALL=/data8/Human/NIH_4/MethodDevelopment/Mugsy/mugsy_x86-64-v1r2.3 ; /data8/Human/NIH_4/MethodDevelopment/Mugsy/mugsy_x86-64-v1r2.3/mugsy --directory /data1/bio_db/refseq/analysis/Manuscript/github_methods/bacterialEvolutionMetrics/popCOGent_example_ocean --prefix oaqF5mQCAJgb4zmlXUnBR5pMkt0w88hG /data1/bio_db/refseq/analysis/Manuscript/github_methods/bacterialEvolutionMetrics/popCOGent_example_ocean/oaqF5mQCAJgb4zml.tempcontig /data1/bio_db/refseq/analysis/Manuscript/github_methods/bacterialEvolutionMetrics/popCOGent_example_ocean/XUnBR5pMkt0w88hG.tempcontig\n"
     ]
    },
    {
     "name": "stderr",
     "output_type": "stream",
     "text": [
      "\r",
      "Running PopCOGent:   0%|          | 1/495 [00:21<2:53:03, 21.02s/it]"
     ]
    },
    {
     "name": "stdout",
     "output_type": "stream",
     "text": [
      "export MUGSY_INSTALL=/data8/Human/NIH_4/MethodDevelopment/Mugsy/mugsy_x86-64-v1r2.3 ; /data8/Human/NIH_4/MethodDevelopment/Mugsy/mugsy_x86-64-v1r2.3/mugsy --directory /data1/bio_db/refseq/analysis/Manuscript/github_methods/bacterialEvolutionMetrics/popCOGent_example_ocean --prefix UyJZfDEq8GXbDw6NCF10EPF91DqaHyOe /data1/bio_db/refseq/analysis/Manuscript/github_methods/bacterialEvolutionMetrics/popCOGent_example_ocean/UyJZfDEq8GXbDw6N.tempcontig /data1/bio_db/refseq/analysis/Manuscript/github_methods/bacterialEvolutionMetrics/popCOGent_example_ocean/CF10EPF91DqaHyOe.tempcontig\n",
      "/data1/bio_db/refseq/analysis/Manuscript/github_methods/bacterialEvolutionMetrics/popCOGent_example_ocean/TOBG_RS-817.fna_@_TOBG_ARS-123.fna.maf.length_bias.txt\n"
     ]
    },
    {
     "name": "stderr",
     "output_type": "stream",
     "text": [
      "\r",
      "Running PopCOGent:   0%|          | 2/495 [00:23<2:07:52, 15.56s/it]"
     ]
    },
    {
     "name": "stdout",
     "output_type": "stream",
     "text": [
      "export MUGSY_INSTALL=/data8/Human/NIH_4/MethodDevelopment/Mugsy/mugsy_x86-64-v1r2.3 ; /data8/Human/NIH_4/MethodDevelopment/Mugsy/mugsy_x86-64-v1r2.3/mugsy --directory /data1/bio_db/refseq/analysis/Manuscript/github_methods/bacterialEvolutionMetrics/popCOGent_example_ocean --prefix OXzYIMjCFIPp6NZfB353Y5aMvrZF5OmB /data1/bio_db/refseq/analysis/Manuscript/github_methods/bacterialEvolutionMetrics/popCOGent_example_ocean/OXzYIMjCFIPp6NZf.tempcontig /data1/bio_db/refseq/analysis/Manuscript/github_methods/bacterialEvolutionMetrics/popCOGent_example_ocean/B353Y5aMvrZF5OmB.tempcontig\n",
      "/data1/bio_db/refseq/analysis/Manuscript/github_methods/bacterialEvolutionMetrics/popCOGent_example_ocean/TOBG_IN-1213.fna_@_TOBG_ARS-123.fna.maf.length_bias.txt\n"
     ]
    },
    {
     "name": "stderr",
     "output_type": "stream",
     "text": [
      "\r",
      "Running PopCOGent:   1%|          | 3/495 [00:25<1:33:19, 11.38s/it]"
     ]
    },
    {
     "name": "stdout",
     "output_type": "stream",
     "text": [
      "export MUGSY_INSTALL=/data8/Human/NIH_4/MethodDevelopment/Mugsy/mugsy_x86-64-v1r2.3 ; /data8/Human/NIH_4/MethodDevelopment/Mugsy/mugsy_x86-64-v1r2.3/mugsy --directory /data1/bio_db/refseq/analysis/Manuscript/github_methods/bacterialEvolutionMetrics/popCOGent_example_ocean --prefix 3dXRILthAV63vcFV9xdiCkYKjy2yk1KK /data1/bio_db/refseq/analysis/Manuscript/github_methods/bacterialEvolutionMetrics/popCOGent_example_ocean/3dXRILthAV63vcFV.tempcontig /data1/bio_db/refseq/analysis/Manuscript/github_methods/bacterialEvolutionMetrics/popCOGent_example_ocean/9xdiCkYKjy2yk1KK.tempcontig\n",
      "/data1/bio_db/refseq/analysis/Manuscript/github_methods/bacterialEvolutionMetrics/popCOGent_example_ocean/TOBG_EAC-65.fna_@_TOBG_ARS-123.fna.maf.length_bias.txt\n"
     ]
    },
    {
     "name": "stderr",
     "output_type": "stream",
     "text": [
      "\r",
      "Running PopCOGent:   1%|          | 4/495 [00:28<1:12:59,  8.92s/it]"
     ]
    },
    {
     "name": "stdout",
     "output_type": "stream",
     "text": [
      "export MUGSY_INSTALL=/data8/Human/NIH_4/MethodDevelopment/Mugsy/mugsy_x86-64-v1r2.3 ; /data8/Human/NIH_4/MethodDevelopment/Mugsy/mugsy_x86-64-v1r2.3/mugsy --directory /data1/bio_db/refseq/analysis/Manuscript/github_methods/bacterialEvolutionMetrics/popCOGent_example_ocean --prefix aC14aAN3q5qRfpKC75UEPyylXC0tIcWY /data1/bio_db/refseq/analysis/Manuscript/github_methods/bacterialEvolutionMetrics/popCOGent_example_ocean/aC14aAN3q5qRfpKC.tempcontig /data1/bio_db/refseq/analysis/Manuscript/github_methods/bacterialEvolutionMetrics/popCOGent_example_ocean/75UEPyylXC0tIcWY.tempcontig\n",
      "/data1/bio_db/refseq/analysis/Manuscript/github_methods/bacterialEvolutionMetrics/popCOGent_example_ocean/TOBG_SP-259.fna_@_TOBG_ARS-115.fna.maf.length_bias.txt\n"
     ]
    },
    {
     "name": "stderr",
     "output_type": "stream",
     "text": [
      "\r",
      "Running PopCOGent:   1%|          | 5/495 [00:44<1:30:48, 11.12s/it]"
     ]
    },
    {
     "name": "stdout",
     "output_type": "stream",
     "text": [
      "export MUGSY_INSTALL=/data8/Human/NIH_4/MethodDevelopment/Mugsy/mugsy_x86-64-v1r2.3 ; /data8/Human/NIH_4/MethodDevelopment/Mugsy/mugsy_x86-64-v1r2.3/mugsy --directory /data1/bio_db/refseq/analysis/Manuscript/github_methods/bacterialEvolutionMetrics/popCOGent_example_ocean --prefix 2t9sxn326sbMLp64edoLG2TJF8puieCc /data1/bio_db/refseq/analysis/Manuscript/github_methods/bacterialEvolutionMetrics/popCOGent_example_ocean/2t9sxn326sbMLp64.tempcontig /data1/bio_db/refseq/analysis/Manuscript/github_methods/bacterialEvolutionMetrics/popCOGent_example_ocean/edoLG2TJF8puieCc.tempcontig\n",
      "/data1/bio_db/refseq/analysis/Manuscript/github_methods/bacterialEvolutionMetrics/popCOGent_example_ocean/TOBG_SAT-195.fna_@_TOBG_ARS-13.fna.maf.length_bias.txt\n"
     ]
    },
    {
     "name": "stderr",
     "output_type": "stream",
     "text": [
      "\r",
      "Running PopCOGent:   1%|          | 6/495 [00:45<1:05:16,  8.01s/it]"
     ]
    },
    {
     "name": "stdout",
     "output_type": "stream",
     "text": [
      "export MUGSY_INSTALL=/data8/Human/NIH_4/MethodDevelopment/Mugsy/mugsy_x86-64-v1r2.3 ; /data8/Human/NIH_4/MethodDevelopment/Mugsy/mugsy_x86-64-v1r2.3/mugsy --directory /data1/bio_db/refseq/analysis/Manuscript/github_methods/bacterialEvolutionMetrics/popCOGent_example_ocean --prefix 4Rg7gWJYAX4Rfp3itcO9AgdJ2XKVvNDa /data1/bio_db/refseq/analysis/Manuscript/github_methods/bacterialEvolutionMetrics/popCOGent_example_ocean/4Rg7gWJYAX4Rfp3i.tempcontig /data1/bio_db/refseq/analysis/Manuscript/github_methods/bacterialEvolutionMetrics/popCOGent_example_ocean/tcO9AgdJ2XKVvNDa.tempcontig\n",
      "/data1/bio_db/refseq/analysis/Manuscript/github_methods/bacterialEvolutionMetrics/popCOGent_example_ocean/TOBG_CPC-14.fna_@_TOBG_ARS-115.fna.maf.length_bias.txt\n"
     ]
    },
    {
     "name": "stderr",
     "output_type": "stream",
     "text": [
      "\r",
      "Running PopCOGent:   1%|▏         | 7/495 [01:04<1:31:17, 11.22s/it]"
     ]
    },
    {
     "name": "stdout",
     "output_type": "stream",
     "text": [
      "export MUGSY_INSTALL=/data8/Human/NIH_4/MethodDevelopment/Mugsy/mugsy_x86-64-v1r2.3 ; /data8/Human/NIH_4/MethodDevelopment/Mugsy/mugsy_x86-64-v1r2.3/mugsy --directory /data1/bio_db/refseq/analysis/Manuscript/github_methods/bacterialEvolutionMetrics/popCOGent_example_ocean --prefix QShwhpsuLfOgJtOfkLIE8sNlSB1IrhcA /data1/bio_db/refseq/analysis/Manuscript/github_methods/bacterialEvolutionMetrics/popCOGent_example_ocean/QShwhpsuLfOgJtOf.tempcontig /data1/bio_db/refseq/analysis/Manuscript/github_methods/bacterialEvolutionMetrics/popCOGent_example_ocean/kLIE8sNlSB1IrhcA.tempcontig\n",
      "/data1/bio_db/refseq/analysis/Manuscript/github_methods/bacterialEvolutionMetrics/popCOGent_example_ocean/TOBG_EAC-45.fna_@_TOBG_ARS-18.fna.maf.length_bias.txt\n"
     ]
    },
    {
     "name": "stderr",
     "output_type": "stream",
     "text": [
      "\r",
      "Running PopCOGent:   2%|▏         | 8/495 [01:05<1:07:12,  8.28s/it]"
     ]
    },
    {
     "name": "stdout",
     "output_type": "stream",
     "text": [
      "export MUGSY_INSTALL=/data8/Human/NIH_4/MethodDevelopment/Mugsy/mugsy_x86-64-v1r2.3 ; /data8/Human/NIH_4/MethodDevelopment/Mugsy/mugsy_x86-64-v1r2.3/mugsy --directory /data1/bio_db/refseq/analysis/Manuscript/github_methods/bacterialEvolutionMetrics/popCOGent_example_ocean --prefix Gdimf7yPRlQSkEg2T3htZZnwHQOtvUWp /data1/bio_db/refseq/analysis/Manuscript/github_methods/bacterialEvolutionMetrics/popCOGent_example_ocean/Gdimf7yPRlQSkEg2.tempcontig /data1/bio_db/refseq/analysis/Manuscript/github_methods/bacterialEvolutionMetrics/popCOGent_example_ocean/T3htZZnwHQOtvUWp.tempcontig\n",
      "/data1/bio_db/refseq/analysis/Manuscript/github_methods/bacterialEvolutionMetrics/popCOGent_example_ocean/TOBG_SAT-101.fna_@_TOBG_ARS-18.fna.maf.length_bias.txt\n"
     ]
    },
    {
     "name": "stderr",
     "output_type": "stream",
     "text": [
      "\r",
      "Running PopCOGent:   2%|▏         | 9/495 [01:24<1:32:04, 11.37s/it]"
     ]
    },
    {
     "name": "stdout",
     "output_type": "stream",
     "text": [
      "export MUGSY_INSTALL=/data8/Human/NIH_4/MethodDevelopment/Mugsy/mugsy_x86-64-v1r2.3 ; /data8/Human/NIH_4/MethodDevelopment/Mugsy/mugsy_x86-64-v1r2.3/mugsy --directory /data1/bio_db/refseq/analysis/Manuscript/github_methods/bacterialEvolutionMetrics/popCOGent_example_ocean --prefix zNA7lCKwPBDuphJsiXPHV3jWRZQWOxsN /data1/bio_db/refseq/analysis/Manuscript/github_methods/bacterialEvolutionMetrics/popCOGent_example_ocean/zNA7lCKwPBDuphJs.tempcontig /data1/bio_db/refseq/analysis/Manuscript/github_methods/bacterialEvolutionMetrics/popCOGent_example_ocean/iXPHV3jWRZQWOxsN.tempcontig\n",
      "/data1/bio_db/refseq/analysis/Manuscript/github_methods/bacterialEvolutionMetrics/popCOGent_example_ocean/TOBG_SP-45.fna_@_TOBG_ARS-18.fna.maf.length_bias.txt\n"
     ]
    },
    {
     "name": "stderr",
     "output_type": "stream",
     "text": [
      "\r",
      "Running PopCOGent:   2%|▏         | 10/495 [01:32<1:24:08, 10.41s/it]"
     ]
    },
    {
     "name": "stdout",
     "output_type": "stream",
     "text": [
      "export MUGSY_INSTALL=/data8/Human/NIH_4/MethodDevelopment/Mugsy/mugsy_x86-64-v1r2.3 ; /data8/Human/NIH_4/MethodDevelopment/Mugsy/mugsy_x86-64-v1r2.3/mugsy --directory /data1/bio_db/refseq/analysis/Manuscript/github_methods/bacterialEvolutionMetrics/popCOGent_example_ocean --prefix X44S0O2A0sgjQPeOASTqVgJylcTBoOzc /data1/bio_db/refseq/analysis/Manuscript/github_methods/bacterialEvolutionMetrics/popCOGent_example_ocean/X44S0O2A0sgjQPeO.tempcontig /data1/bio_db/refseq/analysis/Manuscript/github_methods/bacterialEvolutionMetrics/popCOGent_example_ocean/ASTqVgJylcTBoOzc.tempcontig\n",
      "/data1/bio_db/refseq/analysis/Manuscript/github_methods/bacterialEvolutionMetrics/popCOGent_example_ocean/TOBG_NP-34.fna_@_TOBG_ARS-3.fna.maf.length_bias.txt\n"
     ]
    },
    {
     "name": "stderr",
     "output_type": "stream",
     "text": [
      "\r",
      "Running PopCOGent:   2%|▏         | 11/495 [01:41<1:20:09,  9.94s/it]"
     ]
    },
    {
     "name": "stdout",
     "output_type": "stream",
     "text": [
      "export MUGSY_INSTALL=/data8/Human/NIH_4/MethodDevelopment/Mugsy/mugsy_x86-64-v1r2.3 ; /data8/Human/NIH_4/MethodDevelopment/Mugsy/mugsy_x86-64-v1r2.3/mugsy --directory /data1/bio_db/refseq/analysis/Manuscript/github_methods/bacterialEvolutionMetrics/popCOGent_example_ocean --prefix 70pTzXSLnjj8gRHwBPYql0Qt6pUeshyk /data1/bio_db/refseq/analysis/Manuscript/github_methods/bacterialEvolutionMetrics/popCOGent_example_ocean/70pTzXSLnjj8gRHw.tempcontig /data1/bio_db/refseq/analysis/Manuscript/github_methods/bacterialEvolutionMetrics/popCOGent_example_ocean/BPYql0Qt6pUeshyk.tempcontig\n",
      "/data1/bio_db/refseq/analysis/Manuscript/github_methods/bacterialEvolutionMetrics/popCOGent_example_ocean/TOBG_MED-599.fna_@_TOBG_ARS-28.fna.maf.length_bias.txt\n"
     ]
    },
    {
     "name": "stderr",
     "output_type": "stream",
     "text": [
      "\r",
      "Running PopCOGent:   2%|▏         | 12/495 [01:44<1:04:05,  7.96s/it]"
     ]
    },
    {
     "name": "stdout",
     "output_type": "stream",
     "text": [
      "export MUGSY_INSTALL=/data8/Human/NIH_4/MethodDevelopment/Mugsy/mugsy_x86-64-v1r2.3 ; /data8/Human/NIH_4/MethodDevelopment/Mugsy/mugsy_x86-64-v1r2.3/mugsy --directory /data1/bio_db/refseq/analysis/Manuscript/github_methods/bacterialEvolutionMetrics/popCOGent_example_ocean --prefix LHg2VPMy5e5L4S3uQMQviHU7hmoLtzyp /data1/bio_db/refseq/analysis/Manuscript/github_methods/bacterialEvolutionMetrics/popCOGent_example_ocean/LHg2VPMy5e5L4S3u.tempcontig /data1/bio_db/refseq/analysis/Manuscript/github_methods/bacterialEvolutionMetrics/popCOGent_example_ocean/QMQviHU7hmoLtzyp.tempcontig\n",
      "/data1/bio_db/refseq/analysis/Manuscript/github_methods/bacterialEvolutionMetrics/popCOGent_example_ocean/TOBG_IN-43.fna_@_TOBG_ARS-30.fna.maf.length_bias.txt\n"
     ]
    },
    {
     "name": "stderr",
     "output_type": "stream",
     "text": [
      "\r",
      "Running PopCOGent:   3%|▎         | 13/495 [01:55<1:09:58,  8.71s/it]"
     ]
    },
    {
     "name": "stdout",
     "output_type": "stream",
     "text": [
      "export MUGSY_INSTALL=/data8/Human/NIH_4/MethodDevelopment/Mugsy/mugsy_x86-64-v1r2.3 ; /data8/Human/NIH_4/MethodDevelopment/Mugsy/mugsy_x86-64-v1r2.3/mugsy --directory /data1/bio_db/refseq/analysis/Manuscript/github_methods/bacterialEvolutionMetrics/popCOGent_example_ocean --prefix hCov7H6MZW7SbJcQGQ0UzRrGnUvTBadM /data1/bio_db/refseq/analysis/Manuscript/github_methods/bacterialEvolutionMetrics/popCOGent_example_ocean/hCov7H6MZW7SbJcQ.tempcontig /data1/bio_db/refseq/analysis/Manuscript/github_methods/bacterialEvolutionMetrics/popCOGent_example_ocean/GQ0UzRrGnUvTBadM.tempcontig\n",
      "/data1/bio_db/refseq/analysis/Manuscript/github_methods/bacterialEvolutionMetrics/popCOGent_example_ocean/TOBG_NAT-79.fna_@_TOBG_ARS-28.fna.maf.length_bias.txt\n"
     ]
    },
    {
     "name": "stderr",
     "output_type": "stream",
     "text": [
      "\r",
      "Running PopCOGent:   3%|▎         | 14/495 [02:01<1:02:57,  7.85s/it]"
     ]
    },
    {
     "name": "stdout",
     "output_type": "stream",
     "text": [
      "export MUGSY_INSTALL=/data8/Human/NIH_4/MethodDevelopment/Mugsy/mugsy_x86-64-v1r2.3 ; /data8/Human/NIH_4/MethodDevelopment/Mugsy/mugsy_x86-64-v1r2.3/mugsy --directory /data1/bio_db/refseq/analysis/Manuscript/github_methods/bacterialEvolutionMetrics/popCOGent_example_ocean --prefix vkhonuvJQhesvGtUavKB00EGIU4yb20N /data1/bio_db/refseq/analysis/Manuscript/github_methods/bacterialEvolutionMetrics/popCOGent_example_ocean/vkhonuvJQhesvGtU.tempcontig /data1/bio_db/refseq/analysis/Manuscript/github_methods/bacterialEvolutionMetrics/popCOGent_example_ocean/avKB00EGIU4yb20N.tempcontig\n",
      "/data1/bio_db/refseq/analysis/Manuscript/github_methods/bacterialEvolutionMetrics/popCOGent_example_ocean/TOBG_NP-60.fna_@_TOBG_ARS-28.fna.maf.length_bias.txt\n"
     ]
    },
    {
     "name": "stderr",
     "output_type": "stream",
     "text": [
      "\r",
      "Running PopCOGent:   3%|▎         | 15/495 [02:04<51:12,  6.40s/it]  "
     ]
    },
    {
     "name": "stdout",
     "output_type": "stream",
     "text": [
      "export MUGSY_INSTALL=/data8/Human/NIH_4/MethodDevelopment/Mugsy/mugsy_x86-64-v1r2.3 ; /data8/Human/NIH_4/MethodDevelopment/Mugsy/mugsy_x86-64-v1r2.3/mugsy --directory /data1/bio_db/refseq/analysis/Manuscript/github_methods/bacterialEvolutionMetrics/popCOGent_example_ocean --prefix K0i0eS4rNo4pz6L67PoAAXxb1EJomOwO /data1/bio_db/refseq/analysis/Manuscript/github_methods/bacterialEvolutionMetrics/popCOGent_example_ocean/K0i0eS4rNo4pz6L6.tempcontig /data1/bio_db/refseq/analysis/Manuscript/github_methods/bacterialEvolutionMetrics/popCOGent_example_ocean/7PoAAXxb1EJomOwO.tempcontig\n",
      "/data1/bio_db/refseq/analysis/Manuscript/github_methods/bacterialEvolutionMetrics/popCOGent_example_ocean/TOBG_MED-637.fna_@_TOBG_ARS-30.fna.maf.length_bias.txt\n"
     ]
    },
    {
     "name": "stderr",
     "output_type": "stream",
     "text": [
      "\r",
      "Running PopCOGent:   3%|▎         | 16/495 [02:06<42:29,  5.32s/it]"
     ]
    },
    {
     "name": "stdout",
     "output_type": "stream",
     "text": [
      "export MUGSY_INSTALL=/data8/Human/NIH_4/MethodDevelopment/Mugsy/mugsy_x86-64-v1r2.3 ; /data8/Human/NIH_4/MethodDevelopment/Mugsy/mugsy_x86-64-v1r2.3/mugsy --directory /data1/bio_db/refseq/analysis/Manuscript/github_methods/bacterialEvolutionMetrics/popCOGent_example_ocean --prefix zwIPBd2LiHlfuWouFORzDUcLx9hkx1ju /data1/bio_db/refseq/analysis/Manuscript/github_methods/bacterialEvolutionMetrics/popCOGent_example_ocean/zwIPBd2LiHlfuWou.tempcontig /data1/bio_db/refseq/analysis/Manuscript/github_methods/bacterialEvolutionMetrics/popCOGent_example_ocean/FORzDUcLx9hkx1ju.tempcontig\n",
      "/data1/bio_db/refseq/analysis/Manuscript/github_methods/bacterialEvolutionMetrics/popCOGent_example_ocean/TOBG_RS-404.fna_@_TOBG_ARS-30.fna.maf.length_bias.txt\n"
     ]
    },
    {
     "name": "stderr",
     "output_type": "stream",
     "text": [
      "\r",
      "Running PopCOGent:   3%|▎         | 17/495 [02:10<38:03,  4.78s/it]"
     ]
    },
    {
     "name": "stdout",
     "output_type": "stream",
     "text": [
      "export MUGSY_INSTALL=/data8/Human/NIH_4/MethodDevelopment/Mugsy/mugsy_x86-64-v1r2.3 ; /data8/Human/NIH_4/MethodDevelopment/Mugsy/mugsy_x86-64-v1r2.3/mugsy --directory /data1/bio_db/refseq/analysis/Manuscript/github_methods/bacterialEvolutionMetrics/popCOGent_example_ocean --prefix xnySvrFBbT1Y7WIkMR2AOd3vBGFj50B6 /data1/bio_db/refseq/analysis/Manuscript/github_methods/bacterialEvolutionMetrics/popCOGent_example_ocean/xnySvrFBbT1Y7WIk.tempcontig /data1/bio_db/refseq/analysis/Manuscript/github_methods/bacterialEvolutionMetrics/popCOGent_example_ocean/MR2AOd3vBGFj50B6.tempcontig\n",
      "/data1/bio_db/refseq/analysis/Manuscript/github_methods/bacterialEvolutionMetrics/popCOGent_example_ocean/TOBG_NP-52.fna_@_TOBG_ARS-30.fna.maf.length_bias.txt\n"
     ]
    },
    {
     "name": "stderr",
     "output_type": "stream",
     "text": [
      "\r",
      "Running PopCOGent:   4%|▎         | 18/495 [02:16<40:25,  5.08s/it]"
     ]
    },
    {
     "name": "stdout",
     "output_type": "stream",
     "text": [
      "export MUGSY_INSTALL=/data8/Human/NIH_4/MethodDevelopment/Mugsy/mugsy_x86-64-v1r2.3 ; /data8/Human/NIH_4/MethodDevelopment/Mugsy/mugsy_x86-64-v1r2.3/mugsy --directory /data1/bio_db/refseq/analysis/Manuscript/github_methods/bacterialEvolutionMetrics/popCOGent_example_ocean --prefix jYrbLNKMKghFjmJpjSkxnA23tkeHB7Kz /data1/bio_db/refseq/analysis/Manuscript/github_methods/bacterialEvolutionMetrics/popCOGent_example_ocean/jYrbLNKMKghFjmJp.tempcontig /data1/bio_db/refseq/analysis/Manuscript/github_methods/bacterialEvolutionMetrics/popCOGent_example_ocean/jSkxnA23tkeHB7Kz.tempcontig\n",
      "/data1/bio_db/refseq/analysis/Manuscript/github_methods/bacterialEvolutionMetrics/popCOGent_example_ocean/TOBG_SAT-10.fna_@_TOBG_ARS-28.fna.maf.length_bias.txt\n"
     ]
    },
    {
     "name": "stderr",
     "output_type": "stream",
     "text": [
      "\r",
      "Running PopCOGent:   4%|▍         | 19/495 [02:46<1:41:34, 12.80s/it]"
     ]
    },
    {
     "name": "stdout",
     "output_type": "stream",
     "text": [
      "export MUGSY_INSTALL=/data8/Human/NIH_4/MethodDevelopment/Mugsy/mugsy_x86-64-v1r2.3 ; /data8/Human/NIH_4/MethodDevelopment/Mugsy/mugsy_x86-64-v1r2.3/mugsy --directory /data1/bio_db/refseq/analysis/Manuscript/github_methods/bacterialEvolutionMetrics/popCOGent_example_ocean --prefix YnxrrANxtTe4CsymQCTa1GbsHahkrM6z /data1/bio_db/refseq/analysis/Manuscript/github_methods/bacterialEvolutionMetrics/popCOGent_example_ocean/YnxrrANxtTe4Csym.tempcontig /data1/bio_db/refseq/analysis/Manuscript/github_methods/bacterialEvolutionMetrics/popCOGent_example_ocean/QCTa1GbsHahkrM6z.tempcontig\n",
      "/data1/bio_db/refseq/analysis/Manuscript/github_methods/bacterialEvolutionMetrics/popCOGent_example_ocean/TOBG_CPC-82.fna_@_TOBG_ARS-40.fna.maf.length_bias.txt\n"
     ]
    },
    {
     "name": "stderr",
     "output_type": "stream",
     "text": [
      "\r",
      "Running PopCOGent:   4%|▍         | 20/495 [03:05<1:54:19, 14.44s/it]"
     ]
    },
    {
     "name": "stdout",
     "output_type": "stream",
     "text": [
      "export MUGSY_INSTALL=/data8/Human/NIH_4/MethodDevelopment/Mugsy/mugsy_x86-64-v1r2.3 ; /data8/Human/NIH_4/MethodDevelopment/Mugsy/mugsy_x86-64-v1r2.3/mugsy --directory /data1/bio_db/refseq/analysis/Manuscript/github_methods/bacterialEvolutionMetrics/popCOGent_example_ocean --prefix lwMgN1c8DInym4Ckhd6Ke1zPl0jsMois /data1/bio_db/refseq/analysis/Manuscript/github_methods/bacterialEvolutionMetrics/popCOGent_example_ocean/lwMgN1c8DInym4Ck.tempcontig /data1/bio_db/refseq/analysis/Manuscript/github_methods/bacterialEvolutionMetrics/popCOGent_example_ocean/hd6Ke1zPl0jsMois.tempcontig\n",
      "/data1/bio_db/refseq/analysis/Manuscript/github_methods/bacterialEvolutionMetrics/popCOGent_example_ocean/TOBG_SP-145.fna_@_TOBG_ARS-40.fna.maf.length_bias.txt\n"
     ]
    },
    {
     "name": "stderr",
     "output_type": "stream",
     "text": [
      "\r",
      "Running PopCOGent:   4%|▍         | 21/495 [03:07<1:25:34, 10.83s/it]"
     ]
    },
    {
     "name": "stdout",
     "output_type": "stream",
     "text": [
      "export MUGSY_INSTALL=/data8/Human/NIH_4/MethodDevelopment/Mugsy/mugsy_x86-64-v1r2.3 ; /data8/Human/NIH_4/MethodDevelopment/Mugsy/mugsy_x86-64-v1r2.3/mugsy --directory /data1/bio_db/refseq/analysis/Manuscript/github_methods/bacterialEvolutionMetrics/popCOGent_example_ocean --prefix f4iRzSMEEQq8VQXrqZLPwP5qEkweafFd /data1/bio_db/refseq/analysis/Manuscript/github_methods/bacterialEvolutionMetrics/popCOGent_example_ocean/f4iRzSMEEQq8VQXr.tempcontig /data1/bio_db/refseq/analysis/Manuscript/github_methods/bacterialEvolutionMetrics/popCOGent_example_ocean/qZLPwP5qEkweafFd.tempcontig\n",
      "/data1/bio_db/refseq/analysis/Manuscript/github_methods/bacterialEvolutionMetrics/popCOGent_example_ocean/TOBG_MED-659.fna_@_TOBG_ARS-40.fna.maf.length_bias.txt\n"
     ]
    },
    {
     "name": "stderr",
     "output_type": "stream",
     "text": [
      "\r",
      "Running PopCOGent:   4%|▍         | 22/495 [03:13<1:14:11,  9.41s/it]"
     ]
    },
    {
     "name": "stdout",
     "output_type": "stream",
     "text": [
      "export MUGSY_INSTALL=/data8/Human/NIH_4/MethodDevelopment/Mugsy/mugsy_x86-64-v1r2.3 ; /data8/Human/NIH_4/MethodDevelopment/Mugsy/mugsy_x86-64-v1r2.3/mugsy --directory /data1/bio_db/refseq/analysis/Manuscript/github_methods/bacterialEvolutionMetrics/popCOGent_example_ocean --prefix HlI8cjLOIe3m0NNJZKrzIcMMB0PEG0vU /data1/bio_db/refseq/analysis/Manuscript/github_methods/bacterialEvolutionMetrics/popCOGent_example_ocean/HlI8cjLOIe3m0NNJ.tempcontig /data1/bio_db/refseq/analysis/Manuscript/github_methods/bacterialEvolutionMetrics/popCOGent_example_ocean/ZKrzIcMMB0PEG0vU.tempcontig\n",
      "/data1/bio_db/refseq/analysis/Manuscript/github_methods/bacterialEvolutionMetrics/popCOGent_example_ocean/TOBG_EAC-24.fna_@_TOBG_ARS-42.fna.maf.length_bias.txt\n"
     ]
    },
    {
     "name": "stderr",
     "output_type": "stream",
     "text": [
      "\r",
      "Running PopCOGent:   5%|▍         | 23/495 [03:26<1:22:56, 10.54s/it]"
     ]
    },
    {
     "name": "stdout",
     "output_type": "stream",
     "text": [
      "export MUGSY_INSTALL=/data8/Human/NIH_4/MethodDevelopment/Mugsy/mugsy_x86-64-v1r2.3 ; /data8/Human/NIH_4/MethodDevelopment/Mugsy/mugsy_x86-64-v1r2.3/mugsy --directory /data1/bio_db/refseq/analysis/Manuscript/github_methods/bacterialEvolutionMetrics/popCOGent_example_ocean --prefix 9EWcscSF6xWZ0BCGs2fOpWF5Vwc80rkM /data1/bio_db/refseq/analysis/Manuscript/github_methods/bacterialEvolutionMetrics/popCOGent_example_ocean/9EWcscSF6xWZ0BCG.tempcontig /data1/bio_db/refseq/analysis/Manuscript/github_methods/bacterialEvolutionMetrics/popCOGent_example_ocean/s2fOpWF5Vwc80rkM.tempcontig\n",
      "/data1/bio_db/refseq/analysis/Manuscript/github_methods/bacterialEvolutionMetrics/popCOGent_example_ocean/TOBG_IN-1077.fna_@_TOBG_ARS-42.fna.maf.length_bias.txt\n"
     ]
    },
    {
     "name": "stderr",
     "output_type": "stream",
     "text": [
      "\r",
      "Running PopCOGent:   5%|▍         | 24/495 [03:37<1:23:45, 10.67s/it]"
     ]
    },
    {
     "name": "stdout",
     "output_type": "stream",
     "text": [
      "export MUGSY_INSTALL=/data8/Human/NIH_4/MethodDevelopment/Mugsy/mugsy_x86-64-v1r2.3 ; /data8/Human/NIH_4/MethodDevelopment/Mugsy/mugsy_x86-64-v1r2.3/mugsy --directory /data1/bio_db/refseq/analysis/Manuscript/github_methods/bacterialEvolutionMetrics/popCOGent_example_ocean --prefix 8pSdBdfqNQDZYfIF3A7xPBEKwrqc7wZr /data1/bio_db/refseq/analysis/Manuscript/github_methods/bacterialEvolutionMetrics/popCOGent_example_ocean/8pSdBdfqNQDZYfIF.tempcontig /data1/bio_db/refseq/analysis/Manuscript/github_methods/bacterialEvolutionMetrics/popCOGent_example_ocean/3A7xPBEKwrqc7wZr.tempcontig\n",
      "/data1/bio_db/refseq/analysis/Manuscript/github_methods/bacterialEvolutionMetrics/popCOGent_example_ocean/TOBG_NP-58.fna_@_TOBG_ARS-40.fna.maf.length_bias.txt\n"
     ]
    },
    {
     "name": "stderr",
     "output_type": "stream",
     "text": [
      "\r",
      "Running PopCOGent:   5%|▌         | 25/495 [03:38<1:01:06,  7.80s/it]"
     ]
    },
    {
     "name": "stdout",
     "output_type": "stream",
     "text": [
      "export MUGSY_INSTALL=/data8/Human/NIH_4/MethodDevelopment/Mugsy/mugsy_x86-64-v1r2.3 ; /data8/Human/NIH_4/MethodDevelopment/Mugsy/mugsy_x86-64-v1r2.3/mugsy --directory /data1/bio_db/refseq/analysis/Manuscript/github_methods/bacterialEvolutionMetrics/popCOGent_example_ocean --prefix A4HmZJhCIyH8OjmIJlCgDIO8k270NbFH /data1/bio_db/refseq/analysis/Manuscript/github_methods/bacterialEvolutionMetrics/popCOGent_example_ocean/A4HmZJhCIyH8OjmI.tempcontig /data1/bio_db/refseq/analysis/Manuscript/github_methods/bacterialEvolutionMetrics/popCOGent_example_ocean/JlCgDIO8k270NbFH.tempcontig\n"
     ]
    },
    {
     "name": "stderr",
     "output_type": "stream",
     "text": [
      "\r",
      "Running PopCOGent:   5%|▌         | 27/495 [03:39<42:44,  5.48s/it]  "
     ]
    },
    {
     "name": "stdout",
     "output_type": "stream",
     "text": [
      "export MUGSY_INSTALL=/data8/Human/NIH_4/MethodDevelopment/Mugsy/mugsy_x86-64-v1r2.3 ; /data8/Human/NIH_4/MethodDevelopment/Mugsy/mugsy_x86-64-v1r2.3/mugsy --directory /data1/bio_db/refseq/analysis/Manuscript/github_methods/bacterialEvolutionMetrics/popCOGent_example_ocean --prefix ExNJTivP5BkCGU6VrD7iyu4XcA8moI7A /data1/bio_db/refseq/analysis/Manuscript/github_methods/bacterialEvolutionMetrics/popCOGent_example_ocean/ExNJTivP5BkCGU6V.tempcontig /data1/bio_db/refseq/analysis/Manuscript/github_methods/bacterialEvolutionMetrics/popCOGent_example_ocean/rD7iyu4XcA8moI7A.tempcontig\n",
      "/data1/bio_db/refseq/analysis/Manuscript/github_methods/bacterialEvolutionMetrics/popCOGent_example_ocean/TOBG_SP-348.fna_@_TOBG_ARS-42.fna.maf.length_bias.txt\n",
      "/data1/bio_db/refseq/analysis/Manuscript/github_methods/bacterialEvolutionMetrics/popCOGent_example_ocean/TOBG_NP-54.fna_@_TOBG_ARS-46.fna.maf.length_bias.txt\n",
      "/data1/bio_db/refseq/analysis/Manuscript/github_methods/bacterialEvolutionMetrics/popCOGent_example_ocean/TOBG_SP-114.fna_@_TOBG_ARS-40.fna.maf.length_bias.txt\n",
      "export MUGSY_INSTALL=/data8/Human/NIH_4/MethodDevelopment/Mugsy/mugsy_x86-64-v1r2.3 ; /data8/Human/NIH_4/MethodDevelopment/Mugsy/mugsy_x86-64-v1r2.3/mugsy --directory /data1/bio_db/refseq/analysis/Manuscript/github_methods/bacterialEvolutionMetrics/popCOGent_example_ocean --prefix aKeOqrR4fuv8w7Lfvdy6Uzh742SyheET /data1/bio_db/refseq/analysis/Manuscript/github_methods/bacterialEvolutionMetrics/popCOGent_example_ocean/aKeOqrR4fuv8w7Lf.tempcontig /data1/bio_db/refseq/analysis/Manuscript/github_methods/bacterialEvolutionMetrics/popCOGent_example_ocean/vdy6Uzh742SyheET.tempcontig\n"
     ]
    },
    {
     "name": "stderr",
     "output_type": "stream",
     "text": [
      "\r",
      "Running PopCOGent:   6%|▌         | 28/495 [03:53<1:03:00,  8.09s/it]"
     ]
    },
    {
     "name": "stdout",
     "output_type": "stream",
     "text": [
      "export MUGSY_INSTALL=/data8/Human/NIH_4/MethodDevelopment/Mugsy/mugsy_x86-64-v1r2.3 ; /data8/Human/NIH_4/MethodDevelopment/Mugsy/mugsy_x86-64-v1r2.3/mugsy --directory /data1/bio_db/refseq/analysis/Manuscript/github_methods/bacterialEvolutionMetrics/popCOGent_example_ocean --prefix 7WbBrOvBuYXzyE1zTVGb6qJGRWdAnJm7 /data1/bio_db/refseq/analysis/Manuscript/github_methods/bacterialEvolutionMetrics/popCOGent_example_ocean/7WbBrOvBuYXzyE1z.tempcontig /data1/bio_db/refseq/analysis/Manuscript/github_methods/bacterialEvolutionMetrics/popCOGent_example_ocean/TVGb6qJGRWdAnJm7.tempcontig\n",
      "/data1/bio_db/refseq/analysis/Manuscript/github_methods/bacterialEvolutionMetrics/popCOGent_example_ocean/TOBG_RS-391.fna_@_TOBG_ARS-42.fna.maf.length_bias.txt\n"
     ]
    },
    {
     "name": "stderr",
     "output_type": "stream",
     "text": [
      "\r",
      "Running PopCOGent:   6%|▌         | 29/495 [03:54<46:29,  5.99s/it]  "
     ]
    },
    {
     "name": "stdout",
     "output_type": "stream",
     "text": [
      "export MUGSY_INSTALL=/data8/Human/NIH_4/MethodDevelopment/Mugsy/mugsy_x86-64-v1r2.3 ; /data8/Human/NIH_4/MethodDevelopment/Mugsy/mugsy_x86-64-v1r2.3/mugsy --directory /data1/bio_db/refseq/analysis/Manuscript/github_methods/bacterialEvolutionMetrics/popCOGent_example_ocean --prefix 9VmIlVtJS1zQaDl7mtxpRfXpjwbxmGXA /data1/bio_db/refseq/analysis/Manuscript/github_methods/bacterialEvolutionMetrics/popCOGent_example_ocean/9VmIlVtJS1zQaDl7.tempcontig /data1/bio_db/refseq/analysis/Manuscript/github_methods/bacterialEvolutionMetrics/popCOGent_example_ocean/mtxpRfXpjwbxmGXA.tempcontig\n",
      "/data1/bio_db/refseq/analysis/Manuscript/github_methods/bacterialEvolutionMetrics/popCOGent_example_ocean/TOBG_SP-52.fna_@_TOBG_ARS-40.fna.maf.length_bias.txt\n"
     ]
    },
    {
     "name": "stderr",
     "output_type": "stream",
     "text": [
      "\r",
      "Running PopCOGent:   6%|▌         | 30/495 [04:05<59:14,  7.64s/it]"
     ]
    },
    {
     "name": "stdout",
     "output_type": "stream",
     "text": [
      "export MUGSY_INSTALL=/data8/Human/NIH_4/MethodDevelopment/Mugsy/mugsy_x86-64-v1r2.3 ; /data8/Human/NIH_4/MethodDevelopment/Mugsy/mugsy_x86-64-v1r2.3/mugsy --directory /data1/bio_db/refseq/analysis/Manuscript/github_methods/bacterialEvolutionMetrics/popCOGent_example_ocean --prefix VDBzpwwoSuFA6eLPRkf1X9R8Ea0q5YWm /data1/bio_db/refseq/analysis/Manuscript/github_methods/bacterialEvolutionMetrics/popCOGent_example_ocean/VDBzpwwoSuFA6eLP.tempcontig /data1/bio_db/refseq/analysis/Manuscript/github_methods/bacterialEvolutionMetrics/popCOGent_example_ocean/Rkf1X9R8Ea0q5YWm.tempcontig\n",
      "/data1/bio_db/refseq/analysis/Manuscript/github_methods/bacterialEvolutionMetrics/popCOGent_example_ocean/TOBG_SAT-198.fna_@_TOBG_ARS-5.fna.maf.length_bias.txt\n"
     ]
    },
    {
     "name": "stderr",
     "output_type": "stream",
     "text": [
      "\r",
      "Running PopCOGent:   6%|▋         | 31/495 [04:11<55:31,  7.18s/it]"
     ]
    },
    {
     "name": "stdout",
     "output_type": "stream",
     "text": [
      "export MUGSY_INSTALL=/data8/Human/NIH_4/MethodDevelopment/Mugsy/mugsy_x86-64-v1r2.3 ; /data8/Human/NIH_4/MethodDevelopment/Mugsy/mugsy_x86-64-v1r2.3/mugsy --directory /data1/bio_db/refseq/analysis/Manuscript/github_methods/bacterialEvolutionMetrics/popCOGent_example_ocean --prefix hcFxdgrlre6CeX27oGh3coSxYl12Jzpv /data1/bio_db/refseq/analysis/Manuscript/github_methods/bacterialEvolutionMetrics/popCOGent_example_ocean/hcFxdgrlre6CeX27.tempcontig /data1/bio_db/refseq/analysis/Manuscript/github_methods/bacterialEvolutionMetrics/popCOGent_example_ocean/oGh3coSxYl12Jzpv.tempcontig\n",
      "/data1/bio_db/refseq/analysis/Manuscript/github_methods/bacterialEvolutionMetrics/popCOGent_example_ocean/TOBG_MED-803.fna_@_TOBG_ARS-59.fna.maf.length_bias.txt\n"
     ]
    },
    {
     "name": "stderr",
     "output_type": "stream",
     "text": [
      "\r",
      "Running PopCOGent:   6%|▋         | 32/495 [04:12<40:45,  5.28s/it]"
     ]
    },
    {
     "name": "stdout",
     "output_type": "stream",
     "text": [
      "export MUGSY_INSTALL=/data8/Human/NIH_4/MethodDevelopment/Mugsy/mugsy_x86-64-v1r2.3 ; /data8/Human/NIH_4/MethodDevelopment/Mugsy/mugsy_x86-64-v1r2.3/mugsy --directory /data1/bio_db/refseq/analysis/Manuscript/github_methods/bacterialEvolutionMetrics/popCOGent_example_ocean --prefix e01mkGEXi3XCcgKbWURjVdkT4zmbZOxd /data1/bio_db/refseq/analysis/Manuscript/github_methods/bacterialEvolutionMetrics/popCOGent_example_ocean/e01mkGEXi3XCcgKb.tempcontig /data1/bio_db/refseq/analysis/Manuscript/github_methods/bacterialEvolutionMetrics/popCOGent_example_ocean/WURjVdkT4zmbZOxd.tempcontig\n",
      "/data1/bio_db/refseq/analysis/Manuscript/github_methods/bacterialEvolutionMetrics/popCOGent_example_ocean/TOBG_SP-156.fna_@_TOBG_ARS-59.fna.maf.length_bias.txt\n"
     ]
    },
    {
     "name": "stderr",
     "output_type": "stream",
     "text": [
      "\r",
      "Running PopCOGent:   7%|▋         | 33/495 [04:17<39:16,  5.10s/it]"
     ]
    },
    {
     "name": "stdout",
     "output_type": "stream",
     "text": [
      "export MUGSY_INSTALL=/data8/Human/NIH_4/MethodDevelopment/Mugsy/mugsy_x86-64-v1r2.3 ; /data8/Human/NIH_4/MethodDevelopment/Mugsy/mugsy_x86-64-v1r2.3/mugsy --directory /data1/bio_db/refseq/analysis/Manuscript/github_methods/bacterialEvolutionMetrics/popCOGent_example_ocean --prefix NQYBMOZkaAfpQhWjLzqBShusEXAG1W1o /data1/bio_db/refseq/analysis/Manuscript/github_methods/bacterialEvolutionMetrics/popCOGent_example_ocean/NQYBMOZkaAfpQhWj.tempcontig /data1/bio_db/refseq/analysis/Manuscript/github_methods/bacterialEvolutionMetrics/popCOGent_example_ocean/LzqBShusEXAG1W1o.tempcontig\n",
      "/data1/bio_db/refseq/analysis/Manuscript/github_methods/bacterialEvolutionMetrics/popCOGent_example_ocean/TOBG_EAC-98.fna_@_TOBG_ARS-62.fna.maf.length_bias.txt\n"
     ]
    },
    {
     "name": "stderr",
     "output_type": "stream",
     "text": [
      "\r",
      "Running PopCOGent:   7%|▋         | 34/495 [04:18<30:09,  3.92s/it]"
     ]
    },
    {
     "name": "stdout",
     "output_type": "stream",
     "text": [
      "export MUGSY_INSTALL=/data8/Human/NIH_4/MethodDevelopment/Mugsy/mugsy_x86-64-v1r2.3 ; /data8/Human/NIH_4/MethodDevelopment/Mugsy/mugsy_x86-64-v1r2.3/mugsy --directory /data1/bio_db/refseq/analysis/Manuscript/github_methods/bacterialEvolutionMetrics/popCOGent_example_ocean --prefix 3bu7CPSgzegNImWRul2qB7vlIDfMdj3s /data1/bio_db/refseq/analysis/Manuscript/github_methods/bacterialEvolutionMetrics/popCOGent_example_ocean/3bu7CPSgzegNImWR.tempcontig /data1/bio_db/refseq/analysis/Manuscript/github_methods/bacterialEvolutionMetrics/popCOGent_example_ocean/ul2qB7vlIDfMdj3s.tempcontig\n",
      "/data1/bio_db/refseq/analysis/Manuscript/github_methods/bacterialEvolutionMetrics/popCOGent_example_ocean/TOBG_SP-284.fna_@_TOBG_ARS-70.fna.maf.length_bias.txt\n"
     ]
    },
    {
     "name": "stderr",
     "output_type": "stream",
     "text": [
      "\r",
      "Running PopCOGent:   7%|▋         | 35/495 [04:30<49:11,  6.42s/it]"
     ]
    },
    {
     "name": "stdout",
     "output_type": "stream",
     "text": [
      "export MUGSY_INSTALL=/data8/Human/NIH_4/MethodDevelopment/Mugsy/mugsy_x86-64-v1r2.3 ; /data8/Human/NIH_4/MethodDevelopment/Mugsy/mugsy_x86-64-v1r2.3/mugsy --directory /data1/bio_db/refseq/analysis/Manuscript/github_methods/bacterialEvolutionMetrics/popCOGent_example_ocean --prefix YVOKvwYaviS9RYskmaAnPgrB2yJJkUKQ /data1/bio_db/refseq/analysis/Manuscript/github_methods/bacterialEvolutionMetrics/popCOGent_example_ocean/YVOKvwYaviS9RYsk.tempcontig /data1/bio_db/refseq/analysis/Manuscript/github_methods/bacterialEvolutionMetrics/popCOGent_example_ocean/maAnPgrB2yJJkUKQ.tempcontig\n",
      "/data1/bio_db/refseq/analysis/Manuscript/github_methods/bacterialEvolutionMetrics/popCOGent_example_ocean/TOBG_NAT-575.fna_@_TOBG_ARS-70.fna.maf.length_bias.txt\n"
     ]
    },
    {
     "name": "stderr",
     "output_type": "stream",
     "text": [
      "\r",
      "Running PopCOGent:   7%|▋         | 36/495 [04:32<38:22,  5.02s/it]"
     ]
    },
    {
     "name": "stdout",
     "output_type": "stream",
     "text": [
      "export MUGSY_INSTALL=/data8/Human/NIH_4/MethodDevelopment/Mugsy/mugsy_x86-64-v1r2.3 ; /data8/Human/NIH_4/MethodDevelopment/Mugsy/mugsy_x86-64-v1r2.3/mugsy --directory /data1/bio_db/refseq/analysis/Manuscript/github_methods/bacterialEvolutionMetrics/popCOGent_example_ocean --prefix eHBlRPOIlGhlv8Fb1CBFNO6cB9Mjfi80 /data1/bio_db/refseq/analysis/Manuscript/github_methods/bacterialEvolutionMetrics/popCOGent_example_ocean/eHBlRPOIlGhlv8Fb.tempcontig /data1/bio_db/refseq/analysis/Manuscript/github_methods/bacterialEvolutionMetrics/popCOGent_example_ocean/1CBFNO6cB9Mjfi80.tempcontig\n",
      "/data1/bio_db/refseq/analysis/Manuscript/github_methods/bacterialEvolutionMetrics/popCOGent_example_ocean/TOBG_MED-621.fna_@_TOBG_ARS-86.fna.maf.length_bias.txt\n"
     ]
    },
    {
     "name": "stderr",
     "output_type": "stream",
     "text": [
      "\r",
      "Running PopCOGent:   7%|▋         | 37/495 [04:35<33:23,  4.37s/it]"
     ]
    },
    {
     "name": "stdout",
     "output_type": "stream",
     "text": [
      "export MUGSY_INSTALL=/data8/Human/NIH_4/MethodDevelopment/Mugsy/mugsy_x86-64-v1r2.3 ; /data8/Human/NIH_4/MethodDevelopment/Mugsy/mugsy_x86-64-v1r2.3/mugsy --directory /data1/bio_db/refseq/analysis/Manuscript/github_methods/bacterialEvolutionMetrics/popCOGent_example_ocean --prefix CSimJz3XgioG3c5cB61aXdsy9umy1ZLD /data1/bio_db/refseq/analysis/Manuscript/github_methods/bacterialEvolutionMetrics/popCOGent_example_ocean/CSimJz3XgioG3c5c.tempcontig /data1/bio_db/refseq/analysis/Manuscript/github_methods/bacterialEvolutionMetrics/popCOGent_example_ocean/B61aXdsy9umy1ZLD.tempcontig\n",
      "/data1/bio_db/refseq/analysis/Manuscript/github_methods/bacterialEvolutionMetrics/popCOGent_example_ocean/TOBG_SAT-175.fna_@_TOBG_ARS-86.fna.maf.length_bias.txt\n"
     ]
    },
    {
     "name": "stderr",
     "output_type": "stream",
     "text": [
      "\r",
      "Running PopCOGent:   8%|▊         | 38/495 [04:35<24:09,  3.17s/it]"
     ]
    },
    {
     "name": "stdout",
     "output_type": "stream",
     "text": [
      "export MUGSY_INSTALL=/data8/Human/NIH_4/MethodDevelopment/Mugsy/mugsy_x86-64-v1r2.3 ; /data8/Human/NIH_4/MethodDevelopment/Mugsy/mugsy_x86-64-v1r2.3/mugsy --directory /data1/bio_db/refseq/analysis/Manuscript/github_methods/bacterialEvolutionMetrics/popCOGent_example_ocean --prefix 078itHLYOSBOHaAGKn6iTieYbZnigUWE /data1/bio_db/refseq/analysis/Manuscript/github_methods/bacterialEvolutionMetrics/popCOGent_example_ocean/078itHLYOSBOHaAG.tempcontig /data1/bio_db/refseq/analysis/Manuscript/github_methods/bacterialEvolutionMetrics/popCOGent_example_ocean/Kn6iTieYbZnigUWE.tempcontig\n",
      "/data1/bio_db/refseq/analysis/Manuscript/github_methods/bacterialEvolutionMetrics/popCOGent_example_ocean/TOBG_NAT-187.fna_@_TOBG_ARS-86.fna.maf.length_bias.txt\n"
     ]
    },
    {
     "name": "stderr",
     "output_type": "stream",
     "text": [
      "\r",
      "Running PopCOGent:   8%|▊         | 39/495 [04:37<19:51,  2.61s/it]"
     ]
    },
    {
     "name": "stdout",
     "output_type": "stream",
     "text": [
      "export MUGSY_INSTALL=/data8/Human/NIH_4/MethodDevelopment/Mugsy/mugsy_x86-64-v1r2.3 ; /data8/Human/NIH_4/MethodDevelopment/Mugsy/mugsy_x86-64-v1r2.3/mugsy --directory /data1/bio_db/refseq/analysis/Manuscript/github_methods/bacterialEvolutionMetrics/popCOGent_example_ocean --prefix R05QFTVBE4AHSpHzTslfCvdEIRovlJNs /data1/bio_db/refseq/analysis/Manuscript/github_methods/bacterialEvolutionMetrics/popCOGent_example_ocean/R05QFTVBE4AHSpHz.tempcontig /data1/bio_db/refseq/analysis/Manuscript/github_methods/bacterialEvolutionMetrics/popCOGent_example_ocean/TslfCvdEIRovlJNs.tempcontig\n",
      "/data1/bio_db/refseq/analysis/Manuscript/github_methods/bacterialEvolutionMetrics/popCOGent_example_ocean/TOBG_SAT-103.fna_@_TOBG_ARS-86.fna.maf.length_bias.txt\n"
     ]
    },
    {
     "name": "stderr",
     "output_type": "stream",
     "text": [
      "\r",
      "Running PopCOGent:   8%|▊         | 40/495 [05:07<1:21:56, 10.80s/it]"
     ]
    },
    {
     "name": "stdout",
     "output_type": "stream",
     "text": [
      "export MUGSY_INSTALL=/data8/Human/NIH_4/MethodDevelopment/Mugsy/mugsy_x86-64-v1r2.3 ; /data8/Human/NIH_4/MethodDevelopment/Mugsy/mugsy_x86-64-v1r2.3/mugsy --directory /data1/bio_db/refseq/analysis/Manuscript/github_methods/bacterialEvolutionMetrics/popCOGent_example_ocean --prefix uEZCbbtuOe7Jb8ypCBEoUeqDrBI9wS7V /data1/bio_db/refseq/analysis/Manuscript/github_methods/bacterialEvolutionMetrics/popCOGent_example_ocean/uEZCbbtuOe7Jb8yp.tempcontig /data1/bio_db/refseq/analysis/Manuscript/github_methods/bacterialEvolutionMetrics/popCOGent_example_ocean/CBEoUeqDrBI9wS7V.tempcontig\n",
      "/data1/bio_db/refseq/analysis/Manuscript/github_methods/bacterialEvolutionMetrics/popCOGent_example_ocean/TOBG_EAC-41.fna_@_TOBG_CPC-11.fna.maf.length_bias.txt\n"
     ]
    },
    {
     "name": "stderr",
     "output_type": "stream",
     "text": [
      "\r",
      "Running PopCOGent:   8%|▊         | 41/495 [05:17<1:20:14, 10.60s/it]"
     ]
    },
    {
     "name": "stdout",
     "output_type": "stream",
     "text": [
      "export MUGSY_INSTALL=/data8/Human/NIH_4/MethodDevelopment/Mugsy/mugsy_x86-64-v1r2.3 ; /data8/Human/NIH_4/MethodDevelopment/Mugsy/mugsy_x86-64-v1r2.3/mugsy --directory /data1/bio_db/refseq/analysis/Manuscript/github_methods/bacterialEvolutionMetrics/popCOGent_example_ocean --prefix WE193aVQ6YZdCo0gBzGAQyzo4k8AwqvU /data1/bio_db/refseq/analysis/Manuscript/github_methods/bacterialEvolutionMetrics/popCOGent_example_ocean/WE193aVQ6YZdCo0g.tempcontig /data1/bio_db/refseq/analysis/Manuscript/github_methods/bacterialEvolutionMetrics/popCOGent_example_ocean/BzGAQyzo4k8AwqvU.tempcontig\n",
      "/data1/bio_db/refseq/analysis/Manuscript/github_methods/bacterialEvolutionMetrics/popCOGent_example_ocean/TOBG_NAT-75.fna_@_TOBG_CPC-11.fna.maf.length_bias.txt\n"
     ]
    },
    {
     "name": "stderr",
     "output_type": "stream",
     "text": [
      "\r",
      "Running PopCOGent:   8%|▊         | 42/495 [05:24<1:12:48,  9.64s/it]"
     ]
    },
    {
     "name": "stdout",
     "output_type": "stream",
     "text": [
      "export MUGSY_INSTALL=/data8/Human/NIH_4/MethodDevelopment/Mugsy/mugsy_x86-64-v1r2.3 ; /data8/Human/NIH_4/MethodDevelopment/Mugsy/mugsy_x86-64-v1r2.3/mugsy --directory /data1/bio_db/refseq/analysis/Manuscript/github_methods/bacterialEvolutionMetrics/popCOGent_example_ocean --prefix 9UI9j8Toy6Mjm1KJzptgG5fONm69s6J4 /data1/bio_db/refseq/analysis/Manuscript/github_methods/bacterialEvolutionMetrics/popCOGent_example_ocean/9UI9j8Toy6Mjm1KJ.tempcontig /data1/bio_db/refseq/analysis/Manuscript/github_methods/bacterialEvolutionMetrics/popCOGent_example_ocean/zptgG5fONm69s6J4.tempcontig\n",
      "/data1/bio_db/refseq/analysis/Manuscript/github_methods/bacterialEvolutionMetrics/popCOGent_example_ocean/TOBG_NP-12.fna_@_TOBG_CPC-11.fna.maf.length_bias.txt\n"
     ]
    },
    {
     "name": "stderr",
     "output_type": "stream",
     "text": [
      "\r",
      "Running PopCOGent:   9%|▊         | 43/495 [05:25<51:59,  6.90s/it]  "
     ]
    },
    {
     "name": "stdout",
     "output_type": "stream",
     "text": [
      "export MUGSY_INSTALL=/data8/Human/NIH_4/MethodDevelopment/Mugsy/mugsy_x86-64-v1r2.3 ; /data8/Human/NIH_4/MethodDevelopment/Mugsy/mugsy_x86-64-v1r2.3/mugsy --directory /data1/bio_db/refseq/analysis/Manuscript/github_methods/bacterialEvolutionMetrics/popCOGent_example_ocean --prefix EW0xHUm96pDhCmlRJ3kCe86OsvcSaXZB /data1/bio_db/refseq/analysis/Manuscript/github_methods/bacterialEvolutionMetrics/popCOGent_example_ocean/EW0xHUm96pDhCmlR.tempcontig /data1/bio_db/refseq/analysis/Manuscript/github_methods/bacterialEvolutionMetrics/popCOGent_example_ocean/J3kCe86OsvcSaXZB.tempcontig\n",
      "/data1/bio_db/refseq/analysis/Manuscript/github_methods/bacterialEvolutionMetrics/popCOGent_example_ocean/TOBG_SP-64.fna_@_TOBG_CPC-11.fna.maf.length_bias.txt\n"
     ]
    },
    {
     "name": "stderr",
     "output_type": "stream",
     "text": [
      "\r",
      "Running PopCOGent:   9%|▉         | 44/495 [05:27<41:46,  5.56s/it]"
     ]
    },
    {
     "name": "stdout",
     "output_type": "stream",
     "text": [
      "export MUGSY_INSTALL=/data8/Human/NIH_4/MethodDevelopment/Mugsy/mugsy_x86-64-v1r2.3 ; /data8/Human/NIH_4/MethodDevelopment/Mugsy/mugsy_x86-64-v1r2.3/mugsy --directory /data1/bio_db/refseq/analysis/Manuscript/github_methods/bacterialEvolutionMetrics/popCOGent_example_ocean --prefix 5sRXevPi4nVF8UOh9FxJWqGWUOMEtVcv /data1/bio_db/refseq/analysis/Manuscript/github_methods/bacterialEvolutionMetrics/popCOGent_example_ocean/5sRXevPi4nVF8UOh.tempcontig /data1/bio_db/refseq/analysis/Manuscript/github_methods/bacterialEvolutionMetrics/popCOGent_example_ocean/9FxJWqGWUOMEtVcv.tempcontig\n",
      "/data1/bio_db/refseq/analysis/Manuscript/github_methods/bacterialEvolutionMetrics/popCOGent_example_ocean/TOBG_NP-9.fna_@_TOBG_CPC-12.fna.maf.length_bias.txt\n"
     ]
    },
    {
     "name": "stderr",
     "output_type": "stream",
     "text": [
      "\r",
      "Running PopCOGent:   9%|▉         | 45/495 [05:30<36:39,  4.89s/it]"
     ]
    },
    {
     "name": "stdout",
     "output_type": "stream",
     "text": [
      "export MUGSY_INSTALL=/data8/Human/NIH_4/MethodDevelopment/Mugsy/mugsy_x86-64-v1r2.3 ; /data8/Human/NIH_4/MethodDevelopment/Mugsy/mugsy_x86-64-v1r2.3/mugsy --directory /data1/bio_db/refseq/analysis/Manuscript/github_methods/bacterialEvolutionMetrics/popCOGent_example_ocean --prefix Pr69KPqOr9QxtZ9z3ki97eVbgXYRZiAs /data1/bio_db/refseq/analysis/Manuscript/github_methods/bacterialEvolutionMetrics/popCOGent_example_ocean/Pr69KPqOr9QxtZ9z.tempcontig /data1/bio_db/refseq/analysis/Manuscript/github_methods/bacterialEvolutionMetrics/popCOGent_example_ocean/3ki97eVbgXYRZiAs.tempcontig\n",
      "/data1/bio_db/refseq/analysis/Manuscript/github_methods/bacterialEvolutionMetrics/popCOGent_example_ocean/TOBG_SP-32.fna_@_TOBG_CPC-11.fna.maf.length_bias.txt\n"
     ]
    },
    {
     "name": "stderr",
     "output_type": "stream",
     "text": [
      "\r",
      "Running PopCOGent:   9%|▉         | 46/495 [05:59<1:29:52, 12.01s/it]"
     ]
    },
    {
     "name": "stdout",
     "output_type": "stream",
     "text": [
      "export MUGSY_INSTALL=/data8/Human/NIH_4/MethodDevelopment/Mugsy/mugsy_x86-64-v1r2.3 ; /data8/Human/NIH_4/MethodDevelopment/Mugsy/mugsy_x86-64-v1r2.3/mugsy --directory /data1/bio_db/refseq/analysis/Manuscript/github_methods/bacterialEvolutionMetrics/popCOGent_example_ocean --prefix RDuk64syX0CwIKp0rLzW2eAC8Y2APEKK /data1/bio_db/refseq/analysis/Manuscript/github_methods/bacterialEvolutionMetrics/popCOGent_example_ocean/RDuk64syX0CwIKp0.tempcontig /data1/bio_db/refseq/analysis/Manuscript/github_methods/bacterialEvolutionMetrics/popCOGent_example_ocean/rLzW2eAC8Y2APEKK.tempcontig\n",
      "/data1/bio_db/refseq/analysis/Manuscript/github_methods/bacterialEvolutionMetrics/popCOGent_example_ocean/TOBG_SAT-31.fna_@_TOBG_CPC-12.fna.maf.length_bias.txt\n"
     ]
    },
    {
     "name": "stderr",
     "output_type": "stream",
     "text": [
      "\r",
      "Running PopCOGent:   9%|▉         | 47/495 [06:16<1:40:31, 13.46s/it]"
     ]
    },
    {
     "name": "stdout",
     "output_type": "stream",
     "text": [
      "export MUGSY_INSTALL=/data8/Human/NIH_4/MethodDevelopment/Mugsy/mugsy_x86-64-v1r2.3 ; /data8/Human/NIH_4/MethodDevelopment/Mugsy/mugsy_x86-64-v1r2.3/mugsy --directory /data1/bio_db/refseq/analysis/Manuscript/github_methods/bacterialEvolutionMetrics/popCOGent_example_ocean --prefix dsuN36j4xj7Xk3kBsxCwKWlIQulDKDXO /data1/bio_db/refseq/analysis/Manuscript/github_methods/bacterialEvolutionMetrics/popCOGent_example_ocean/dsuN36j4xj7Xk3kB.tempcontig /data1/bio_db/refseq/analysis/Manuscript/github_methods/bacterialEvolutionMetrics/popCOGent_example_ocean/sxCwKWlIQulDKDXO.tempcontig\n",
      "/data1/bio_db/refseq/analysis/Manuscript/github_methods/bacterialEvolutionMetrics/popCOGent_example_ocean/TOBG_SP-259.fna_@_TOBG_CPC-14.fna.maf.length_bias.txt\n"
     ]
    },
    {
     "name": "stderr",
     "output_type": "stream",
     "text": [
      "\r",
      "Running PopCOGent:  10%|▉         | 48/495 [06:43<2:10:11, 17.47s/it]"
     ]
    },
    {
     "name": "stdout",
     "output_type": "stream",
     "text": [
      "export MUGSY_INSTALL=/data8/Human/NIH_4/MethodDevelopment/Mugsy/mugsy_x86-64-v1r2.3 ; /data8/Human/NIH_4/MethodDevelopment/Mugsy/mugsy_x86-64-v1r2.3/mugsy --directory /data1/bio_db/refseq/analysis/Manuscript/github_methods/bacterialEvolutionMetrics/popCOGent_example_ocean --prefix wI29T4uz5YO2VakYuwuNkMD5p92cF8V7 /data1/bio_db/refseq/analysis/Manuscript/github_methods/bacterialEvolutionMetrics/popCOGent_example_ocean/wI29T4uz5YO2VakY.tempcontig /data1/bio_db/refseq/analysis/Manuscript/github_methods/bacterialEvolutionMetrics/popCOGent_example_ocean/uwuNkMD5p92cF8V7.tempcontig\n",
      "/data1/bio_db/refseq/analysis/Manuscript/github_methods/bacterialEvolutionMetrics/popCOGent_example_ocean/TOBG_SP-180.fna_@_TOBG_CPC-12.fna.maf.length_bias.txt\n"
     ]
    },
    {
     "name": "stderr",
     "output_type": "stream",
     "text": [
      "\r",
      "Running PopCOGent:  10%|▉         | 49/495 [06:54<1:55:14, 15.50s/it]"
     ]
    },
    {
     "name": "stdout",
     "output_type": "stream",
     "text": [
      "export MUGSY_INSTALL=/data8/Human/NIH_4/MethodDevelopment/Mugsy/mugsy_x86-64-v1r2.3 ; /data8/Human/NIH_4/MethodDevelopment/Mugsy/mugsy_x86-64-v1r2.3/mugsy --directory /data1/bio_db/refseq/analysis/Manuscript/github_methods/bacterialEvolutionMetrics/popCOGent_example_ocean --prefix FyMJlTrFlLTFWwkxztg48YY6ZUky18ne /data1/bio_db/refseq/analysis/Manuscript/github_methods/bacterialEvolutionMetrics/popCOGent_example_ocean/FyMJlTrFlLTFWwkx.tempcontig /data1/bio_db/refseq/analysis/Manuscript/github_methods/bacterialEvolutionMetrics/popCOGent_example_ocean/ztg48YY6ZUky18ne.tempcontig\n",
      "/data1/bio_db/refseq/analysis/Manuscript/github_methods/bacterialEvolutionMetrics/popCOGent_example_ocean/TOBG_CPC-6.fna_@_TOBG_CPC-13.fna.maf.length_bias.txt\n"
     ]
    },
    {
     "name": "stderr",
     "output_type": "stream",
     "text": [
      "\r",
      "Running PopCOGent:  10%|█         | 50/495 [06:55<1:23:19, 11.24s/it]"
     ]
    },
    {
     "name": "stdout",
     "output_type": "stream",
     "text": [
      "export MUGSY_INSTALL=/data8/Human/NIH_4/MethodDevelopment/Mugsy/mugsy_x86-64-v1r2.3 ; /data8/Human/NIH_4/MethodDevelopment/Mugsy/mugsy_x86-64-v1r2.3/mugsy --directory /data1/bio_db/refseq/analysis/Manuscript/github_methods/bacterialEvolutionMetrics/popCOGent_example_ocean --prefix zs9A4f7Tn8x0jOGXdEVfQaNBmaNDxb9I /data1/bio_db/refseq/analysis/Manuscript/github_methods/bacterialEvolutionMetrics/popCOGent_example_ocean/zs9A4f7Tn8x0jOGX.tempcontig /data1/bio_db/refseq/analysis/Manuscript/github_methods/bacterialEvolutionMetrics/popCOGent_example_ocean/dEVfQaNBmaNDxb9I.tempcontig\n",
      "/data1/bio_db/refseq/analysis/Manuscript/github_methods/bacterialEvolutionMetrics/popCOGent_example_ocean/TOBG_SAT-57.fna_@_TOBG_CPC-19.fna.maf.length_bias.txt\n"
     ]
    },
    {
     "name": "stderr",
     "output_type": "stream",
     "text": [
      "\r",
      "Running PopCOGent:  10%|█         | 51/495 [07:02<1:13:30,  9.93s/it]"
     ]
    },
    {
     "name": "stdout",
     "output_type": "stream",
     "text": [
      "export MUGSY_INSTALL=/data8/Human/NIH_4/MethodDevelopment/Mugsy/mugsy_x86-64-v1r2.3 ; /data8/Human/NIH_4/MethodDevelopment/Mugsy/mugsy_x86-64-v1r2.3/mugsy --directory /data1/bio_db/refseq/analysis/Manuscript/github_methods/bacterialEvolutionMetrics/popCOGent_example_ocean --prefix CXbcBO6U4S1eruYBtlK7wcXYZGfukbh5 /data1/bio_db/refseq/analysis/Manuscript/github_methods/bacterialEvolutionMetrics/popCOGent_example_ocean/CXbcBO6U4S1eruYB.tempcontig /data1/bio_db/refseq/analysis/Manuscript/github_methods/bacterialEvolutionMetrics/popCOGent_example_ocean/tlK7wcXYZGfukbh5.tempcontig\n",
      "/data1/bio_db/refseq/analysis/Manuscript/github_methods/bacterialEvolutionMetrics/popCOGent_example_ocean/TOBG_SP-182.fna_@_TOBG_CPC-17.fna.maf.length_bias.txt\n"
     ]
    },
    {
     "name": "stderr",
     "output_type": "stream",
     "text": [
      "\r",
      "Running PopCOGent:  11%|█         | 52/495 [07:22<1:36:10, 13.03s/it]"
     ]
    },
    {
     "name": "stdout",
     "output_type": "stream",
     "text": [
      "export MUGSY_INSTALL=/data8/Human/NIH_4/MethodDevelopment/Mugsy/mugsy_x86-64-v1r2.3 ; /data8/Human/NIH_4/MethodDevelopment/Mugsy/mugsy_x86-64-v1r2.3/mugsy --directory /data1/bio_db/refseq/analysis/Manuscript/github_methods/bacterialEvolutionMetrics/popCOGent_example_ocean --prefix bMNlfyMCM2ZWySpuQz2pd0StbGA5N4mE /data1/bio_db/refseq/analysis/Manuscript/github_methods/bacterialEvolutionMetrics/popCOGent_example_ocean/bMNlfyMCM2ZWySpu.tempcontig /data1/bio_db/refseq/analysis/Manuscript/github_methods/bacterialEvolutionMetrics/popCOGent_example_ocean/Qz2pd0StbGA5N4mE.tempcontig\n",
      "/data1/bio_db/refseq/analysis/Manuscript/github_methods/bacterialEvolutionMetrics/popCOGent_example_ocean/TOBG_SAT-97.fna_@_TOBG_CPC-2.fna.maf.length_bias.txt\n"
     ]
    },
    {
     "name": "stderr",
     "output_type": "stream",
     "text": [
      "\r",
      "Running PopCOGent:  11%|█         | 53/495 [07:32<1:30:08, 12.24s/it]"
     ]
    },
    {
     "name": "stdout",
     "output_type": "stream",
     "text": [
      "export MUGSY_INSTALL=/data8/Human/NIH_4/MethodDevelopment/Mugsy/mugsy_x86-64-v1r2.3 ; /data8/Human/NIH_4/MethodDevelopment/Mugsy/mugsy_x86-64-v1r2.3/mugsy --directory /data1/bio_db/refseq/analysis/Manuscript/github_methods/bacterialEvolutionMetrics/popCOGent_example_ocean --prefix OFxfy3BIsTjBhdAxr5Y5pv8TmKkbVgLv /data1/bio_db/refseq/analysis/Manuscript/github_methods/bacterialEvolutionMetrics/popCOGent_example_ocean/OFxfy3BIsTjBhdAx.tempcontig /data1/bio_db/refseq/analysis/Manuscript/github_methods/bacterialEvolutionMetrics/popCOGent_example_ocean/r5Y5pv8TmKkbVgLv.tempcontig\n",
      "/data1/bio_db/refseq/analysis/Manuscript/github_methods/bacterialEvolutionMetrics/popCOGent_example_ocean/TOBG_SP-126.fna_@_TOBG_CPC-19.fna.maf.length_bias.txt\n"
     ]
    },
    {
     "name": "stderr",
     "output_type": "stream",
     "text": [
      "\r",
      "Running PopCOGent:  11%|█         | 54/495 [07:48<1:36:26, 13.12s/it]"
     ]
    },
    {
     "name": "stdout",
     "output_type": "stream",
     "text": [
      "export MUGSY_INSTALL=/data8/Human/NIH_4/MethodDevelopment/Mugsy/mugsy_x86-64-v1r2.3 ; /data8/Human/NIH_4/MethodDevelopment/Mugsy/mugsy_x86-64-v1r2.3/mugsy --directory /data1/bio_db/refseq/analysis/Manuscript/github_methods/bacterialEvolutionMetrics/popCOGent_example_ocean --prefix TSaJQOp43uVvCowtFgsLJYCPeovA0okK /data1/bio_db/refseq/analysis/Manuscript/github_methods/bacterialEvolutionMetrics/popCOGent_example_ocean/TSaJQOp43uVvCowt.tempcontig /data1/bio_db/refseq/analysis/Manuscript/github_methods/bacterialEvolutionMetrics/popCOGent_example_ocean/FgsLJYCPeovA0okK.tempcontig\n",
      "/data1/bio_db/refseq/analysis/Manuscript/github_methods/bacterialEvolutionMetrics/popCOGent_example_ocean/TOBG_EAC-102.fna_@_TOBG_CPC-28.fna.maf.length_bias.txt\n"
     ]
    },
    {
     "name": "stderr",
     "output_type": "stream",
     "text": [
      "\r",
      "Running PopCOGent:  11%|█         | 55/495 [07:56<1:25:15, 11.63s/it]"
     ]
    },
    {
     "name": "stdout",
     "output_type": "stream",
     "text": [
      "export MUGSY_INSTALL=/data8/Human/NIH_4/MethodDevelopment/Mugsy/mugsy_x86-64-v1r2.3 ; /data8/Human/NIH_4/MethodDevelopment/Mugsy/mugsy_x86-64-v1r2.3/mugsy --directory /data1/bio_db/refseq/analysis/Manuscript/github_methods/bacterialEvolutionMetrics/popCOGent_example_ocean --prefix 5L9NpwUSUpiB5WWEZ3VKVeAv6iFeLVB1 /data1/bio_db/refseq/analysis/Manuscript/github_methods/bacterialEvolutionMetrics/popCOGent_example_ocean/5L9NpwUSUpiB5WWE.tempcontig /data1/bio_db/refseq/analysis/Manuscript/github_methods/bacterialEvolutionMetrics/popCOGent_example_ocean/Z3VKVeAv6iFeLVB1.tempcontig\n",
      "/data1/bio_db/refseq/analysis/Manuscript/github_methods/bacterialEvolutionMetrics/popCOGent_example_ocean/TOBG_IN-9.fna_@_TOBG_CPC-28.fna.maf.length_bias.txt\n"
     ]
    },
    {
     "name": "stderr",
     "output_type": "stream",
     "text": [
      "\r",
      "Running PopCOGent:  11%|█▏        | 56/495 [08:19<1:49:46, 15.00s/it]"
     ]
    },
    {
     "name": "stdout",
     "output_type": "stream",
     "text": [
      "export MUGSY_INSTALL=/data8/Human/NIH_4/MethodDevelopment/Mugsy/mugsy_x86-64-v1r2.3 ; /data8/Human/NIH_4/MethodDevelopment/Mugsy/mugsy_x86-64-v1r2.3/mugsy --directory /data1/bio_db/refseq/analysis/Manuscript/github_methods/bacterialEvolutionMetrics/popCOGent_example_ocean --prefix xaLEqPv3TvgWK6LKAzQeKtHB447BntVy /data1/bio_db/refseq/analysis/Manuscript/github_methods/bacterialEvolutionMetrics/popCOGent_example_ocean/xaLEqPv3TvgWK6LK.tempcontig /data1/bio_db/refseq/analysis/Manuscript/github_methods/bacterialEvolutionMetrics/popCOGent_example_ocean/AzQeKtHB447BntVy.tempcontig\n",
      "/data1/bio_db/refseq/analysis/Manuscript/github_methods/bacterialEvolutionMetrics/popCOGent_example_ocean/TOBG_EAC-87.fna_@_TOBG_CPC-21.fna.maf.length_bias.txt\n"
     ]
    },
    {
     "name": "stderr",
     "output_type": "stream",
     "text": [
      "\r",
      "Running PopCOGent:  12%|█▏        | 57/495 [08:23<1:25:42, 11.74s/it]"
     ]
    },
    {
     "name": "stdout",
     "output_type": "stream",
     "text": [
      "export MUGSY_INSTALL=/data8/Human/NIH_4/MethodDevelopment/Mugsy/mugsy_x86-64-v1r2.3 ; /data8/Human/NIH_4/MethodDevelopment/Mugsy/mugsy_x86-64-v1r2.3/mugsy --directory /data1/bio_db/refseq/analysis/Manuscript/github_methods/bacterialEvolutionMetrics/popCOGent_example_ocean --prefix 22SxwQ4gFYlFEgMSEqeTrldDOgsytIVP /data1/bio_db/refseq/analysis/Manuscript/github_methods/bacterialEvolutionMetrics/popCOGent_example_ocean/22SxwQ4gFYlFEgMS.tempcontig /data1/bio_db/refseq/analysis/Manuscript/github_methods/bacterialEvolutionMetrics/popCOGent_example_ocean/EqeTrldDOgsytIVP.tempcontig\n",
      "/data1/bio_db/refseq/analysis/Manuscript/github_methods/bacterialEvolutionMetrics/popCOGent_example_ocean/TOBG_NP-151.fna_@_TOBG_CPC-28.fna.maf.length_bias.txt\n"
     ]
    },
    {
     "name": "stderr",
     "output_type": "stream",
     "text": [
      "\r",
      "Running PopCOGent:  12%|█▏        | 58/495 [08:35<1:26:07, 11.83s/it]"
     ]
    },
    {
     "name": "stdout",
     "output_type": "stream",
     "text": [
      "export MUGSY_INSTALL=/data8/Human/NIH_4/MethodDevelopment/Mugsy/mugsy_x86-64-v1r2.3 ; /data8/Human/NIH_4/MethodDevelopment/Mugsy/mugsy_x86-64-v1r2.3/mugsy --directory /data1/bio_db/refseq/analysis/Manuscript/github_methods/bacterialEvolutionMetrics/popCOGent_example_ocean --prefix 4HedZ8whBNRjwpepmMiqnfJFt02MkBFZ /data1/bio_db/refseq/analysis/Manuscript/github_methods/bacterialEvolutionMetrics/popCOGent_example_ocean/4HedZ8whBNRjwpep.tempcontig /data1/bio_db/refseq/analysis/Manuscript/github_methods/bacterialEvolutionMetrics/popCOGent_example_ocean/mMiqnfJFt02MkBFZ.tempcontig\n",
      "/data1/bio_db/refseq/analysis/Manuscript/github_methods/bacterialEvolutionMetrics/popCOGent_example_ocean/TOBG_SP-16.fna_@_TOBG_CPC-21.fna.maf.length_bias.txt\n"
     ]
    },
    {
     "name": "stderr",
     "output_type": "stream",
     "text": [
      "\r",
      "Running PopCOGent:  12%|█▏        | 59/495 [08:40<1:11:39,  9.86s/it]"
     ]
    },
    {
     "name": "stdout",
     "output_type": "stream",
     "text": [
      "export MUGSY_INSTALL=/data8/Human/NIH_4/MethodDevelopment/Mugsy/mugsy_x86-64-v1r2.3 ; /data8/Human/NIH_4/MethodDevelopment/Mugsy/mugsy_x86-64-v1r2.3/mugsy --directory /data1/bio_db/refseq/analysis/Manuscript/github_methods/bacterialEvolutionMetrics/popCOGent_example_ocean --prefix 0SS6sO23729xVqe1vOEu93QMf4diCQHK /data1/bio_db/refseq/analysis/Manuscript/github_methods/bacterialEvolutionMetrics/popCOGent_example_ocean/0SS6sO23729xVqe1.tempcontig /data1/bio_db/refseq/analysis/Manuscript/github_methods/bacterialEvolutionMetrics/popCOGent_example_ocean/vOEu93QMf4diCQHK.tempcontig\n",
      "/data1/bio_db/refseq/analysis/Manuscript/github_methods/bacterialEvolutionMetrics/popCOGent_example_ocean/TOBG_NAT-64.fna_@_TOBG_CPC-28.fna.maf.length_bias.txt\n"
     ]
    },
    {
     "name": "stderr",
     "output_type": "stream",
     "text": [
      "\r",
      "Running PopCOGent:  12%|█▏        | 60/495 [08:43<56:22,  7.78s/it]  "
     ]
    },
    {
     "name": "stdout",
     "output_type": "stream",
     "text": [
      "export MUGSY_INSTALL=/data8/Human/NIH_4/MethodDevelopment/Mugsy/mugsy_x86-64-v1r2.3 ; /data8/Human/NIH_4/MethodDevelopment/Mugsy/mugsy_x86-64-v1r2.3/mugsy --directory /data1/bio_db/refseq/analysis/Manuscript/github_methods/bacterialEvolutionMetrics/popCOGent_example_ocean --prefix ET1xPo2SQto9Gltxr5L37IwojEjXkK0k /data1/bio_db/refseq/analysis/Manuscript/github_methods/bacterialEvolutionMetrics/popCOGent_example_ocean/ET1xPo2SQto9Gltx.tempcontig /data1/bio_db/refseq/analysis/Manuscript/github_methods/bacterialEvolutionMetrics/popCOGent_example_ocean/r5L37IwojEjXkK0k.tempcontig\n",
      "/data1/bio_db/refseq/analysis/Manuscript/github_methods/bacterialEvolutionMetrics/popCOGent_example_ocean/TOBG_EAC-77.fna_@_TOBG_CPC-32.fna.maf.length_bias.txt\n"
     ]
    },
    {
     "name": "stderr",
     "output_type": "stream",
     "text": [
      "\r",
      "Running PopCOGent:  12%|█▏        | 61/495 [08:49<53:13,  7.36s/it]"
     ]
    },
    {
     "name": "stdout",
     "output_type": "stream",
     "text": [
      "export MUGSY_INSTALL=/data8/Human/NIH_4/MethodDevelopment/Mugsy/mugsy_x86-64-v1r2.3 ; /data8/Human/NIH_4/MethodDevelopment/Mugsy/mugsy_x86-64-v1r2.3/mugsy --directory /data1/bio_db/refseq/analysis/Manuscript/github_methods/bacterialEvolutionMetrics/popCOGent_example_ocean --prefix EHn030Ryc15dRwuNfCgLSCK2LHhG5TPZ /data1/bio_db/refseq/analysis/Manuscript/github_methods/bacterialEvolutionMetrics/popCOGent_example_ocean/EHn030Ryc15dRwuN.tempcontig /data1/bio_db/refseq/analysis/Manuscript/github_methods/bacterialEvolutionMetrics/popCOGent_example_ocean/fCgLSCK2LHhG5TPZ.tempcontig\n",
      "/data1/bio_db/refseq/analysis/Manuscript/github_methods/bacterialEvolutionMetrics/popCOGent_example_ocean/TOBG_NAT-170.fna_@_TOBG_CPC-32.fna.maf.length_bias.txt\n"
     ]
    },
    {
     "name": "stderr",
     "output_type": "stream",
     "text": [
      "\r",
      "Running PopCOGent:  13%|█▎        | 62/495 [08:56<50:44,  7.03s/it]"
     ]
    },
    {
     "name": "stdout",
     "output_type": "stream",
     "text": [
      "export MUGSY_INSTALL=/data8/Human/NIH_4/MethodDevelopment/Mugsy/mugsy_x86-64-v1r2.3 ; /data8/Human/NIH_4/MethodDevelopment/Mugsy/mugsy_x86-64-v1r2.3/mugsy --directory /data1/bio_db/refseq/analysis/Manuscript/github_methods/bacterialEvolutionMetrics/popCOGent_example_ocean --prefix l3yilqw6HcbP14QkthV29XK9fnnoHC8k /data1/bio_db/refseq/analysis/Manuscript/github_methods/bacterialEvolutionMetrics/popCOGent_example_ocean/l3yilqw6HcbP14Qk.tempcontig /data1/bio_db/refseq/analysis/Manuscript/github_methods/bacterialEvolutionMetrics/popCOGent_example_ocean/thV29XK9fnnoHC8k.tempcontig\n",
      "/data1/bio_db/refseq/analysis/Manuscript/github_methods/bacterialEvolutionMetrics/popCOGent_example_ocean/TOBG_SAT-1.fna_@_TOBG_CPC-28.fna.maf.length_bias.txt\n"
     ]
    },
    {
     "name": "stderr",
     "output_type": "stream",
     "text": [
      "\r",
      "Running PopCOGent:  13%|█▎        | 63/495 [09:12<1:10:15,  9.76s/it]"
     ]
    },
    {
     "name": "stdout",
     "output_type": "stream",
     "text": [
      "export MUGSY_INSTALL=/data8/Human/NIH_4/MethodDevelopment/Mugsy/mugsy_x86-64-v1r2.3 ; /data8/Human/NIH_4/MethodDevelopment/Mugsy/mugsy_x86-64-v1r2.3/mugsy --directory /data1/bio_db/refseq/analysis/Manuscript/github_methods/bacterialEvolutionMetrics/popCOGent_example_ocean --prefix hCGpKEcWUwwtoot903r1a2r7U99p2J0Z /data1/bio_db/refseq/analysis/Manuscript/github_methods/bacterialEvolutionMetrics/popCOGent_example_ocean/hCGpKEcWUwwtoot9.tempcontig /data1/bio_db/refseq/analysis/Manuscript/github_methods/bacterialEvolutionMetrics/popCOGent_example_ocean/03r1a2r7U99p2J0Z.tempcontig\n",
      "/data1/bio_db/refseq/analysis/Manuscript/github_methods/bacterialEvolutionMetrics/popCOGent_example_ocean/TOBG_EAC-37.fna_@_TOBG_CPC-327.fna.maf.length_bias.txt\n"
     ]
    },
    {
     "name": "stderr",
     "output_type": "stream",
     "text": [
      "\r",
      "Running PopCOGent:  13%|█▎        | 64/495 [09:17<1:00:17,  8.39s/it]"
     ]
    },
    {
     "name": "stdout",
     "output_type": "stream",
     "text": [
      "export MUGSY_INSTALL=/data8/Human/NIH_4/MethodDevelopment/Mugsy/mugsy_x86-64-v1r2.3 ; /data8/Human/NIH_4/MethodDevelopment/Mugsy/mugsy_x86-64-v1r2.3/mugsy --directory /data1/bio_db/refseq/analysis/Manuscript/github_methods/bacterialEvolutionMetrics/popCOGent_example_ocean --prefix wHSi32IUGJqhhcNjg0pYPZfE6UnRYnu2 /data1/bio_db/refseq/analysis/Manuscript/github_methods/bacterialEvolutionMetrics/popCOGent_example_ocean/wHSi32IUGJqhhcNj.tempcontig /data1/bio_db/refseq/analysis/Manuscript/github_methods/bacterialEvolutionMetrics/popCOGent_example_ocean/g0pYPZfE6UnRYnu2.tempcontig\n",
      "export MUGSY_INSTALL=/data8/Human/NIH_4/MethodDevelopment/Mugsy/mugsy_x86-64-v1r2.3 ; /data8/Human/NIH_4/MethodDevelopment/Mugsy/mugsy_x86-64-v1r2.3/mugsy --directory /data1/bio_db/refseq/analysis/Manuscript/github_methods/bacterialEvolutionMetrics/popCOGent_example_ocean --prefix U6dpAQJqmMQFM6DcM6Bqi7Xxq3mIWfKC /data1/bio_db/refseq/analysis/Manuscript/github_methods/bacterialEvolutionMetrics/popCOGent_example_ocean/U6dpAQJqmMQFM6Dc.tempcontig /data1/bio_db/refseq/analysis/Manuscript/github_methods/bacterialEvolutionMetrics/popCOGent_example_ocean/M6Bqi7Xxq3mIWfKC.tempcontig\n",
      "/data1/bio_db/refseq/analysis/Manuscript/github_methods/bacterialEvolutionMetrics/popCOGent_example_ocean/TOBG_NP-15.fna_@_TOBG_CPC-327.fna.maf.length_bias.txt\n",
      "/data1/bio_db/refseq/analysis/Manuscript/github_methods/bacterialEvolutionMetrics/popCOGent_example_ocean/TOBG_EAC-55.fna_@_TOBG_CPC-33.fna.maf.length_bias.txt\n"
     ]
    },
    {
     "name": "stderr",
     "output_type": "stream",
     "text": [
      "\r",
      "Running PopCOGent:  13%|█▎        | 66/495 [09:19<43:51,  6.13s/it]  "
     ]
    },
    {
     "name": "stdout",
     "output_type": "stream",
     "text": [
      "export MUGSY_INSTALL=/data8/Human/NIH_4/MethodDevelopment/Mugsy/mugsy_x86-64-v1r2.3 ; /data8/Human/NIH_4/MethodDevelopment/Mugsy/mugsy_x86-64-v1r2.3/mugsy --directory /data1/bio_db/refseq/analysis/Manuscript/github_methods/bacterialEvolutionMetrics/popCOGent_example_ocean --prefix EoclLWi8dXTljhcIiiVOYJeBipO3pA2E /data1/bio_db/refseq/analysis/Manuscript/github_methods/bacterialEvolutionMetrics/popCOGent_example_ocean/EoclLWi8dXTljhcI.tempcontig /data1/bio_db/refseq/analysis/Manuscript/github_methods/bacterialEvolutionMetrics/popCOGent_example_ocean/iiVOYJeBipO3pA2E.tempcontig\n",
      "/data1/bio_db/refseq/analysis/Manuscript/github_methods/bacterialEvolutionMetrics/popCOGent_example_ocean/TOBG_NP-8.fna_@_TOBG_CPC-33.fna.maf.length_bias.txt\n"
     ]
    },
    {
     "name": "stderr",
     "output_type": "stream",
     "text": [
      "\r",
      "Running PopCOGent:  14%|█▎        | 67/495 [09:23<38:47,  5.44s/it]"
     ]
    },
    {
     "name": "stdout",
     "output_type": "stream",
     "text": [
      "export MUGSY_INSTALL=/data8/Human/NIH_4/MethodDevelopment/Mugsy/mugsy_x86-64-v1r2.3 ; /data8/Human/NIH_4/MethodDevelopment/Mugsy/mugsy_x86-64-v1r2.3/mugsy --directory /data1/bio_db/refseq/analysis/Manuscript/github_methods/bacterialEvolutionMetrics/popCOGent_example_ocean --prefix RH64aL3TbE5Z76M2HBQ0nsB0W91591Ls /data1/bio_db/refseq/analysis/Manuscript/github_methods/bacterialEvolutionMetrics/popCOGent_example_ocean/RH64aL3TbE5Z76M2.tempcontig /data1/bio_db/refseq/analysis/Manuscript/github_methods/bacterialEvolutionMetrics/popCOGent_example_ocean/HBQ0nsB0W91591Ls.tempcontig\n",
      "/data1/bio_db/refseq/analysis/Manuscript/github_methods/bacterialEvolutionMetrics/popCOGent_example_ocean/TOBG_CPC-80.fna_@_TOBG_CPC-33.fna.maf.length_bias.txt\n"
     ]
    },
    {
     "name": "stderr",
     "output_type": "stream",
     "text": [
      "\r",
      "Running PopCOGent:  14%|█▎        | 68/495 [09:34<50:49,  7.14s/it]"
     ]
    },
    {
     "name": "stdout",
     "output_type": "stream",
     "text": [
      "export MUGSY_INSTALL=/data8/Human/NIH_4/MethodDevelopment/Mugsy/mugsy_x86-64-v1r2.3 ; /data8/Human/NIH_4/MethodDevelopment/Mugsy/mugsy_x86-64-v1r2.3/mugsy --directory /data1/bio_db/refseq/analysis/Manuscript/github_methods/bacterialEvolutionMetrics/popCOGent_example_ocean --prefix td6tHUHpTLusxNWH2p37xR2KUR6dAi6C /data1/bio_db/refseq/analysis/Manuscript/github_methods/bacterialEvolutionMetrics/popCOGent_example_ocean/td6tHUHpTLusxNWH.tempcontig /data1/bio_db/refseq/analysis/Manuscript/github_methods/bacterialEvolutionMetrics/popCOGent_example_ocean/2p37xR2KUR6dAi6C.tempcontig\n",
      "/data1/bio_db/refseq/analysis/Manuscript/github_methods/bacterialEvolutionMetrics/popCOGent_example_ocean/TOBG_SAT-134.fna_@_TOBG_CPC-33.fna.maf.length_bias.txt\n"
     ]
    },
    {
     "name": "stderr",
     "output_type": "stream",
     "text": [
      "\r",
      "Running PopCOGent:  14%|█▍        | 69/495 [09:43<55:10,  7.77s/it]"
     ]
    },
    {
     "name": "stdout",
     "output_type": "stream",
     "text": [
      "export MUGSY_INSTALL=/data8/Human/NIH_4/MethodDevelopment/Mugsy/mugsy_x86-64-v1r2.3 ; /data8/Human/NIH_4/MethodDevelopment/Mugsy/mugsy_x86-64-v1r2.3/mugsy --directory /data1/bio_db/refseq/analysis/Manuscript/github_methods/bacterialEvolutionMetrics/popCOGent_example_ocean --prefix 2b13Ckn6hsgx4whhusiqWGviUxFmQR5k /data1/bio_db/refseq/analysis/Manuscript/github_methods/bacterialEvolutionMetrics/popCOGent_example_ocean/2b13Ckn6hsgx4whh.tempcontig /data1/bio_db/refseq/analysis/Manuscript/github_methods/bacterialEvolutionMetrics/popCOGent_example_ocean/usiqWGviUxFmQR5k.tempcontig\n",
      "/data1/bio_db/refseq/analysis/Manuscript/github_methods/bacterialEvolutionMetrics/popCOGent_example_ocean/TOBG_SP-350.fna_@_TOBG_CPC-33.fna.maf.length_bias.txt\n"
     ]
    },
    {
     "name": "stderr",
     "output_type": "stream",
     "text": [
      "\r",
      "Running PopCOGent:  14%|█▍        | 70/495 [09:44<40:33,  5.73s/it]"
     ]
    },
    {
     "name": "stdout",
     "output_type": "stream",
     "text": [
      "export MUGSY_INSTALL=/data8/Human/NIH_4/MethodDevelopment/Mugsy/mugsy_x86-64-v1r2.3 ; /data8/Human/NIH_4/MethodDevelopment/Mugsy/mugsy_x86-64-v1r2.3/mugsy --directory /data1/bio_db/refseq/analysis/Manuscript/github_methods/bacterialEvolutionMetrics/popCOGent_example_ocean --prefix X3yYMwTD0rPSTmr25OFVsTOVo8DAg0bv /data1/bio_db/refseq/analysis/Manuscript/github_methods/bacterialEvolutionMetrics/popCOGent_example_ocean/X3yYMwTD0rPSTmr2.tempcontig /data1/bio_db/refseq/analysis/Manuscript/github_methods/bacterialEvolutionMetrics/popCOGent_example_ocean/5OFVsTOVo8DAg0bv.tempcontig\n",
      "/data1/bio_db/refseq/analysis/Manuscript/github_methods/bacterialEvolutionMetrics/popCOGent_example_ocean/TOBG_SP-93.fna_@_TOBG_CPC-33.fna.maf.length_bias.txt\n"
     ]
    },
    {
     "name": "stderr",
     "output_type": "stream",
     "text": [
      "\r",
      "Running PopCOGent:  14%|█▍        | 71/495 [09:53<48:42,  6.89s/it]"
     ]
    },
    {
     "name": "stdout",
     "output_type": "stream",
     "text": [
      "/data1/bio_db/refseq/analysis/Manuscript/github_methods/bacterialEvolutionMetrics/popCOGent_example_ocean/TOBG_CPC-5.fna_@_TOBG_CPC-34.fna.maf.length_bias.txt\n",
      "export MUGSY_INSTALL=/data8/Human/NIH_4/MethodDevelopment/Mugsy/mugsy_x86-64-v1r2.3 ; /data8/Human/NIH_4/MethodDevelopment/Mugsy/mugsy_x86-64-v1r2.3/mugsy --directory /data1/bio_db/refseq/analysis/Manuscript/github_methods/bacterialEvolutionMetrics/popCOGent_example_ocean --prefix pQUMPMqyHS4y9dPJ9eg6AsRBrz5LoqM6 /data1/bio_db/refseq/analysis/Manuscript/github_methods/bacterialEvolutionMetrics/popCOGent_example_ocean/pQUMPMqyHS4y9dPJ.tempcontig /data1/bio_db/refseq/analysis/Manuscript/github_methods/bacterialEvolutionMetrics/popCOGent_example_ocean/9eg6AsRBrz5LoqM6.tempcontig\n"
     ]
    },
    {
     "name": "stderr",
     "output_type": "stream",
     "text": [
      "\r",
      "Running PopCOGent:  15%|█▍        | 72/495 [09:58<44:00,  6.24s/it]"
     ]
    },
    {
     "name": "stdout",
     "output_type": "stream",
     "text": [
      "export MUGSY_INSTALL=/data8/Human/NIH_4/MethodDevelopment/Mugsy/mugsy_x86-64-v1r2.3 ; /data8/Human/NIH_4/MethodDevelopment/Mugsy/mugsy_x86-64-v1r2.3/mugsy --directory /data1/bio_db/refseq/analysis/Manuscript/github_methods/bacterialEvolutionMetrics/popCOGent_example_ocean --prefix qMGTxgktQl1vCfJufZngMxi4Y8ArwPkL /data1/bio_db/refseq/analysis/Manuscript/github_methods/bacterialEvolutionMetrics/popCOGent_example_ocean/qMGTxgktQl1vCfJu.tempcontig /data1/bio_db/refseq/analysis/Manuscript/github_methods/bacterialEvolutionMetrics/popCOGent_example_ocean/fZngMxi4Y8ArwPkL.tempcontig\n",
      "/data1/bio_db/refseq/analysis/Manuscript/github_methods/bacterialEvolutionMetrics/popCOGent_example_ocean/TOBG_EAC-5.fna_@_TOBG_CPC-34.fna.maf.length_bias.txt\n"
     ]
    },
    {
     "name": "stderr",
     "output_type": "stream",
     "text": [
      "\r",
      "Running PopCOGent:  15%|█▍        | 73/495 [10:09<52:47,  7.51s/it]"
     ]
    },
    {
     "name": "stdout",
     "output_type": "stream",
     "text": [
      "export MUGSY_INSTALL=/data8/Human/NIH_4/MethodDevelopment/Mugsy/mugsy_x86-64-v1r2.3 ; /data8/Human/NIH_4/MethodDevelopment/Mugsy/mugsy_x86-64-v1r2.3/mugsy --directory /data1/bio_db/refseq/analysis/Manuscript/github_methods/bacterialEvolutionMetrics/popCOGent_example_ocean --prefix J2WcKPPki5JEWBMHk5jTL04qiXdqFYGQ /data1/bio_db/refseq/analysis/Manuscript/github_methods/bacterialEvolutionMetrics/popCOGent_example_ocean/J2WcKPPki5JEWBMH.tempcontig /data1/bio_db/refseq/analysis/Manuscript/github_methods/bacterialEvolutionMetrics/popCOGent_example_ocean/k5jTL04qiXdqFYGQ.tempcontig\n",
      "/data1/bio_db/refseq/analysis/Manuscript/github_methods/bacterialEvolutionMetrics/popCOGent_example_ocean/TOBG_NP-127.fna_@_TOBG_CPC-34.fna.maf.length_bias.txt\n"
     ]
    },
    {
     "name": "stderr",
     "output_type": "stream",
     "text": [
      "\r",
      "Running PopCOGent:  15%|█▍        | 74/495 [10:16<51:58,  7.41s/it]"
     ]
    },
    {
     "name": "stdout",
     "output_type": "stream",
     "text": [
      "export MUGSY_INSTALL=/data8/Human/NIH_4/MethodDevelopment/Mugsy/mugsy_x86-64-v1r2.3 ; /data8/Human/NIH_4/MethodDevelopment/Mugsy/mugsy_x86-64-v1r2.3/mugsy --directory /data1/bio_db/refseq/analysis/Manuscript/github_methods/bacterialEvolutionMetrics/popCOGent_example_ocean --prefix RZ8vjtz0XX8ZXB9mryYxOydDYPKy7aAJ /data1/bio_db/refseq/analysis/Manuscript/github_methods/bacterialEvolutionMetrics/popCOGent_example_ocean/RZ8vjtz0XX8ZXB9m.tempcontig /data1/bio_db/refseq/analysis/Manuscript/github_methods/bacterialEvolutionMetrics/popCOGent_example_ocean/ryYxOydDYPKy7aAJ.tempcontig\n",
      "/data1/bio_db/refseq/analysis/Manuscript/github_methods/bacterialEvolutionMetrics/popCOGent_example_ocean/TOBG_SP-63.fna_@_TOBG_CPC-34.fna.maf.length_bias.txt\n"
     ]
    },
    {
     "name": "stderr",
     "output_type": "stream",
     "text": [
      "\r",
      "Running PopCOGent:  15%|█▌        | 75/495 [10:17<37:46,  5.40s/it]"
     ]
    },
    {
     "name": "stdout",
     "output_type": "stream",
     "text": [
      "export MUGSY_INSTALL=/data8/Human/NIH_4/MethodDevelopment/Mugsy/mugsy_x86-64-v1r2.3 ; /data8/Human/NIH_4/MethodDevelopment/Mugsy/mugsy_x86-64-v1r2.3/mugsy --directory /data1/bio_db/refseq/analysis/Manuscript/github_methods/bacterialEvolutionMetrics/popCOGent_example_ocean --prefix 6r3V98Y4rBKJ2hmrcAvUSkWOThIcEN6m /data1/bio_db/refseq/analysis/Manuscript/github_methods/bacterialEvolutionMetrics/popCOGent_example_ocean/6r3V98Y4rBKJ2hmr.tempcontig /data1/bio_db/refseq/analysis/Manuscript/github_methods/bacterialEvolutionMetrics/popCOGent_example_ocean/cAvUSkWOThIcEN6m.tempcontig\n",
      "/data1/bio_db/refseq/analysis/Manuscript/github_methods/bacterialEvolutionMetrics/popCOGent_example_ocean/TOBG_NAT-16.fna_@_TOBG_CPC-39.fna.maf.length_bias.txt\n"
     ]
    },
    {
     "name": "stderr",
     "output_type": "stream",
     "text": [
      "\r",
      "Running PopCOGent:  15%|█▌        | 76/495 [10:27<48:44,  6.98s/it]"
     ]
    },
    {
     "name": "stdout",
     "output_type": "stream",
     "text": [
      "export MUGSY_INSTALL=/data8/Human/NIH_4/MethodDevelopment/Mugsy/mugsy_x86-64-v1r2.3 ; /data8/Human/NIH_4/MethodDevelopment/Mugsy/mugsy_x86-64-v1r2.3/mugsy --directory /data1/bio_db/refseq/analysis/Manuscript/github_methods/bacterialEvolutionMetrics/popCOGent_example_ocean --prefix Jn56SqpLoKhQKmwC14brGMT9rIH4FeUp /data1/bio_db/refseq/analysis/Manuscript/github_methods/bacterialEvolutionMetrics/popCOGent_example_ocean/Jn56SqpLoKhQKmwC.tempcontig /data1/bio_db/refseq/analysis/Manuscript/github_methods/bacterialEvolutionMetrics/popCOGent_example_ocean/14brGMT9rIH4FeUp.tempcontig\n",
      "/data1/bio_db/refseq/analysis/Manuscript/github_methods/bacterialEvolutionMetrics/popCOGent_example_ocean/TOBG_SAT-87.fna_@_TOBG_CPC-31.fna.maf.length_bias.txt\n"
     ]
    },
    {
     "name": "stderr",
     "output_type": "stream",
     "text": [
      "\r",
      "Running PopCOGent:  16%|█▌        | 77/495 [10:30<40:09,  5.77s/it]"
     ]
    },
    {
     "name": "stdout",
     "output_type": "stream",
     "text": [
      "export MUGSY_INSTALL=/data8/Human/NIH_4/MethodDevelopment/Mugsy/mugsy_x86-64-v1r2.3 ; /data8/Human/NIH_4/MethodDevelopment/Mugsy/mugsy_x86-64-v1r2.3/mugsy --directory /data1/bio_db/refseq/analysis/Manuscript/github_methods/bacterialEvolutionMetrics/popCOGent_example_ocean --prefix 5ss3FIYCDyfNMLTFqD0JWT9pM4oejvxO /data1/bio_db/refseq/analysis/Manuscript/github_methods/bacterialEvolutionMetrics/popCOGent_example_ocean/5ss3FIYCDyfNMLTF.tempcontig /data1/bio_db/refseq/analysis/Manuscript/github_methods/bacterialEvolutionMetrics/popCOGent_example_ocean/qD0JWT9pM4oejvxO.tempcontig\n",
      "/data1/bio_db/refseq/analysis/Manuscript/github_methods/bacterialEvolutionMetrics/popCOGent_example_ocean/TOBG_SP-20.fna_@_TOBG_CPC-39.fna.maf.length_bias.txt\n"
     ]
    },
    {
     "name": "stderr",
     "output_type": "stream",
     "text": [
      "\r",
      "Running PopCOGent:  16%|█▌        | 78/495 [10:32<32:20,  4.65s/it]"
     ]
    },
    {
     "name": "stdout",
     "output_type": "stream",
     "text": [
      "export MUGSY_INSTALL=/data8/Human/NIH_4/MethodDevelopment/Mugsy/mugsy_x86-64-v1r2.3 ; /data8/Human/NIH_4/MethodDevelopment/Mugsy/mugsy_x86-64-v1r2.3/mugsy --directory /data1/bio_db/refseq/analysis/Manuscript/github_methods/bacterialEvolutionMetrics/popCOGent_example_ocean --prefix kSwnC5A7gUrM35s9mlXcJ8ymjQ73Zvvk /data1/bio_db/refseq/analysis/Manuscript/github_methods/bacterialEvolutionMetrics/popCOGent_example_ocean/kSwnC5A7gUrM35s9.tempcontig /data1/bio_db/refseq/analysis/Manuscript/github_methods/bacterialEvolutionMetrics/popCOGent_example_ocean/mlXcJ8ymjQ73Zvvk.tempcontig\n",
      "/data1/bio_db/refseq/analysis/Manuscript/github_methods/bacterialEvolutionMetrics/popCOGent_example_ocean/TOBG_SP-31.fna_@_TOBG_CPC-41.fna.maf.length_bias.txt\n"
     ]
    },
    {
     "name": "stderr",
     "output_type": "stream",
     "text": [
      "\r",
      "Running PopCOGent:  16%|█▌        | 79/495 [10:59<1:18:06, 11.26s/it]"
     ]
    },
    {
     "name": "stdout",
     "output_type": "stream",
     "text": [
      "export MUGSY_INSTALL=/data8/Human/NIH_4/MethodDevelopment/Mugsy/mugsy_x86-64-v1r2.3 ; /data8/Human/NIH_4/MethodDevelopment/Mugsy/mugsy_x86-64-v1r2.3/mugsy --directory /data1/bio_db/refseq/analysis/Manuscript/github_methods/bacterialEvolutionMetrics/popCOGent_example_ocean --prefix MidqGUvyMO3nnswWbOhY8ss8Onhbca3c /data1/bio_db/refseq/analysis/Manuscript/github_methods/bacterialEvolutionMetrics/popCOGent_example_ocean/MidqGUvyMO3nnswW.tempcontig /data1/bio_db/refseq/analysis/Manuscript/github_methods/bacterialEvolutionMetrics/popCOGent_example_ocean/bOhY8ss8Onhbca3c.tempcontig\n",
      "/data1/bio_db/refseq/analysis/Manuscript/github_methods/bacterialEvolutionMetrics/popCOGent_example_ocean/TOBG_EAC-1.fna_@_TOBG_CPC-47.fna.maf.length_bias.txt\n"
     ]
    },
    {
     "name": "stderr",
     "output_type": "stream",
     "text": [
      "\r",
      "Running PopCOGent:  16%|█▌        | 80/495 [10:59<55:23,  8.01s/it]  "
     ]
    },
    {
     "name": "stdout",
     "output_type": "stream",
     "text": [
      "export MUGSY_INSTALL=/data8/Human/NIH_4/MethodDevelopment/Mugsy/mugsy_x86-64-v1r2.3 ; /data8/Human/NIH_4/MethodDevelopment/Mugsy/mugsy_x86-64-v1r2.3/mugsy --directory /data1/bio_db/refseq/analysis/Manuscript/github_methods/bacterialEvolutionMetrics/popCOGent_example_ocean --prefix onB9rUlAnEj6leTqkqYGut6Gq03AbnmN /data1/bio_db/refseq/analysis/Manuscript/github_methods/bacterialEvolutionMetrics/popCOGent_example_ocean/onB9rUlAnEj6leTq.tempcontig /data1/bio_db/refseq/analysis/Manuscript/github_methods/bacterialEvolutionMetrics/popCOGent_example_ocean/kqYGut6Gq03AbnmN.tempcontig\n",
      "/data1/bio_db/refseq/analysis/Manuscript/github_methods/bacterialEvolutionMetrics/popCOGent_example_ocean/TOBG_SAT-194.fna_@_TOBG_CPC-46.fna.maf.length_bias.txt\n"
     ]
    },
    {
     "name": "stderr",
     "output_type": "stream",
     "text": [
      "\r",
      "Running PopCOGent:  16%|█▋        | 81/495 [11:04<47:28,  6.88s/it]"
     ]
    },
    {
     "name": "stdout",
     "output_type": "stream",
     "text": [
      "export MUGSY_INSTALL=/data8/Human/NIH_4/MethodDevelopment/Mugsy/mugsy_x86-64-v1r2.3 ; /data8/Human/NIH_4/MethodDevelopment/Mugsy/mugsy_x86-64-v1r2.3/mugsy --directory /data1/bio_db/refseq/analysis/Manuscript/github_methods/bacterialEvolutionMetrics/popCOGent_example_ocean --prefix JlMurq8GRmVf8jUujwHvXARYmFr56dvi /data1/bio_db/refseq/analysis/Manuscript/github_methods/bacterialEvolutionMetrics/popCOGent_example_ocean/JlMurq8GRmVf8jUu.tempcontig /data1/bio_db/refseq/analysis/Manuscript/github_methods/bacterialEvolutionMetrics/popCOGent_example_ocean/jwHvXARYmFr56dvi.tempcontig\n",
      "/data1/bio_db/refseq/analysis/Manuscript/github_methods/bacterialEvolutionMetrics/popCOGent_example_ocean/TOBG_SP-73.fna_@_TOBG_CPC-46.fna.maf.length_bias.txt\n"
     ]
    },
    {
     "name": "stderr",
     "output_type": "stream",
     "text": [
      "\r",
      "Running PopCOGent:  17%|█▋        | 82/495 [11:06<37:59,  5.52s/it]"
     ]
    },
    {
     "name": "stdout",
     "output_type": "stream",
     "text": [
      "export MUGSY_INSTALL=/data8/Human/NIH_4/MethodDevelopment/Mugsy/mugsy_x86-64-v1r2.3 ; /data8/Human/NIH_4/MethodDevelopment/Mugsy/mugsy_x86-64-v1r2.3/mugsy --directory /data1/bio_db/refseq/analysis/Manuscript/github_methods/bacterialEvolutionMetrics/popCOGent_example_ocean --prefix ZMVvLeA7niAsVh3IOyHiIcL20Ug1ITKH /data1/bio_db/refseq/analysis/Manuscript/github_methods/bacterialEvolutionMetrics/popCOGent_example_ocean/ZMVvLeA7niAsVh3I.tempcontig /data1/bio_db/refseq/analysis/Manuscript/github_methods/bacterialEvolutionMetrics/popCOGent_example_ocean/OyHiIcL20Ug1ITKH.tempcontig\n",
      "/data1/bio_db/refseq/analysis/Manuscript/github_methods/bacterialEvolutionMetrics/popCOGent_example_ocean/TOBG_IN-19.fna_@_TOBG_CPC-43.fna.maf.length_bias.txt\n"
     ]
    },
    {
     "name": "stderr",
     "output_type": "stream",
     "text": [
      "\r",
      "Running PopCOGent:  17%|█▋        | 83/495 [11:10<35:13,  5.13s/it]"
     ]
    },
    {
     "name": "stdout",
     "output_type": "stream",
     "text": [
      "export MUGSY_INSTALL=/data8/Human/NIH_4/MethodDevelopment/Mugsy/mugsy_x86-64-v1r2.3 ; /data8/Human/NIH_4/MethodDevelopment/Mugsy/mugsy_x86-64-v1r2.3/mugsy --directory /data1/bio_db/refseq/analysis/Manuscript/github_methods/bacterialEvolutionMetrics/popCOGent_example_ocean --prefix FncjQIWsEJs0VvNTihVEatK3dAOJb3so /data1/bio_db/refseq/analysis/Manuscript/github_methods/bacterialEvolutionMetrics/popCOGent_example_ocean/FncjQIWsEJs0VvNT.tempcontig /data1/bio_db/refseq/analysis/Manuscript/github_methods/bacterialEvolutionMetrics/popCOGent_example_ocean/ihVEatK3dAOJb3so.tempcontig\n",
      "/data1/bio_db/refseq/analysis/Manuscript/github_methods/bacterialEvolutionMetrics/popCOGent_example_ocean/TOBG_SP-131.fna_@_TOBG_CPC-43.fna.maf.length_bias.txt\n"
     ]
    },
    {
     "name": "stderr",
     "output_type": "stream",
     "text": [
      "\r",
      "Running PopCOGent:  17%|█▋        | 84/495 [11:20<44:51,  6.55s/it]"
     ]
    },
    {
     "name": "stdout",
     "output_type": "stream",
     "text": [
      "export MUGSY_INSTALL=/data8/Human/NIH_4/MethodDevelopment/Mugsy/mugsy_x86-64-v1r2.3 ; /data8/Human/NIH_4/MethodDevelopment/Mugsy/mugsy_x86-64-v1r2.3/mugsy --directory /data1/bio_db/refseq/analysis/Manuscript/github_methods/bacterialEvolutionMetrics/popCOGent_example_ocean --prefix NjF4gabTeuWp2auqTQ5RXE8kJCheysYX /data1/bio_db/refseq/analysis/Manuscript/github_methods/bacterialEvolutionMetrics/popCOGent_example_ocean/NjF4gabTeuWp2auq.tempcontig /data1/bio_db/refseq/analysis/Manuscript/github_methods/bacterialEvolutionMetrics/popCOGent_example_ocean/TQ5RXE8kJCheysYX.tempcontig\n",
      "/data1/bio_db/refseq/analysis/Manuscript/github_methods/bacterialEvolutionMetrics/popCOGent_example_ocean/TOBG_EAC-97.fna_@_TOBG_CPC-47.fna.maf.length_bias.txt\n"
     ]
    },
    {
     "name": "stderr",
     "output_type": "stream",
     "text": [
      "\r",
      "Running PopCOGent:  17%|█▋        | 85/495 [11:26<42:52,  6.28s/it]"
     ]
    },
    {
     "name": "stdout",
     "output_type": "stream",
     "text": [
      "export MUGSY_INSTALL=/data8/Human/NIH_4/MethodDevelopment/Mugsy/mugsy_x86-64-v1r2.3 ; /data8/Human/NIH_4/MethodDevelopment/Mugsy/mugsy_x86-64-v1r2.3/mugsy --directory /data1/bio_db/refseq/analysis/Manuscript/github_methods/bacterialEvolutionMetrics/popCOGent_example_ocean --prefix FbLzhhKZy3sol233qQPMcrXp5NzoNYmF /data1/bio_db/refseq/analysis/Manuscript/github_methods/bacterialEvolutionMetrics/popCOGent_example_ocean/FbLzhhKZy3sol233.tempcontig /data1/bio_db/refseq/analysis/Manuscript/github_methods/bacterialEvolutionMetrics/popCOGent_example_ocean/qQPMcrXp5NzoNYmF.tempcontig\n",
      "/data1/bio_db/refseq/analysis/Manuscript/github_methods/bacterialEvolutionMetrics/popCOGent_example_ocean/TOBG_NAT-60.fna_@_TOBG_CPC-47.fna.maf.length_bias.txt\n"
     ]
    },
    {
     "name": "stderr",
     "output_type": "stream",
     "text": [
      "\r",
      "Running PopCOGent:  17%|█▋        | 86/495 [11:27<32:59,  4.84s/it]"
     ]
    },
    {
     "name": "stdout",
     "output_type": "stream",
     "text": [
      "export MUGSY_INSTALL=/data8/Human/NIH_4/MethodDevelopment/Mugsy/mugsy_x86-64-v1r2.3 ; /data8/Human/NIH_4/MethodDevelopment/Mugsy/mugsy_x86-64-v1r2.3/mugsy --directory /data1/bio_db/refseq/analysis/Manuscript/github_methods/bacterialEvolutionMetrics/popCOGent_example_ocean --prefix 07a99obRppzuhmpGa74KrrEageVDCtBf /data1/bio_db/refseq/analysis/Manuscript/github_methods/bacterialEvolutionMetrics/popCOGent_example_ocean/07a99obRppzuhmpG.tempcontig /data1/bio_db/refseq/analysis/Manuscript/github_methods/bacterialEvolutionMetrics/popCOGent_example_ocean/a74KrrEageVDCtBf.tempcontig\n",
      "/data1/bio_db/refseq/analysis/Manuscript/github_methods/bacterialEvolutionMetrics/popCOGent_example_ocean/TOBG_RS-397.fna_@_TOBG_CPC-47.fna.maf.length_bias.txt\n"
     ]
    },
    {
     "name": "stderr",
     "output_type": "stream",
     "text": [
      "\r",
      "Running PopCOGent:  18%|█▊        | 87/495 [11:35<39:19,  5.78s/it]"
     ]
    },
    {
     "name": "stdout",
     "output_type": "stream",
     "text": [
      "export MUGSY_INSTALL=/data8/Human/NIH_4/MethodDevelopment/Mugsy/mugsy_x86-64-v1r2.3 ; /data8/Human/NIH_4/MethodDevelopment/Mugsy/mugsy_x86-64-v1r2.3/mugsy --directory /data1/bio_db/refseq/analysis/Manuscript/github_methods/bacterialEvolutionMetrics/popCOGent_example_ocean --prefix ws5wakWuHFWJLZHoKbCd9vHhdrXZwHfE /data1/bio_db/refseq/analysis/Manuscript/github_methods/bacterialEvolutionMetrics/popCOGent_example_ocean/ws5wakWuHFWJLZHo.tempcontig /data1/bio_db/refseq/analysis/Manuscript/github_methods/bacterialEvolutionMetrics/popCOGent_example_ocean/KbCd9vHhdrXZwHfE.tempcontig\n",
      "/data1/bio_db/refseq/analysis/Manuscript/github_methods/bacterialEvolutionMetrics/popCOGent_example_ocean/TOBG_SAT-28.fna_@_TOBG_CPC-43.fna.maf.length_bias.txt\n"
     ]
    },
    {
     "name": "stderr",
     "output_type": "stream",
     "text": [
      "\r",
      "Running PopCOGent:  18%|█▊        | 88/495 [11:40<37:53,  5.59s/it]"
     ]
    },
    {
     "name": "stdout",
     "output_type": "stream",
     "text": [
      "export MUGSY_INSTALL=/data8/Human/NIH_4/MethodDevelopment/Mugsy/mugsy_x86-64-v1r2.3 ; /data8/Human/NIH_4/MethodDevelopment/Mugsy/mugsy_x86-64-v1r2.3/mugsy --directory /data1/bio_db/refseq/analysis/Manuscript/github_methods/bacterialEvolutionMetrics/popCOGent_example_ocean --prefix 8LHqRT1sBh5XyT1crRz8B1Al1Wzw3WpN /data1/bio_db/refseq/analysis/Manuscript/github_methods/bacterialEvolutionMetrics/popCOGent_example_ocean/8LHqRT1sBh5XyT1c.tempcontig /data1/bio_db/refseq/analysis/Manuscript/github_methods/bacterialEvolutionMetrics/popCOGent_example_ocean/rRz8B1Al1Wzw3WpN.tempcontig\n",
      "/data1/bio_db/refseq/analysis/Manuscript/github_methods/bacterialEvolutionMetrics/popCOGent_example_ocean/TOBG_SP-246.fna_@_TOBG_CPC-47.fna.maf.length_bias.txt\n"
     ]
    },
    {
     "name": "stderr",
     "output_type": "stream",
     "text": [
      "\r",
      "Running PopCOGent:  18%|█▊        | 89/495 [11:48<41:42,  6.16s/it]"
     ]
    },
    {
     "name": "stdout",
     "output_type": "stream",
     "text": [
      "export MUGSY_INSTALL=/data8/Human/NIH_4/MethodDevelopment/Mugsy/mugsy_x86-64-v1r2.3 ; /data8/Human/NIH_4/MethodDevelopment/Mugsy/mugsy_x86-64-v1r2.3/mugsy --directory /data1/bio_db/refseq/analysis/Manuscript/github_methods/bacterialEvolutionMetrics/popCOGent_example_ocean --prefix m86l8oxtIy5BIpAcFeRpMCak7cMefGXR /data1/bio_db/refseq/analysis/Manuscript/github_methods/bacterialEvolutionMetrics/popCOGent_example_ocean/m86l8oxtIy5BIpAc.tempcontig /data1/bio_db/refseq/analysis/Manuscript/github_methods/bacterialEvolutionMetrics/popCOGent_example_ocean/FeRpMCak7cMefGXR.tempcontig\n",
      "/data1/bio_db/refseq/analysis/Manuscript/github_methods/bacterialEvolutionMetrics/popCOGent_example_ocean/TOBG_EAC-5.fna_@_TOBG_CPC-5.fna.maf.length_bias.txt\n"
     ]
    },
    {
     "name": "stderr",
     "output_type": "stream",
     "text": [
      "\r",
      "Running PopCOGent:  18%|█▊        | 90/495 [11:59<52:02,  7.71s/it]"
     ]
    },
    {
     "name": "stdout",
     "output_type": "stream",
     "text": [
      "export MUGSY_INSTALL=/data8/Human/NIH_4/MethodDevelopment/Mugsy/mugsy_x86-64-v1r2.3 ; /data8/Human/NIH_4/MethodDevelopment/Mugsy/mugsy_x86-64-v1r2.3/mugsy --directory /data1/bio_db/refseq/analysis/Manuscript/github_methods/bacterialEvolutionMetrics/popCOGent_example_ocean --prefix XUwhZxNGqVmCiuBK0fUFQVWRI6pAsa48 /data1/bio_db/refseq/analysis/Manuscript/github_methods/bacterialEvolutionMetrics/popCOGent_example_ocean/XUwhZxNGqVmCiuBK.tempcontig /data1/bio_db/refseq/analysis/Manuscript/github_methods/bacterialEvolutionMetrics/popCOGent_example_ocean/0fUFQVWRI6pAsa48.tempcontig\n",
      "/data1/bio_db/refseq/analysis/Manuscript/github_methods/bacterialEvolutionMetrics/popCOGent_example_ocean/TOBG_NP-127.fna_@_TOBG_CPC-5.fna.maf.length_bias.txt\n"
     ]
    },
    {
     "name": "stderr",
     "output_type": "stream",
     "text": [
      "\r",
      "Running PopCOGent:  18%|█▊        | 91/495 [12:07<53:13,  7.90s/it]"
     ]
    },
    {
     "name": "stdout",
     "output_type": "stream",
     "text": [
      "export MUGSY_INSTALL=/data8/Human/NIH_4/MethodDevelopment/Mugsy/mugsy_x86-64-v1r2.3 ; /data8/Human/NIH_4/MethodDevelopment/Mugsy/mugsy_x86-64-v1r2.3/mugsy --directory /data1/bio_db/refseq/analysis/Manuscript/github_methods/bacterialEvolutionMetrics/popCOGent_example_ocean --prefix M1pXwrqoDaB9nCBulqRXBEe24hHqUPvT /data1/bio_db/refseq/analysis/Manuscript/github_methods/bacterialEvolutionMetrics/popCOGent_example_ocean/M1pXwrqoDaB9nCBu.tempcontig /data1/bio_db/refseq/analysis/Manuscript/github_methods/bacterialEvolutionMetrics/popCOGent_example_ocean/lqRXBEe24hHqUPvT.tempcontig\n",
      "/data1/bio_db/refseq/analysis/Manuscript/github_methods/bacterialEvolutionMetrics/popCOGent_example_ocean/TOBG_SP-63.fna_@_TOBG_CPC-5.fna.maf.length_bias.txt\n"
     ]
    },
    {
     "name": "stderr",
     "output_type": "stream",
     "text": [
      "\r",
      "Running PopCOGent:  19%|█▊        | 92/495 [12:27<1:16:14, 11.35s/it]"
     ]
    },
    {
     "name": "stdout",
     "output_type": "stream",
     "text": [
      "export MUGSY_INSTALL=/data8/Human/NIH_4/MethodDevelopment/Mugsy/mugsy_x86-64-v1r2.3 ; /data8/Human/NIH_4/MethodDevelopment/Mugsy/mugsy_x86-64-v1r2.3/mugsy --directory /data1/bio_db/refseq/analysis/Manuscript/github_methods/bacterialEvolutionMetrics/popCOGent_example_ocean --prefix WarCW0D4Skqh9Eo5wMZCfpjmXAnnovAm /data1/bio_db/refseq/analysis/Manuscript/github_methods/bacterialEvolutionMetrics/popCOGent_example_ocean/WarCW0D4Skqh9Eo5.tempcontig /data1/bio_db/refseq/analysis/Manuscript/github_methods/bacterialEvolutionMetrics/popCOGent_example_ocean/wMZCfpjmXAnnovAm.tempcontig\n",
      "/data1/bio_db/refseq/analysis/Manuscript/github_methods/bacterialEvolutionMetrics/popCOGent_example_ocean/TOBG_MED-655.fna_@_TOBG_CPC-50.fna.maf.length_bias.txt\n"
     ]
    },
    {
     "name": "stderr",
     "output_type": "stream",
     "text": [
      "\r",
      "Running PopCOGent:  19%|█▉        | 93/495 [12:27<54:35,  8.15s/it]  "
     ]
    },
    {
     "name": "stdout",
     "output_type": "stream",
     "text": [
      "export MUGSY_INSTALL=/data8/Human/NIH_4/MethodDevelopment/Mugsy/mugsy_x86-64-v1r2.3 ; /data8/Human/NIH_4/MethodDevelopment/Mugsy/mugsy_x86-64-v1r2.3/mugsy --directory /data1/bio_db/refseq/analysis/Manuscript/github_methods/bacterialEvolutionMetrics/popCOGent_example_ocean --prefix ZYMcLOPImFQkY7hi8Fyd5M0kdbNovoXq /data1/bio_db/refseq/analysis/Manuscript/github_methods/bacterialEvolutionMetrics/popCOGent_example_ocean/ZYMcLOPImFQkY7hi.tempcontig /data1/bio_db/refseq/analysis/Manuscript/github_methods/bacterialEvolutionMetrics/popCOGent_example_ocean/8Fyd5M0kdbNovoXq.tempcontig\n",
      "/data1/bio_db/refseq/analysis/Manuscript/github_methods/bacterialEvolutionMetrics/popCOGent_example_ocean/TOBG_NP-955.fna_@_TOBG_CPC-53.fna.maf.length_bias.txt\n"
     ]
    },
    {
     "name": "stderr",
     "output_type": "stream",
     "text": [
      "\r",
      "Running PopCOGent:  19%|█▉        | 94/495 [12:31<45:52,  6.86s/it]"
     ]
    },
    {
     "name": "stdout",
     "output_type": "stream",
     "text": [
      "export MUGSY_INSTALL=/data8/Human/NIH_4/MethodDevelopment/Mugsy/mugsy_x86-64-v1r2.3 ; /data8/Human/NIH_4/MethodDevelopment/Mugsy/mugsy_x86-64-v1r2.3/mugsy --directory /data1/bio_db/refseq/analysis/Manuscript/github_methods/bacterialEvolutionMetrics/popCOGent_example_ocean --prefix J33ynLjZkW16pH8HFl3QDgxfyNVOTrnN /data1/bio_db/refseq/analysis/Manuscript/github_methods/bacterialEvolutionMetrics/popCOGent_example_ocean/J33ynLjZkW16pH8H.tempcontig /data1/bio_db/refseq/analysis/Manuscript/github_methods/bacterialEvolutionMetrics/popCOGent_example_ocean/Fl3QDgxfyNVOTrnN.tempcontig\n",
      "/data1/bio_db/refseq/analysis/Manuscript/github_methods/bacterialEvolutionMetrics/popCOGent_example_ocean/TOBG_NAT-181.fna_@_TOBG_CPC-50.fna.maf.length_bias.txt\n"
     ]
    },
    {
     "name": "stderr",
     "output_type": "stream",
     "text": [
      "\r",
      "Running PopCOGent:  19%|█▉        | 95/495 [12:36<40:37,  6.09s/it]"
     ]
    },
    {
     "name": "stdout",
     "output_type": "stream",
     "text": [
      "export MUGSY_INSTALL=/data8/Human/NIH_4/MethodDevelopment/Mugsy/mugsy_x86-64-v1r2.3 ; /data8/Human/NIH_4/MethodDevelopment/Mugsy/mugsy_x86-64-v1r2.3/mugsy --directory /data1/bio_db/refseq/analysis/Manuscript/github_methods/bacterialEvolutionMetrics/popCOGent_example_ocean --prefix bsMwz8xW3Dg6NcOwS5ioNV2EQMKF2n8X /data1/bio_db/refseq/analysis/Manuscript/github_methods/bacterialEvolutionMetrics/popCOGent_example_ocean/bsMwz8xW3Dg6NcOw.tempcontig /data1/bio_db/refseq/analysis/Manuscript/github_methods/bacterialEvolutionMetrics/popCOGent_example_ocean/S5ioNV2EQMKF2n8X.tempcontig\n",
      "/data1/bio_db/refseq/analysis/Manuscript/github_methods/bacterialEvolutionMetrics/popCOGent_example_ocean/TOBG_SP-35.fna_@_TOBG_CPC-53.fna.maf.length_bias.txt\n"
     ]
    },
    {
     "name": "stderr",
     "output_type": "stream",
     "text": [
      "\r",
      "Running PopCOGent:  19%|█▉        | 96/495 [12:45<47:53,  7.20s/it]"
     ]
    },
    {
     "name": "stdout",
     "output_type": "stream",
     "text": [
      "export MUGSY_INSTALL=/data8/Human/NIH_4/MethodDevelopment/Mugsy/mugsy_x86-64-v1r2.3 ; /data8/Human/NIH_4/MethodDevelopment/Mugsy/mugsy_x86-64-v1r2.3/mugsy --directory /data1/bio_db/refseq/analysis/Manuscript/github_methods/bacterialEvolutionMetrics/popCOGent_example_ocean --prefix JhdWK9jgcLYSd1abCk78dl7uuLloY2O6 /data1/bio_db/refseq/analysis/Manuscript/github_methods/bacterialEvolutionMetrics/popCOGent_example_ocean/JhdWK9jgcLYSd1ab.tempcontig /data1/bio_db/refseq/analysis/Manuscript/github_methods/bacterialEvolutionMetrics/popCOGent_example_ocean/Ck78dl7uuLloY2O6.tempcontig\n",
      "/data1/bio_db/refseq/analysis/Manuscript/github_methods/bacterialEvolutionMetrics/popCOGent_example_ocean/TOBG_NP-75.fna_@_TOBG_CPC-52.fna.maf.length_bias.txt\n"
     ]
    },
    {
     "name": "stderr",
     "output_type": "stream",
     "text": [
      "\r",
      "Running PopCOGent:  20%|█▉        | 97/495 [12:58<58:20,  8.79s/it]"
     ]
    },
    {
     "name": "stdout",
     "output_type": "stream",
     "text": [
      "export MUGSY_INSTALL=/data8/Human/NIH_4/MethodDevelopment/Mugsy/mugsy_x86-64-v1r2.3 ; /data8/Human/NIH_4/MethodDevelopment/Mugsy/mugsy_x86-64-v1r2.3/mugsy --directory /data1/bio_db/refseq/analysis/Manuscript/github_methods/bacterialEvolutionMetrics/popCOGent_example_ocean --prefix j3xkilqNiEwclHfY3uVthH5FIObqBCOz /data1/bio_db/refseq/analysis/Manuscript/github_methods/bacterialEvolutionMetrics/popCOGent_example_ocean/j3xkilqNiEwclHfY.tempcontig /data1/bio_db/refseq/analysis/Manuscript/github_methods/bacterialEvolutionMetrics/popCOGent_example_ocean/3uVthH5FIObqBCOz.tempcontig\n",
      "/data1/bio_db/refseq/analysis/Manuscript/github_methods/bacterialEvolutionMetrics/popCOGent_example_ocean/TOBG_EAC-31.fna_@_TOBG_CPC-67.fna.maf.length_bias.txt\n"
     ]
    },
    {
     "name": "stderr",
     "output_type": "stream",
     "text": [
      "\r",
      "Running PopCOGent:  20%|█▉        | 98/495 [13:02<47:53,  7.24s/it]"
     ]
    },
    {
     "name": "stdout",
     "output_type": "stream",
     "text": [
      "export MUGSY_INSTALL=/data8/Human/NIH_4/MethodDevelopment/Mugsy/mugsy_x86-64-v1r2.3 ; /data8/Human/NIH_4/MethodDevelopment/Mugsy/mugsy_x86-64-v1r2.3/mugsy --directory /data1/bio_db/refseq/analysis/Manuscript/github_methods/bacterialEvolutionMetrics/popCOGent_example_ocean --prefix zBtMknOZVAjIpqBwKGvJHEfmVXfDtMbQ /data1/bio_db/refseq/analysis/Manuscript/github_methods/bacterialEvolutionMetrics/popCOGent_example_ocean/zBtMknOZVAjIpqBw.tempcontig /data1/bio_db/refseq/analysis/Manuscript/github_methods/bacterialEvolutionMetrics/popCOGent_example_ocean/KGvJHEfmVXfDtMbQ.tempcontig\n",
      "/data1/bio_db/refseq/analysis/Manuscript/github_methods/bacterialEvolutionMetrics/popCOGent_example_ocean/TOBG_MED-745.fna_@_TOBG_CPC-61.fna.maf.length_bias.txt\n"
     ]
    },
    {
     "name": "stderr",
     "output_type": "stream",
     "text": [
      "\r",
      "Running PopCOGent:  20%|██        | 99/495 [13:15<59:19,  8.99s/it]"
     ]
    },
    {
     "name": "stdout",
     "output_type": "stream",
     "text": [
      "export MUGSY_INSTALL=/data8/Human/NIH_4/MethodDevelopment/Mugsy/mugsy_x86-64-v1r2.3 ; /data8/Human/NIH_4/MethodDevelopment/Mugsy/mugsy_x86-64-v1r2.3/mugsy --directory /data1/bio_db/refseq/analysis/Manuscript/github_methods/bacterialEvolutionMetrics/popCOGent_example_ocean --prefix ubWboGyAT7naVSKsWKmuJGgZWxKs1dYr /data1/bio_db/refseq/analysis/Manuscript/github_methods/bacterialEvolutionMetrics/popCOGent_example_ocean/ubWboGyAT7naVSKs.tempcontig /data1/bio_db/refseq/analysis/Manuscript/github_methods/bacterialEvolutionMetrics/popCOGent_example_ocean/WKmuJGgZWxKs1dYr.tempcontig\n",
      "/data1/bio_db/refseq/analysis/Manuscript/github_methods/bacterialEvolutionMetrics/popCOGent_example_ocean/TOBG_NP-95.fna_@_TOBG_CPC-62.fna.maf.length_bias.txt\n"
     ]
    },
    {
     "name": "stderr",
     "output_type": "stream",
     "text": [
      "\r",
      "Running PopCOGent:  20%|██        | 100/495 [13:21<53:40,  8.15s/it]"
     ]
    },
    {
     "name": "stdout",
     "output_type": "stream",
     "text": [
      "export MUGSY_INSTALL=/data8/Human/NIH_4/MethodDevelopment/Mugsy/mugsy_x86-64-v1r2.3 ; /data8/Human/NIH_4/MethodDevelopment/Mugsy/mugsy_x86-64-v1r2.3/mugsy --directory /data1/bio_db/refseq/analysis/Manuscript/github_methods/bacterialEvolutionMetrics/popCOGent_example_ocean --prefix jv4B9y7q4DzpQpEMp5X12lfSiOl3Rj4f /data1/bio_db/refseq/analysis/Manuscript/github_methods/bacterialEvolutionMetrics/popCOGent_example_ocean/jv4B9y7q4DzpQpEM.tempcontig /data1/bio_db/refseq/analysis/Manuscript/github_methods/bacterialEvolutionMetrics/popCOGent_example_ocean/p5X12lfSiOl3Rj4f.tempcontig\n",
      "/data1/bio_db/refseq/analysis/Manuscript/github_methods/bacterialEvolutionMetrics/popCOGent_example_ocean/TOBG_SAT-106.fna_@_TOBG_CPC-67.fna.maf.length_bias.txt\n"
     ]
    },
    {
     "name": "stderr",
     "output_type": "stream",
     "text": [
      "\r",
      "Running PopCOGent:  20%|██        | 101/495 [13:29<53:56,  8.22s/it]"
     ]
    },
    {
     "name": "stdout",
     "output_type": "stream",
     "text": [
      "export MUGSY_INSTALL=/data8/Human/NIH_4/MethodDevelopment/Mugsy/mugsy_x86-64-v1r2.3 ; /data8/Human/NIH_4/MethodDevelopment/Mugsy/mugsy_x86-64-v1r2.3/mugsy --directory /data1/bio_db/refseq/analysis/Manuscript/github_methods/bacterialEvolutionMetrics/popCOGent_example_ocean --prefix Pdbnkg14mTzI18mHQScCjgwxRsUMLwbM /data1/bio_db/refseq/analysis/Manuscript/github_methods/bacterialEvolutionMetrics/popCOGent_example_ocean/Pdbnkg14mTzI18mH.tempcontig /data1/bio_db/refseq/analysis/Manuscript/github_methods/bacterialEvolutionMetrics/popCOGent_example_ocean/QScCjgwxRsUMLwbM.tempcontig\n",
      "/data1/bio_db/refseq/analysis/Manuscript/github_methods/bacterialEvolutionMetrics/popCOGent_example_ocean/TOBG_CPC-70.fna_@_TOBG_CPC-67.fna.maf.length_bias.txt\n"
     ]
    },
    {
     "name": "stderr",
     "output_type": "stream",
     "text": [
      "\r",
      "Running PopCOGent:  21%|██        | 102/495 [13:31<40:48,  6.23s/it]"
     ]
    },
    {
     "name": "stdout",
     "output_type": "stream",
     "text": [
      "export MUGSY_INSTALL=/data8/Human/NIH_4/MethodDevelopment/Mugsy/mugsy_x86-64-v1r2.3 ; /data8/Human/NIH_4/MethodDevelopment/Mugsy/mugsy_x86-64-v1r2.3/mugsy --directory /data1/bio_db/refseq/analysis/Manuscript/github_methods/bacterialEvolutionMetrics/popCOGent_example_ocean --prefix IjqFugYkRYMFTNLMjsUMHMFx9w1G8Ugt /data1/bio_db/refseq/analysis/Manuscript/github_methods/bacterialEvolutionMetrics/popCOGent_example_ocean/IjqFugYkRYMFTNLM.tempcontig /data1/bio_db/refseq/analysis/Manuscript/github_methods/bacterialEvolutionMetrics/popCOGent_example_ocean/jsUMHMFx9w1G8Ugt.tempcontig\n",
      "/data1/bio_db/refseq/analysis/Manuscript/github_methods/bacterialEvolutionMetrics/popCOGent_example_ocean/TOBG_NP-91.fna_@_TOBG_CPC-67.fna.maf.length_bias.txt\n"
     ]
    },
    {
     "name": "stderr",
     "output_type": "stream",
     "text": [
      "\r",
      "Running PopCOGent:  21%|██        | 103/495 [13:48<1:01:28,  9.41s/it]"
     ]
    },
    {
     "name": "stdout",
     "output_type": "stream",
     "text": [
      "export MUGSY_INSTALL=/data8/Human/NIH_4/MethodDevelopment/Mugsy/mugsy_x86-64-v1r2.3 ; /data8/Human/NIH_4/MethodDevelopment/Mugsy/mugsy_x86-64-v1r2.3/mugsy --directory /data1/bio_db/refseq/analysis/Manuscript/github_methods/bacterialEvolutionMetrics/popCOGent_example_ocean --prefix RO329DGO65zTaw7FoP26R1rgKwuTuk9u /data1/bio_db/refseq/analysis/Manuscript/github_methods/bacterialEvolutionMetrics/popCOGent_example_ocean/RO329DGO65zTaw7F.tempcontig /data1/bio_db/refseq/analysis/Manuscript/github_methods/bacterialEvolutionMetrics/popCOGent_example_ocean/oP26R1rgKwuTuk9u.tempcontig\n",
      "/data1/bio_db/refseq/analysis/Manuscript/github_methods/bacterialEvolutionMetrics/popCOGent_example_ocean/TOBG_SP-37.fna_@_TOBG_CPC-69.fna.maf.length_bias.txt\n"
     ]
    },
    {
     "name": "stderr",
     "output_type": "stream",
     "text": [
      "\r",
      "Running PopCOGent:  21%|██        | 104/495 [13:54<56:25,  8.66s/it]  "
     ]
    },
    {
     "name": "stdout",
     "output_type": "stream",
     "text": [
      "export MUGSY_INSTALL=/data8/Human/NIH_4/MethodDevelopment/Mugsy/mugsy_x86-64-v1r2.3 ; /data8/Human/NIH_4/MethodDevelopment/Mugsy/mugsy_x86-64-v1r2.3/mugsy --directory /data1/bio_db/refseq/analysis/Manuscript/github_methods/bacterialEvolutionMetrics/popCOGent_example_ocean --prefix xYoqcP04jRe8iE806UlCHq6wFJ2eA7v1 /data1/bio_db/refseq/analysis/Manuscript/github_methods/bacterialEvolutionMetrics/popCOGent_example_ocean/xYoqcP04jRe8iE80.tempcontig /data1/bio_db/refseq/analysis/Manuscript/github_methods/bacterialEvolutionMetrics/popCOGent_example_ocean/6UlCHq6wFJ2eA7v1.tempcontig\n",
      "/data1/bio_db/refseq/analysis/Manuscript/github_methods/bacterialEvolutionMetrics/popCOGent_example_ocean/TOBG_SP-75.fna_@_TOBG_CPC-67.fna.maf.length_bias.txt\n"
     ]
    },
    {
     "name": "stderr",
     "output_type": "stream",
     "text": [
      "\r",
      "Running PopCOGent:  21%|██        | 105/495 [14:02<53:06,  8.17s/it]"
     ]
    },
    {
     "name": "stdout",
     "output_type": "stream",
     "text": [
      "export MUGSY_INSTALL=/data8/Human/NIH_4/MethodDevelopment/Mugsy/mugsy_x86-64-v1r2.3 ; /data8/Human/NIH_4/MethodDevelopment/Mugsy/mugsy_x86-64-v1r2.3/mugsy --directory /data1/bio_db/refseq/analysis/Manuscript/github_methods/bacterialEvolutionMetrics/popCOGent_example_ocean --prefix qyNwyU5MZ0dpKeMi09OLg30qYjRYOpjk /data1/bio_db/refseq/analysis/Manuscript/github_methods/bacterialEvolutionMetrics/popCOGent_example_ocean/qyNwyU5MZ0dpKeMi.tempcontig /data1/bio_db/refseq/analysis/Manuscript/github_methods/bacterialEvolutionMetrics/popCOGent_example_ocean/09OLg30qYjRYOpjk.tempcontig\n",
      "/data1/bio_db/refseq/analysis/Manuscript/github_methods/bacterialEvolutionMetrics/popCOGent_example_ocean/TOBG_IN-11.fna_@_TOBG_CPC-7.fna.maf.length_bias.txt\n"
     ]
    },
    {
     "name": "stderr",
     "output_type": "stream",
     "text": [
      "\r",
      "Running PopCOGent:  21%|██▏       | 106/495 [14:07<48:15,  7.44s/it]"
     ]
    },
    {
     "name": "stdout",
     "output_type": "stream",
     "text": [
      "export MUGSY_INSTALL=/data8/Human/NIH_4/MethodDevelopment/Mugsy/mugsy_x86-64-v1r2.3 ; /data8/Human/NIH_4/MethodDevelopment/Mugsy/mugsy_x86-64-v1r2.3/mugsy --directory /data1/bio_db/refseq/analysis/Manuscript/github_methods/bacterialEvolutionMetrics/popCOGent_example_ocean --prefix 4rgbdTi3v0mgKXO73BYczPk33QWMOkch /data1/bio_db/refseq/analysis/Manuscript/github_methods/bacterialEvolutionMetrics/popCOGent_example_ocean/4rgbdTi3v0mgKXO7.tempcontig /data1/bio_db/refseq/analysis/Manuscript/github_methods/bacterialEvolutionMetrics/popCOGent_example_ocean/3BYczPk33QWMOkch.tempcontig\n",
      "/data1/bio_db/refseq/analysis/Manuscript/github_methods/bacterialEvolutionMetrics/popCOGent_example_ocean/TOBG_SAT-74.fna_@_TOBG_CPC-7.fna.maf.length_bias.txt\n"
     ]
    },
    {
     "name": "stderr",
     "output_type": "stream",
     "text": [
      "\r",
      "Running PopCOGent:  22%|██▏       | 107/495 [14:16<50:05,  7.75s/it]"
     ]
    },
    {
     "name": "stdout",
     "output_type": "stream",
     "text": [
      "export MUGSY_INSTALL=/data8/Human/NIH_4/MethodDevelopment/Mugsy/mugsy_x86-64-v1r2.3 ; /data8/Human/NIH_4/MethodDevelopment/Mugsy/mugsy_x86-64-v1r2.3/mugsy --directory /data1/bio_db/refseq/analysis/Manuscript/github_methods/bacterialEvolutionMetrics/popCOGent_example_ocean --prefix BftpkRB49WP1uBsETIcT5yST1VZM3YyT /data1/bio_db/refseq/analysis/Manuscript/github_methods/bacterialEvolutionMetrics/popCOGent_example_ocean/BftpkRB49WP1uBsE.tempcontig /data1/bio_db/refseq/analysis/Manuscript/github_methods/bacterialEvolutionMetrics/popCOGent_example_ocean/TIcT5yST1VZM3YyT.tempcontig\n",
      "/data1/bio_db/refseq/analysis/Manuscript/github_methods/bacterialEvolutionMetrics/popCOGent_example_ocean/TOBG_MED-702.fna_@_TOBG_CPC-7.fna.maf.length_bias.txt\n"
     ]
    },
    {
     "name": "stderr",
     "output_type": "stream",
     "text": [
      "\r",
      "Running PopCOGent:  22%|██▏       | 108/495 [14:20<42:29,  6.59s/it]"
     ]
    },
    {
     "name": "stdout",
     "output_type": "stream",
     "text": [
      "export MUGSY_INSTALL=/data8/Human/NIH_4/MethodDevelopment/Mugsy/mugsy_x86-64-v1r2.3 ; /data8/Human/NIH_4/MethodDevelopment/Mugsy/mugsy_x86-64-v1r2.3/mugsy --directory /data1/bio_db/refseq/analysis/Manuscript/github_methods/bacterialEvolutionMetrics/popCOGent_example_ocean --prefix PaGVgzPedDJ77h7SbE8rovXVjGrFvo3Z /data1/bio_db/refseq/analysis/Manuscript/github_methods/bacterialEvolutionMetrics/popCOGent_example_ocean/PaGVgzPedDJ77h7S.tempcontig /data1/bio_db/refseq/analysis/Manuscript/github_methods/bacterialEvolutionMetrics/popCOGent_example_ocean/bE8rovXVjGrFvo3Z.tempcontig\n",
      "/data1/bio_db/refseq/analysis/Manuscript/github_methods/bacterialEvolutionMetrics/popCOGent_example_ocean/TOBG_NP-91.fna_@_TOBG_CPC-70.fna.maf.length_bias.txt\n"
     ]
    },
    {
     "name": "stderr",
     "output_type": "stream",
     "text": [
      "\r",
      "Running PopCOGent:  22%|██▏       | 109/495 [14:23<35:59,  5.59s/it]"
     ]
    },
    {
     "name": "stdout",
     "output_type": "stream",
     "text": [
      "export MUGSY_INSTALL=/data8/Human/NIH_4/MethodDevelopment/Mugsy/mugsy_x86-64-v1r2.3 ; /data8/Human/NIH_4/MethodDevelopment/Mugsy/mugsy_x86-64-v1r2.3/mugsy --directory /data1/bio_db/refseq/analysis/Manuscript/github_methods/bacterialEvolutionMetrics/popCOGent_example_ocean --prefix vSMnH8HVmts9ShweShV4D99JJCStqpLz /data1/bio_db/refseq/analysis/Manuscript/github_methods/bacterialEvolutionMetrics/popCOGent_example_ocean/vSMnH8HVmts9Shwe.tempcontig /data1/bio_db/refseq/analysis/Manuscript/github_methods/bacterialEvolutionMetrics/popCOGent_example_ocean/ShV4D99JJCStqpLz.tempcontig\n",
      "/data1/bio_db/refseq/analysis/Manuscript/github_methods/bacterialEvolutionMetrics/popCOGent_example_ocean/TOBG_EAC-62.fna_@_TOBG_CPC-79.fna.maf.length_bias.txt\n"
     ]
    },
    {
     "name": "stderr",
     "output_type": "stream",
     "text": [
      "\r",
      "Running PopCOGent:  22%|██▏       | 110/495 [14:25<29:48,  4.65s/it]"
     ]
    },
    {
     "name": "stdout",
     "output_type": "stream",
     "text": [
      "export MUGSY_INSTALL=/data8/Human/NIH_4/MethodDevelopment/Mugsy/mugsy_x86-64-v1r2.3 ; /data8/Human/NIH_4/MethodDevelopment/Mugsy/mugsy_x86-64-v1r2.3/mugsy --directory /data1/bio_db/refseq/analysis/Manuscript/github_methods/bacterialEvolutionMetrics/popCOGent_example_ocean --prefix qlc8kTAmfHlI4z4zPR0ub1txaE2EUzm7 /data1/bio_db/refseq/analysis/Manuscript/github_methods/bacterialEvolutionMetrics/popCOGent_example_ocean/qlc8kTAmfHlI4z4z.tempcontig /data1/bio_db/refseq/analysis/Manuscript/github_methods/bacterialEvolutionMetrics/popCOGent_example_ocean/PR0ub1txaE2EUzm7.tempcontig\n",
      "/data1/bio_db/refseq/analysis/Manuscript/github_methods/bacterialEvolutionMetrics/popCOGent_example_ocean/TOBG_EAC-31.fna_@_TOBG_CPC-70.fna.maf.length_bias.txt\n"
     ]
    },
    {
     "name": "stderr",
     "output_type": "stream",
     "text": [
      "\r",
      "Running PopCOGent:  22%|██▏       | 111/495 [14:32<33:24,  5.22s/it]"
     ]
    },
    {
     "name": "stdout",
     "output_type": "stream",
     "text": [
      "export MUGSY_INSTALL=/data8/Human/NIH_4/MethodDevelopment/Mugsy/mugsy_x86-64-v1r2.3 ; /data8/Human/NIH_4/MethodDevelopment/Mugsy/mugsy_x86-64-v1r2.3/mugsy --directory /data1/bio_db/refseq/analysis/Manuscript/github_methods/bacterialEvolutionMetrics/popCOGent_example_ocean --prefix PLKNZrK90iHj7yaVW3pfCIX1EK1Yf10A /data1/bio_db/refseq/analysis/Manuscript/github_methods/bacterialEvolutionMetrics/popCOGent_example_ocean/PLKNZrK90iHj7yaV.tempcontig /data1/bio_db/refseq/analysis/Manuscript/github_methods/bacterialEvolutionMetrics/popCOGent_example_ocean/W3pfCIX1EK1Yf10A.tempcontig\n",
      "/data1/bio_db/refseq/analysis/Manuscript/github_methods/bacterialEvolutionMetrics/popCOGent_example_ocean/TOBG_IN-10.fna_@_TOBG_CPC-79.fna.maf.length_bias.txt\n"
     ]
    },
    {
     "name": "stderr",
     "output_type": "stream",
     "text": [
      "\r",
      "Running PopCOGent:  23%|██▎       | 112/495 [14:36<30:25,  4.77s/it]"
     ]
    },
    {
     "name": "stdout",
     "output_type": "stream",
     "text": [
      "export MUGSY_INSTALL=/data8/Human/NIH_4/MethodDevelopment/Mugsy/mugsy_x86-64-v1r2.3 ; /data8/Human/NIH_4/MethodDevelopment/Mugsy/mugsy_x86-64-v1r2.3/mugsy --directory /data1/bio_db/refseq/analysis/Manuscript/github_methods/bacterialEvolutionMetrics/popCOGent_example_ocean --prefix jeLTGiXSnBTVuBc56zcVap7Jqbhk6rAw /data1/bio_db/refseq/analysis/Manuscript/github_methods/bacterialEvolutionMetrics/popCOGent_example_ocean/jeLTGiXSnBTVuBc5.tempcontig /data1/bio_db/refseq/analysis/Manuscript/github_methods/bacterialEvolutionMetrics/popCOGent_example_ocean/6zcVap7Jqbhk6rAw.tempcontig\n",
      "/data1/bio_db/refseq/analysis/Manuscript/github_methods/bacterialEvolutionMetrics/popCOGent_example_ocean/TOBG_SAT-117.fna_@_TOBG_CPC-79.fna.maf.length_bias.txt\n"
     ]
    },
    {
     "name": "stderr",
     "output_type": "stream",
     "text": [
      "\r",
      "Running PopCOGent:  23%|██▎       | 113/495 [15:02<1:11:57, 11.30s/it]"
     ]
    },
    {
     "name": "stdout",
     "output_type": "stream",
     "text": [
      "export MUGSY_INSTALL=/data8/Human/NIH_4/MethodDevelopment/Mugsy/mugsy_x86-64-v1r2.3 ; /data8/Human/NIH_4/MethodDevelopment/Mugsy/mugsy_x86-64-v1r2.3/mugsy --directory /data1/bio_db/refseq/analysis/Manuscript/github_methods/bacterialEvolutionMetrics/popCOGent_example_ocean --prefix xSLlox8gm9m1GFv1ezPLQypRN4bBZjQu /data1/bio_db/refseq/analysis/Manuscript/github_methods/bacterialEvolutionMetrics/popCOGent_example_ocean/xSLlox8gm9m1GFv1.tempcontig /data1/bio_db/refseq/analysis/Manuscript/github_methods/bacterialEvolutionMetrics/popCOGent_example_ocean/ezPLQypRN4bBZjQu.tempcontig\n",
      "/data1/bio_db/refseq/analysis/Manuscript/github_methods/bacterialEvolutionMetrics/popCOGent_example_ocean/TOBG_SAT-106.fna_@_TOBG_CPC-70.fna.maf.length_bias.txt\n"
     ]
    },
    {
     "name": "stderr",
     "output_type": "stream",
     "text": [
      "\r",
      "Running PopCOGent:  23%|██▎       | 114/495 [15:02<50:49,  8.00s/it]  "
     ]
    },
    {
     "name": "stdout",
     "output_type": "stream",
     "text": [
      "export MUGSY_INSTALL=/data8/Human/NIH_4/MethodDevelopment/Mugsy/mugsy_x86-64-v1r2.3 ; /data8/Human/NIH_4/MethodDevelopment/Mugsy/mugsy_x86-64-v1r2.3/mugsy --directory /data1/bio_db/refseq/analysis/Manuscript/github_methods/bacterialEvolutionMetrics/popCOGent_example_ocean --prefix 6PMyyvekbgy3FUoNOsQkUXlKyGjhUTIS /data1/bio_db/refseq/analysis/Manuscript/github_methods/bacterialEvolutionMetrics/popCOGent_example_ocean/6PMyyvekbgy3FUoN.tempcontig /data1/bio_db/refseq/analysis/Manuscript/github_methods/bacterialEvolutionMetrics/popCOGent_example_ocean/OsQkUXlKyGjhUTIS.tempcontig\n",
      "/data1/bio_db/refseq/analysis/Manuscript/github_methods/bacterialEvolutionMetrics/popCOGent_example_ocean/TOBG_SP-75.fna_@_TOBG_CPC-70.fna.maf.length_bias.txt\n"
     ]
    },
    {
     "name": "stderr",
     "output_type": "stream",
     "text": [
      "\r",
      "Running PopCOGent:  23%|██▎       | 115/495 [15:14<57:41,  9.11s/it]"
     ]
    },
    {
     "name": "stdout",
     "output_type": "stream",
     "text": [
      "export MUGSY_INSTALL=/data8/Human/NIH_4/MethodDevelopment/Mugsy/mugsy_x86-64-v1r2.3 ; /data8/Human/NIH_4/MethodDevelopment/Mugsy/mugsy_x86-64-v1r2.3/mugsy --directory /data1/bio_db/refseq/analysis/Manuscript/github_methods/bacterialEvolutionMetrics/popCOGent_example_ocean --prefix FNbtZewLdp7LyVSLse1Dhkztpsc1pIB4 /data1/bio_db/refseq/analysis/Manuscript/github_methods/bacterialEvolutionMetrics/popCOGent_example_ocean/FNbtZewLdp7LyVSL.tempcontig /data1/bio_db/refseq/analysis/Manuscript/github_methods/bacterialEvolutionMetrics/popCOGent_example_ocean/se1Dhkztpsc1pIB4.tempcontig\n",
      "/data1/bio_db/refseq/analysis/Manuscript/github_methods/bacterialEvolutionMetrics/popCOGent_example_ocean/TOBG_SP-269.fna_@_TOBG_CPC-8.fna.maf.length_bias.txt\n"
     ]
    },
    {
     "name": "stderr",
     "output_type": "stream",
     "text": [
      "\r",
      "Running PopCOGent:  23%|██▎       | 116/495 [15:18<48:03,  7.61s/it]"
     ]
    },
    {
     "name": "stdout",
     "output_type": "stream",
     "text": [
      "export MUGSY_INSTALL=/data8/Human/NIH_4/MethodDevelopment/Mugsy/mugsy_x86-64-v1r2.3 ; /data8/Human/NIH_4/MethodDevelopment/Mugsy/mugsy_x86-64-v1r2.3/mugsy --directory /data1/bio_db/refseq/analysis/Manuscript/github_methods/bacterialEvolutionMetrics/popCOGent_example_ocean --prefix 6NctTwxEkXmO3rgkbKGT2jP9ZYkeyJnV /data1/bio_db/refseq/analysis/Manuscript/github_methods/bacterialEvolutionMetrics/popCOGent_example_ocean/6NctTwxEkXmO3rgk.tempcontig /data1/bio_db/refseq/analysis/Manuscript/github_methods/bacterialEvolutionMetrics/popCOGent_example_ocean/bKGT2jP9ZYkeyJnV.tempcontig\n",
      "/data1/bio_db/refseq/analysis/Manuscript/github_methods/bacterialEvolutionMetrics/popCOGent_example_ocean/TOBG_NP-96.fna_@_TOBG_CPC-8.fna.maf.length_bias.txt\n"
     ]
    },
    {
     "name": "stderr",
     "output_type": "stream",
     "text": [
      "\r",
      "Running PopCOGent:  24%|██▎       | 117/495 [15:23<43:00,  6.83s/it]"
     ]
    },
    {
     "name": "stdout",
     "output_type": "stream",
     "text": [
      "export MUGSY_INSTALL=/data8/Human/NIH_4/MethodDevelopment/Mugsy/mugsy_x86-64-v1r2.3 ; /data8/Human/NIH_4/MethodDevelopment/Mugsy/mugsy_x86-64-v1r2.3/mugsy --directory /data1/bio_db/refseq/analysis/Manuscript/github_methods/bacterialEvolutionMetrics/popCOGent_example_ocean --prefix DRFn0RGrvtCY89VVsDKIV9ViPKAv1nFu /data1/bio_db/refseq/analysis/Manuscript/github_methods/bacterialEvolutionMetrics/popCOGent_example_ocean/DRFn0RGrvtCY89VV.tempcontig /data1/bio_db/refseq/analysis/Manuscript/github_methods/bacterialEvolutionMetrics/popCOGent_example_ocean/sDKIV9ViPKAv1nFu.tempcontig\n",
      "/data1/bio_db/refseq/analysis/Manuscript/github_methods/bacterialEvolutionMetrics/popCOGent_example_ocean/TOBG_EAC-55.fna_@_TOBG_CPC-80.fna.maf.length_bias.txt\n"
     ]
    },
    {
     "name": "stderr",
     "output_type": "stream",
     "text": [
      "\r",
      "Running PopCOGent:  24%|██▍       | 118/495 [15:29<40:31,  6.45s/it]"
     ]
    },
    {
     "name": "stdout",
     "output_type": "stream",
     "text": [
      "export MUGSY_INSTALL=/data8/Human/NIH_4/MethodDevelopment/Mugsy/mugsy_x86-64-v1r2.3 ; /data8/Human/NIH_4/MethodDevelopment/Mugsy/mugsy_x86-64-v1r2.3/mugsy --directory /data1/bio_db/refseq/analysis/Manuscript/github_methods/bacterialEvolutionMetrics/popCOGent_example_ocean --prefix zR9ALyzD0RoXCUKZzTq0B84d1BONGZUN /data1/bio_db/refseq/analysis/Manuscript/github_methods/bacterialEvolutionMetrics/popCOGent_example_ocean/zR9ALyzD0RoXCUKZ.tempcontig /data1/bio_db/refseq/analysis/Manuscript/github_methods/bacterialEvolutionMetrics/popCOGent_example_ocean/zTq0B84d1BONGZUN.tempcontig\n",
      "/data1/bio_db/refseq/analysis/Manuscript/github_methods/bacterialEvolutionMetrics/popCOGent_example_ocean/TOBG_NP-8.fna_@_TOBG_CPC-80.fna.maf.length_bias.txt\n"
     ]
    },
    {
     "name": "stderr",
     "output_type": "stream",
     "text": [
      "\r",
      "Running PopCOGent:  24%|██▍       | 119/495 [15:48<1:05:00, 10.37s/it]"
     ]
    },
    {
     "name": "stdout",
     "output_type": "stream",
     "text": [
      "export MUGSY_INSTALL=/data8/Human/NIH_4/MethodDevelopment/Mugsy/mugsy_x86-64-v1r2.3 ; /data8/Human/NIH_4/MethodDevelopment/Mugsy/mugsy_x86-64-v1r2.3/mugsy --directory /data1/bio_db/refseq/analysis/Manuscript/github_methods/bacterialEvolutionMetrics/popCOGent_example_ocean --prefix vPOrpcTalLWJcTdeAEjeJ46gq0eGmQSK /data1/bio_db/refseq/analysis/Manuscript/github_methods/bacterialEvolutionMetrics/popCOGent_example_ocean/vPOrpcTalLWJcTde.tempcontig /data1/bio_db/refseq/analysis/Manuscript/github_methods/bacterialEvolutionMetrics/popCOGent_example_ocean/AEjeJ46gq0eGmQSK.tempcontig\n",
      "/data1/bio_db/refseq/analysis/Manuscript/github_methods/bacterialEvolutionMetrics/popCOGent_example_ocean/TOBG_SAT-134.fna_@_TOBG_CPC-80.fna.maf.length_bias.txt\n"
     ]
    },
    {
     "name": "stderr",
     "output_type": "stream",
     "text": [
      "\r",
      "Running PopCOGent:  24%|██▍       | 120/495 [15:50<47:38,  7.62s/it]  "
     ]
    },
    {
     "name": "stdout",
     "output_type": "stream",
     "text": [
      "export MUGSY_INSTALL=/data8/Human/NIH_4/MethodDevelopment/Mugsy/mugsy_x86-64-v1r2.3 ; /data8/Human/NIH_4/MethodDevelopment/Mugsy/mugsy_x86-64-v1r2.3/mugsy --directory /data1/bio_db/refseq/analysis/Manuscript/github_methods/bacterialEvolutionMetrics/popCOGent_example_ocean --prefix aDac3PfL4u4OKhIwe5FlhS8JWMm5YC00 /data1/bio_db/refseq/analysis/Manuscript/github_methods/bacterialEvolutionMetrics/popCOGent_example_ocean/aDac3PfL4u4OKhIw.tempcontig /data1/bio_db/refseq/analysis/Manuscript/github_methods/bacterialEvolutionMetrics/popCOGent_example_ocean/e5FlhS8JWMm5YC00.tempcontig\n",
      "/data1/bio_db/refseq/analysis/Manuscript/github_methods/bacterialEvolutionMetrics/popCOGent_example_ocean/TOBG_SAT-1611.fna_@_TOBG_CPC-81.fna.maf.length_bias.txt\n"
     ]
    },
    {
     "name": "stderr",
     "output_type": "stream",
     "text": [
      "\r",
      "Running PopCOGent:  24%|██▍       | 121/495 [15:51<36:04,  5.79s/it]"
     ]
    },
    {
     "name": "stdout",
     "output_type": "stream",
     "text": [
      "export MUGSY_INSTALL=/data8/Human/NIH_4/MethodDevelopment/Mugsy/mugsy_x86-64-v1r2.3 ; /data8/Human/NIH_4/MethodDevelopment/Mugsy/mugsy_x86-64-v1r2.3/mugsy --directory /data1/bio_db/refseq/analysis/Manuscript/github_methods/bacterialEvolutionMetrics/popCOGent_example_ocean --prefix CwdbaqGBBRyM0OThgtxxTYyDUSz8jqHy /data1/bio_db/refseq/analysis/Manuscript/github_methods/bacterialEvolutionMetrics/popCOGent_example_ocean/CwdbaqGBBRyM0OTh.tempcontig /data1/bio_db/refseq/analysis/Manuscript/github_methods/bacterialEvolutionMetrics/popCOGent_example_ocean/gtxxTYyDUSz8jqHy.tempcontig\n",
      "/data1/bio_db/refseq/analysis/Manuscript/github_methods/bacterialEvolutionMetrics/popCOGent_example_ocean/TOBG_NP-140.fna_@_TOBG_CPC-81.fna.maf.length_bias.txt\n"
     ]
    },
    {
     "name": "stderr",
     "output_type": "stream",
     "text": [
      "\r",
      "Running PopCOGent:  25%|██▍       | 122/495 [15:58<38:44,  6.23s/it]"
     ]
    },
    {
     "name": "stdout",
     "output_type": "stream",
     "text": [
      "export MUGSY_INSTALL=/data8/Human/NIH_4/MethodDevelopment/Mugsy/mugsy_x86-64-v1r2.3 ; /data8/Human/NIH_4/MethodDevelopment/Mugsy/mugsy_x86-64-v1r2.3/mugsy --directory /data1/bio_db/refseq/analysis/Manuscript/github_methods/bacterialEvolutionMetrics/popCOGent_example_ocean --prefix ysPZ6XI4BJUe8Qegajv9TEnHBSmXHwrj /data1/bio_db/refseq/analysis/Manuscript/github_methods/bacterialEvolutionMetrics/popCOGent_example_ocean/ysPZ6XI4BJUe8Qeg.tempcontig /data1/bio_db/refseq/analysis/Manuscript/github_methods/bacterialEvolutionMetrics/popCOGent_example_ocean/ajv9TEnHBSmXHwrj.tempcontig\n",
      "/data1/bio_db/refseq/analysis/Manuscript/github_methods/bacterialEvolutionMetrics/popCOGent_example_ocean/TOBG_SP-350.fna_@_TOBG_CPC-80.fna.maf.length_bias.txt\n"
     ]
    },
    {
     "name": "stderr",
     "output_type": "stream",
     "text": [
      "\r",
      "Running PopCOGent:  25%|██▍       | 123/495 [16:03<35:19,  5.70s/it]"
     ]
    },
    {
     "name": "stdout",
     "output_type": "stream",
     "text": [
      "export MUGSY_INSTALL=/data8/Human/NIH_4/MethodDevelopment/Mugsy/mugsy_x86-64-v1r2.3 ; /data8/Human/NIH_4/MethodDevelopment/Mugsy/mugsy_x86-64-v1r2.3/mugsy --directory /data1/bio_db/refseq/analysis/Manuscript/github_methods/bacterialEvolutionMetrics/popCOGent_example_ocean --prefix bto7RCuwuizZeOVtqOHj9JIhoRaOoyI4 /data1/bio_db/refseq/analysis/Manuscript/github_methods/bacterialEvolutionMetrics/popCOGent_example_ocean/bto7RCuwuizZeOVt.tempcontig /data1/bio_db/refseq/analysis/Manuscript/github_methods/bacterialEvolutionMetrics/popCOGent_example_ocean/qOHj9JIhoRaOoyI4.tempcontig\n",
      "/data1/bio_db/refseq/analysis/Manuscript/github_methods/bacterialEvolutionMetrics/popCOGent_example_ocean/TOBG_SP-93.fna_@_TOBG_CPC-80.fna.maf.length_bias.txt\n"
     ]
    },
    {
     "name": "stderr",
     "output_type": "stream",
     "text": [
      "\r",
      "Running PopCOGent:  25%|██▌       | 124/495 [16:38<1:30:03, 14.56s/it]"
     ]
    },
    {
     "name": "stdout",
     "output_type": "stream",
     "text": [
      "export MUGSY_INSTALL=/data8/Human/NIH_4/MethodDevelopment/Mugsy/mugsy_x86-64-v1r2.3 ; /data8/Human/NIH_4/MethodDevelopment/Mugsy/mugsy_x86-64-v1r2.3/mugsy --directory /data1/bio_db/refseq/analysis/Manuscript/github_methods/bacterialEvolutionMetrics/popCOGent_example_ocean --prefix 71Rolgp2f3BWPbVOVgy7ugkG9hyfNqWB /data1/bio_db/refseq/analysis/Manuscript/github_methods/bacterialEvolutionMetrics/popCOGent_example_ocean/71Rolgp2f3BWPbVO.tempcontig /data1/bio_db/refseq/analysis/Manuscript/github_methods/bacterialEvolutionMetrics/popCOGent_example_ocean/Vgy7ugkG9hyfNqWB.tempcontig\n",
      "/data1/bio_db/refseq/analysis/Manuscript/github_methods/bacterialEvolutionMetrics/popCOGent_example_ocean/TOBG_MED-659.fna_@_TOBG_CPC-82.fna.maf.length_bias.txt\n"
     ]
    },
    {
     "name": "stderr",
     "output_type": "stream",
     "text": [
      "\r",
      "Running PopCOGent:  25%|██▌       | 125/495 [16:39<1:04:24, 10.45s/it]"
     ]
    },
    {
     "name": "stdout",
     "output_type": "stream",
     "text": [
      "export MUGSY_INSTALL=/data8/Human/NIH_4/MethodDevelopment/Mugsy/mugsy_x86-64-v1r2.3 ; /data8/Human/NIH_4/MethodDevelopment/Mugsy/mugsy_x86-64-v1r2.3/mugsy --directory /data1/bio_db/refseq/analysis/Manuscript/github_methods/bacterialEvolutionMetrics/popCOGent_example_ocean --prefix UXn6FZSBYnvHWaczGjKOii9hkz25lMyO /data1/bio_db/refseq/analysis/Manuscript/github_methods/bacterialEvolutionMetrics/popCOGent_example_ocean/UXn6FZSBYnvHWacz.tempcontig /data1/bio_db/refseq/analysis/Manuscript/github_methods/bacterialEvolutionMetrics/popCOGent_example_ocean/GjKOii9hkz25lMyO.tempcontig\n",
      "/data1/bio_db/refseq/analysis/Manuscript/github_methods/bacterialEvolutionMetrics/popCOGent_example_ocean/TOBG_SP-149.fna_@_TOBG_CPC-98.fna.maf.length_bias.txt\n"
     ]
    },
    {
     "name": "stderr",
     "output_type": "stream",
     "text": [
      "\r",
      "Running PopCOGent:  25%|██▌       | 126/495 [16:43<52:50,  8.59s/it]  "
     ]
    },
    {
     "name": "stdout",
     "output_type": "stream",
     "text": [
      "export MUGSY_INSTALL=/data8/Human/NIH_4/MethodDevelopment/Mugsy/mugsy_x86-64-v1r2.3 ; /data8/Human/NIH_4/MethodDevelopment/Mugsy/mugsy_x86-64-v1r2.3/mugsy --directory /data1/bio_db/refseq/analysis/Manuscript/github_methods/bacterialEvolutionMetrics/popCOGent_example_ocean --prefix 0J0DvKvCTHsnzor8BP2QMp2KgaZPigny /data1/bio_db/refseq/analysis/Manuscript/github_methods/bacterialEvolutionMetrics/popCOGent_example_ocean/0J0DvKvCTHsnzor8.tempcontig /data1/bio_db/refseq/analysis/Manuscript/github_methods/bacterialEvolutionMetrics/popCOGent_example_ocean/BP2QMp2KgaZPigny.tempcontig\n",
      "/data1/bio_db/refseq/analysis/Manuscript/github_methods/bacterialEvolutionMetrics/popCOGent_example_ocean/TOBG_SP-145.fna_@_TOBG_CPC-82.fna.maf.length_bias.txt\n"
     ]
    },
    {
     "name": "stderr",
     "output_type": "stream",
     "text": [
      "\r",
      "Running PopCOGent:  26%|██▌       | 127/495 [17:08<1:22:07, 13.39s/it]"
     ]
    },
    {
     "name": "stdout",
     "output_type": "stream",
     "text": [
      "export MUGSY_INSTALL=/data8/Human/NIH_4/MethodDevelopment/Mugsy/mugsy_x86-64-v1r2.3 ; /data8/Human/NIH_4/MethodDevelopment/Mugsy/mugsy_x86-64-v1r2.3/mugsy --directory /data1/bio_db/refseq/analysis/Manuscript/github_methods/bacterialEvolutionMetrics/popCOGent_example_ocean --prefix 5W4UndpnVu8idljtyClFtSgwQSNAY61K /data1/bio_db/refseq/analysis/Manuscript/github_methods/bacterialEvolutionMetrics/popCOGent_example_ocean/5W4UndpnVu8idljt.tempcontig /data1/bio_db/refseq/analysis/Manuscript/github_methods/bacterialEvolutionMetrics/popCOGent_example_ocean/yClFtSgwQSNAY61K.tempcontig\n",
      "/data1/bio_db/refseq/analysis/Manuscript/github_methods/bacterialEvolutionMetrics/popCOGent_example_ocean/TOBG_EAC-97.fna_@_TOBG_EAC-1.fna.maf.length_bias.txt\n"
     ]
    },
    {
     "name": "stderr",
     "output_type": "stream",
     "text": [
      "\r",
      "Running PopCOGent:  26%|██▌       | 128/495 [17:11<1:03:06, 10.32s/it]"
     ]
    },
    {
     "name": "stdout",
     "output_type": "stream",
     "text": [
      "export MUGSY_INSTALL=/data8/Human/NIH_4/MethodDevelopment/Mugsy/mugsy_x86-64-v1r2.3 ; /data8/Human/NIH_4/MethodDevelopment/Mugsy/mugsy_x86-64-v1r2.3/mugsy --directory /data1/bio_db/refseq/analysis/Manuscript/github_methods/bacterialEvolutionMetrics/popCOGent_example_ocean --prefix 47Mk9wklerIBfm5HzYO5zPc83zBGSk7z /data1/bio_db/refseq/analysis/Manuscript/github_methods/bacterialEvolutionMetrics/popCOGent_example_ocean/47Mk9wklerIBfm5H.tempcontig /data1/bio_db/refseq/analysis/Manuscript/github_methods/bacterialEvolutionMetrics/popCOGent_example_ocean/zYO5zPc83zBGSk7z.tempcontig\n",
      "/data1/bio_db/refseq/analysis/Manuscript/github_methods/bacterialEvolutionMetrics/popCOGent_example_ocean/TOBG_NAT-60.fna_@_TOBG_EAC-1.fna.maf.length_bias.txt\n"
     ]
    },
    {
     "name": "stderr",
     "output_type": "stream",
     "text": [
      "\r",
      "Running PopCOGent:  26%|██▌       | 129/495 [17:15<51:44,  8.48s/it]  "
     ]
    },
    {
     "name": "stdout",
     "output_type": "stream",
     "text": [
      "export MUGSY_INSTALL=/data8/Human/NIH_4/MethodDevelopment/Mugsy/mugsy_x86-64-v1r2.3 ; /data8/Human/NIH_4/MethodDevelopment/Mugsy/mugsy_x86-64-v1r2.3/mugsy --directory /data1/bio_db/refseq/analysis/Manuscript/github_methods/bacterialEvolutionMetrics/popCOGent_example_ocean --prefix gXefbR5SqjH2SAbrJXeQXWrTRbrsxtRr /data1/bio_db/refseq/analysis/Manuscript/github_methods/bacterialEvolutionMetrics/popCOGent_example_ocean/gXefbR5SqjH2SAbr.tempcontig /data1/bio_db/refseq/analysis/Manuscript/github_methods/bacterialEvolutionMetrics/popCOGent_example_ocean/JXeQXWrTRbrsxtRr.tempcontig\n",
      "/data1/bio_db/refseq/analysis/Manuscript/github_methods/bacterialEvolutionMetrics/popCOGent_example_ocean/TOBG_NP-58.fna_@_TOBG_CPC-82.fna.maf.length_bias.txt\n"
     ]
    },
    {
     "name": "stderr",
     "output_type": "stream",
     "text": [
      "\r",
      "Running PopCOGent:  26%|██▋       | 130/495 [17:22<48:10,  7.92s/it]"
     ]
    },
    {
     "name": "stdout",
     "output_type": "stream",
     "text": [
      "export MUGSY_INSTALL=/data8/Human/NIH_4/MethodDevelopment/Mugsy/mugsy_x86-64-v1r2.3 ; /data8/Human/NIH_4/MethodDevelopment/Mugsy/mugsy_x86-64-v1r2.3/mugsy --directory /data1/bio_db/refseq/analysis/Manuscript/github_methods/bacterialEvolutionMetrics/popCOGent_example_ocean --prefix a17D15mM1iIKe5CKDjcDMMvzcoRdWZ5q /data1/bio_db/refseq/analysis/Manuscript/github_methods/bacterialEvolutionMetrics/popCOGent_example_ocean/a17D15mM1iIKe5CK.tempcontig /data1/bio_db/refseq/analysis/Manuscript/github_methods/bacterialEvolutionMetrics/popCOGent_example_ocean/DjcDMMvzcoRdWZ5q.tempcontig\n",
      "/data1/bio_db/refseq/analysis/Manuscript/github_methods/bacterialEvolutionMetrics/popCOGent_example_ocean/TOBG_SP-114.fna_@_TOBG_CPC-82.fna.maf.length_bias.txt\n"
     ]
    },
    {
     "name": "stderr",
     "output_type": "stream",
     "text": [
      "\r",
      "Running PopCOGent:  26%|██▋       | 131/495 [17:30<48:03,  7.92s/it]"
     ]
    },
    {
     "name": "stdout",
     "output_type": "stream",
     "text": [
      "export MUGSY_INSTALL=/data8/Human/NIH_4/MethodDevelopment/Mugsy/mugsy_x86-64-v1r2.3 ; /data8/Human/NIH_4/MethodDevelopment/Mugsy/mugsy_x86-64-v1r2.3/mugsy --directory /data1/bio_db/refseq/analysis/Manuscript/github_methods/bacterialEvolutionMetrics/popCOGent_example_ocean --prefix EL0UMO5WAqZvt6UzZrr74I177VAdBgiJ /data1/bio_db/refseq/analysis/Manuscript/github_methods/bacterialEvolutionMetrics/popCOGent_example_ocean/EL0UMO5WAqZvt6Uz.tempcontig /data1/bio_db/refseq/analysis/Manuscript/github_methods/bacterialEvolutionMetrics/popCOGent_example_ocean/Zrr74I177VAdBgiJ.tempcontig\n",
      "/data1/bio_db/refseq/analysis/Manuscript/github_methods/bacterialEvolutionMetrics/popCOGent_example_ocean/TOBG_RS-819.fna_@_TOBG_EAC-10.fna.maf.length_bias.txt\n"
     ]
    },
    {
     "name": "stderr",
     "output_type": "stream",
     "text": [
      "\r",
      "Running PopCOGent:  27%|██▋       | 132/495 [17:33<39:25,  6.52s/it]"
     ]
    },
    {
     "name": "stdout",
     "output_type": "stream",
     "text": [
      "export MUGSY_INSTALL=/data8/Human/NIH_4/MethodDevelopment/Mugsy/mugsy_x86-64-v1r2.3 ; /data8/Human/NIH_4/MethodDevelopment/Mugsy/mugsy_x86-64-v1r2.3/mugsy --directory /data1/bio_db/refseq/analysis/Manuscript/github_methods/bacterialEvolutionMetrics/popCOGent_example_ocean --prefix MY2yiTN7tRPLJq2KVljnyNzFir5svs8F /data1/bio_db/refseq/analysis/Manuscript/github_methods/bacterialEvolutionMetrics/popCOGent_example_ocean/MY2yiTN7tRPLJq2K.tempcontig /data1/bio_db/refseq/analysis/Manuscript/github_methods/bacterialEvolutionMetrics/popCOGent_example_ocean/VljnyNzFir5svs8F.tempcontig\n",
      "/data1/bio_db/refseq/analysis/Manuscript/github_methods/bacterialEvolutionMetrics/popCOGent_example_ocean/TOBG_SP-247.fna_@_TOBG_CPC-98.fna.maf.length_bias.txt\n"
     ]
    },
    {
     "name": "stderr",
     "output_type": "stream",
     "text": [
      "\r",
      "Running PopCOGent:  27%|██▋       | 133/495 [17:33<28:12,  4.67s/it]"
     ]
    },
    {
     "name": "stdout",
     "output_type": "stream",
     "text": [
      "export MUGSY_INSTALL=/data8/Human/NIH_4/MethodDevelopment/Mugsy/mugsy_x86-64-v1r2.3 ; /data8/Human/NIH_4/MethodDevelopment/Mugsy/mugsy_x86-64-v1r2.3/mugsy --directory /data1/bio_db/refseq/analysis/Manuscript/github_methods/bacterialEvolutionMetrics/popCOGent_example_ocean --prefix Azid8cvuytgTlv9A7uuVmRWbwmJcqosw /data1/bio_db/refseq/analysis/Manuscript/github_methods/bacterialEvolutionMetrics/popCOGent_example_ocean/Azid8cvuytgTlv9A.tempcontig /data1/bio_db/refseq/analysis/Manuscript/github_methods/bacterialEvolutionMetrics/popCOGent_example_ocean/7uuVmRWbwmJcqosw.tempcontig\n",
      "/data1/bio_db/refseq/analysis/Manuscript/github_methods/bacterialEvolutionMetrics/popCOGent_example_ocean/TOBG_SP-52.fna_@_TOBG_CPC-82.fna.maf.length_bias.txt\n"
     ]
    },
    {
     "name": "stderr",
     "output_type": "stream",
     "text": [
      "\r",
      "Running PopCOGent:  27%|██▋       | 134/495 [17:38<28:59,  4.82s/it]"
     ]
    },
    {
     "name": "stdout",
     "output_type": "stream",
     "text": [
      "export MUGSY_INSTALL=/data8/Human/NIH_4/MethodDevelopment/Mugsy/mugsy_x86-64-v1r2.3 ; /data8/Human/NIH_4/MethodDevelopment/Mugsy/mugsy_x86-64-v1r2.3/mugsy --directory /data1/bio_db/refseq/analysis/Manuscript/github_methods/bacterialEvolutionMetrics/popCOGent_example_ocean --prefix ntGBRB8kDhkOA6MjYreYTDvLOcMgr0i2 /data1/bio_db/refseq/analysis/Manuscript/github_methods/bacterialEvolutionMetrics/popCOGent_example_ocean/ntGBRB8kDhkOA6Mj.tempcontig /data1/bio_db/refseq/analysis/Manuscript/github_methods/bacterialEvolutionMetrics/popCOGent_example_ocean/YreYTDvLOcMgr0i2.tempcontig\n",
      "/data1/bio_db/refseq/analysis/Manuscript/github_methods/bacterialEvolutionMetrics/popCOGent_example_ocean/TOBG_RS-397.fna_@_TOBG_EAC-1.fna.maf.length_bias.txt\n"
     ]
    },
    {
     "name": "stderr",
     "output_type": "stream",
     "text": [
      "\r",
      "Running PopCOGent:  27%|██▋       | 135/495 [17:44<30:51,  5.14s/it]"
     ]
    },
    {
     "name": "stdout",
     "output_type": "stream",
     "text": [
      "export MUGSY_INSTALL=/data8/Human/NIH_4/MethodDevelopment/Mugsy/mugsy_x86-64-v1r2.3 ; /data8/Human/NIH_4/MethodDevelopment/Mugsy/mugsy_x86-64-v1r2.3/mugsy --directory /data1/bio_db/refseq/analysis/Manuscript/github_methods/bacterialEvolutionMetrics/popCOGent_example_ocean --prefix 7nBbo4Lai3AxRf9AhvV0PR6Wdl4q8LKk /data1/bio_db/refseq/analysis/Manuscript/github_methods/bacterialEvolutionMetrics/popCOGent_example_ocean/7nBbo4Lai3AxRf9A.tempcontig /data1/bio_db/refseq/analysis/Manuscript/github_methods/bacterialEvolutionMetrics/popCOGent_example_ocean/hvV0PR6Wdl4q8LKk.tempcontig\n",
      "/data1/bio_db/refseq/analysis/Manuscript/github_methods/bacterialEvolutionMetrics/popCOGent_example_ocean/TOBG_SP-246.fna_@_TOBG_EAC-1.fna.maf.length_bias.txt\n"
     ]
    },
    {
     "name": "stderr",
     "output_type": "stream",
     "text": [
      "\r",
      "Running PopCOGent:  27%|██▋       | 136/495 [17:45<23:04,  3.86s/it]"
     ]
    },
    {
     "name": "stdout",
     "output_type": "stream",
     "text": [
      "export MUGSY_INSTALL=/data8/Human/NIH_4/MethodDevelopment/Mugsy/mugsy_x86-64-v1r2.3 ; /data8/Human/NIH_4/MethodDevelopment/Mugsy/mugsy_x86-64-v1r2.3/mugsy --directory /data1/bio_db/refseq/analysis/Manuscript/github_methods/bacterialEvolutionMetrics/popCOGent_example_ocean --prefix bihe5K5SWWroQCGSKa9Ntc8tC4PxGiU7 /data1/bio_db/refseq/analysis/Manuscript/github_methods/bacterialEvolutionMetrics/popCOGent_example_ocean/bihe5K5SWWroQCGS.tempcontig /data1/bio_db/refseq/analysis/Manuscript/github_methods/bacterialEvolutionMetrics/popCOGent_example_ocean/Ka9Ntc8tC4PxGiU7.tempcontig\n",
      "/data1/bio_db/refseq/analysis/Manuscript/github_methods/bacterialEvolutionMetrics/popCOGent_example_ocean/TOBG_SP-3044.fna_@_TOBG_EAC-10.fna.maf.length_bias.txt\n"
     ]
    },
    {
     "name": "stderr",
     "output_type": "stream",
     "text": [
      "\r",
      "Running PopCOGent:  28%|██▊       | 137/495 [18:02<46:51,  7.85s/it]"
     ]
    },
    {
     "name": "stdout",
     "output_type": "stream",
     "text": [
      "export MUGSY_INSTALL=/data8/Human/NIH_4/MethodDevelopment/Mugsy/mugsy_x86-64-v1r2.3 ; /data8/Human/NIH_4/MethodDevelopment/Mugsy/mugsy_x86-64-v1r2.3/mugsy --directory /data1/bio_db/refseq/analysis/Manuscript/github_methods/bacterialEvolutionMetrics/popCOGent_example_ocean --prefix wLsyCBOJPFk05IaImFbSr1GRc5zYeaHe /data1/bio_db/refseq/analysis/Manuscript/github_methods/bacterialEvolutionMetrics/popCOGent_example_ocean/wLsyCBOJPFk05IaI.tempcontig /data1/bio_db/refseq/analysis/Manuscript/github_methods/bacterialEvolutionMetrics/popCOGent_example_ocean/mFbSr1GRc5zYeaHe.tempcontig\n",
      "/data1/bio_db/refseq/analysis/Manuscript/github_methods/bacterialEvolutionMetrics/popCOGent_example_ocean/TOBG_IN-9.fna_@_TOBG_EAC-102.fna.maf.length_bias.txt\n"
     ]
    },
    {
     "name": "stderr",
     "output_type": "stream",
     "text": [
      "\r",
      "Running PopCOGent:  28%|██▊       | 138/495 [18:11<48:29,  8.15s/it]"
     ]
    },
    {
     "name": "stdout",
     "output_type": "stream",
     "text": [
      "export MUGSY_INSTALL=/data8/Human/NIH_4/MethodDevelopment/Mugsy/mugsy_x86-64-v1r2.3 ; /data8/Human/NIH_4/MethodDevelopment/Mugsy/mugsy_x86-64-v1r2.3/mugsy --directory /data1/bio_db/refseq/analysis/Manuscript/github_methods/bacterialEvolutionMetrics/popCOGent_example_ocean --prefix 2C3FyskKpZFg05bP3hIO0C3HxPv6QPlQ /data1/bio_db/refseq/analysis/Manuscript/github_methods/bacterialEvolutionMetrics/popCOGent_example_ocean/2C3FyskKpZFg05bP.tempcontig /data1/bio_db/refseq/analysis/Manuscript/github_methods/bacterialEvolutionMetrics/popCOGent_example_ocean/3hIO0C3HxPv6QPlQ.tempcontig\n",
      "/data1/bio_db/refseq/analysis/Manuscript/github_methods/bacterialEvolutionMetrics/popCOGent_example_ocean/TOBG_NP-151.fna_@_TOBG_EAC-102.fna.maf.length_bias.txt\n"
     ]
    },
    {
     "name": "stderr",
     "output_type": "stream",
     "text": [
      "\r",
      "Running PopCOGent:  28%|██▊       | 139/495 [18:22<53:10,  8.96s/it]"
     ]
    },
    {
     "name": "stdout",
     "output_type": "stream",
     "text": [
      "export MUGSY_INSTALL=/data8/Human/NIH_4/MethodDevelopment/Mugsy/mugsy_x86-64-v1r2.3 ; /data8/Human/NIH_4/MethodDevelopment/Mugsy/mugsy_x86-64-v1r2.3/mugsy --directory /data1/bio_db/refseq/analysis/Manuscript/github_methods/bacterialEvolutionMetrics/popCOGent_example_ocean --prefix tmp1w7A2BgUkofhxkvy4a6RHQrLDcUj2 /data1/bio_db/refseq/analysis/Manuscript/github_methods/bacterialEvolutionMetrics/popCOGent_example_ocean/tmp1w7A2BgUkofhx.tempcontig /data1/bio_db/refseq/analysis/Manuscript/github_methods/bacterialEvolutionMetrics/popCOGent_example_ocean/kvy4a6RHQrLDcUj2.tempcontig\n",
      "/data1/bio_db/refseq/analysis/Manuscript/github_methods/bacterialEvolutionMetrics/popCOGent_example_ocean/TOBG_RS-406.fna_@_TOBG_EAC-107.fna.maf.length_bias.txt\n"
     ]
    },
    {
     "name": "stderr",
     "output_type": "stream",
     "text": [
      "\r",
      "Running PopCOGent:  28%|██▊       | 140/495 [18:26<44:26,  7.51s/it]"
     ]
    },
    {
     "name": "stdout",
     "output_type": "stream",
     "text": [
      "export MUGSY_INSTALL=/data8/Human/NIH_4/MethodDevelopment/Mugsy/mugsy_x86-64-v1r2.3 ; /data8/Human/NIH_4/MethodDevelopment/Mugsy/mugsy_x86-64-v1r2.3/mugsy --directory /data1/bio_db/refseq/analysis/Manuscript/github_methods/bacterialEvolutionMetrics/popCOGent_example_ocean --prefix IIdVnpEKaSvFWpCNg0To8jt1JSyVEvCA /data1/bio_db/refseq/analysis/Manuscript/github_methods/bacterialEvolutionMetrics/popCOGent_example_ocean/IIdVnpEKaSvFWpCN.tempcontig /data1/bio_db/refseq/analysis/Manuscript/github_methods/bacterialEvolutionMetrics/popCOGent_example_ocean/g0To8jt1JSyVEvCA.tempcontig\n",
      "/data1/bio_db/refseq/analysis/Manuscript/github_methods/bacterialEvolutionMetrics/popCOGent_example_ocean/TOBG_SAT-1.fna_@_TOBG_EAC-102.fna.maf.length_bias.txt\n"
     ]
    },
    {
     "name": "stderr",
     "output_type": "stream",
     "text": [
      "\r",
      "Running PopCOGent:  28%|██▊       | 141/495 [18:30<37:43,  6.39s/it]"
     ]
    },
    {
     "name": "stdout",
     "output_type": "stream",
     "text": [
      "export MUGSY_INSTALL=/data8/Human/NIH_4/MethodDevelopment/Mugsy/mugsy_x86-64-v1r2.3 ; /data8/Human/NIH_4/MethodDevelopment/Mugsy/mugsy_x86-64-v1r2.3/mugsy --directory /data1/bio_db/refseq/analysis/Manuscript/github_methods/bacterialEvolutionMetrics/popCOGent_example_ocean --prefix cfJxyZ2d2LeulupsT0r3jG3WEs0pWWVk /data1/bio_db/refseq/analysis/Manuscript/github_methods/bacterialEvolutionMetrics/popCOGent_example_ocean/cfJxyZ2d2Leulups.tempcontig /data1/bio_db/refseq/analysis/Manuscript/github_methods/bacterialEvolutionMetrics/popCOGent_example_ocean/T0r3jG3WEs0pWWVk.tempcontig\n",
      "/data1/bio_db/refseq/analysis/Manuscript/github_methods/bacterialEvolutionMetrics/popCOGent_example_ocean/TOBG_NAT-64.fna_@_TOBG_EAC-102.fna.maf.length_bias.txt\n"
     ]
    },
    {
     "name": "stderr",
     "output_type": "stream",
     "text": [
      "\r",
      "Running PopCOGent:  29%|██▊       | 142/495 [18:35<36:06,  6.14s/it]"
     ]
    },
    {
     "name": "stdout",
     "output_type": "stream",
     "text": [
      "export MUGSY_INSTALL=/data8/Human/NIH_4/MethodDevelopment/Mugsy/mugsy_x86-64-v1r2.3 ; /data8/Human/NIH_4/MethodDevelopment/Mugsy/mugsy_x86-64-v1r2.3/mugsy --directory /data1/bio_db/refseq/analysis/Manuscript/github_methods/bacterialEvolutionMetrics/popCOGent_example_ocean --prefix ZieouCthZWSRGM5eEzQq8gaiO0U0dAYV /data1/bio_db/refseq/analysis/Manuscript/github_methods/bacterialEvolutionMetrics/popCOGent_example_ocean/ZieouCthZWSRGM5e.tempcontig /data1/bio_db/refseq/analysis/Manuscript/github_methods/bacterialEvolutionMetrics/popCOGent_example_ocean/EzQq8gaiO0U0dAYV.tempcontig\n",
      "/data1/bio_db/refseq/analysis/Manuscript/github_methods/bacterialEvolutionMetrics/popCOGent_example_ocean/TOBG_MED-829.fna_@_TOBG_EAC-11.fna.maf.length_bias.txt\n"
     ]
    },
    {
     "name": "stderr",
     "output_type": "stream",
     "text": [
      "\r",
      "Running PopCOGent:  29%|██▉       | 143/495 [18:37<27:49,  4.74s/it]"
     ]
    },
    {
     "name": "stdout",
     "output_type": "stream",
     "text": [
      "export MUGSY_INSTALL=/data8/Human/NIH_4/MethodDevelopment/Mugsy/mugsy_x86-64-v1r2.3 ; /data8/Human/NIH_4/MethodDevelopment/Mugsy/mugsy_x86-64-v1r2.3/mugsy --directory /data1/bio_db/refseq/analysis/Manuscript/github_methods/bacterialEvolutionMetrics/popCOGent_example_ocean --prefix EGQYIIDBpLaCZDDTpGM5IEYFKCZV43Q0 /data1/bio_db/refseq/analysis/Manuscript/github_methods/bacterialEvolutionMetrics/popCOGent_example_ocean/EGQYIIDBpLaCZDDT.tempcontig /data1/bio_db/refseq/analysis/Manuscript/github_methods/bacterialEvolutionMetrics/popCOGent_example_ocean/pGM5IEYFKCZV43Q0.tempcontig\n",
      "export MUGSY_INSTALL=/data8/Human/NIH_4/MethodDevelopment/Mugsy/mugsy_x86-64-v1r2.3 ; /data8/Human/NIH_4/MethodDevelopment/Mugsy/mugsy_x86-64-v1r2.3/mugsy --directory /data1/bio_db/refseq/analysis/Manuscript/github_methods/bacterialEvolutionMetrics/popCOGent_example_ocean --prefix qUvZMOTp4JK0FrlSVSlvxr2xmZDwqpIq /data1/bio_db/refseq/analysis/Manuscript/github_methods/bacterialEvolutionMetrics/popCOGent_example_ocean/qUvZMOTp4JK0FrlS.tempcontig /data1/bio_db/refseq/analysis/Manuscript/github_methods/bacterialEvolutionMetrics/popCOGent_example_ocean/VSlvxr2xmZDwqpIq.tempcontig\n",
      "/data1/bio_db/refseq/analysis/Manuscript/github_methods/bacterialEvolutionMetrics/popCOGent_example_ocean/TOBG_NAT-154.fna_@_TOBG_EAC-107.fna.maf.length_bias.txt\n",
      "/data1/bio_db/refseq/analysis/Manuscript/github_methods/bacterialEvolutionMetrics/popCOGent_example_ocean/TOBG_SAT-46.fna_@_TOBG_EAC-103.fna.maf.length_bias.txt\n"
     ]
    },
    {
     "name": "stderr",
     "output_type": "stream",
     "text": [
      "\r",
      "Running PopCOGent:  29%|██▉       | 145/495 [18:57<36:56,  6.33s/it]"
     ]
    },
    {
     "name": "stdout",
     "output_type": "stream",
     "text": [
      "export MUGSY_INSTALL=/data8/Human/NIH_4/MethodDevelopment/Mugsy/mugsy_x86-64-v1r2.3 ; /data8/Human/NIH_4/MethodDevelopment/Mugsy/mugsy_x86-64-v1r2.3/mugsy --directory /data1/bio_db/refseq/analysis/Manuscript/github_methods/bacterialEvolutionMetrics/popCOGent_example_ocean --prefix j0styjekNWSwXaH35aE3GpZkSgLbX9HI /data1/bio_db/refseq/analysis/Manuscript/github_methods/bacterialEvolutionMetrics/popCOGent_example_ocean/j0styjekNWSwXaH3.tempcontig /data1/bio_db/refseq/analysis/Manuscript/github_methods/bacterialEvolutionMetrics/popCOGent_example_ocean/5aE3GpZkSgLbX9HI.tempcontig\n",
      "/data1/bio_db/refseq/analysis/Manuscript/github_methods/bacterialEvolutionMetrics/popCOGent_example_ocean/TOBG_NP-26.fna_@_TOBG_EAC-2.fna.maf.length_bias.txt\n"
     ]
    },
    {
     "name": "stderr",
     "output_type": "stream",
     "text": [
      "\r",
      "Running PopCOGent:  29%|██▉       | 146/495 [19:12<51:35,  8.87s/it]"
     ]
    },
    {
     "name": "stdout",
     "output_type": "stream",
     "text": [
      "export MUGSY_INSTALL=/data8/Human/NIH_4/MethodDevelopment/Mugsy/mugsy_x86-64-v1r2.3 ; /data8/Human/NIH_4/MethodDevelopment/Mugsy/mugsy_x86-64-v1r2.3/mugsy --directory /data1/bio_db/refseq/analysis/Manuscript/github_methods/bacterialEvolutionMetrics/popCOGent_example_ocean --prefix mZeJYMpFdBvHeHBWm5cLt3PvPkESh8dC /data1/bio_db/refseq/analysis/Manuscript/github_methods/bacterialEvolutionMetrics/popCOGent_example_ocean/mZeJYMpFdBvHeHBW.tempcontig /data1/bio_db/refseq/analysis/Manuscript/github_methods/bacterialEvolutionMetrics/popCOGent_example_ocean/m5cLt3PvPkESh8dC.tempcontig\n",
      "/data1/bio_db/refseq/analysis/Manuscript/github_methods/bacterialEvolutionMetrics/popCOGent_example_ocean/TOBG_SAT-7.fna_@_TOBG_EAC-2.fna.maf.length_bias.txt\n"
     ]
    },
    {
     "name": "stderr",
     "output_type": "stream",
     "text": [
      "\r",
      "Running PopCOGent:  30%|██▉       | 147/495 [19:16<44:04,  7.60s/it]"
     ]
    },
    {
     "name": "stdout",
     "output_type": "stream",
     "text": [
      "export MUGSY_INSTALL=/data8/Human/NIH_4/MethodDevelopment/Mugsy/mugsy_x86-64-v1r2.3 ; /data8/Human/NIH_4/MethodDevelopment/Mugsy/mugsy_x86-64-v1r2.3/mugsy --directory /data1/bio_db/refseq/analysis/Manuscript/github_methods/bacterialEvolutionMetrics/popCOGent_example_ocean --prefix 5ECQjs0vbaoc9rU1uPpz66UygcvNnPru /data1/bio_db/refseq/analysis/Manuscript/github_methods/bacterialEvolutionMetrics/popCOGent_example_ocean/5ECQjs0vbaoc9rU1.tempcontig /data1/bio_db/refseq/analysis/Manuscript/github_methods/bacterialEvolutionMetrics/popCOGent_example_ocean/uPpz66UygcvNnPru.tempcontig\n",
      "/data1/bio_db/refseq/analysis/Manuscript/github_methods/bacterialEvolutionMetrics/popCOGent_example_ocean/TOBG_IN-12.fna_@_TOBG_EAC-20.fna.maf.length_bias.txt\n"
     ]
    },
    {
     "name": "stderr",
     "output_type": "stream",
     "text": [
      "\r",
      "Running PopCOGent:  30%|██▉       | 148/495 [19:19<34:33,  5.97s/it]"
     ]
    },
    {
     "name": "stdout",
     "output_type": "stream",
     "text": [
      "export MUGSY_INSTALL=/data8/Human/NIH_4/MethodDevelopment/Mugsy/mugsy_x86-64-v1r2.3 ; /data8/Human/NIH_4/MethodDevelopment/Mugsy/mugsy_x86-64-v1r2.3/mugsy --directory /data1/bio_db/refseq/analysis/Manuscript/github_methods/bacterialEvolutionMetrics/popCOGent_example_ocean --prefix NqxoY5rN26Au2QoZ1yfebiDjmm27puDm /data1/bio_db/refseq/analysis/Manuscript/github_methods/bacterialEvolutionMetrics/popCOGent_example_ocean/NqxoY5rN26Au2QoZ.tempcontig /data1/bio_db/refseq/analysis/Manuscript/github_methods/bacterialEvolutionMetrics/popCOGent_example_ocean/1yfebiDjmm27puDm.tempcontig\n",
      "/data1/bio_db/refseq/analysis/Manuscript/github_methods/bacterialEvolutionMetrics/popCOGent_example_ocean/TOBG_NP-92.fna_@_TOBG_EAC-20.fna.maf.length_bias.txt\n"
     ]
    },
    {
     "name": "stderr",
     "output_type": "stream",
     "text": [
      "\r",
      "Running PopCOGent:  30%|███       | 149/495 [19:33<49:03,  8.51s/it]"
     ]
    },
    {
     "name": "stdout",
     "output_type": "stream",
     "text": [
      "export MUGSY_INSTALL=/data8/Human/NIH_4/MethodDevelopment/Mugsy/mugsy_x86-64-v1r2.3 ; /data8/Human/NIH_4/MethodDevelopment/Mugsy/mugsy_x86-64-v1r2.3/mugsy --directory /data1/bio_db/refseq/analysis/Manuscript/github_methods/bacterialEvolutionMetrics/popCOGent_example_ocean --prefix b68vShny0880pwbRpMfztDaBt7FLLPue /data1/bio_db/refseq/analysis/Manuscript/github_methods/bacterialEvolutionMetrics/popCOGent_example_ocean/b68vShny0880pwbR.tempcontig /data1/bio_db/refseq/analysis/Manuscript/github_methods/bacterialEvolutionMetrics/popCOGent_example_ocean/pMfztDaBt7FLLPue.tempcontig\n",
      "/data1/bio_db/refseq/analysis/Manuscript/github_methods/bacterialEvolutionMetrics/popCOGent_example_ocean/TOBG_SAT-221.fna_@_TOBG_EAC-2011.fna.maf.length_bias.txt\n"
     ]
    },
    {
     "name": "stderr",
     "output_type": "stream",
     "text": [
      "\r",
      "Running PopCOGent:  30%|███       | 150/495 [19:34<36:15,  6.31s/it]"
     ]
    },
    {
     "name": "stdout",
     "output_type": "stream",
     "text": [
      "export MUGSY_INSTALL=/data8/Human/NIH_4/MethodDevelopment/Mugsy/mugsy_x86-64-v1r2.3 ; /data8/Human/NIH_4/MethodDevelopment/Mugsy/mugsy_x86-64-v1r2.3/mugsy --directory /data1/bio_db/refseq/analysis/Manuscript/github_methods/bacterialEvolutionMetrics/popCOGent_example_ocean --prefix 50ulPnWJOzKtwuIl92YVxJFJIA2yC8ZY /data1/bio_db/refseq/analysis/Manuscript/github_methods/bacterialEvolutionMetrics/popCOGent_example_ocean/50ulPnWJOzKtwuIl.tempcontig /data1/bio_db/refseq/analysis/Manuscript/github_methods/bacterialEvolutionMetrics/popCOGent_example_ocean/92YVxJFJIA2yC8ZY.tempcontig\n",
      "/data1/bio_db/refseq/analysis/Manuscript/github_methods/bacterialEvolutionMetrics/popCOGent_example_ocean/TOBG_SAT-98.fna_@_TOBG_EAC-17.fna.maf.length_bias.txt\n"
     ]
    },
    {
     "name": "stderr",
     "output_type": "stream",
     "text": [
      "\r",
      "Running PopCOGent:  31%|███       | 151/495 [19:35<26:43,  4.66s/it]"
     ]
    },
    {
     "name": "stdout",
     "output_type": "stream",
     "text": [
      "export MUGSY_INSTALL=/data8/Human/NIH_4/MethodDevelopment/Mugsy/mugsy_x86-64-v1r2.3 ; /data8/Human/NIH_4/MethodDevelopment/Mugsy/mugsy_x86-64-v1r2.3/mugsy --directory /data1/bio_db/refseq/analysis/Manuscript/github_methods/bacterialEvolutionMetrics/popCOGent_example_ocean --prefix d5OKBBWWOUqIFLOlGBHwiktZ0YyTjh9G /data1/bio_db/refseq/analysis/Manuscript/github_methods/bacterialEvolutionMetrics/popCOGent_example_ocean/d5OKBBWWOUqIFLOl.tempcontig /data1/bio_db/refseq/analysis/Manuscript/github_methods/bacterialEvolutionMetrics/popCOGent_example_ocean/GBHwiktZ0YyTjh9G.tempcontig\n",
      "/data1/bio_db/refseq/analysis/Manuscript/github_methods/bacterialEvolutionMetrics/popCOGent_example_ocean/TOBG_SP-344.fna_@_TOBG_EAC-2011.fna.maf.length_bias.txt\n"
     ]
    },
    {
     "name": "stderr",
     "output_type": "stream",
     "text": [
      "\r",
      "Running PopCOGent:  31%|███       | 152/495 [19:49<41:54,  7.33s/it]"
     ]
    },
    {
     "name": "stdout",
     "output_type": "stream",
     "text": [
      "export MUGSY_INSTALL=/data8/Human/NIH_4/MethodDevelopment/Mugsy/mugsy_x86-64-v1r2.3 ; /data8/Human/NIH_4/MethodDevelopment/Mugsy/mugsy_x86-64-v1r2.3/mugsy --directory /data1/bio_db/refseq/analysis/Manuscript/github_methods/bacterialEvolutionMetrics/popCOGent_example_ocean --prefix hyOxrGD0anyVme3eCEqHA9SDDFtcfjq8 /data1/bio_db/refseq/analysis/Manuscript/github_methods/bacterialEvolutionMetrics/popCOGent_example_ocean/hyOxrGD0anyVme3e.tempcontig /data1/bio_db/refseq/analysis/Manuscript/github_methods/bacterialEvolutionMetrics/popCOGent_example_ocean/CEqHA9SDDFtcfjq8.tempcontig\n",
      "/data1/bio_db/refseq/analysis/Manuscript/github_methods/bacterialEvolutionMetrics/popCOGent_example_ocean/TOBG_EAC-39.fna_@_TOBG_EAC-20.fna.maf.length_bias.txt\n"
     ]
    },
    {
     "name": "stderr",
     "output_type": "stream",
     "text": [
      "\r",
      "Running PopCOGent:  31%|███       | 153/495 [19:57<44:03,  7.73s/it]"
     ]
    },
    {
     "name": "stdout",
     "output_type": "stream",
     "text": [
      "export MUGSY_INSTALL=/data8/Human/NIH_4/MethodDevelopment/Mugsy/mugsy_x86-64-v1r2.3 ; /data8/Human/NIH_4/MethodDevelopment/Mugsy/mugsy_x86-64-v1r2.3/mugsy --directory /data1/bio_db/refseq/analysis/Manuscript/github_methods/bacterialEvolutionMetrics/popCOGent_example_ocean --prefix ZKh2P7rMdMBmj5YvCRgYO40fSUgQUPBe /data1/bio_db/refseq/analysis/Manuscript/github_methods/bacterialEvolutionMetrics/popCOGent_example_ocean/ZKh2P7rMdMBmj5Yv.tempcontig /data1/bio_db/refseq/analysis/Manuscript/github_methods/bacterialEvolutionMetrics/popCOGent_example_ocean/CRgYO40fSUgQUPBe.tempcontig\n",
      "/data1/bio_db/refseq/analysis/Manuscript/github_methods/bacterialEvolutionMetrics/popCOGent_example_ocean/TOBG_IN-1077.fna_@_TOBG_EAC-24.fna.maf.length_bias.txt\n"
     ]
    },
    {
     "name": "stderr",
     "output_type": "stream",
     "text": [
      "\r",
      "Running PopCOGent:  31%|███       | 154/495 [20:02<38:51,  6.84s/it]"
     ]
    },
    {
     "name": "stdout",
     "output_type": "stream",
     "text": [
      "export MUGSY_INSTALL=/data8/Human/NIH_4/MethodDevelopment/Mugsy/mugsy_x86-64-v1r2.3 ; /data8/Human/NIH_4/MethodDevelopment/Mugsy/mugsy_x86-64-v1r2.3/mugsy --directory /data1/bio_db/refseq/analysis/Manuscript/github_methods/bacterialEvolutionMetrics/popCOGent_example_ocean --prefix H6VZLwbWju758wqNl14ARqHVDOD10x6X /data1/bio_db/refseq/analysis/Manuscript/github_methods/bacterialEvolutionMetrics/popCOGent_example_ocean/H6VZLwbWju758wqN.tempcontig /data1/bio_db/refseq/analysis/Manuscript/github_methods/bacterialEvolutionMetrics/popCOGent_example_ocean/l14ARqHVDOD10x6X.tempcontig\n",
      "/data1/bio_db/refseq/analysis/Manuscript/github_methods/bacterialEvolutionMetrics/popCOGent_example_ocean/TOBG_SAT-6.fna_@_TOBG_EAC-20.fna.maf.length_bias.txt\n"
     ]
    },
    {
     "name": "stderr",
     "output_type": "stream",
     "text": [
      "\r",
      "Running PopCOGent:  31%|███▏      | 155/495 [20:14<47:27,  8.37s/it]"
     ]
    },
    {
     "name": "stdout",
     "output_type": "stream",
     "text": [
      "export MUGSY_INSTALL=/data8/Human/NIH_4/MethodDevelopment/Mugsy/mugsy_x86-64-v1r2.3 ; /data8/Human/NIH_4/MethodDevelopment/Mugsy/mugsy_x86-64-v1r2.3/mugsy --directory /data1/bio_db/refseq/analysis/Manuscript/github_methods/bacterialEvolutionMetrics/popCOGent_example_ocean --prefix 7N9KOxvyeb4Cmxiku45kD3jD4rdzEc4j /data1/bio_db/refseq/analysis/Manuscript/github_methods/bacterialEvolutionMetrics/popCOGent_example_ocean/7N9KOxvyeb4Cmxik.tempcontig /data1/bio_db/refseq/analysis/Manuscript/github_methods/bacterialEvolutionMetrics/popCOGent_example_ocean/u45kD3jD4rdzEc4j.tempcontig\n",
      "/data1/bio_db/refseq/analysis/Manuscript/github_methods/bacterialEvolutionMetrics/popCOGent_example_ocean/TOBG_SP-348.fna_@_TOBG_EAC-24.fna.maf.length_bias.txt\n"
     ]
    },
    {
     "name": "stderr",
     "output_type": "stream",
     "text": [
      "\r",
      "Running PopCOGent:  32%|███▏      | 156/495 [20:21<45:09,  7.99s/it]"
     ]
    },
    {
     "name": "stdout",
     "output_type": "stream",
     "text": [
      "export MUGSY_INSTALL=/data8/Human/NIH_4/MethodDevelopment/Mugsy/mugsy_x86-64-v1r2.3 ; /data8/Human/NIH_4/MethodDevelopment/Mugsy/mugsy_x86-64-v1r2.3/mugsy --directory /data1/bio_db/refseq/analysis/Manuscript/github_methods/bacterialEvolutionMetrics/popCOGent_example_ocean --prefix DiveN6M05ndzS23BLH0oUfw9E3aBfqnr /data1/bio_db/refseq/analysis/Manuscript/github_methods/bacterialEvolutionMetrics/popCOGent_example_ocean/DiveN6M05ndzS23B.tempcontig /data1/bio_db/refseq/analysis/Manuscript/github_methods/bacterialEvolutionMetrics/popCOGent_example_ocean/LH0oUfw9E3aBfqnr.tempcontig\n",
      "/data1/bio_db/refseq/analysis/Manuscript/github_methods/bacterialEvolutionMetrics/popCOGent_example_ocean/TOBG_SP-2.fna_@_TOBG_EAC-20.fna.maf.length_bias.txt\n"
     ]
    },
    {
     "name": "stderr",
     "output_type": "stream",
     "text": [
      "\r",
      "Running PopCOGent:  32%|███▏      | 157/495 [20:22<32:24,  5.75s/it]"
     ]
    },
    {
     "name": "stdout",
     "output_type": "stream",
     "text": [
      "export MUGSY_INSTALL=/data8/Human/NIH_4/MethodDevelopment/Mugsy/mugsy_x86-64-v1r2.3 ; /data8/Human/NIH_4/MethodDevelopment/Mugsy/mugsy_x86-64-v1r2.3/mugsy --directory /data1/bio_db/refseq/analysis/Manuscript/github_methods/bacterialEvolutionMetrics/popCOGent_example_ocean --prefix 8d3wbL5tvoSNWNXrIJLdDiEVJDzxkuoj /data1/bio_db/refseq/analysis/Manuscript/github_methods/bacterialEvolutionMetrics/popCOGent_example_ocean/8d3wbL5tvoSNWNXr.tempcontig /data1/bio_db/refseq/analysis/Manuscript/github_methods/bacterialEvolutionMetrics/popCOGent_example_ocean/IJLdDiEVJDzxkuoj.tempcontig\n",
      "/data1/bio_db/refseq/analysis/Manuscript/github_methods/bacterialEvolutionMetrics/popCOGent_example_ocean/TOBG_RS-391.fna_@_TOBG_EAC-24.fna.maf.length_bias.txt\n"
     ]
    },
    {
     "name": "stderr",
     "output_type": "stream",
     "text": [
      "\r",
      "Running PopCOGent:  32%|███▏      | 158/495 [20:39<51:34,  9.18s/it]"
     ]
    },
    {
     "name": "stdout",
     "output_type": "stream",
     "text": [
      "export MUGSY_INSTALL=/data8/Human/NIH_4/MethodDevelopment/Mugsy/mugsy_x86-64-v1r2.3 ; /data8/Human/NIH_4/MethodDevelopment/Mugsy/mugsy_x86-64-v1r2.3/mugsy --directory /data1/bio_db/refseq/analysis/Manuscript/github_methods/bacterialEvolutionMetrics/popCOGent_example_ocean --prefix GlTyQ35cYHF0ZAqtbMJsTUfHr2cyEjs9 /data1/bio_db/refseq/analysis/Manuscript/github_methods/bacterialEvolutionMetrics/popCOGent_example_ocean/GlTyQ35cYHF0ZAqt.tempcontig /data1/bio_db/refseq/analysis/Manuscript/github_methods/bacterialEvolutionMetrics/popCOGent_example_ocean/bMJsTUfHr2cyEjs9.tempcontig\n",
      "/data1/bio_db/refseq/analysis/Manuscript/github_methods/bacterialEvolutionMetrics/popCOGent_example_ocean/TOBG_SAT-14.fna_@_TOBG_EAC-27.fna.maf.length_bias.txt\n"
     ]
    },
    {
     "name": "stderr",
     "output_type": "stream",
     "text": [
      "\r",
      "Running PopCOGent:  32%|███▏      | 159/495 [20:47<49:40,  8.87s/it]"
     ]
    },
    {
     "name": "stdout",
     "output_type": "stream",
     "text": [
      "export MUGSY_INSTALL=/data8/Human/NIH_4/MethodDevelopment/Mugsy/mugsy_x86-64-v1r2.3 ; /data8/Human/NIH_4/MethodDevelopment/Mugsy/mugsy_x86-64-v1r2.3/mugsy --directory /data1/bio_db/refseq/analysis/Manuscript/github_methods/bacterialEvolutionMetrics/popCOGent_example_ocean --prefix BDzjv1E5OyL1vuhvUb4poDMEh0phIcqz /data1/bio_db/refseq/analysis/Manuscript/github_methods/bacterialEvolutionMetrics/popCOGent_example_ocean/BDzjv1E5OyL1vuhv.tempcontig /data1/bio_db/refseq/analysis/Manuscript/github_methods/bacterialEvolutionMetrics/popCOGent_example_ocean/Ub4poDMEh0phIcqz.tempcontig\n",
      "/data1/bio_db/refseq/analysis/Manuscript/github_methods/bacterialEvolutionMetrics/popCOGent_example_ocean/TOBG_NAT-69.fna_@_TOBG_EAC-27.fna.maf.length_bias.txt\n"
     ]
    },
    {
     "name": "stderr",
     "output_type": "stream",
     "text": [
      "\r",
      "Running PopCOGent:  32%|███▏      | 160/495 [20:54<46:46,  8.38s/it]"
     ]
    },
    {
     "name": "stdout",
     "output_type": "stream",
     "text": [
      "export MUGSY_INSTALL=/data8/Human/NIH_4/MethodDevelopment/Mugsy/mugsy_x86-64-v1r2.3 ; /data8/Human/NIH_4/MethodDevelopment/Mugsy/mugsy_x86-64-v1r2.3/mugsy --directory /data1/bio_db/refseq/analysis/Manuscript/github_methods/bacterialEvolutionMetrics/popCOGent_example_ocean --prefix Lec01AUsC5layXShpMxKlA5oGMqkYHAy /data1/bio_db/refseq/analysis/Manuscript/github_methods/bacterialEvolutionMetrics/popCOGent_example_ocean/Lec01AUsC5layXSh.tempcontig /data1/bio_db/refseq/analysis/Manuscript/github_methods/bacterialEvolutionMetrics/popCOGent_example_ocean/pMxKlA5oGMqkYHAy.tempcontig\n",
      "/data1/bio_db/refseq/analysis/Manuscript/github_methods/bacterialEvolutionMetrics/popCOGent_example_ocean/TOBG_SP-123.fna_@_TOBG_EAC-21.fna.maf.length_bias.txt\n"
     ]
    },
    {
     "name": "stderr",
     "output_type": "stream",
     "text": [
      "\r",
      "Running PopCOGent:  33%|███▎      | 161/495 [20:55<34:46,  6.25s/it]"
     ]
    },
    {
     "name": "stdout",
     "output_type": "stream",
     "text": [
      "export MUGSY_INSTALL=/data8/Human/NIH_4/MethodDevelopment/Mugsy/mugsy_x86-64-v1r2.3 ; /data8/Human/NIH_4/MethodDevelopment/Mugsy/mugsy_x86-64-v1r2.3/mugsy --directory /data1/bio_db/refseq/analysis/Manuscript/github_methods/bacterialEvolutionMetrics/popCOGent_example_ocean --prefix OqFV1UztnlkFql7Ax1dm5pvPDujHFJTw /data1/bio_db/refseq/analysis/Manuscript/github_methods/bacterialEvolutionMetrics/popCOGent_example_ocean/OqFV1UztnlkFql7A.tempcontig /data1/bio_db/refseq/analysis/Manuscript/github_methods/bacterialEvolutionMetrics/popCOGent_example_ocean/x1dm5pvPDujHFJTw.tempcontig\n",
      "/data1/bio_db/refseq/analysis/Manuscript/github_methods/bacterialEvolutionMetrics/popCOGent_example_ocean/TOBG_SAT-1508.fna_@_TOBG_EAC-30.fna.maf.length_bias.txt\n"
     ]
    },
    {
     "name": "stderr",
     "output_type": "stream",
     "text": [
      "\r",
      "Running PopCOGent:  33%|███▎      | 162/495 [21:02<35:50,  6.46s/it]"
     ]
    },
    {
     "name": "stdout",
     "output_type": "stream",
     "text": [
      "export MUGSY_INSTALL=/data8/Human/NIH_4/MethodDevelopment/Mugsy/mugsy_x86-64-v1r2.3 ; /data8/Human/NIH_4/MethodDevelopment/Mugsy/mugsy_x86-64-v1r2.3/mugsy --directory /data1/bio_db/refseq/analysis/Manuscript/github_methods/bacterialEvolutionMetrics/popCOGent_example_ocean --prefix lH7XYLO8MMt86tm5cNvdgYHruH07WWUb /data1/bio_db/refseq/analysis/Manuscript/github_methods/bacterialEvolutionMetrics/popCOGent_example_ocean/lH7XYLO8MMt86tm5.tempcontig /data1/bio_db/refseq/analysis/Manuscript/github_methods/bacterialEvolutionMetrics/popCOGent_example_ocean/cNvdgYHruH07WWUb.tempcontig\n",
      "/data1/bio_db/refseq/analysis/Manuscript/github_methods/bacterialEvolutionMetrics/popCOGent_example_ocean/TOBG_SP-3024.fna_@_TOBG_EAC-30.fna.maf.length_bias.txt\n"
     ]
    },
    {
     "name": "stderr",
     "output_type": "stream",
     "text": [
      "\r",
      "Running PopCOGent:  33%|███▎      | 163/495 [21:04<28:10,  5.09s/it]"
     ]
    },
    {
     "name": "stdout",
     "output_type": "stream",
     "text": [
      "export MUGSY_INSTALL=/data8/Human/NIH_4/MethodDevelopment/Mugsy/mugsy_x86-64-v1r2.3 ; /data8/Human/NIH_4/MethodDevelopment/Mugsy/mugsy_x86-64-v1r2.3/mugsy --directory /data1/bio_db/refseq/analysis/Manuscript/github_methods/bacterialEvolutionMetrics/popCOGent_example_ocean --prefix Q7dL96H7orWrm8R4aNrEcAI4iCO2JDo6 /data1/bio_db/refseq/analysis/Manuscript/github_methods/bacterialEvolutionMetrics/popCOGent_example_ocean/Q7dL96H7orWrm8R4.tempcontig /data1/bio_db/refseq/analysis/Manuscript/github_methods/bacterialEvolutionMetrics/popCOGent_example_ocean/aNrEcAI4iCO2JDo6.tempcontig\n",
      "/data1/bio_db/refseq/analysis/Manuscript/github_methods/bacterialEvolutionMetrics/popCOGent_example_ocean/TOBG_NP-91.fna_@_TOBG_EAC-31.fna.maf.length_bias.txt\n"
     ]
    },
    {
     "name": "stderr",
     "output_type": "stream",
     "text": [
      "\r",
      "Running PopCOGent:  33%|███▎      | 164/495 [21:08<26:12,  4.75s/it]"
     ]
    },
    {
     "name": "stdout",
     "output_type": "stream",
     "text": [
      "export MUGSY_INSTALL=/data8/Human/NIH_4/MethodDevelopment/Mugsy/mugsy_x86-64-v1r2.3 ; /data8/Human/NIH_4/MethodDevelopment/Mugsy/mugsy_x86-64-v1r2.3/mugsy --directory /data1/bio_db/refseq/analysis/Manuscript/github_methods/bacterialEvolutionMetrics/popCOGent_example_ocean --prefix oWwqbUUFPUQbHNooAYw6Ta5H7WaPALqt /data1/bio_db/refseq/analysis/Manuscript/github_methods/bacterialEvolutionMetrics/popCOGent_example_ocean/oWwqbUUFPUQbHNoo.tempcontig /data1/bio_db/refseq/analysis/Manuscript/github_methods/bacterialEvolutionMetrics/popCOGent_example_ocean/AYw6Ta5H7WaPALqt.tempcontig\n",
      "/data1/bio_db/refseq/analysis/Manuscript/github_methods/bacterialEvolutionMetrics/popCOGent_example_ocean/TOBG_SAT-106.fna_@_TOBG_EAC-31.fna.maf.length_bias.txt\n"
     ]
    },
    {
     "name": "stderr",
     "output_type": "stream",
     "text": [
      "\r",
      "Running PopCOGent:  33%|███▎      | 165/495 [21:10<20:32,  3.73s/it]"
     ]
    },
    {
     "name": "stdout",
     "output_type": "stream",
     "text": [
      "export MUGSY_INSTALL=/data8/Human/NIH_4/MethodDevelopment/Mugsy/mugsy_x86-64-v1r2.3 ; /data8/Human/NIH_4/MethodDevelopment/Mugsy/mugsy_x86-64-v1r2.3/mugsy --directory /data1/bio_db/refseq/analysis/Manuscript/github_methods/bacterialEvolutionMetrics/popCOGent_example_ocean --prefix op9Y0Hbqw3xhLYTULLLImwwtOJr9mdPM /data1/bio_db/refseq/analysis/Manuscript/github_methods/bacterialEvolutionMetrics/popCOGent_example_ocean/op9Y0Hbqw3xhLYTU.tempcontig /data1/bio_db/refseq/analysis/Manuscript/github_methods/bacterialEvolutionMetrics/popCOGent_example_ocean/LLLImwwtOJr9mdPM.tempcontig\n",
      "/data1/bio_db/refseq/analysis/Manuscript/github_methods/bacterialEvolutionMetrics/popCOGent_example_ocean/TOBG_RS-453.fna_@_TOBG_EAC-34.fna.maf.length_bias.txt\n"
     ]
    },
    {
     "name": "stderr",
     "output_type": "stream",
     "text": [
      "\r",
      "Running PopCOGent:  34%|███▎      | 166/495 [21:12<18:48,  3.43s/it]"
     ]
    },
    {
     "name": "stdout",
     "output_type": "stream",
     "text": [
      "export MUGSY_INSTALL=/data8/Human/NIH_4/MethodDevelopment/Mugsy/mugsy_x86-64-v1r2.3 ; /data8/Human/NIH_4/MethodDevelopment/Mugsy/mugsy_x86-64-v1r2.3/mugsy --directory /data1/bio_db/refseq/analysis/Manuscript/github_methods/bacterialEvolutionMetrics/popCOGent_example_ocean --prefix WMNTsWlDxZ392qzNalirD2uTauGq1Az7 /data1/bio_db/refseq/analysis/Manuscript/github_methods/bacterialEvolutionMetrics/popCOGent_example_ocean/WMNTsWlDxZ392qzN.tempcontig /data1/bio_db/refseq/analysis/Manuscript/github_methods/bacterialEvolutionMetrics/popCOGent_example_ocean/alirD2uTauGq1Az7.tempcontig\n",
      "/data1/bio_db/refseq/analysis/Manuscript/github_methods/bacterialEvolutionMetrics/popCOGent_example_ocean/TOBG_SAT-220.fna_@_TOBG_EAC-34.fna.maf.length_bias.txt\n"
     ]
    },
    {
     "name": "stderr",
     "output_type": "stream",
     "text": [
      "\r",
      "Running PopCOGent:  34%|███▎      | 167/495 [21:20<25:01,  4.58s/it]"
     ]
    },
    {
     "name": "stdout",
     "output_type": "stream",
     "text": [
      "export MUGSY_INSTALL=/data8/Human/NIH_4/MethodDevelopment/Mugsy/mugsy_x86-64-v1r2.3 ; /data8/Human/NIH_4/MethodDevelopment/Mugsy/mugsy_x86-64-v1r2.3/mugsy --directory /data1/bio_db/refseq/analysis/Manuscript/github_methods/bacterialEvolutionMetrics/popCOGent_example_ocean --prefix U5gqnpkt6cXutP0kjAWiAJl2zJ3rehOk /data1/bio_db/refseq/analysis/Manuscript/github_methods/bacterialEvolutionMetrics/popCOGent_example_ocean/U5gqnpkt6cXutP0k.tempcontig /data1/bio_db/refseq/analysis/Manuscript/github_methods/bacterialEvolutionMetrics/popCOGent_example_ocean/jAWiAJl2zJ3rehOk.tempcontig\n",
      "/data1/bio_db/refseq/analysis/Manuscript/github_methods/bacterialEvolutionMetrics/popCOGent_example_ocean/TOBG_SP-69.fna_@_TOBG_EAC-34.fna.maf.length_bias.txt\n"
     ]
    },
    {
     "name": "stderr",
     "output_type": "stream",
     "text": [
      "\r",
      "Running PopCOGent:  34%|███▍      | 168/495 [21:22<21:38,  3.97s/it]"
     ]
    },
    {
     "name": "stdout",
     "output_type": "stream",
     "text": [
      "export MUGSY_INSTALL=/data8/Human/NIH_4/MethodDevelopment/Mugsy/mugsy_x86-64-v1r2.3 ; /data8/Human/NIH_4/MethodDevelopment/Mugsy/mugsy_x86-64-v1r2.3/mugsy --directory /data1/bio_db/refseq/analysis/Manuscript/github_methods/bacterialEvolutionMetrics/popCOGent_example_ocean --prefix pA2B5XEOtPGvlV1fXhaFhUiVcmiUg3B8 /data1/bio_db/refseq/analysis/Manuscript/github_methods/bacterialEvolutionMetrics/popCOGent_example_ocean/pA2B5XEOtPGvlV1f.tempcontig /data1/bio_db/refseq/analysis/Manuscript/github_methods/bacterialEvolutionMetrics/popCOGent_example_ocean/XhaFhUiVcmiUg3B8.tempcontig\n",
      "/data1/bio_db/refseq/analysis/Manuscript/github_methods/bacterialEvolutionMetrics/popCOGent_example_ocean/TOBG_NAT-45.fna_@_TOBG_EAC-33.fna.maf.length_bias.txt\n"
     ]
    },
    {
     "name": "stderr",
     "output_type": "stream",
     "text": [
      "\r",
      "Running PopCOGent:  34%|███▍      | 169/495 [21:31<29:56,  5.51s/it]"
     ]
    },
    {
     "name": "stdout",
     "output_type": "stream",
     "text": [
      "export MUGSY_INSTALL=/data8/Human/NIH_4/MethodDevelopment/Mugsy/mugsy_x86-64-v1r2.3 ; /data8/Human/NIH_4/MethodDevelopment/Mugsy/mugsy_x86-64-v1r2.3/mugsy --directory /data1/bio_db/refseq/analysis/Manuscript/github_methods/bacterialEvolutionMetrics/popCOGent_example_ocean --prefix 2PDkaipi6MQctE56q53nCRmlcLtsr8nT /data1/bio_db/refseq/analysis/Manuscript/github_methods/bacterialEvolutionMetrics/popCOGent_example_ocean/2PDkaipi6MQctE56.tempcontig /data1/bio_db/refseq/analysis/Manuscript/github_methods/bacterialEvolutionMetrics/popCOGent_example_ocean/q53nCRmlcLtsr8nT.tempcontig\n",
      "/data1/bio_db/refseq/analysis/Manuscript/github_methods/bacterialEvolutionMetrics/popCOGent_example_ocean/TOBG_SP-75.fna_@_TOBG_EAC-31.fna.maf.length_bias.txt\n"
     ]
    },
    {
     "name": "stderr",
     "output_type": "stream",
     "text": [
      "\r",
      "Running PopCOGent:  34%|███▍      | 170/495 [21:52<54:38, 10.09s/it]"
     ]
    },
    {
     "name": "stdout",
     "output_type": "stream",
     "text": [
      "export MUGSY_INSTALL=/data8/Human/NIH_4/MethodDevelopment/Mugsy/mugsy_x86-64-v1r2.3 ; /data8/Human/NIH_4/MethodDevelopment/Mugsy/mugsy_x86-64-v1r2.3/mugsy --directory /data1/bio_db/refseq/analysis/Manuscript/github_methods/bacterialEvolutionMetrics/popCOGent_example_ocean --prefix BDnyOnHrvYeUefa4GABTdzWU4TQtU9ew /data1/bio_db/refseq/analysis/Manuscript/github_methods/bacterialEvolutionMetrics/popCOGent_example_ocean/BDnyOnHrvYeUefa4.tempcontig /data1/bio_db/refseq/analysis/Manuscript/github_methods/bacterialEvolutionMetrics/popCOGent_example_ocean/GABTdzWU4TQtU9ew.tempcontig\n",
      "/data1/bio_db/refseq/analysis/Manuscript/github_methods/bacterialEvolutionMetrics/popCOGent_example_ocean/TOBG_NP-15.fna_@_TOBG_EAC-37.fna.maf.length_bias.txt\n"
     ]
    },
    {
     "name": "stderr",
     "output_type": "stream",
     "text": [
      "\r",
      "Running PopCOGent:  35%|███▍      | 171/495 [22:00<50:22,  9.33s/it]"
     ]
    },
    {
     "name": "stdout",
     "output_type": "stream",
     "text": [
      "export MUGSY_INSTALL=/data8/Human/NIH_4/MethodDevelopment/Mugsy/mugsy_x86-64-v1r2.3 ; /data8/Human/NIH_4/MethodDevelopment/Mugsy/mugsy_x86-64-v1r2.3/mugsy --directory /data1/bio_db/refseq/analysis/Manuscript/github_methods/bacterialEvolutionMetrics/popCOGent_example_ocean --prefix zN50bMjpZC1rvrfcwqkqTlqRsFqHGq9i /data1/bio_db/refseq/analysis/Manuscript/github_methods/bacterialEvolutionMetrics/popCOGent_example_ocean/zN50bMjpZC1rvrfc.tempcontig /data1/bio_db/refseq/analysis/Manuscript/github_methods/bacterialEvolutionMetrics/popCOGent_example_ocean/wqkqTlqRsFqHGq9i.tempcontig\n",
      "/data1/bio_db/refseq/analysis/Manuscript/github_methods/bacterialEvolutionMetrics/popCOGent_example_ocean/TOBG_SAT-42.fna_@_TOBG_EAC-36.fna.maf.length_bias.txt\n"
     ]
    },
    {
     "name": "stderr",
     "output_type": "stream",
     "text": [
      "\r",
      "Running PopCOGent:  35%|███▍      | 172/495 [22:02<38:41,  7.19s/it]"
     ]
    },
    {
     "name": "stdout",
     "output_type": "stream",
     "text": [
      "export MUGSY_INSTALL=/data8/Human/NIH_4/MethodDevelopment/Mugsy/mugsy_x86-64-v1r2.3 ; /data8/Human/NIH_4/MethodDevelopment/Mugsy/mugsy_x86-64-v1r2.3/mugsy --directory /data1/bio_db/refseq/analysis/Manuscript/github_methods/bacterialEvolutionMetrics/popCOGent_example_ocean --prefix yHz9v3fPmzVwk4SLFy2snP9OyR4PwnK7 /data1/bio_db/refseq/analysis/Manuscript/github_methods/bacterialEvolutionMetrics/popCOGent_example_ocean/yHz9v3fPmzVwk4SL.tempcontig /data1/bio_db/refseq/analysis/Manuscript/github_methods/bacterialEvolutionMetrics/popCOGent_example_ocean/Fy2snP9OyR4PwnK7.tempcontig\n",
      "/data1/bio_db/refseq/analysis/Manuscript/github_methods/bacterialEvolutionMetrics/popCOGent_example_ocean/TOBG_SP-125.fna_@_TOBG_EAC-36.fna.maf.length_bias.txt\n"
     ]
    },
    {
     "name": "stderr",
     "output_type": "stream",
     "text": [
      "\r",
      "Running PopCOGent:  35%|███▍      | 173/495 [22:07<35:05,  6.54s/it]"
     ]
    },
    {
     "name": "stdout",
     "output_type": "stream",
     "text": [
      "export MUGSY_INSTALL=/data8/Human/NIH_4/MethodDevelopment/Mugsy/mugsy_x86-64-v1r2.3 ; /data8/Human/NIH_4/MethodDevelopment/Mugsy/mugsy_x86-64-v1r2.3/mugsy --directory /data1/bio_db/refseq/analysis/Manuscript/github_methods/bacterialEvolutionMetrics/popCOGent_example_ocean --prefix vsMHqEDw7T2uDbppQOsaPTU95kvIVuKc /data1/bio_db/refseq/analysis/Manuscript/github_methods/bacterialEvolutionMetrics/popCOGent_example_ocean/vsMHqEDw7T2uDbpp.tempcontig /data1/bio_db/refseq/analysis/Manuscript/github_methods/bacterialEvolutionMetrics/popCOGent_example_ocean/QOsaPTU95kvIVuKc.tempcontig\n",
      "/data1/bio_db/refseq/analysis/Manuscript/github_methods/bacterialEvolutionMetrics/popCOGent_example_ocean/TOBG_SAT-6.fna_@_TOBG_EAC-39.fna.maf.length_bias.txt\n"
     ]
    },
    {
     "name": "stderr",
     "output_type": "stream",
     "text": [
      "\r",
      "Running PopCOGent:  35%|███▌      | 174/495 [22:25<53:02,  9.91s/it]"
     ]
    },
    {
     "name": "stdout",
     "output_type": "stream",
     "text": [
      "export MUGSY_INSTALL=/data8/Human/NIH_4/MethodDevelopment/Mugsy/mugsy_x86-64-v1r2.3 ; /data8/Human/NIH_4/MethodDevelopment/Mugsy/mugsy_x86-64-v1r2.3/mugsy --directory /data1/bio_db/refseq/analysis/Manuscript/github_methods/bacterialEvolutionMetrics/popCOGent_example_ocean --prefix JFhAdQHb62PcCIHAfBIMHvLs074ffmlH /data1/bio_db/refseq/analysis/Manuscript/github_methods/bacterialEvolutionMetrics/popCOGent_example_ocean/JFhAdQHb62PcCIHA.tempcontig /data1/bio_db/refseq/analysis/Manuscript/github_methods/bacterialEvolutionMetrics/popCOGent_example_ocean/fBIMHvLs074ffmlH.tempcontig\n",
      "/data1/bio_db/refseq/analysis/Manuscript/github_methods/bacterialEvolutionMetrics/popCOGent_example_ocean/TOBG_IN-12.fna_@_TOBG_EAC-39.fna.maf.length_bias.txt\n"
     ]
    },
    {
     "name": "stderr",
     "output_type": "stream",
     "text": [
      "\r",
      "Running PopCOGent:  35%|███▌      | 175/495 [22:30<45:49,  8.59s/it]"
     ]
    },
    {
     "name": "stdout",
     "output_type": "stream",
     "text": [
      "export MUGSY_INSTALL=/data8/Human/NIH_4/MethodDevelopment/Mugsy/mugsy_x86-64-v1r2.3 ; /data8/Human/NIH_4/MethodDevelopment/Mugsy/mugsy_x86-64-v1r2.3/mugsy --directory /data1/bio_db/refseq/analysis/Manuscript/github_methods/bacterialEvolutionMetrics/popCOGent_example_ocean --prefix biGDVxVrMmTmVO23lrPEOyBDyunTXRSR /data1/bio_db/refseq/analysis/Manuscript/github_methods/bacterialEvolutionMetrics/popCOGent_example_ocean/biGDVxVrMmTmVO23.tempcontig /data1/bio_db/refseq/analysis/Manuscript/github_methods/bacterialEvolutionMetrics/popCOGent_example_ocean/lrPEOyBDyunTXRSR.tempcontig\n",
      "/data1/bio_db/refseq/analysis/Manuscript/github_methods/bacterialEvolutionMetrics/popCOGent_example_ocean/TOBG_NP-92.fna_@_TOBG_EAC-39.fna.maf.length_bias.txt\n"
     ]
    },
    {
     "name": "stderr",
     "output_type": "stream",
     "text": [
      "\r",
      "Running PopCOGent:  36%|███▌      | 176/495 [22:32<35:15,  6.63s/it]"
     ]
    },
    {
     "name": "stdout",
     "output_type": "stream",
     "text": [
      "export MUGSY_INSTALL=/data8/Human/NIH_4/MethodDevelopment/Mugsy/mugsy_x86-64-v1r2.3 ; /data8/Human/NIH_4/MethodDevelopment/Mugsy/mugsy_x86-64-v1r2.3/mugsy --directory /data1/bio_db/refseq/analysis/Manuscript/github_methods/bacterialEvolutionMetrics/popCOGent_example_ocean --prefix 2WOOwUWvSEojRCe63ixRFFNXmBkigGJa /data1/bio_db/refseq/analysis/Manuscript/github_methods/bacterialEvolutionMetrics/popCOGent_example_ocean/2WOOwUWvSEojRCe6.tempcontig /data1/bio_db/refseq/analysis/Manuscript/github_methods/bacterialEvolutionMetrics/popCOGent_example_ocean/3ixRFFNXmBkigGJa.tempcontig\n",
      "/data1/bio_db/refseq/analysis/Manuscript/github_methods/bacterialEvolutionMetrics/popCOGent_example_ocean/TOBG_SP-2.fna_@_TOBG_EAC-39.fna.maf.length_bias.txt\n"
     ]
    },
    {
     "name": "stderr",
     "output_type": "stream",
     "text": [
      "\r",
      "Running PopCOGent:  36%|███▌      | 177/495 [22:44<43:19,  8.17s/it]"
     ]
    },
    {
     "name": "stdout",
     "output_type": "stream",
     "text": [
      "export MUGSY_INSTALL=/data8/Human/NIH_4/MethodDevelopment/Mugsy/mugsy_x86-64-v1r2.3 ; /data8/Human/NIH_4/MethodDevelopment/Mugsy/mugsy_x86-64-v1r2.3/mugsy --directory /data1/bio_db/refseq/analysis/Manuscript/github_methods/bacterialEvolutionMetrics/popCOGent_example_ocean --prefix GFlsAWToOyqF7tFAfvvCE1dbiezOw8jA /data1/bio_db/refseq/analysis/Manuscript/github_methods/bacterialEvolutionMetrics/popCOGent_example_ocean/GFlsAWToOyqF7tFA.tempcontig /data1/bio_db/refseq/analysis/Manuscript/github_methods/bacterialEvolutionMetrics/popCOGent_example_ocean/fvvCE1dbiezOw8jA.tempcontig\n",
      "/data1/bio_db/refseq/analysis/Manuscript/github_methods/bacterialEvolutionMetrics/popCOGent_example_ocean/TOBG_SAT-19.fna_@_TOBG_EAC-4.fna.maf.length_bias.txt\n"
     ]
    },
    {
     "name": "stderr",
     "output_type": "stream",
     "text": [
      "\r",
      "Running PopCOGent:  36%|███▌      | 178/495 [22:57<51:38,  9.78s/it]"
     ]
    },
    {
     "name": "stdout",
     "output_type": "stream",
     "text": [
      "export MUGSY_INSTALL=/data8/Human/NIH_4/MethodDevelopment/Mugsy/mugsy_x86-64-v1r2.3 ; /data8/Human/NIH_4/MethodDevelopment/Mugsy/mugsy_x86-64-v1r2.3/mugsy --directory /data1/bio_db/refseq/analysis/Manuscript/github_methods/bacterialEvolutionMetrics/popCOGent_example_ocean --prefix RAPixxiUVVpxvsykd8xNs2bgAI6RVLWO /data1/bio_db/refseq/analysis/Manuscript/github_methods/bacterialEvolutionMetrics/popCOGent_example_ocean/RAPixxiUVVpxvsyk.tempcontig /data1/bio_db/refseq/analysis/Manuscript/github_methods/bacterialEvolutionMetrics/popCOGent_example_ocean/d8xNs2bgAI6RVLWO.tempcontig\n",
      "/data1/bio_db/refseq/analysis/Manuscript/github_methods/bacterialEvolutionMetrics/popCOGent_example_ocean/TOBG_NAT-75.fna_@_TOBG_EAC-41.fna.maf.length_bias.txt\n"
     ]
    },
    {
     "name": "stderr",
     "output_type": "stream",
     "text": [
      "\r",
      "Running PopCOGent:  36%|███▌      | 179/495 [23:08<52:16,  9.93s/it]"
     ]
    },
    {
     "name": "stdout",
     "output_type": "stream",
     "text": [
      "export MUGSY_INSTALL=/data8/Human/NIH_4/MethodDevelopment/Mugsy/mugsy_x86-64-v1r2.3 ; /data8/Human/NIH_4/MethodDevelopment/Mugsy/mugsy_x86-64-v1r2.3/mugsy --directory /data1/bio_db/refseq/analysis/Manuscript/github_methods/bacterialEvolutionMetrics/popCOGent_example_ocean --prefix vspHJJTtb54lZLAbnwPsjQ1v8BpeNmtY /data1/bio_db/refseq/analysis/Manuscript/github_methods/bacterialEvolutionMetrics/popCOGent_example_ocean/vspHJJTtb54lZLAb.tempcontig /data1/bio_db/refseq/analysis/Manuscript/github_methods/bacterialEvolutionMetrics/popCOGent_example_ocean/nwPsjQ1v8BpeNmtY.tempcontig\n",
      "/data1/bio_db/refseq/analysis/Manuscript/github_methods/bacterialEvolutionMetrics/popCOGent_example_ocean/TOBG_MED-588.fna_@_TOBG_EAC-4.fna.maf.length_bias.txt\n"
     ]
    },
    {
     "name": "stderr",
     "output_type": "stream",
     "text": [
      "\r",
      "Running PopCOGent:  36%|███▋      | 180/495 [23:11<40:59,  7.81s/it]"
     ]
    },
    {
     "name": "stdout",
     "output_type": "stream",
     "text": [
      "export MUGSY_INSTALL=/data8/Human/NIH_4/MethodDevelopment/Mugsy/mugsy_x86-64-v1r2.3 ; /data8/Human/NIH_4/MethodDevelopment/Mugsy/mugsy_x86-64-v1r2.3/mugsy --directory /data1/bio_db/refseq/analysis/Manuscript/github_methods/bacterialEvolutionMetrics/popCOGent_example_ocean --prefix Vg0t9n2G4hHAMoV9H2WC2Z4h3InraG6W /data1/bio_db/refseq/analysis/Manuscript/github_methods/bacterialEvolutionMetrics/popCOGent_example_ocean/Vg0t9n2G4hHAMoV9.tempcontig /data1/bio_db/refseq/analysis/Manuscript/github_methods/bacterialEvolutionMetrics/popCOGent_example_ocean/H2WC2Z4h3InraG6W.tempcontig\n",
      "/data1/bio_db/refseq/analysis/Manuscript/github_methods/bacterialEvolutionMetrics/popCOGent_example_ocean/TOBG_NP-12.fna_@_TOBG_EAC-41.fna.maf.length_bias.txt\n"
     ]
    },
    {
     "name": "stderr",
     "output_type": "stream",
     "text": [
      "\r",
      "Running PopCOGent:  37%|███▋      | 181/495 [23:17<39:07,  7.48s/it]"
     ]
    },
    {
     "name": "stdout",
     "output_type": "stream",
     "text": [
      "export MUGSY_INSTALL=/data8/Human/NIH_4/MethodDevelopment/Mugsy/mugsy_x86-64-v1r2.3 ; /data8/Human/NIH_4/MethodDevelopment/Mugsy/mugsy_x86-64-v1r2.3/mugsy --directory /data1/bio_db/refseq/analysis/Manuscript/github_methods/bacterialEvolutionMetrics/popCOGent_example_ocean --prefix Wq4pbJbpBqb9P5lj3msKb2WOtVPQpsdk /data1/bio_db/refseq/analysis/Manuscript/github_methods/bacterialEvolutionMetrics/popCOGent_example_ocean/Wq4pbJbpBqb9P5lj.tempcontig /data1/bio_db/refseq/analysis/Manuscript/github_methods/bacterialEvolutionMetrics/popCOGent_example_ocean/3msKb2WOtVPQpsdk.tempcontig\n",
      "/data1/bio_db/refseq/analysis/Manuscript/github_methods/bacterialEvolutionMetrics/popCOGent_example_ocean/TOBG_SAT-91.fna_@_TOBG_EAC-42.fna.maf.length_bias.txt\n"
     ]
    },
    {
     "name": "stderr",
     "output_type": "stream",
     "text": [
      "\r",
      "Running PopCOGent:  37%|███▋      | 182/495 [23:21<33:00,  6.33s/it]"
     ]
    },
    {
     "name": "stdout",
     "output_type": "stream",
     "text": [
      "export MUGSY_INSTALL=/data8/Human/NIH_4/MethodDevelopment/Mugsy/mugsy_x86-64-v1r2.3 ; /data8/Human/NIH_4/MethodDevelopment/Mugsy/mugsy_x86-64-v1r2.3/mugsy --directory /data1/bio_db/refseq/analysis/Manuscript/github_methods/bacterialEvolutionMetrics/popCOGent_example_ocean --prefix ojruOQwAPEiRZQvWTRHGBi6j54WHPQqq /data1/bio_db/refseq/analysis/Manuscript/github_methods/bacterialEvolutionMetrics/popCOGent_example_ocean/ojruOQwAPEiRZQvW.tempcontig /data1/bio_db/refseq/analysis/Manuscript/github_methods/bacterialEvolutionMetrics/popCOGent_example_ocean/TRHGBi6j54WHPQqq.tempcontig\n",
      "/data1/bio_db/refseq/analysis/Manuscript/github_methods/bacterialEvolutionMetrics/popCOGent_example_ocean/TOBG_SP-32.fna_@_TOBG_EAC-41.fna.maf.length_bias.txt\n"
     ]
    },
    {
     "name": "stderr",
     "output_type": "stream",
     "text": [
      "\r",
      "Running PopCOGent:  37%|███▋      | 183/495 [23:25<28:47,  5.54s/it]"
     ]
    },
    {
     "name": "stdout",
     "output_type": "stream",
     "text": [
      "export MUGSY_INSTALL=/data8/Human/NIH_4/MethodDevelopment/Mugsy/mugsy_x86-64-v1r2.3 ; /data8/Human/NIH_4/MethodDevelopment/Mugsy/mugsy_x86-64-v1r2.3/mugsy --directory /data1/bio_db/refseq/analysis/Manuscript/github_methods/bacterialEvolutionMetrics/popCOGent_example_ocean --prefix 4qlRJa9HzZlA7AhCaJMTSCZiGubH38NA /data1/bio_db/refseq/analysis/Manuscript/github_methods/bacterialEvolutionMetrics/popCOGent_example_ocean/4qlRJa9HzZlA7AhC.tempcontig /data1/bio_db/refseq/analysis/Manuscript/github_methods/bacterialEvolutionMetrics/popCOGent_example_ocean/aJMTSCZiGubH38NA.tempcontig\n",
      "/data1/bio_db/refseq/analysis/Manuscript/github_methods/bacterialEvolutionMetrics/popCOGent_example_ocean/TOBG_SP-64.fna_@_TOBG_EAC-41.fna.maf.length_bias.txt\n"
     ]
    },
    {
     "name": "stderr",
     "output_type": "stream",
     "text": [
      "\r",
      "Running PopCOGent:  37%|███▋      | 184/495 [23:47<54:18, 10.48s/it]"
     ]
    },
    {
     "name": "stdout",
     "output_type": "stream",
     "text": [
      "export MUGSY_INSTALL=/data8/Human/NIH_4/MethodDevelopment/Mugsy/mugsy_x86-64-v1r2.3 ; /data8/Human/NIH_4/MethodDevelopment/Mugsy/mugsy_x86-64-v1r2.3/mugsy --directory /data1/bio_db/refseq/analysis/Manuscript/github_methods/bacterialEvolutionMetrics/popCOGent_example_ocean --prefix EKmVvXNO4ZzEJFujoo7Dbx8E7lWiTZrD /data1/bio_db/refseq/analysis/Manuscript/github_methods/bacterialEvolutionMetrics/popCOGent_example_ocean/EKmVvXNO4ZzEJFuj.tempcontig /data1/bio_db/refseq/analysis/Manuscript/github_methods/bacterialEvolutionMetrics/popCOGent_example_ocean/oo7Dbx8E7lWiTZrD.tempcontig\n",
      "/data1/bio_db/refseq/analysis/Manuscript/github_methods/bacterialEvolutionMetrics/popCOGent_example_ocean/TOBG_SAT-4.fna_@_TOBG_EAC-48.fna.maf.length_bias.txt\n"
     ]
    },
    {
     "name": "stderr",
     "output_type": "stream",
     "text": [
      "\r",
      "Running PopCOGent:  37%|███▋      | 185/495 [23:48<40:03,  7.75s/it]"
     ]
    },
    {
     "name": "stdout",
     "output_type": "stream",
     "text": [
      "export MUGSY_INSTALL=/data8/Human/NIH_4/MethodDevelopment/Mugsy/mugsy_x86-64-v1r2.3 ; /data8/Human/NIH_4/MethodDevelopment/Mugsy/mugsy_x86-64-v1r2.3/mugsy --directory /data1/bio_db/refseq/analysis/Manuscript/github_methods/bacterialEvolutionMetrics/popCOGent_example_ocean --prefix m7o9tx66JnZmei4DdHvDZ4X1XDkFeOrS /data1/bio_db/refseq/analysis/Manuscript/github_methods/bacterialEvolutionMetrics/popCOGent_example_ocean/m7o9tx66JnZmei4D.tempcontig /data1/bio_db/refseq/analysis/Manuscript/github_methods/bacterialEvolutionMetrics/popCOGent_example_ocean/dHvDZ4X1XDkFeOrS.tempcontig\n",
      "/data1/bio_db/refseq/analysis/Manuscript/github_methods/bacterialEvolutionMetrics/popCOGent_example_ocean/TOBG_SAT-101.fna_@_TOBG_EAC-45.fna.maf.length_bias.txt\n"
     ]
    },
    {
     "name": "stderr",
     "output_type": "stream",
     "text": [
      "\r",
      "Running PopCOGent:  38%|███▊      | 186/495 [23:57<42:26,  8.24s/it]"
     ]
    },
    {
     "name": "stdout",
     "output_type": "stream",
     "text": [
      "export MUGSY_INSTALL=/data8/Human/NIH_4/MethodDevelopment/Mugsy/mugsy_x86-64-v1r2.3 ; /data8/Human/NIH_4/MethodDevelopment/Mugsy/mugsy_x86-64-v1r2.3/mugsy --directory /data1/bio_db/refseq/analysis/Manuscript/github_methods/bacterialEvolutionMetrics/popCOGent_example_ocean --prefix XrTF3Ty1Vv1RhOXLnIzZLkKR3MofvQVg /data1/bio_db/refseq/analysis/Manuscript/github_methods/bacterialEvolutionMetrics/popCOGent_example_ocean/XrTF3Ty1Vv1RhOXL.tempcontig /data1/bio_db/refseq/analysis/Manuscript/github_methods/bacterialEvolutionMetrics/popCOGent_example_ocean/nIzZLkKR3MofvQVg.tempcontig\n",
      "/data1/bio_db/refseq/analysis/Manuscript/github_methods/bacterialEvolutionMetrics/popCOGent_example_ocean/TOBG_SAT-20.fna_@_TOBG_EAC-49.fna.maf.length_bias.txt\n"
     ]
    },
    {
     "name": "stderr",
     "output_type": "stream",
     "text": [
      "\r",
      "Running PopCOGent:  38%|███▊      | 187/495 [23:58<31:08,  6.07s/it]"
     ]
    },
    {
     "name": "stdout",
     "output_type": "stream",
     "text": [
      "export MUGSY_INSTALL=/data8/Human/NIH_4/MethodDevelopment/Mugsy/mugsy_x86-64-v1r2.3 ; /data8/Human/NIH_4/MethodDevelopment/Mugsy/mugsy_x86-64-v1r2.3/mugsy --directory /data1/bio_db/refseq/analysis/Manuscript/github_methods/bacterialEvolutionMetrics/popCOGent_example_ocean --prefix 93uxmLT9R7vOBTJx38glxcNxNps569Rg /data1/bio_db/refseq/analysis/Manuscript/github_methods/bacterialEvolutionMetrics/popCOGent_example_ocean/93uxmLT9R7vOBTJx.tempcontig /data1/bio_db/refseq/analysis/Manuscript/github_methods/bacterialEvolutionMetrics/popCOGent_example_ocean/38glxcNxNps569Rg.tempcontig\n",
      "/data1/bio_db/refseq/analysis/Manuscript/github_methods/bacterialEvolutionMetrics/popCOGent_example_ocean/TOBG_IN-7.fna_@_TOBG_EAC-49.fna.maf.length_bias.txt\n"
     ]
    },
    {
     "name": "stderr",
     "output_type": "stream",
     "text": [
      "\r",
      "Running PopCOGent:  38%|███▊      | 188/495 [24:02<26:49,  5.24s/it]"
     ]
    },
    {
     "name": "stdout",
     "output_type": "stream",
     "text": [
      "export MUGSY_INSTALL=/data8/Human/NIH_4/MethodDevelopment/Mugsy/mugsy_x86-64-v1r2.3 ; /data8/Human/NIH_4/MethodDevelopment/Mugsy/mugsy_x86-64-v1r2.3/mugsy --directory /data1/bio_db/refseq/analysis/Manuscript/github_methods/bacterialEvolutionMetrics/popCOGent_example_ocean --prefix qcEbJWYpQlq1lov2810XJeGeKh0HneaN /data1/bio_db/refseq/analysis/Manuscript/github_methods/bacterialEvolutionMetrics/popCOGent_example_ocean/qcEbJWYpQlq1lov2.tempcontig /data1/bio_db/refseq/analysis/Manuscript/github_methods/bacterialEvolutionMetrics/popCOGent_example_ocean/810XJeGeKh0HneaN.tempcontig\n",
      "/data1/bio_db/refseq/analysis/Manuscript/github_methods/bacterialEvolutionMetrics/popCOGent_example_ocean/TOBG_NP-127.fna_@_TOBG_EAC-5.fna.maf.length_bias.txt\n"
     ]
    },
    {
     "name": "stderr",
     "output_type": "stream",
     "text": [
      "\r",
      "Running PopCOGent:  38%|███▊      | 189/495 [24:16<41:01,  8.05s/it]"
     ]
    },
    {
     "name": "stdout",
     "output_type": "stream",
     "text": [
      "export MUGSY_INSTALL=/data8/Human/NIH_4/MethodDevelopment/Mugsy/mugsy_x86-64-v1r2.3 ; /data8/Human/NIH_4/MethodDevelopment/Mugsy/mugsy_x86-64-v1r2.3/mugsy --directory /data1/bio_db/refseq/analysis/Manuscript/github_methods/bacterialEvolutionMetrics/popCOGent_example_ocean --prefix cZCfMvhstNZFfTjadMkUsVPE96x1niJh /data1/bio_db/refseq/analysis/Manuscript/github_methods/bacterialEvolutionMetrics/popCOGent_example_ocean/cZCfMvhstNZFfTja.tempcontig /data1/bio_db/refseq/analysis/Manuscript/github_methods/bacterialEvolutionMetrics/popCOGent_example_ocean/dMkUsVPE96x1niJh.tempcontig\n",
      "/data1/bio_db/refseq/analysis/Manuscript/github_methods/bacterialEvolutionMetrics/popCOGent_example_ocean/TOBG_SP-45.fna_@_TOBG_EAC-45.fna.maf.length_bias.txt\n"
     ]
    },
    {
     "name": "stderr",
     "output_type": "stream",
     "text": [
      "\r",
      "Running PopCOGent:  38%|███▊      | 190/495 [24:24<39:42,  7.81s/it]"
     ]
    },
    {
     "name": "stdout",
     "output_type": "stream",
     "text": [
      "export MUGSY_INSTALL=/data8/Human/NIH_4/MethodDevelopment/Mugsy/mugsy_x86-64-v1r2.3 ; /data8/Human/NIH_4/MethodDevelopment/Mugsy/mugsy_x86-64-v1r2.3/mugsy --directory /data1/bio_db/refseq/analysis/Manuscript/github_methods/bacterialEvolutionMetrics/popCOGent_example_ocean --prefix f6jfjBoxNn1gfUpFqTjwJ6RcGI9TdRjt /data1/bio_db/refseq/analysis/Manuscript/github_methods/bacterialEvolutionMetrics/popCOGent_example_ocean/f6jfjBoxNn1gfUpF.tempcontig /data1/bio_db/refseq/analysis/Manuscript/github_methods/bacterialEvolutionMetrics/popCOGent_example_ocean/qTjwJ6RcGI9TdRjt.tempcontig\n",
      "/data1/bio_db/refseq/analysis/Manuscript/github_methods/bacterialEvolutionMetrics/popCOGent_example_ocean/TOBG_SAT-49.fna_@_TOBG_EAC-51.fna.maf.length_bias.txt\n"
     ]
    },
    {
     "name": "stderr",
     "output_type": "stream",
     "text": [
      "\r",
      "Running PopCOGent:  39%|███▊      | 191/495 [24:24<29:08,  5.75s/it]"
     ]
    },
    {
     "name": "stdout",
     "output_type": "stream",
     "text": [
      "export MUGSY_INSTALL=/data8/Human/NIH_4/MethodDevelopment/Mugsy/mugsy_x86-64-v1r2.3 ; /data8/Human/NIH_4/MethodDevelopment/Mugsy/mugsy_x86-64-v1r2.3/mugsy --directory /data1/bio_db/refseq/analysis/Manuscript/github_methods/bacterialEvolutionMetrics/popCOGent_example_ocean --prefix 8AIKBiMbHCb53GxNzbs0pOhdKJbj5058 /data1/bio_db/refseq/analysis/Manuscript/github_methods/bacterialEvolutionMetrics/popCOGent_example_ocean/8AIKBiMbHCb53GxN.tempcontig /data1/bio_db/refseq/analysis/Manuscript/github_methods/bacterialEvolutionMetrics/popCOGent_example_ocean/zbs0pOhdKJbj5058.tempcontig\n",
      "/data1/bio_db/refseq/analysis/Manuscript/github_methods/bacterialEvolutionMetrics/popCOGent_example_ocean/TOBG_SP-76.fna_@_TOBG_EAC-51.fna.maf.length_bias.txt\n"
     ]
    },
    {
     "name": "stderr",
     "output_type": "stream",
     "text": [
      "\r",
      "Running PopCOGent:  39%|███▉      | 192/495 [24:27<24:26,  4.84s/it]"
     ]
    },
    {
     "name": "stdout",
     "output_type": "stream",
     "text": [
      "export MUGSY_INSTALL=/data8/Human/NIH_4/MethodDevelopment/Mugsy/mugsy_x86-64-v1r2.3 ; /data8/Human/NIH_4/MethodDevelopment/Mugsy/mugsy_x86-64-v1r2.3/mugsy --directory /data1/bio_db/refseq/analysis/Manuscript/github_methods/bacterialEvolutionMetrics/popCOGent_example_ocean --prefix Daj4Ggl43D7SM1LwYqmBc58vbmbVQUPd /data1/bio_db/refseq/analysis/Manuscript/github_methods/bacterialEvolutionMetrics/popCOGent_example_ocean/Daj4Ggl43D7SM1Lw.tempcontig /data1/bio_db/refseq/analysis/Manuscript/github_methods/bacterialEvolutionMetrics/popCOGent_example_ocean/YqmBc58vbmbVQUPd.tempcontig\n",
      "/data1/bio_db/refseq/analysis/Manuscript/github_methods/bacterialEvolutionMetrics/popCOGent_example_ocean/TOBG_SP-63.fna_@_TOBG_EAC-5.fna.maf.length_bias.txt\n"
     ]
    },
    {
     "name": "stderr",
     "output_type": "stream",
     "text": [
      "\r",
      "Running PopCOGent:  39%|███▉      | 193/495 [24:31<23:12,  4.61s/it]"
     ]
    },
    {
     "name": "stdout",
     "output_type": "stream",
     "text": [
      "export MUGSY_INSTALL=/data8/Human/NIH_4/MethodDevelopment/Mugsy/mugsy_x86-64-v1r2.3 ; /data8/Human/NIH_4/MethodDevelopment/Mugsy/mugsy_x86-64-v1r2.3/mugsy --directory /data1/bio_db/refseq/analysis/Manuscript/github_methods/bacterialEvolutionMetrics/popCOGent_example_ocean --prefix WlZsRgjTA4i6WQPnaVn8YB7aohiZ56Oz /data1/bio_db/refseq/analysis/Manuscript/github_methods/bacterialEvolutionMetrics/popCOGent_example_ocean/WlZsRgjTA4i6WQPn.tempcontig /data1/bio_db/refseq/analysis/Manuscript/github_methods/bacterialEvolutionMetrics/popCOGent_example_ocean/aVn8YB7aohiZ56Oz.tempcontig\n",
      "/data1/bio_db/refseq/analysis/Manuscript/github_methods/bacterialEvolutionMetrics/popCOGent_example_ocean/TOBG_IN-15.fna_@_TOBG_EAC-50.fna.maf.length_bias.txt\n"
     ]
    },
    {
     "name": "stderr",
     "output_type": "stream",
     "text": [
      "\r",
      "Running PopCOGent:  39%|███▉      | 194/495 [24:35<21:39,  4.32s/it]"
     ]
    },
    {
     "name": "stdout",
     "output_type": "stream",
     "text": [
      "export MUGSY_INSTALL=/data8/Human/NIH_4/MethodDevelopment/Mugsy/mugsy_x86-64-v1r2.3 ; /data8/Human/NIH_4/MethodDevelopment/Mugsy/mugsy_x86-64-v1r2.3/mugsy --directory /data1/bio_db/refseq/analysis/Manuscript/github_methods/bacterialEvolutionMetrics/popCOGent_example_ocean --prefix CvNljBJdtpRwAi2jKjB2R23OMfsHTjiY /data1/bio_db/refseq/analysis/Manuscript/github_methods/bacterialEvolutionMetrics/popCOGent_example_ocean/CvNljBJdtpRwAi2j.tempcontig /data1/bio_db/refseq/analysis/Manuscript/github_methods/bacterialEvolutionMetrics/popCOGent_example_ocean/KjB2R23OMfsHTjiY.tempcontig\n",
      "/data1/bio_db/refseq/analysis/Manuscript/github_methods/bacterialEvolutionMetrics/popCOGent_example_ocean/TOBG_NP-8.fna_@_TOBG_EAC-55.fna.maf.length_bias.txt\n"
     ]
    },
    {
     "name": "stderr",
     "output_type": "stream",
     "text": [
      "\r",
      "Running PopCOGent:  39%|███▉      | 195/495 [24:46<32:19,  6.46s/it]"
     ]
    },
    {
     "name": "stdout",
     "output_type": "stream",
     "text": [
      "export MUGSY_INSTALL=/data8/Human/NIH_4/MethodDevelopment/Mugsy/mugsy_x86-64-v1r2.3 ; /data8/Human/NIH_4/MethodDevelopment/Mugsy/mugsy_x86-64-v1r2.3/mugsy --directory /data1/bio_db/refseq/analysis/Manuscript/github_methods/bacterialEvolutionMetrics/popCOGent_example_ocean --prefix EjU0AnSUmiih4dmR24t9d4Ixa4D8ONvi /data1/bio_db/refseq/analysis/Manuscript/github_methods/bacterialEvolutionMetrics/popCOGent_example_ocean/EjU0AnSUmiih4dmR.tempcontig /data1/bio_db/refseq/analysis/Manuscript/github_methods/bacterialEvolutionMetrics/popCOGent_example_ocean/24t9d4Ixa4D8ONvi.tempcontig\n",
      "/data1/bio_db/refseq/analysis/Manuscript/github_methods/bacterialEvolutionMetrics/popCOGent_example_ocean/TOBG_SAT-134.fna_@_TOBG_EAC-55.fna.maf.length_bias.txt\n"
     ]
    },
    {
     "name": "stderr",
     "output_type": "stream",
     "text": [
      "\r",
      "Running PopCOGent:  40%|███▉      | 196/495 [24:57<37:51,  7.60s/it]"
     ]
    },
    {
     "name": "stdout",
     "output_type": "stream",
     "text": [
      "export MUGSY_INSTALL=/data8/Human/NIH_4/MethodDevelopment/Mugsy/mugsy_x86-64-v1r2.3 ; /data8/Human/NIH_4/MethodDevelopment/Mugsy/mugsy_x86-64-v1r2.3/mugsy --directory /data1/bio_db/refseq/analysis/Manuscript/github_methods/bacterialEvolutionMetrics/popCOGent_example_ocean --prefix mYf40tMMhZD12s2Cv7UMP5edmsf7MtZU /data1/bio_db/refseq/analysis/Manuscript/github_methods/bacterialEvolutionMetrics/popCOGent_example_ocean/mYf40tMMhZD12s2C.tempcontig /data1/bio_db/refseq/analysis/Manuscript/github_methods/bacterialEvolutionMetrics/popCOGent_example_ocean/v7UMP5edmsf7MtZU.tempcontig\n",
      "/data1/bio_db/refseq/analysis/Manuscript/github_methods/bacterialEvolutionMetrics/popCOGent_example_ocean/TOBG_SP-93.fna_@_TOBG_EAC-55.fna.maf.length_bias.txt\n"
     ]
    },
    {
     "name": "stderr",
     "output_type": "stream",
     "text": [
      "\r",
      "Running PopCOGent:  40%|███▉      | 197/495 [24:59<30:19,  6.11s/it]"
     ]
    },
    {
     "name": "stdout",
     "output_type": "stream",
     "text": [
      "export MUGSY_INSTALL=/data8/Human/NIH_4/MethodDevelopment/Mugsy/mugsy_x86-64-v1r2.3 ; /data8/Human/NIH_4/MethodDevelopment/Mugsy/mugsy_x86-64-v1r2.3/mugsy --directory /data1/bio_db/refseq/analysis/Manuscript/github_methods/bacterialEvolutionMetrics/popCOGent_example_ocean --prefix FCr5cxNBncqQdPkBnPWfGlvIHG9lvWaQ /data1/bio_db/refseq/analysis/Manuscript/github_methods/bacterialEvolutionMetrics/popCOGent_example_ocean/FCr5cxNBncqQdPkB.tempcontig /data1/bio_db/refseq/analysis/Manuscript/github_methods/bacterialEvolutionMetrics/popCOGent_example_ocean/nPWfGlvIHG9lvWaQ.tempcontig\n",
      "/data1/bio_db/refseq/analysis/Manuscript/github_methods/bacterialEvolutionMetrics/popCOGent_example_ocean/TOBG_SP-350.fna_@_TOBG_EAC-55.fna.maf.length_bias.txt\n"
     ]
    },
    {
     "name": "stderr",
     "output_type": "stream",
     "text": [
      "\r",
      "Running PopCOGent:  40%|████      | 198/495 [25:10<36:48,  7.43s/it]"
     ]
    },
    {
     "name": "stdout",
     "output_type": "stream",
     "text": [
      "export MUGSY_INSTALL=/data8/Human/NIH_4/MethodDevelopment/Mugsy/mugsy_x86-64-v1r2.3 ; /data8/Human/NIH_4/MethodDevelopment/Mugsy/mugsy_x86-64-v1r2.3/mugsy --directory /data1/bio_db/refseq/analysis/Manuscript/github_methods/bacterialEvolutionMetrics/popCOGent_example_ocean --prefix ZtFxbNI04tVGiaKUz0E2E3hu7tWqrJyM /data1/bio_db/refseq/analysis/Manuscript/github_methods/bacterialEvolutionMetrics/popCOGent_example_ocean/ZtFxbNI04tVGiaKU.tempcontig /data1/bio_db/refseq/analysis/Manuscript/github_methods/bacterialEvolutionMetrics/popCOGent_example_ocean/z0E2E3hu7tWqrJyM.tempcontig\n",
      "/data1/bio_db/refseq/analysis/Manuscript/github_methods/bacterialEvolutionMetrics/popCOGent_example_ocean/TOBG_IN-10.fna_@_TOBG_EAC-62.fna.maf.length_bias.txt\n"
     ]
    },
    {
     "name": "stderr",
     "output_type": "stream",
     "text": [
      "\r",
      "Running PopCOGent:  40%|████      | 199/495 [25:11<26:45,  5.43s/it]"
     ]
    },
    {
     "name": "stdout",
     "output_type": "stream",
     "text": [
      "export MUGSY_INSTALL=/data8/Human/NIH_4/MethodDevelopment/Mugsy/mugsy_x86-64-v1r2.3 ; /data8/Human/NIH_4/MethodDevelopment/Mugsy/mugsy_x86-64-v1r2.3/mugsy --directory /data1/bio_db/refseq/analysis/Manuscript/github_methods/bacterialEvolutionMetrics/popCOGent_example_ocean --prefix 14kG8s53rjOm7LGMlrOIehzMbzkUkzvA /data1/bio_db/refseq/analysis/Manuscript/github_methods/bacterialEvolutionMetrics/popCOGent_example_ocean/14kG8s53rjOm7LGM.tempcontig /data1/bio_db/refseq/analysis/Manuscript/github_methods/bacterialEvolutionMetrics/popCOGent_example_ocean/lrOIehzMbzkUkzvA.tempcontig\n",
      "/data1/bio_db/refseq/analysis/Manuscript/github_methods/bacterialEvolutionMetrics/popCOGent_example_ocean/TOBG_RS-816.fna_@_TOBG_EAC-649.fna.maf.length_bias.txt\n"
     ]
    },
    {
     "name": "stderr",
     "output_type": "stream",
     "text": [
      "\r",
      "Running PopCOGent:  40%|████      | 200/495 [25:14<23:08,  4.71s/it]"
     ]
    },
    {
     "name": "stdout",
     "output_type": "stream",
     "text": [
      "export MUGSY_INSTALL=/data8/Human/NIH_4/MethodDevelopment/Mugsy/mugsy_x86-64-v1r2.3 ; /data8/Human/NIH_4/MethodDevelopment/Mugsy/mugsy_x86-64-v1r2.3/mugsy --directory /data1/bio_db/refseq/analysis/Manuscript/github_methods/bacterialEvolutionMetrics/popCOGent_example_ocean --prefix AFTlOrIvOPLVQw7If6MIlPRyh1fgT51H /data1/bio_db/refseq/analysis/Manuscript/github_methods/bacterialEvolutionMetrics/popCOGent_example_ocean/AFTlOrIvOPLVQw7I.tempcontig /data1/bio_db/refseq/analysis/Manuscript/github_methods/bacterialEvolutionMetrics/popCOGent_example_ocean/f6MIlPRyh1fgT51H.tempcontig\n",
      "/data1/bio_db/refseq/analysis/Manuscript/github_methods/bacterialEvolutionMetrics/popCOGent_example_ocean/TOBG_SAT-117.fna_@_TOBG_EAC-62.fna.maf.length_bias.txt\n"
     ]
    },
    {
     "name": "stderr",
     "output_type": "stream",
     "text": [
      "\r",
      "Running PopCOGent:  41%|████      | 201/495 [25:22<27:53,  5.69s/it]"
     ]
    },
    {
     "name": "stdout",
     "output_type": "stream",
     "text": [
      "export MUGSY_INSTALL=/data8/Human/NIH_4/MethodDevelopment/Mugsy/mugsy_x86-64-v1r2.3 ; /data8/Human/NIH_4/MethodDevelopment/Mugsy/mugsy_x86-64-v1r2.3/mugsy --directory /data1/bio_db/refseq/analysis/Manuscript/github_methods/bacterialEvolutionMetrics/popCOGent_example_ocean --prefix 6ggcsyOlKBhyWJi5sFDUXILEUax3MYZq /data1/bio_db/refseq/analysis/Manuscript/github_methods/bacterialEvolutionMetrics/popCOGent_example_ocean/6ggcsyOlKBhyWJi5.tempcontig /data1/bio_db/refseq/analysis/Manuscript/github_methods/bacterialEvolutionMetrics/popCOGent_example_ocean/sFDUXILEUax3MYZq.tempcontig\n",
      "/data1/bio_db/refseq/analysis/Manuscript/github_methods/bacterialEvolutionMetrics/popCOGent_example_ocean/TOBG_SAT-2619.fna_@_TOBG_EAC-649.fna.maf.length_bias.txt\n"
     ]
    },
    {
     "name": "stderr",
     "output_type": "stream",
     "text": [
      "\r",
      "Running PopCOGent:  41%|████      | 202/495 [25:31<34:00,  6.97s/it]"
     ]
    },
    {
     "name": "stdout",
     "output_type": "stream",
     "text": [
      "export MUGSY_INSTALL=/data8/Human/NIH_4/MethodDevelopment/Mugsy/mugsy_x86-64-v1r2.3 ; /data8/Human/NIH_4/MethodDevelopment/Mugsy/mugsy_x86-64-v1r2.3/mugsy --directory /data1/bio_db/refseq/analysis/Manuscript/github_methods/bacterialEvolutionMetrics/popCOGent_example_ocean --prefix R7nMDapaQsadr3Qqhlze3W0LIOTgty9w /data1/bio_db/refseq/analysis/Manuscript/github_methods/bacterialEvolutionMetrics/popCOGent_example_ocean/R7nMDapaQsadr3Qq.tempcontig /data1/bio_db/refseq/analysis/Manuscript/github_methods/bacterialEvolutionMetrics/popCOGent_example_ocean/hlze3W0LIOTgty9w.tempcontig\n",
      "/data1/bio_db/refseq/analysis/Manuscript/github_methods/bacterialEvolutionMetrics/popCOGent_example_ocean/TOBG_IN-1213.fna_@_TOBG_EAC-65.fna.maf.length_bias.txt\n"
     ]
    },
    {
     "name": "stderr",
     "output_type": "stream",
     "text": [
      "\r",
      "Running PopCOGent:  41%|████      | 203/495 [25:33<26:14,  5.39s/it]"
     ]
    },
    {
     "name": "stdout",
     "output_type": "stream",
     "text": [
      "export MUGSY_INSTALL=/data8/Human/NIH_4/MethodDevelopment/Mugsy/mugsy_x86-64-v1r2.3 ; /data8/Human/NIH_4/MethodDevelopment/Mugsy/mugsy_x86-64-v1r2.3/mugsy --directory /data1/bio_db/refseq/analysis/Manuscript/github_methods/bacterialEvolutionMetrics/popCOGent_example_ocean --prefix 9gBKzaSFfhLEXKjOx0ULMSE05sUEBsIO /data1/bio_db/refseq/analysis/Manuscript/github_methods/bacterialEvolutionMetrics/popCOGent_example_ocean/9gBKzaSFfhLEXKjO.tempcontig /data1/bio_db/refseq/analysis/Manuscript/github_methods/bacterialEvolutionMetrics/popCOGent_example_ocean/x0ULMSE05sUEBsIO.tempcontig\n",
      "/data1/bio_db/refseq/analysis/Manuscript/github_methods/bacterialEvolutionMetrics/popCOGent_example_ocean/TOBG_SP-3018.fna_@_TOBG_EAC-63.fna.maf.length_bias.txt\n"
     ]
    },
    {
     "name": "stderr",
     "output_type": "stream",
     "text": [
      "\r",
      "Running PopCOGent:  41%|████      | 204/495 [25:38<24:33,  5.07s/it]"
     ]
    },
    {
     "name": "stdout",
     "output_type": "stream",
     "text": [
      "export MUGSY_INSTALL=/data8/Human/NIH_4/MethodDevelopment/Mugsy/mugsy_x86-64-v1r2.3 ; /data8/Human/NIH_4/MethodDevelopment/Mugsy/mugsy_x86-64-v1r2.3/mugsy --directory /data1/bio_db/refseq/analysis/Manuscript/github_methods/bacterialEvolutionMetrics/popCOGent_example_ocean --prefix YAhyktZxKiBfSOCeIH8h4kssH8E2If0y /data1/bio_db/refseq/analysis/Manuscript/github_methods/bacterialEvolutionMetrics/popCOGent_example_ocean/YAhyktZxKiBfSOCe.tempcontig /data1/bio_db/refseq/analysis/Manuscript/github_methods/bacterialEvolutionMetrics/popCOGent_example_ocean/IH8h4kssH8E2If0y.tempcontig\n",
      "/data1/bio_db/refseq/analysis/Manuscript/github_methods/bacterialEvolutionMetrics/popCOGent_example_ocean/TOBG_RS-817.fna_@_TOBG_EAC-65.fna.maf.length_bias.txt\n"
     ]
    },
    {
     "name": "stderr",
     "output_type": "stream",
     "text": [
      "\r",
      "Running PopCOGent:  41%|████▏     | 205/495 [25:46<29:58,  6.20s/it]"
     ]
    },
    {
     "name": "stdout",
     "output_type": "stream",
     "text": [
      "export MUGSY_INSTALL=/data8/Human/NIH_4/MethodDevelopment/Mugsy/mugsy_x86-64-v1r2.3 ; /data8/Human/NIH_4/MethodDevelopment/Mugsy/mugsy_x86-64-v1r2.3/mugsy --directory /data1/bio_db/refseq/analysis/Manuscript/github_methods/bacterialEvolutionMetrics/popCOGent_example_ocean --prefix aWlPBUuxe9fwsdVapbhfI0j1cuqrtgwc /data1/bio_db/refseq/analysis/Manuscript/github_methods/bacterialEvolutionMetrics/popCOGent_example_ocean/aWlPBUuxe9fwsdVa.tempcontig /data1/bio_db/refseq/analysis/Manuscript/github_methods/bacterialEvolutionMetrics/popCOGent_example_ocean/pbhfI0j1cuqrtgwc.tempcontig\n",
      "/data1/bio_db/refseq/analysis/Manuscript/github_methods/bacterialEvolutionMetrics/popCOGent_example_ocean/TOBG_IN-13.fna_@_TOBG_EAC-63.fna.maf.length_bias.txt\n"
     ]
    },
    {
     "name": "stderr",
     "output_type": "stream",
     "text": [
      "\r",
      "Running PopCOGent:  42%|████▏     | 206/495 [25:56<34:19,  7.13s/it]"
     ]
    },
    {
     "name": "stdout",
     "output_type": "stream",
     "text": [
      "export MUGSY_INSTALL=/data8/Human/NIH_4/MethodDevelopment/Mugsy/mugsy_x86-64-v1r2.3 ; /data8/Human/NIH_4/MethodDevelopment/Mugsy/mugsy_x86-64-v1r2.3/mugsy --directory /data1/bio_db/refseq/analysis/Manuscript/github_methods/bacterialEvolutionMetrics/popCOGent_example_ocean --prefix ZcCjbDT9IJxCSqLm7UeuInF1SYETnCKC /data1/bio_db/refseq/analysis/Manuscript/github_methods/bacterialEvolutionMetrics/popCOGent_example_ocean/ZcCjbDT9IJxCSqLm.tempcontig /data1/bio_db/refseq/analysis/Manuscript/github_methods/bacterialEvolutionMetrics/popCOGent_example_ocean/7UeuInF1SYETnCKC.tempcontig\n",
      "/data1/bio_db/refseq/analysis/Manuscript/github_methods/bacterialEvolutionMetrics/popCOGent_example_ocean/TOBG_SAT-90.fna_@_TOBG_EAC-670.fna.maf.length_bias.txt\n"
     ]
    },
    {
     "name": "stderr",
     "output_type": "stream",
     "text": [
      "\r",
      "Running PopCOGent:  42%|████▏     | 207/495 [26:03<35:09,  7.33s/it]"
     ]
    },
    {
     "name": "stdout",
     "output_type": "stream",
     "text": [
      "export MUGSY_INSTALL=/data8/Human/NIH_4/MethodDevelopment/Mugsy/mugsy_x86-64-v1r2.3 ; /data8/Human/NIH_4/MethodDevelopment/Mugsy/mugsy_x86-64-v1r2.3/mugsy --directory /data1/bio_db/refseq/analysis/Manuscript/github_methods/bacterialEvolutionMetrics/popCOGent_example_ocean --prefix J0OSBM086wTKW17wNcVx933joMpahbbo /data1/bio_db/refseq/analysis/Manuscript/github_methods/bacterialEvolutionMetrics/popCOGent_example_ocean/J0OSBM086wTKW17w.tempcontig /data1/bio_db/refseq/analysis/Manuscript/github_methods/bacterialEvolutionMetrics/popCOGent_example_ocean/NcVx933joMpahbbo.tempcontig\n",
      "/data1/bio_db/refseq/analysis/Manuscript/github_methods/bacterialEvolutionMetrics/popCOGent_example_ocean/TOBG_NAT-209.fna_@_TOBG_EAC-71.fna.maf.length_bias.txt\n"
     ]
    },
    {
     "name": "stderr",
     "output_type": "stream",
     "text": [
      "\r",
      "Running PopCOGent:  42%|████▏     | 208/495 [26:05<27:17,  5.70s/it]"
     ]
    },
    {
     "name": "stdout",
     "output_type": "stream",
     "text": [
      "export MUGSY_INSTALL=/data8/Human/NIH_4/MethodDevelopment/Mugsy/mugsy_x86-64-v1r2.3 ; /data8/Human/NIH_4/MethodDevelopment/Mugsy/mugsy_x86-64-v1r2.3/mugsy --directory /data1/bio_db/refseq/analysis/Manuscript/github_methods/bacterialEvolutionMetrics/popCOGent_example_ocean --prefix 7kW0Tf8n2wO0CQNmwPwFhKRf9bpgoxDm /data1/bio_db/refseq/analysis/Manuscript/github_methods/bacterialEvolutionMetrics/popCOGent_example_ocean/7kW0Tf8n2wO0CQNm.tempcontig /data1/bio_db/refseq/analysis/Manuscript/github_methods/bacterialEvolutionMetrics/popCOGent_example_ocean/wPwFhKRf9bpgoxDm.tempcontig\n",
      "/data1/bio_db/refseq/analysis/Manuscript/github_methods/bacterialEvolutionMetrics/popCOGent_example_ocean/TOBG_NAT-92.fna_@_TOBG_EAC-66.fna.maf.length_bias.txt\n"
     ]
    },
    {
     "name": "stderr",
     "output_type": "stream",
     "text": [
      "\r",
      "Running PopCOGent:  42%|████▏     | 209/495 [26:08<22:19,  4.68s/it]"
     ]
    },
    {
     "name": "stdout",
     "output_type": "stream",
     "text": [
      "export MUGSY_INSTALL=/data8/Human/NIH_4/MethodDevelopment/Mugsy/mugsy_x86-64-v1r2.3 ; /data8/Human/NIH_4/MethodDevelopment/Mugsy/mugsy_x86-64-v1r2.3/mugsy --directory /data1/bio_db/refseq/analysis/Manuscript/github_methods/bacterialEvolutionMetrics/popCOGent_example_ocean --prefix CewVGtSPFgC8YShBpHckqLQeH6o3qq17 /data1/bio_db/refseq/analysis/Manuscript/github_methods/bacterialEvolutionMetrics/popCOGent_example_ocean/CewVGtSPFgC8YShB.tempcontig /data1/bio_db/refseq/analysis/Manuscript/github_methods/bacterialEvolutionMetrics/popCOGent_example_ocean/pHckqLQeH6o3qq17.tempcontig\n",
      "/data1/bio_db/refseq/analysis/Manuscript/github_methods/bacterialEvolutionMetrics/popCOGent_example_ocean/TOBG_RS-346.fna_@_TOBG_EAC-83.fna.maf.length_bias.txt\n"
     ]
    },
    {
     "name": "stderr",
     "output_type": "stream",
     "text": [
      "\r",
      "Running PopCOGent:  42%|████▏     | 210/495 [26:14<24:27,  5.15s/it]"
     ]
    },
    {
     "name": "stdout",
     "output_type": "stream",
     "text": [
      "export MUGSY_INSTALL=/data8/Human/NIH_4/MethodDevelopment/Mugsy/mugsy_x86-64-v1r2.3 ; /data8/Human/NIH_4/MethodDevelopment/Mugsy/mugsy_x86-64-v1r2.3/mugsy --directory /data1/bio_db/refseq/analysis/Manuscript/github_methods/bacterialEvolutionMetrics/popCOGent_example_ocean --prefix sNfLj44BYGaBQWwi85qJ31rR3ICGi4zC /data1/bio_db/refseq/analysis/Manuscript/github_methods/bacterialEvolutionMetrics/popCOGent_example_ocean/sNfLj44BYGaBQWwi.tempcontig /data1/bio_db/refseq/analysis/Manuscript/github_methods/bacterialEvolutionMetrics/popCOGent_example_ocean/85qJ31rR3ICGi4zC.tempcontig\n",
      "/data1/bio_db/refseq/analysis/Manuscript/github_methods/bacterialEvolutionMetrics/popCOGent_example_ocean/TOBG_NAT-11.fna_@_TOBG_EAC-710.fna.maf.length_bias.txt\n"
     ]
    },
    {
     "name": "stderr",
     "output_type": "stream",
     "text": [
      "\r",
      "Running PopCOGent:  43%|████▎     | 211/495 [26:20<25:05,  5.30s/it]"
     ]
    },
    {
     "name": "stdout",
     "output_type": "stream",
     "text": [
      "export MUGSY_INSTALL=/data8/Human/NIH_4/MethodDevelopment/Mugsy/mugsy_x86-64-v1r2.3 ; /data8/Human/NIH_4/MethodDevelopment/Mugsy/mugsy_x86-64-v1r2.3/mugsy --directory /data1/bio_db/refseq/analysis/Manuscript/github_methods/bacterialEvolutionMetrics/popCOGent_example_ocean --prefix zSPLQiPHVJRlUgnu19bwj9NFFqpySuFD /data1/bio_db/refseq/analysis/Manuscript/github_methods/bacterialEvolutionMetrics/popCOGent_example_ocean/zSPLQiPHVJRlUgnu.tempcontig /data1/bio_db/refseq/analysis/Manuscript/github_methods/bacterialEvolutionMetrics/popCOGent_example_ocean/19bwj9NFFqpySuFD.tempcontig\n",
      "/data1/bio_db/refseq/analysis/Manuscript/github_methods/bacterialEvolutionMetrics/popCOGent_example_ocean/TOBG_SP-188.fna_@_TOBG_EAC-83.fna.maf.length_bias.txt\n"
     ]
    },
    {
     "name": "stderr",
     "output_type": "stream",
     "text": [
      "\r",
      "Running PopCOGent:  43%|████▎     | 212/495 [26:21<19:48,  4.20s/it]"
     ]
    },
    {
     "name": "stdout",
     "output_type": "stream",
     "text": [
      "export MUGSY_INSTALL=/data8/Human/NIH_4/MethodDevelopment/Mugsy/mugsy_x86-64-v1r2.3 ; /data8/Human/NIH_4/MethodDevelopment/Mugsy/mugsy_x86-64-v1r2.3/mugsy --directory /data1/bio_db/refseq/analysis/Manuscript/github_methods/bacterialEvolutionMetrics/popCOGent_example_ocean --prefix TLGmycWVNswyD6lsW4MWVbPPebrg33Me /data1/bio_db/refseq/analysis/Manuscript/github_methods/bacterialEvolutionMetrics/popCOGent_example_ocean/TLGmycWVNswyD6ls.tempcontig /data1/bio_db/refseq/analysis/Manuscript/github_methods/bacterialEvolutionMetrics/popCOGent_example_ocean/W4MWVbPPebrg33Me.tempcontig\n",
      "/data1/bio_db/refseq/analysis/Manuscript/github_methods/bacterialEvolutionMetrics/popCOGent_example_ocean/TOBG_SP-74.fna_@_TOBG_EAC-74.fna.maf.length_bias.txt\n"
     ]
    },
    {
     "name": "stderr",
     "output_type": "stream",
     "text": [
      "\r",
      "Running PopCOGent:  43%|████▎     | 213/495 [26:30<26:21,  5.61s/it]"
     ]
    },
    {
     "name": "stdout",
     "output_type": "stream",
     "text": [
      "export MUGSY_INSTALL=/data8/Human/NIH_4/MethodDevelopment/Mugsy/mugsy_x86-64-v1r2.3 ; /data8/Human/NIH_4/MethodDevelopment/Mugsy/mugsy_x86-64-v1r2.3/mugsy --directory /data1/bio_db/refseq/analysis/Manuscript/github_methods/bacterialEvolutionMetrics/popCOGent_example_ocean --prefix ieV7CVjkGoS1VS4CIDeo2XdIzJICRVZx /data1/bio_db/refseq/analysis/Manuscript/github_methods/bacterialEvolutionMetrics/popCOGent_example_ocean/ieV7CVjkGoS1VS4C.tempcontig /data1/bio_db/refseq/analysis/Manuscript/github_methods/bacterialEvolutionMetrics/popCOGent_example_ocean/IDeo2XdIzJICRVZx.tempcontig\n",
      "/data1/bio_db/refseq/analysis/Manuscript/github_methods/bacterialEvolutionMetrics/popCOGent_example_ocean/TOBG_NAT-101.fna_@_TOBG_EAC-86.fna.maf.length_bias.txt\n"
     ]
    },
    {
     "name": "stderr",
     "output_type": "stream",
     "text": [
      "\r",
      "Running PopCOGent:  43%|████▎     | 214/495 [26:47<41:56,  8.95s/it]"
     ]
    },
    {
     "name": "stdout",
     "output_type": "stream",
     "text": [
      "export MUGSY_INSTALL=/data8/Human/NIH_4/MethodDevelopment/Mugsy/mugsy_x86-64-v1r2.3 ; /data8/Human/NIH_4/MethodDevelopment/Mugsy/mugsy_x86-64-v1r2.3/mugsy --directory /data1/bio_db/refseq/analysis/Manuscript/github_methods/bacterialEvolutionMetrics/popCOGent_example_ocean --prefix lmOkP3RkZ05NjUP4vKZXYbMBbtgENDjh /data1/bio_db/refseq/analysis/Manuscript/github_methods/bacterialEvolutionMetrics/popCOGent_example_ocean/lmOkP3RkZ05NjUP4.tempcontig /data1/bio_db/refseq/analysis/Manuscript/github_methods/bacterialEvolutionMetrics/popCOGent_example_ocean/vKZXYbMBbtgENDjh.tempcontig\n",
      "/data1/bio_db/refseq/analysis/Manuscript/github_methods/bacterialEvolutionMetrics/popCOGent_example_ocean/TOBG_NAT-108.fna_@_TOBG_EAC-9.fna.maf.length_bias.txt\n"
     ]
    },
    {
     "name": "stderr",
     "output_type": "stream",
     "text": [
      "\r",
      "Running PopCOGent:  43%|████▎     | 215/495 [26:49<32:35,  6.98s/it]"
     ]
    },
    {
     "name": "stdout",
     "output_type": "stream",
     "text": [
      "export MUGSY_INSTALL=/data8/Human/NIH_4/MethodDevelopment/Mugsy/mugsy_x86-64-v1r2.3 ; /data8/Human/NIH_4/MethodDevelopment/Mugsy/mugsy_x86-64-v1r2.3/mugsy --directory /data1/bio_db/refseq/analysis/Manuscript/github_methods/bacterialEvolutionMetrics/popCOGent_example_ocean --prefix P1F5R9qnOsmuW92eicECsReFQeL05hpP /data1/bio_db/refseq/analysis/Manuscript/github_methods/bacterialEvolutionMetrics/popCOGent_example_ocean/P1F5R9qnOsmuW92e.tempcontig /data1/bio_db/refseq/analysis/Manuscript/github_methods/bacterialEvolutionMetrics/popCOGent_example_ocean/icECsReFQeL05hpP.tempcontig\n",
      "/data1/bio_db/refseq/analysis/Manuscript/github_methods/bacterialEvolutionMetrics/popCOGent_example_ocean/TOBG_NAT-170.fna_@_TOBG_EAC-77.fna.maf.length_bias.txt\n"
     ]
    },
    {
     "name": "stderr",
     "output_type": "stream",
     "text": [
      "\r",
      "Running PopCOGent:  44%|████▎     | 216/495 [26:54<29:55,  6.44s/it]"
     ]
    },
    {
     "name": "stdout",
     "output_type": "stream",
     "text": [
      "export MUGSY_INSTALL=/data8/Human/NIH_4/MethodDevelopment/Mugsy/mugsy_x86-64-v1r2.3 ; /data8/Human/NIH_4/MethodDevelopment/Mugsy/mugsy_x86-64-v1r2.3/mugsy --directory /data1/bio_db/refseq/analysis/Manuscript/github_methods/bacterialEvolutionMetrics/popCOGent_example_ocean --prefix nGPSTCB4O2lk22EnBGx0Ez5g6NXiP6V2 /data1/bio_db/refseq/analysis/Manuscript/github_methods/bacterialEvolutionMetrics/popCOGent_example_ocean/nGPSTCB4O2lk22En.tempcontig /data1/bio_db/refseq/analysis/Manuscript/github_methods/bacterialEvolutionMetrics/popCOGent_example_ocean/BGx0Ez5g6NXiP6V2.tempcontig\n",
      "/data1/bio_db/refseq/analysis/Manuscript/github_methods/bacterialEvolutionMetrics/popCOGent_example_ocean/TOBG_IN-23.fna_@_TOBG_EAC-92.fna.maf.length_bias.txt\n"
     ]
    },
    {
     "name": "stderr",
     "output_type": "stream",
     "text": [
      "\r",
      "Running PopCOGent:  44%|████▍     | 217/495 [27:00<28:25,  6.14s/it]"
     ]
    },
    {
     "name": "stdout",
     "output_type": "stream",
     "text": [
      "export MUGSY_INSTALL=/data8/Human/NIH_4/MethodDevelopment/Mugsy/mugsy_x86-64-v1r2.3 ; /data8/Human/NIH_4/MethodDevelopment/Mugsy/mugsy_x86-64-v1r2.3/mugsy --directory /data1/bio_db/refseq/analysis/Manuscript/github_methods/bacterialEvolutionMetrics/popCOGent_example_ocean --prefix VW2MZs8e6nhHno8rgAncdVzygBwrHFWk /data1/bio_db/refseq/analysis/Manuscript/github_methods/bacterialEvolutionMetrics/popCOGent_example_ocean/VW2MZs8e6nhHno8r.tempcontig /data1/bio_db/refseq/analysis/Manuscript/github_methods/bacterialEvolutionMetrics/popCOGent_example_ocean/gAncdVzygBwrHFWk.tempcontig\n",
      "/data1/bio_db/refseq/analysis/Manuscript/github_methods/bacterialEvolutionMetrics/popCOGent_example_ocean/TOBG_NP-57.fna_@_TOBG_EAC-9.fna.maf.length_bias.txt\n"
     ]
    },
    {
     "name": "stderr",
     "output_type": "stream",
     "text": [
      "\r",
      "Running PopCOGent:  44%|████▍     | 218/495 [27:04<25:29,  5.52s/it]"
     ]
    },
    {
     "name": "stdout",
     "output_type": "stream",
     "text": [
      "export MUGSY_INSTALL=/data8/Human/NIH_4/MethodDevelopment/Mugsy/mugsy_x86-64-v1r2.3 ; /data8/Human/NIH_4/MethodDevelopment/Mugsy/mugsy_x86-64-v1r2.3/mugsy --directory /data1/bio_db/refseq/analysis/Manuscript/github_methods/bacterialEvolutionMetrics/popCOGent_example_ocean --prefix EsM3E8OG1wxg7IBUQ8PGIqn0xWM0mQYZ /data1/bio_db/refseq/analysis/Manuscript/github_methods/bacterialEvolutionMetrics/popCOGent_example_ocean/EsM3E8OG1wxg7IBU.tempcontig /data1/bio_db/refseq/analysis/Manuscript/github_methods/bacterialEvolutionMetrics/popCOGent_example_ocean/Q8PGIqn0xWM0mQYZ.tempcontig\n",
      "/data1/bio_db/refseq/analysis/Manuscript/github_methods/bacterialEvolutionMetrics/popCOGent_example_ocean/TOBG_SAT-67.fna_@_TOBG_EAC-92.fna.maf.length_bias.txt\n"
     ]
    },
    {
     "name": "stderr",
     "output_type": "stream",
     "text": [
      "\r",
      "Running PopCOGent:  44%|████▍     | 219/495 [27:19<38:59,  8.48s/it]"
     ]
    },
    {
     "name": "stdout",
     "output_type": "stream",
     "text": [
      "export MUGSY_INSTALL=/data8/Human/NIH_4/MethodDevelopment/Mugsy/mugsy_x86-64-v1r2.3 ; /data8/Human/NIH_4/MethodDevelopment/Mugsy/mugsy_x86-64-v1r2.3/mugsy --directory /data1/bio_db/refseq/analysis/Manuscript/github_methods/bacterialEvolutionMetrics/popCOGent_example_ocean --prefix ivPLkiwciIMXuxmzJAdLpB8iR6PyoN7S /data1/bio_db/refseq/analysis/Manuscript/github_methods/bacterialEvolutionMetrics/popCOGent_example_ocean/ivPLkiwciIMXuxmz.tempcontig /data1/bio_db/refseq/analysis/Manuscript/github_methods/bacterialEvolutionMetrics/popCOGent_example_ocean/JAdLpB8iR6PyoN7S.tempcontig\n",
      "/data1/bio_db/refseq/analysis/Manuscript/github_methods/bacterialEvolutionMetrics/popCOGent_example_ocean/TOBG_SAT-83.fna_@_TOBG_EAC-93.fna.maf.length_bias.txt\n"
     ]
    },
    {
     "name": "stderr",
     "output_type": "stream",
     "text": [
      "\r",
      "Running PopCOGent:  44%|████▍     | 220/495 [27:20<28:11,  6.15s/it]"
     ]
    },
    {
     "name": "stdout",
     "output_type": "stream",
     "text": [
      "export MUGSY_INSTALL=/data8/Human/NIH_4/MethodDevelopment/Mugsy/mugsy_x86-64-v1r2.3 ; /data8/Human/NIH_4/MethodDevelopment/Mugsy/mugsy_x86-64-v1r2.3/mugsy --directory /data1/bio_db/refseq/analysis/Manuscript/github_methods/bacterialEvolutionMetrics/popCOGent_example_ocean --prefix 4Csf9bcvDLXVyyY9z3qsyi9lWlFdWt7B /data1/bio_db/refseq/analysis/Manuscript/github_methods/bacterialEvolutionMetrics/popCOGent_example_ocean/4Csf9bcvDLXVyyY9.tempcontig /data1/bio_db/refseq/analysis/Manuscript/github_methods/bacterialEvolutionMetrics/popCOGent_example_ocean/z3qsyi9lWlFdWt7B.tempcontig\n",
      "/data1/bio_db/refseq/analysis/Manuscript/github_methods/bacterialEvolutionMetrics/popCOGent_example_ocean/TOBG_RS-397.fna_@_TOBG_EAC-97.fna.maf.length_bias.txt\n"
     ]
    },
    {
     "name": "stderr",
     "output_type": "stream",
     "text": [
      "\r",
      "Running PopCOGent:  45%|████▍     | 221/495 [27:21<20:48,  4.56s/it]"
     ]
    },
    {
     "name": "stdout",
     "output_type": "stream",
     "text": [
      "export MUGSY_INSTALL=/data8/Human/NIH_4/MethodDevelopment/Mugsy/mugsy_x86-64-v1r2.3 ; /data8/Human/NIH_4/MethodDevelopment/Mugsy/mugsy_x86-64-v1r2.3/mugsy --directory /data1/bio_db/refseq/analysis/Manuscript/github_methods/bacterialEvolutionMetrics/popCOGent_example_ocean --prefix ZwqzhXF2qPl00CmGRLgPErP5ujxBPpWX /data1/bio_db/refseq/analysis/Manuscript/github_methods/bacterialEvolutionMetrics/popCOGent_example_ocean/ZwqzhXF2qPl00CmG.tempcontig /data1/bio_db/refseq/analysis/Manuscript/github_methods/bacterialEvolutionMetrics/popCOGent_example_ocean/RLgPErP5ujxBPpWX.tempcontig\n",
      "/data1/bio_db/refseq/analysis/Manuscript/github_methods/bacterialEvolutionMetrics/popCOGent_example_ocean/TOBG_NAT-60.fna_@_TOBG_EAC-97.fna.maf.length_bias.txt\n"
     ]
    },
    {
     "name": "stderr",
     "output_type": "stream",
     "text": [
      "\r",
      "Running PopCOGent:  45%|████▍     | 222/495 [27:21<15:24,  3.39s/it]"
     ]
    },
    {
     "name": "stdout",
     "output_type": "stream",
     "text": [
      "export MUGSY_INSTALL=/data8/Human/NIH_4/MethodDevelopment/Mugsy/mugsy_x86-64-v1r2.3 ; /data8/Human/NIH_4/MethodDevelopment/Mugsy/mugsy_x86-64-v1r2.3/mugsy --directory /data1/bio_db/refseq/analysis/Manuscript/github_methods/bacterialEvolutionMetrics/popCOGent_example_ocean --prefix wmigOaOO3axciz3nzuJpEtbwvIoTixi0 /data1/bio_db/refseq/analysis/Manuscript/github_methods/bacterialEvolutionMetrics/popCOGent_example_ocean/wmigOaOO3axciz3n.tempcontig /data1/bio_db/refseq/analysis/Manuscript/github_methods/bacterialEvolutionMetrics/popCOGent_example_ocean/zuJpEtbwvIoTixi0.tempcontig\n",
      "/data1/bio_db/refseq/analysis/Manuscript/github_methods/bacterialEvolutionMetrics/popCOGent_example_ocean/TOBG_SAT-104.fna_@_TOBG_EAC-95.fna.maf.length_bias.txt\n"
     ]
    },
    {
     "name": "stderr",
     "output_type": "stream",
     "text": [
      "\r",
      "Running PopCOGent:  45%|████▌     | 223/495 [27:30<22:19,  4.92s/it]"
     ]
    },
    {
     "name": "stdout",
     "output_type": "stream",
     "text": [
      "export MUGSY_INSTALL=/data8/Human/NIH_4/MethodDevelopment/Mugsy/mugsy_x86-64-v1r2.3 ; /data8/Human/NIH_4/MethodDevelopment/Mugsy/mugsy_x86-64-v1r2.3/mugsy --directory /data1/bio_db/refseq/analysis/Manuscript/github_methods/bacterialEvolutionMetrics/popCOGent_example_ocean --prefix 7IOw81oQqerNdKw95iSE6ApmvrLPEkUR /data1/bio_db/refseq/analysis/Manuscript/github_methods/bacterialEvolutionMetrics/popCOGent_example_ocean/7IOw81oQqerNdKw9.tempcontig /data1/bio_db/refseq/analysis/Manuscript/github_methods/bacterialEvolutionMetrics/popCOGent_example_ocean/5iSE6ApmvrLPEkUR.tempcontig\n",
      "/data1/bio_db/refseq/analysis/Manuscript/github_methods/bacterialEvolutionMetrics/popCOGent_example_ocean/TOBG_NAT-53.fna_@_TOBG_EAC-99.fna.maf.length_bias.txt\n"
     ]
    },
    {
     "name": "stderr",
     "output_type": "stream",
     "text": [
      "\r",
      "Running PopCOGent:  45%|████▌     | 224/495 [27:32<18:17,  4.05s/it]"
     ]
    },
    {
     "name": "stdout",
     "output_type": "stream",
     "text": [
      "export MUGSY_INSTALL=/data8/Human/NIH_4/MethodDevelopment/Mugsy/mugsy_x86-64-v1r2.3 ; /data8/Human/NIH_4/MethodDevelopment/Mugsy/mugsy_x86-64-v1r2.3/mugsy --directory /data1/bio_db/refseq/analysis/Manuscript/github_methods/bacterialEvolutionMetrics/popCOGent_example_ocean --prefix jKTqykuh8Bg1nB5ewut4t0d6mQdAWhjq /data1/bio_db/refseq/analysis/Manuscript/github_methods/bacterialEvolutionMetrics/popCOGent_example_ocean/jKTqykuh8Bg1nB5e.tempcontig /data1/bio_db/refseq/analysis/Manuscript/github_methods/bacterialEvolutionMetrics/popCOGent_example_ocean/wut4t0d6mQdAWhjq.tempcontig\n",
      "/data1/bio_db/refseq/analysis/Manuscript/github_methods/bacterialEvolutionMetrics/popCOGent_example_ocean/TOBG_MED-731.fna_@_TOBG_EAC-99.fna.maf.length_bias.txt\n"
     ]
    },
    {
     "name": "stderr",
     "output_type": "stream",
     "text": [
      "\r",
      "Running PopCOGent:  45%|████▌     | 225/495 [27:36<18:43,  4.16s/it]"
     ]
    },
    {
     "name": "stdout",
     "output_type": "stream",
     "text": [
      "export MUGSY_INSTALL=/data8/Human/NIH_4/MethodDevelopment/Mugsy/mugsy_x86-64-v1r2.3 ; /data8/Human/NIH_4/MethodDevelopment/Mugsy/mugsy_x86-64-v1r2.3/mugsy --directory /data1/bio_db/refseq/analysis/Manuscript/github_methods/bacterialEvolutionMetrics/popCOGent_example_ocean --prefix sBzIqYtnUmnwaONnpanT03nUjyamfSlg /data1/bio_db/refseq/analysis/Manuscript/github_methods/bacterialEvolutionMetrics/popCOGent_example_ocean/sBzIqYtnUmnwaONn.tempcontig /data1/bio_db/refseq/analysis/Manuscript/github_methods/bacterialEvolutionMetrics/popCOGent_example_ocean/panT03nUjyamfSlg.tempcontig\n",
      "/data1/bio_db/refseq/analysis/Manuscript/github_methods/bacterialEvolutionMetrics/popCOGent_example_ocean/TOBG_SP-16.fna_@_TOBG_EAC-87.fna.maf.length_bias.txt\n"
     ]
    },
    {
     "name": "stderr",
     "output_type": "stream",
     "text": [
      "\r",
      "Running PopCOGent:  46%|████▌     | 226/495 [27:38<14:58,  3.34s/it]"
     ]
    },
    {
     "name": "stdout",
     "output_type": "stream",
     "text": [
      "export MUGSY_INSTALL=/data8/Human/NIH_4/MethodDevelopment/Mugsy/mugsy_x86-64-v1r2.3 ; /data8/Human/NIH_4/MethodDevelopment/Mugsy/mugsy_x86-64-v1r2.3/mugsy --directory /data1/bio_db/refseq/analysis/Manuscript/github_methods/bacterialEvolutionMetrics/popCOGent_example_ocean --prefix RHOtFEsyRqRzyK0K6yHURXXeEoOR23pq /data1/bio_db/refseq/analysis/Manuscript/github_methods/bacterialEvolutionMetrics/popCOGent_example_ocean/RHOtFEsyRqRzyK0K.tempcontig /data1/bio_db/refseq/analysis/Manuscript/github_methods/bacterialEvolutionMetrics/popCOGent_example_ocean/6yHURXXeEoOR23pq.tempcontig\n",
      "/data1/bio_db/refseq/analysis/Manuscript/github_methods/bacterialEvolutionMetrics/popCOGent_example_ocean/TOBG_SP-246.fna_@_TOBG_EAC-97.fna.maf.length_bias.txt\n"
     ]
    },
    {
     "name": "stderr",
     "output_type": "stream",
     "text": [
      "\r",
      "Running PopCOGent:  46%|████▌     | 227/495 [27:57<36:01,  8.06s/it]"
     ]
    },
    {
     "name": "stdout",
     "output_type": "stream",
     "text": [
      "export MUGSY_INSTALL=/data8/Human/NIH_4/MethodDevelopment/Mugsy/mugsy_x86-64-v1r2.3 ; /data8/Human/NIH_4/MethodDevelopment/Mugsy/mugsy_x86-64-v1r2.3/mugsy --directory /data1/bio_db/refseq/analysis/Manuscript/github_methods/bacterialEvolutionMetrics/popCOGent_example_ocean --prefix hpeL7Ops49NFrGROijAExhPcjjOlSH4U /data1/bio_db/refseq/analysis/Manuscript/github_methods/bacterialEvolutionMetrics/popCOGent_example_ocean/hpeL7Ops49NFrGRO.tempcontig /data1/bio_db/refseq/analysis/Manuscript/github_methods/bacterialEvolutionMetrics/popCOGent_example_ocean/ijAExhPcjjOlSH4U.tempcontig\n",
      "/data1/bio_db/refseq/analysis/Manuscript/github_methods/bacterialEvolutionMetrics/popCOGent_example_ocean/TOBG_SP-348.fna_@_TOBG_IN-1077.fna.maf.length_bias.txt\n"
     ]
    },
    {
     "name": "stderr",
     "output_type": "stream",
     "text": [
      "\r",
      "Running PopCOGent:  46%|████▌     | 228/495 [28:01<30:04,  6.76s/it]"
     ]
    },
    {
     "name": "stdout",
     "output_type": "stream",
     "text": [
      "export MUGSY_INSTALL=/data8/Human/NIH_4/MethodDevelopment/Mugsy/mugsy_x86-64-v1r2.3 ; /data8/Human/NIH_4/MethodDevelopment/Mugsy/mugsy_x86-64-v1r2.3/mugsy --directory /data1/bio_db/refseq/analysis/Manuscript/github_methods/bacterialEvolutionMetrics/popCOGent_example_ocean --prefix VQtDsbx06j4tvoyOzQWX5duEQ1YchBYn /data1/bio_db/refseq/analysis/Manuscript/github_methods/bacterialEvolutionMetrics/popCOGent_example_ocean/VQtDsbx06j4tvoyO.tempcontig /data1/bio_db/refseq/analysis/Manuscript/github_methods/bacterialEvolutionMetrics/popCOGent_example_ocean/zQWX5duEQ1YchBYn.tempcontig\n",
      "/data1/bio_db/refseq/analysis/Manuscript/github_methods/bacterialEvolutionMetrics/popCOGent_example_ocean/TOBG_IN-2.fna_@_TOBG_IN-1.fna.maf.length_bias.txt\n"
     ]
    },
    {
     "name": "stderr",
     "output_type": "stream",
     "text": [
      "\r",
      "Running PopCOGent:  46%|████▋     | 229/495 [28:13<37:13,  8.40s/it]"
     ]
    },
    {
     "name": "stdout",
     "output_type": "stream",
     "text": [
      "export MUGSY_INSTALL=/data8/Human/NIH_4/MethodDevelopment/Mugsy/mugsy_x86-64-v1r2.3 ; /data8/Human/NIH_4/MethodDevelopment/Mugsy/mugsy_x86-64-v1r2.3/mugsy --directory /data1/bio_db/refseq/analysis/Manuscript/github_methods/bacterialEvolutionMetrics/popCOGent_example_ocean --prefix Wk6nCPEFBQuKDHDtr3KvLUn1S2pxkImj /data1/bio_db/refseq/analysis/Manuscript/github_methods/bacterialEvolutionMetrics/popCOGent_example_ocean/Wk6nCPEFBQuKDHDt.tempcontig /data1/bio_db/refseq/analysis/Manuscript/github_methods/bacterialEvolutionMetrics/popCOGent_example_ocean/r3KvLUn1S2pxkImj.tempcontig\n",
      "/data1/bio_db/refseq/analysis/Manuscript/github_methods/bacterialEvolutionMetrics/popCOGent_example_ocean/TOBG_SAT-88.fna_@_TOBG_IN-1.fna.maf.length_bias.txt\n"
     ]
    },
    {
     "name": "stderr",
     "output_type": "stream",
     "text": [
      "\r",
      "Running PopCOGent:  46%|████▋     | 230/495 [28:13<26:14,  5.94s/it]"
     ]
    },
    {
     "name": "stdout",
     "output_type": "stream",
     "text": [
      "export MUGSY_INSTALL=/data8/Human/NIH_4/MethodDevelopment/Mugsy/mugsy_x86-64-v1r2.3 ; /data8/Human/NIH_4/MethodDevelopment/Mugsy/mugsy_x86-64-v1r2.3/mugsy --directory /data1/bio_db/refseq/analysis/Manuscript/github_methods/bacterialEvolutionMetrics/popCOGent_example_ocean --prefix hX5kWFYjJmbTaKbiQoXkxkgW2INNsJ6x /data1/bio_db/refseq/analysis/Manuscript/github_methods/bacterialEvolutionMetrics/popCOGent_example_ocean/hX5kWFYjJmbTaKbi.tempcontig /data1/bio_db/refseq/analysis/Manuscript/github_methods/bacterialEvolutionMetrics/popCOGent_example_ocean/QoXkxkgW2INNsJ6x.tempcontig\n",
      "/data1/bio_db/refseq/analysis/Manuscript/github_methods/bacterialEvolutionMetrics/popCOGent_example_ocean/TOBG_SAT-117.fna_@_TOBG_IN-10.fna.maf.length_bias.txt\n"
     ]
    },
    {
     "name": "stderr",
     "output_type": "stream",
     "text": [
      "\r",
      "Running PopCOGent:  47%|████▋     | 231/495 [28:17<23:27,  5.33s/it]"
     ]
    },
    {
     "name": "stdout",
     "output_type": "stream",
     "text": [
      "export MUGSY_INSTALL=/data8/Human/NIH_4/MethodDevelopment/Mugsy/mugsy_x86-64-v1r2.3 ; /data8/Human/NIH_4/MethodDevelopment/Mugsy/mugsy_x86-64-v1r2.3/mugsy --directory /data1/bio_db/refseq/analysis/Manuscript/github_methods/bacterialEvolutionMetrics/popCOGent_example_ocean --prefix d5vKPo0DiL6kfxg1v8jA4cFicyXX5QHy /data1/bio_db/refseq/analysis/Manuscript/github_methods/bacterialEvolutionMetrics/popCOGent_example_ocean/d5vKPo0DiL6kfxg1.tempcontig /data1/bio_db/refseq/analysis/Manuscript/github_methods/bacterialEvolutionMetrics/popCOGent_example_ocean/v8jA4cFicyXX5QHy.tempcontig\n",
      "/data1/bio_db/refseq/analysis/Manuscript/github_methods/bacterialEvolutionMetrics/popCOGent_example_ocean/TOBG_RS-391.fna_@_TOBG_IN-1077.fna.maf.length_bias.txt\n"
     ]
    },
    {
     "name": "stderr",
     "output_type": "stream",
     "text": [
      "\r",
      "Running PopCOGent:  47%|████▋     | 232/495 [28:23<23:52,  5.45s/it]"
     ]
    },
    {
     "name": "stdout",
     "output_type": "stream",
     "text": [
      "export MUGSY_INSTALL=/data8/Human/NIH_4/MethodDevelopment/Mugsy/mugsy_x86-64-v1r2.3 ; /data8/Human/NIH_4/MethodDevelopment/Mugsy/mugsy_x86-64-v1r2.3/mugsy --directory /data1/bio_db/refseq/analysis/Manuscript/github_methods/bacterialEvolutionMetrics/popCOGent_example_ocean --prefix oXF1keEFJptuKH89aaCFKTS0B0SxjQrJ /data1/bio_db/refseq/analysis/Manuscript/github_methods/bacterialEvolutionMetrics/popCOGent_example_ocean/oXF1keEFJptuKH89.tempcontig /data1/bio_db/refseq/analysis/Manuscript/github_methods/bacterialEvolutionMetrics/popCOGent_example_ocean/aaCFKTS0B0SxjQrJ.tempcontig\n",
      "/data1/bio_db/refseq/analysis/Manuscript/github_methods/bacterialEvolutionMetrics/popCOGent_example_ocean/TOBG_SP-133.fna_@_TOBG_IN-1.fna.maf.length_bias.txt\n"
     ]
    },
    {
     "name": "stderr",
     "output_type": "stream",
     "text": [
      "\r",
      "Running PopCOGent:  47%|████▋     | 233/495 [28:39<37:20,  8.55s/it]"
     ]
    },
    {
     "name": "stdout",
     "output_type": "stream",
     "text": [
      "export MUGSY_INSTALL=/data8/Human/NIH_4/MethodDevelopment/Mugsy/mugsy_x86-64-v1r2.3 ; /data8/Human/NIH_4/MethodDevelopment/Mugsy/mugsy_x86-64-v1r2.3/mugsy --directory /data1/bio_db/refseq/analysis/Manuscript/github_methods/bacterialEvolutionMetrics/popCOGent_example_ocean --prefix HMqjJ0G1DX0AslSQSrmJn9B9tFHDPRrX /data1/bio_db/refseq/analysis/Manuscript/github_methods/bacterialEvolutionMetrics/popCOGent_example_ocean/HMqjJ0G1DX0AslSQ.tempcontig /data1/bio_db/refseq/analysis/Manuscript/github_methods/bacterialEvolutionMetrics/popCOGent_example_ocean/SrmJn9B9tFHDPRrX.tempcontig\n",
      "/data1/bio_db/refseq/analysis/Manuscript/github_methods/bacterialEvolutionMetrics/popCOGent_example_ocean/TOBG_SAT-74.fna_@_TOBG_IN-11.fna.maf.length_bias.txt\n"
     ]
    },
    {
     "name": "stderr",
     "output_type": "stream",
     "text": [
      "\r",
      "Running PopCOGent:  47%|████▋     | 234/495 [28:47<37:30,  8.62s/it]"
     ]
    },
    {
     "name": "stdout",
     "output_type": "stream",
     "text": [
      "export MUGSY_INSTALL=/data8/Human/NIH_4/MethodDevelopment/Mugsy/mugsy_x86-64-v1r2.3 ; /data8/Human/NIH_4/MethodDevelopment/Mugsy/mugsy_x86-64-v1r2.3/mugsy --directory /data1/bio_db/refseq/analysis/Manuscript/github_methods/bacterialEvolutionMetrics/popCOGent_example_ocean --prefix tdDCzzUJdm7yfpUCXHPAnX3Tog8tddKy /data1/bio_db/refseq/analysis/Manuscript/github_methods/bacterialEvolutionMetrics/popCOGent_example_ocean/tdDCzzUJdm7yfpUC.tempcontig /data1/bio_db/refseq/analysis/Manuscript/github_methods/bacterialEvolutionMetrics/popCOGent_example_ocean/XHPAnX3Tog8tddKy.tempcontig\n",
      "/data1/bio_db/refseq/analysis/Manuscript/github_methods/bacterialEvolutionMetrics/popCOGent_example_ocean/TOBG_NP-92.fna_@_TOBG_IN-12.fna.maf.length_bias.txt\n"
     ]
    },
    {
     "name": "stderr",
     "output_type": "stream",
     "text": [
      "\r",
      "Running PopCOGent:  47%|████▋     | 235/495 [28:48<26:40,  6.15s/it]"
     ]
    },
    {
     "name": "stdout",
     "output_type": "stream",
     "text": [
      "export MUGSY_INSTALL=/data8/Human/NIH_4/MethodDevelopment/Mugsy/mugsy_x86-64-v1r2.3 ; /data8/Human/NIH_4/MethodDevelopment/Mugsy/mugsy_x86-64-v1r2.3/mugsy --directory /data1/bio_db/refseq/analysis/Manuscript/github_methods/bacterialEvolutionMetrics/popCOGent_example_ocean --prefix i8mGWxiqjEPcft8sKeQrRlWkIftAKizd /data1/bio_db/refseq/analysis/Manuscript/github_methods/bacterialEvolutionMetrics/popCOGent_example_ocean/i8mGWxiqjEPcft8s.tempcontig /data1/bio_db/refseq/analysis/Manuscript/github_methods/bacterialEvolutionMetrics/popCOGent_example_ocean/KeQrRlWkIftAKizd.tempcontig\n",
      "/data1/bio_db/refseq/analysis/Manuscript/github_methods/bacterialEvolutionMetrics/popCOGent_example_ocean/TOBG_RS-817.fna_@_TOBG_IN-1213.fna.maf.length_bias.txt\n"
     ]
    },
    {
     "name": "stderr",
     "output_type": "stream",
     "text": [
      "\r",
      "Running PopCOGent:  48%|████▊     | 236/495 [28:52<24:46,  5.74s/it]"
     ]
    },
    {
     "name": "stdout",
     "output_type": "stream",
     "text": [
      "export MUGSY_INSTALL=/data8/Human/NIH_4/MethodDevelopment/Mugsy/mugsy_x86-64-v1r2.3 ; /data8/Human/NIH_4/MethodDevelopment/Mugsy/mugsy_x86-64-v1r2.3/mugsy --directory /data1/bio_db/refseq/analysis/Manuscript/github_methods/bacterialEvolutionMetrics/popCOGent_example_ocean --prefix VB57zd56jnKAMQ8NMckYosCrdUv1VOCA /data1/bio_db/refseq/analysis/Manuscript/github_methods/bacterialEvolutionMetrics/popCOGent_example_ocean/VB57zd56jnKAMQ8N.tempcontig /data1/bio_db/refseq/analysis/Manuscript/github_methods/bacterialEvolutionMetrics/popCOGent_example_ocean/MckYosCrdUv1VOCA.tempcontig\n",
      "/data1/bio_db/refseq/analysis/Manuscript/github_methods/bacterialEvolutionMetrics/popCOGent_example_ocean/TOBG_MED-702.fna_@_TOBG_IN-11.fna.maf.length_bias.txt\n"
     ]
    },
    {
     "name": "stderr",
     "output_type": "stream",
     "text": [
      "\r",
      "Running PopCOGent:  48%|████▊     | 237/495 [29:09<38:04,  8.85s/it]"
     ]
    },
    {
     "name": "stdout",
     "output_type": "stream",
     "text": [
      "export MUGSY_INSTALL=/data8/Human/NIH_4/MethodDevelopment/Mugsy/mugsy_x86-64-v1r2.3 ; /data8/Human/NIH_4/MethodDevelopment/Mugsy/mugsy_x86-64-v1r2.3/mugsy --directory /data1/bio_db/refseq/analysis/Manuscript/github_methods/bacterialEvolutionMetrics/popCOGent_example_ocean --prefix v7U1D2aTKQHAGXpUahsNVjafCD6KfSav /data1/bio_db/refseq/analysis/Manuscript/github_methods/bacterialEvolutionMetrics/popCOGent_example_ocean/v7U1D2aTKQHAGXpU.tempcontig /data1/bio_db/refseq/analysis/Manuscript/github_methods/bacterialEvolutionMetrics/popCOGent_example_ocean/ahsNVjafCD6KfSav.tempcontig\n",
      "/data1/bio_db/refseq/analysis/Manuscript/github_methods/bacterialEvolutionMetrics/popCOGent_example_ocean/TOBG_IN-22.fna_@_TOBG_IN-16.fna.maf.length_bias.txt\n"
     ]
    },
    {
     "name": "stderr",
     "output_type": "stream",
     "text": [
      "\r",
      "Running PopCOGent:  48%|████▊     | 238/495 [29:14<33:22,  7.79s/it]"
     ]
    },
    {
     "name": "stdout",
     "output_type": "stream",
     "text": [
      "export MUGSY_INSTALL=/data8/Human/NIH_4/MethodDevelopment/Mugsy/mugsy_x86-64-v1r2.3 ; /data8/Human/NIH_4/MethodDevelopment/Mugsy/mugsy_x86-64-v1r2.3/mugsy --directory /data1/bio_db/refseq/analysis/Manuscript/github_methods/bacterialEvolutionMetrics/popCOGent_example_ocean --prefix ymooh0Yob3EWGkJrVRuqRdmINOz1OHWA /data1/bio_db/refseq/analysis/Manuscript/github_methods/bacterialEvolutionMetrics/popCOGent_example_ocean/ymooh0Yob3EWGkJr.tempcontig /data1/bio_db/refseq/analysis/Manuscript/github_methods/bacterialEvolutionMetrics/popCOGent_example_ocean/VRuqRdmINOz1OHWA.tempcontig\n",
      "/data1/bio_db/refseq/analysis/Manuscript/github_methods/bacterialEvolutionMetrics/popCOGent_example_ocean/TOBG_SAT-6.fna_@_TOBG_IN-12.fna.maf.length_bias.txt\n"
     ]
    },
    {
     "name": "stderr",
     "output_type": "stream",
     "text": [
      "\r",
      "Running PopCOGent:  48%|████▊     | 239/495 [29:17<26:55,  6.31s/it]"
     ]
    },
    {
     "name": "stdout",
     "output_type": "stream",
     "text": [
      "export MUGSY_INSTALL=/data8/Human/NIH_4/MethodDevelopment/Mugsy/mugsy_x86-64-v1r2.3 ; /data8/Human/NIH_4/MethodDevelopment/Mugsy/mugsy_x86-64-v1r2.3/mugsy --directory /data1/bio_db/refseq/analysis/Manuscript/github_methods/bacterialEvolutionMetrics/popCOGent_example_ocean --prefix IS4E2Vplce3CkNqQJqz4efjT5ZM9CiRd /data1/bio_db/refseq/analysis/Manuscript/github_methods/bacterialEvolutionMetrics/popCOGent_example_ocean/IS4E2Vplce3CkNqQ.tempcontig /data1/bio_db/refseq/analysis/Manuscript/github_methods/bacterialEvolutionMetrics/popCOGent_example_ocean/Jqz4efjT5ZM9CiRd.tempcontig\n",
      "/data1/bio_db/refseq/analysis/Manuscript/github_methods/bacterialEvolutionMetrics/popCOGent_example_ocean/TOBG_SAT-59.fna_@_TOBG_IN-17.fna.maf.length_bias.txt\n"
     ]
    },
    {
     "name": "stderr",
     "output_type": "stream",
     "text": [
      "\r",
      "Running PopCOGent:  48%|████▊     | 240/495 [29:17<19:08,  4.50s/it]"
     ]
    },
    {
     "name": "stdout",
     "output_type": "stream",
     "text": [
      "export MUGSY_INSTALL=/data8/Human/NIH_4/MethodDevelopment/Mugsy/mugsy_x86-64-v1r2.3 ; /data8/Human/NIH_4/MethodDevelopment/Mugsy/mugsy_x86-64-v1r2.3/mugsy --directory /data1/bio_db/refseq/analysis/Manuscript/github_methods/bacterialEvolutionMetrics/popCOGent_example_ocean --prefix xD7YkWEk2LaLVx9shprkGyiwWN6hS2IF /data1/bio_db/refseq/analysis/Manuscript/github_methods/bacterialEvolutionMetrics/popCOGent_example_ocean/xD7YkWEk2LaLVx9s.tempcontig /data1/bio_db/refseq/analysis/Manuscript/github_methods/bacterialEvolutionMetrics/popCOGent_example_ocean/hprkGyiwWN6hS2IF.tempcontig\n",
      "/data1/bio_db/refseq/analysis/Manuscript/github_methods/bacterialEvolutionMetrics/popCOGent_example_ocean/TOBG_SP-2.fna_@_TOBG_IN-12.fna.maf.length_bias.txt\n"
     ]
    },
    {
     "name": "stderr",
     "output_type": "stream",
     "text": [
      "\r",
      "Running PopCOGent:  49%|████▊     | 241/495 [29:22<19:22,  4.58s/it]"
     ]
    },
    {
     "name": "stdout",
     "output_type": "stream",
     "text": [
      "export MUGSY_INSTALL=/data8/Human/NIH_4/MethodDevelopment/Mugsy/mugsy_x86-64-v1r2.3 ; /data8/Human/NIH_4/MethodDevelopment/Mugsy/mugsy_x86-64-v1r2.3/mugsy --directory /data1/bio_db/refseq/analysis/Manuscript/github_methods/bacterialEvolutionMetrics/popCOGent_example_ocean --prefix 3VBWt4tnDdWI1AKMSuzfNdmtj089ISNv /data1/bio_db/refseq/analysis/Manuscript/github_methods/bacterialEvolutionMetrics/popCOGent_example_ocean/3VBWt4tnDdWI1AKM.tempcontig /data1/bio_db/refseq/analysis/Manuscript/github_methods/bacterialEvolutionMetrics/popCOGent_example_ocean/SuzfNdmtj089ISNv.tempcontig\n",
      "/data1/bio_db/refseq/analysis/Manuscript/github_methods/bacterialEvolutionMetrics/popCOGent_example_ocean/TOBG_SP-3018.fna_@_TOBG_IN-13.fna.maf.length_bias.txt\n"
     ]
    },
    {
     "name": "stderr",
     "output_type": "stream",
     "text": [
      "\r",
      "Running PopCOGent:  49%|████▉     | 242/495 [29:45<42:49, 10.16s/it]"
     ]
    },
    {
     "name": "stdout",
     "output_type": "stream",
     "text": [
      "export MUGSY_INSTALL=/data8/Human/NIH_4/MethodDevelopment/Mugsy/mugsy_x86-64-v1r2.3 ; /data8/Human/NIH_4/MethodDevelopment/Mugsy/mugsy_x86-64-v1r2.3/mugsy --directory /data1/bio_db/refseq/analysis/Manuscript/github_methods/bacterialEvolutionMetrics/popCOGent_example_ocean --prefix r0kxp4jMi3hGUQsbi25XF0d3GRfty5ac /data1/bio_db/refseq/analysis/Manuscript/github_methods/bacterialEvolutionMetrics/popCOGent_example_ocean/r0kxp4jMi3hGUQsb.tempcontig /data1/bio_db/refseq/analysis/Manuscript/github_methods/bacterialEvolutionMetrics/popCOGent_example_ocean/i25XF0d3GRfty5ac.tempcontig\n",
      "/data1/bio_db/refseq/analysis/Manuscript/github_methods/bacterialEvolutionMetrics/popCOGent_example_ocean/TOBG_SAT-67.fna_@_TOBG_IN-23.fna.maf.length_bias.txt\n"
     ]
    },
    {
     "name": "stderr",
     "output_type": "stream",
     "text": [
      "\r",
      "Running PopCOGent:  49%|████▉     | 243/495 [29:47<32:11,  7.66s/it]"
     ]
    },
    {
     "name": "stdout",
     "output_type": "stream",
     "text": [
      "export MUGSY_INSTALL=/data8/Human/NIH_4/MethodDevelopment/Mugsy/mugsy_x86-64-v1r2.3 ; /data8/Human/NIH_4/MethodDevelopment/Mugsy/mugsy_x86-64-v1r2.3/mugsy --directory /data1/bio_db/refseq/analysis/Manuscript/github_methods/bacterialEvolutionMetrics/popCOGent_example_ocean --prefix RbscRctedee5nt8KAn160oFW9H6gJ2or /data1/bio_db/refseq/analysis/Manuscript/github_methods/bacterialEvolutionMetrics/popCOGent_example_ocean/RbscRctedee5nt8K.tempcontig /data1/bio_db/refseq/analysis/Manuscript/github_methods/bacterialEvolutionMetrics/popCOGent_example_ocean/An160oFW9H6gJ2or.tempcontig\n",
      "/data1/bio_db/refseq/analysis/Manuscript/github_methods/bacterialEvolutionMetrics/popCOGent_example_ocean/TOBG_SAT-28.fna_@_TOBG_IN-19.fna.maf.length_bias.txt\n"
     ]
    },
    {
     "name": "stderr",
     "output_type": "stream",
     "text": [
      "\r",
      "Running PopCOGent:  49%|████▉     | 244/495 [29:47<22:47,  5.45s/it]"
     ]
    },
    {
     "name": "stdout",
     "output_type": "stream",
     "text": [
      "export MUGSY_INSTALL=/data8/Human/NIH_4/MethodDevelopment/Mugsy/mugsy_x86-64-v1r2.3 ; /data8/Human/NIH_4/MethodDevelopment/Mugsy/mugsy_x86-64-v1r2.3/mugsy --directory /data1/bio_db/refseq/analysis/Manuscript/github_methods/bacterialEvolutionMetrics/popCOGent_example_ocean --prefix YZxK9gEjC9PxKxXw0Qy13f8aTfvaplKh /data1/bio_db/refseq/analysis/Manuscript/github_methods/bacterialEvolutionMetrics/popCOGent_example_ocean/YZxK9gEjC9PxKxXw.tempcontig /data1/bio_db/refseq/analysis/Manuscript/github_methods/bacterialEvolutionMetrics/popCOGent_example_ocean/0Qy13f8aTfvaplKh.tempcontig\n",
      "/data1/bio_db/refseq/analysis/Manuscript/github_methods/bacterialEvolutionMetrics/popCOGent_example_ocean/TOBG_NP-27.fna_@_TOBG_IN-40.fna.maf.length_bias.txt\n"
     ]
    },
    {
     "name": "stderr",
     "output_type": "stream",
     "text": [
      "\r",
      "Running PopCOGent:  49%|████▉     | 245/495 [29:56<27:36,  6.63s/it]"
     ]
    },
    {
     "name": "stdout",
     "output_type": "stream",
     "text": [
      "export MUGSY_INSTALL=/data8/Human/NIH_4/MethodDevelopment/Mugsy/mugsy_x86-64-v1r2.3 ; /data8/Human/NIH_4/MethodDevelopment/Mugsy/mugsy_x86-64-v1r2.3/mugsy --directory /data1/bio_db/refseq/analysis/Manuscript/github_methods/bacterialEvolutionMetrics/popCOGent_example_ocean --prefix 2gYkab3P0j5FQMw3ZPx6dlKTckvH2WJ9 /data1/bio_db/refseq/analysis/Manuscript/github_methods/bacterialEvolutionMetrics/popCOGent_example_ocean/2gYkab3P0j5FQMw3.tempcontig /data1/bio_db/refseq/analysis/Manuscript/github_methods/bacterialEvolutionMetrics/popCOGent_example_ocean/ZPx6dlKTckvH2WJ9.tempcontig\n",
      "/data1/bio_db/refseq/analysis/Manuscript/github_methods/bacterialEvolutionMetrics/popCOGent_example_ocean/TOBG_SP-133.fna_@_TOBG_IN-2.fna.maf.length_bias.txt\n"
     ]
    },
    {
     "name": "stderr",
     "output_type": "stream",
     "text": [
      "\r",
      "Running PopCOGent:  50%|████▉     | 246/495 [30:12<39:00,  9.40s/it]"
     ]
    },
    {
     "name": "stdout",
     "output_type": "stream",
     "text": [
      "export MUGSY_INSTALL=/data8/Human/NIH_4/MethodDevelopment/Mugsy/mugsy_x86-64-v1r2.3 ; /data8/Human/NIH_4/MethodDevelopment/Mugsy/mugsy_x86-64-v1r2.3/mugsy --directory /data1/bio_db/refseq/analysis/Manuscript/github_methods/bacterialEvolutionMetrics/popCOGent_example_ocean --prefix ndBzhS8JpMVR35QBqnkGzncQf5mkoFkS /data1/bio_db/refseq/analysis/Manuscript/github_methods/bacterialEvolutionMetrics/popCOGent_example_ocean/ndBzhS8JpMVR35QB.tempcontig /data1/bio_db/refseq/analysis/Manuscript/github_methods/bacterialEvolutionMetrics/popCOGent_example_ocean/qnkGzncQf5mkoFkS.tempcontig\n",
      "/data1/bio_db/refseq/analysis/Manuscript/github_methods/bacterialEvolutionMetrics/popCOGent_example_ocean/TOBG_RS-404.fna_@_TOBG_IN-43.fna.maf.length_bias.txt\n"
     ]
    },
    {
     "name": "stderr",
     "output_type": "stream",
     "text": [
      "\r",
      "Running PopCOGent:  50%|████▉     | 247/495 [30:19<34:51,  8.43s/it]"
     ]
    },
    {
     "name": "stdout",
     "output_type": "stream",
     "text": [
      "export MUGSY_INSTALL=/data8/Human/NIH_4/MethodDevelopment/Mugsy/mugsy_x86-64-v1r2.3 ; /data8/Human/NIH_4/MethodDevelopment/Mugsy/mugsy_x86-64-v1r2.3/mugsy --directory /data1/bio_db/refseq/analysis/Manuscript/github_methods/bacterialEvolutionMetrics/popCOGent_example_ocean --prefix 88Y0tJffOEt2EJR5Uk9kBUONCu0fZQ45 /data1/bio_db/refseq/analysis/Manuscript/github_methods/bacterialEvolutionMetrics/popCOGent_example_ocean/88Y0tJffOEt2EJR5.tempcontig /data1/bio_db/refseq/analysis/Manuscript/github_methods/bacterialEvolutionMetrics/popCOGent_example_ocean/Uk9kBUONCu0fZQ45.tempcontig\n",
      "/data1/bio_db/refseq/analysis/Manuscript/github_methods/bacterialEvolutionMetrics/popCOGent_example_ocean/TOBG_MED-637.fna_@_TOBG_IN-43.fna.maf.length_bias.txt\n"
     ]
    },
    {
     "name": "stderr",
     "output_type": "stream",
     "text": [
      "\r",
      "Running PopCOGent:  50%|█████     | 248/495 [30:19<24:54,  6.05s/it]"
     ]
    },
    {
     "name": "stdout",
     "output_type": "stream",
     "text": [
      "export MUGSY_INSTALL=/data8/Human/NIH_4/MethodDevelopment/Mugsy/mugsy_x86-64-v1r2.3 ; /data8/Human/NIH_4/MethodDevelopment/Mugsy/mugsy_x86-64-v1r2.3/mugsy --directory /data1/bio_db/refseq/analysis/Manuscript/github_methods/bacterialEvolutionMetrics/popCOGent_example_ocean --prefix X6Q0gVNAj6jUk4hbuL2BrENtPsxedkSH /data1/bio_db/refseq/analysis/Manuscript/github_methods/bacterialEvolutionMetrics/popCOGent_example_ocean/X6Q0gVNAj6jUk4hb.tempcontig /data1/bio_db/refseq/analysis/Manuscript/github_methods/bacterialEvolutionMetrics/popCOGent_example_ocean/uL2BrENtPsxedkSH.tempcontig\n",
      "/data1/bio_db/refseq/analysis/Manuscript/github_methods/bacterialEvolutionMetrics/popCOGent_example_ocean/TOBG_SP-131.fna_@_TOBG_IN-19.fna.maf.length_bias.txt\n"
     ]
    },
    {
     "name": "stderr",
     "output_type": "stream",
     "text": [
      "\r",
      "Running PopCOGent:  50%|█████     | 249/495 [30:20<18:19,  4.47s/it]"
     ]
    },
    {
     "name": "stdout",
     "output_type": "stream",
     "text": [
      "export MUGSY_INSTALL=/data8/Human/NIH_4/MethodDevelopment/Mugsy/mugsy_x86-64-v1r2.3 ; /data8/Human/NIH_4/MethodDevelopment/Mugsy/mugsy_x86-64-v1r2.3/mugsy --directory /data1/bio_db/refseq/analysis/Manuscript/github_methods/bacterialEvolutionMetrics/popCOGent_example_ocean --prefix DUeeobCwXdmI7h89QYvSb2zLyc3T0sE8 /data1/bio_db/refseq/analysis/Manuscript/github_methods/bacterialEvolutionMetrics/popCOGent_example_ocean/DUeeobCwXdmI7h89.tempcontig /data1/bio_db/refseq/analysis/Manuscript/github_methods/bacterialEvolutionMetrics/popCOGent_example_ocean/QYvSb2zLyc3T0sE8.tempcontig\n",
      "/data1/bio_db/refseq/analysis/Manuscript/github_methods/bacterialEvolutionMetrics/popCOGent_example_ocean/TOBG_NP-52.fna_@_TOBG_IN-43.fna.maf.length_bias.txt\n"
     ]
    },
    {
     "name": "stderr",
     "output_type": "stream",
     "text": [
      "\r",
      "Running PopCOGent:  51%|█████     | 250/495 [30:36<32:56,  8.07s/it]"
     ]
    },
    {
     "name": "stdout",
     "output_type": "stream",
     "text": [
      "export MUGSY_INSTALL=/data8/Human/NIH_4/MethodDevelopment/Mugsy/mugsy_x86-64-v1r2.3 ; /data8/Human/NIH_4/MethodDevelopment/Mugsy/mugsy_x86-64-v1r2.3/mugsy --directory /data1/bio_db/refseq/analysis/Manuscript/github_methods/bacterialEvolutionMetrics/popCOGent_example_ocean --prefix 5T1XYpC3n1P6LSgU9UyVcFq8S9KjRDy8 /data1/bio_db/refseq/analysis/Manuscript/github_methods/bacterialEvolutionMetrics/popCOGent_example_ocean/5T1XYpC3n1P6LSgU.tempcontig /data1/bio_db/refseq/analysis/Manuscript/github_methods/bacterialEvolutionMetrics/popCOGent_example_ocean/9UyVcFq8S9KjRDy8.tempcontig\n",
      "/data1/bio_db/refseq/analysis/Manuscript/github_methods/bacterialEvolutionMetrics/popCOGent_example_ocean/TOBG_SAT-20.fna_@_TOBG_IN-7.fna.maf.length_bias.txt\n"
     ]
    },
    {
     "name": "stderr",
     "output_type": "stream",
     "text": [
      "\r",
      "Running PopCOGent:  51%|█████     | 251/495 [30:42<29:34,  7.27s/it]"
     ]
    },
    {
     "name": "stdout",
     "output_type": "stream",
     "text": [
      "export MUGSY_INSTALL=/data8/Human/NIH_4/MethodDevelopment/Mugsy/mugsy_x86-64-v1r2.3 ; /data8/Human/NIH_4/MethodDevelopment/Mugsy/mugsy_x86-64-v1r2.3/mugsy --directory /data1/bio_db/refseq/analysis/Manuscript/github_methods/bacterialEvolutionMetrics/popCOGent_example_ocean --prefix U0GR887NAdrArk3mdItsPXjd4wsoLqLB /data1/bio_db/refseq/analysis/Manuscript/github_methods/bacterialEvolutionMetrics/popCOGent_example_ocean/U0GR887NAdrArk3m.tempcontig /data1/bio_db/refseq/analysis/Manuscript/github_methods/bacterialEvolutionMetrics/popCOGent_example_ocean/dItsPXjd4wsoLqLB.tempcontig\n",
      "/data1/bio_db/refseq/analysis/Manuscript/github_methods/bacterialEvolutionMetrics/popCOGent_example_ocean/TOBG_SAT-88.fna_@_TOBG_IN-2.fna.maf.length_bias.txt\n"
     ]
    },
    {
     "name": "stderr",
     "output_type": "stream",
     "text": [
      "\r",
      "Running PopCOGent:  51%|█████     | 252/495 [30:43<22:04,  5.45s/it]"
     ]
    },
    {
     "name": "stdout",
     "output_type": "stream",
     "text": [
      "export MUGSY_INSTALL=/data8/Human/NIH_4/MethodDevelopment/Mugsy/mugsy_x86-64-v1r2.3 ; /data8/Human/NIH_4/MethodDevelopment/Mugsy/mugsy_x86-64-v1r2.3/mugsy --directory /data1/bio_db/refseq/analysis/Manuscript/github_methods/bacterialEvolutionMetrics/popCOGent_example_ocean --prefix ftEJx81MIgOtbAYWNbSmML8MNkHFmKNa /data1/bio_db/refseq/analysis/Manuscript/github_methods/bacterialEvolutionMetrics/popCOGent_example_ocean/ftEJx81MIgOtbAYW.tempcontig /data1/bio_db/refseq/analysis/Manuscript/github_methods/bacterialEvolutionMetrics/popCOGent_example_ocean/NbSmML8MNkHFmKNa.tempcontig\n",
      "/data1/bio_db/refseq/analysis/Manuscript/github_methods/bacterialEvolutionMetrics/popCOGent_example_ocean/TOBG_RS-439.fna_@_TOBG_MED-1247.fna.maf.length_bias.txt\n"
     ]
    },
    {
     "name": "stderr",
     "output_type": "stream",
     "text": [
      "\r",
      "Running PopCOGent:  51%|█████     | 253/495 [30:57<32:13,  7.99s/it]"
     ]
    },
    {
     "name": "stdout",
     "output_type": "stream",
     "text": [
      "export MUGSY_INSTALL=/data8/Human/NIH_4/MethodDevelopment/Mugsy/mugsy_x86-64-v1r2.3 ; /data8/Human/NIH_4/MethodDevelopment/Mugsy/mugsy_x86-64-v1r2.3/mugsy --directory /data1/bio_db/refseq/analysis/Manuscript/github_methods/bacterialEvolutionMetrics/popCOGent_example_ocean --prefix Cp9F1cw5flPnFrnD7XnFvMaRoIILG4wb /data1/bio_db/refseq/analysis/Manuscript/github_methods/bacterialEvolutionMetrics/popCOGent_example_ocean/Cp9F1cw5flPnFrnD.tempcontig /data1/bio_db/refseq/analysis/Manuscript/github_methods/bacterialEvolutionMetrics/popCOGent_example_ocean/7XnFvMaRoIILG4wb.tempcontig\n",
      "/data1/bio_db/refseq/analysis/Manuscript/github_methods/bacterialEvolutionMetrics/popCOGent_example_ocean/TOBG_NP-151.fna_@_TOBG_IN-9.fna.maf.length_bias.txt\n"
     ]
    },
    {
     "name": "stderr",
     "output_type": "stream",
     "text": [
      "\r",
      "Running PopCOGent:  51%|█████▏    | 254/495 [30:58<23:38,  5.88s/it]"
     ]
    },
    {
     "name": "stdout",
     "output_type": "stream",
     "text": [
      "export MUGSY_INSTALL=/data8/Human/NIH_4/MethodDevelopment/Mugsy/mugsy_x86-64-v1r2.3 ; /data8/Human/NIH_4/MethodDevelopment/Mugsy/mugsy_x86-64-v1r2.3/mugsy --directory /data1/bio_db/refseq/analysis/Manuscript/github_methods/bacterialEvolutionMetrics/popCOGent_example_ocean --prefix NEy0ab4NiDcmRn0EQczoEhfODnGmjRy8 /data1/bio_db/refseq/analysis/Manuscript/github_methods/bacterialEvolutionMetrics/popCOGent_example_ocean/NEy0ab4NiDcmRn0E.tempcontig /data1/bio_db/refseq/analysis/Manuscript/github_methods/bacterialEvolutionMetrics/popCOGent_example_ocean/QczoEhfODnGmjRy8.tempcontig\n",
      "/data1/bio_db/refseq/analysis/Manuscript/github_methods/bacterialEvolutionMetrics/popCOGent_example_ocean/TOBG_SAT-1346.fna_@_TOBG_MED-1269.fna.maf.length_bias.txt\n"
     ]
    },
    {
     "name": "stderr",
     "output_type": "stream",
     "text": [
      "\r",
      "Running PopCOGent:  52%|█████▏    | 255/495 [31:02<21:04,  5.27s/it]"
     ]
    },
    {
     "name": "stdout",
     "output_type": "stream",
     "text": [
      "export MUGSY_INSTALL=/data8/Human/NIH_4/MethodDevelopment/Mugsy/mugsy_x86-64-v1r2.3 ; /data8/Human/NIH_4/MethodDevelopment/Mugsy/mugsy_x86-64-v1r2.3/mugsy --directory /data1/bio_db/refseq/analysis/Manuscript/github_methods/bacterialEvolutionMetrics/popCOGent_example_ocean --prefix 1BLyC8qibQoLngQZ31PPLfQ1HFSOwiB1 /data1/bio_db/refseq/analysis/Manuscript/github_methods/bacterialEvolutionMetrics/popCOGent_example_ocean/1BLyC8qibQoLngQZ.tempcontig /data1/bio_db/refseq/analysis/Manuscript/github_methods/bacterialEvolutionMetrics/popCOGent_example_ocean/31PPLfQ1HFSOwiB1.tempcontig\n",
      "/data1/bio_db/refseq/analysis/Manuscript/github_methods/bacterialEvolutionMetrics/popCOGent_example_ocean/TOBG_SP-190.fna_@_TOBG_MED-1247.fna.maf.length_bias.txt\n"
     ]
    },
    {
     "name": "stderr",
     "output_type": "stream",
     "text": [
      "\r",
      "Running PopCOGent:  52%|█████▏    | 256/495 [31:07<21:36,  5.43s/it]"
     ]
    },
    {
     "name": "stdout",
     "output_type": "stream",
     "text": [
      "export MUGSY_INSTALL=/data8/Human/NIH_4/MethodDevelopment/Mugsy/mugsy_x86-64-v1r2.3 ; /data8/Human/NIH_4/MethodDevelopment/Mugsy/mugsy_x86-64-v1r2.3/mugsy --directory /data1/bio_db/refseq/analysis/Manuscript/github_methods/bacterialEvolutionMetrics/popCOGent_example_ocean --prefix Um803VXsVrOoAiabyOo0KJU8nMazenU6 /data1/bio_db/refseq/analysis/Manuscript/github_methods/bacterialEvolutionMetrics/popCOGent_example_ocean/Um803VXsVrOoAiab.tempcontig /data1/bio_db/refseq/analysis/Manuscript/github_methods/bacterialEvolutionMetrics/popCOGent_example_ocean/yOo0KJU8nMazenU6.tempcontig\n",
      "/data1/bio_db/refseq/analysis/Manuscript/github_methods/bacterialEvolutionMetrics/popCOGent_example_ocean/TOBG_NAT-64.fna_@_TOBG_IN-9.fna.maf.length_bias.txt\n"
     ]
    },
    {
     "name": "stderr",
     "output_type": "stream",
     "text": [
      "\r",
      "Running PopCOGent:  52%|█████▏    | 257/495 [31:08<15:22,  3.88s/it]"
     ]
    },
    {
     "name": "stdout",
     "output_type": "stream",
     "text": [
      "export MUGSY_INSTALL=/data8/Human/NIH_4/MethodDevelopment/Mugsy/mugsy_x86-64-v1r2.3 ; /data8/Human/NIH_4/MethodDevelopment/Mugsy/mugsy_x86-64-v1r2.3/mugsy --directory /data1/bio_db/refseq/analysis/Manuscript/github_methods/bacterialEvolutionMetrics/popCOGent_example_ocean --prefix luqmzmv1VcrnYkQI32uluAA7gQ8dgenw /data1/bio_db/refseq/analysis/Manuscript/github_methods/bacterialEvolutionMetrics/popCOGent_example_ocean/luqmzmv1VcrnYkQI.tempcontig /data1/bio_db/refseq/analysis/Manuscript/github_methods/bacterialEvolutionMetrics/popCOGent_example_ocean/32uluAA7gQ8dgenw.tempcontig\n",
      "/data1/bio_db/refseq/analysis/Manuscript/github_methods/bacterialEvolutionMetrics/popCOGent_example_ocean/TOBG_SAT-1.fna_@_TOBG_IN-9.fna.maf.length_bias.txt\n"
     ]
    },
    {
     "name": "stderr",
     "output_type": "stream",
     "text": [
      "\r",
      "Running PopCOGent:  52%|█████▏    | 258/495 [31:11<14:47,  3.74s/it]"
     ]
    },
    {
     "name": "stdout",
     "output_type": "stream",
     "text": [
      "export MUGSY_INSTALL=/data8/Human/NIH_4/MethodDevelopment/Mugsy/mugsy_x86-64-v1r2.3 ; /data8/Human/NIH_4/MethodDevelopment/Mugsy/mugsy_x86-64-v1r2.3/mugsy --directory /data1/bio_db/refseq/analysis/Manuscript/github_methods/bacterialEvolutionMetrics/popCOGent_example_ocean --prefix dnhS8M7KUOukmAwqtUdiF8kXcr2Awnze /data1/bio_db/refseq/analysis/Manuscript/github_methods/bacterialEvolutionMetrics/popCOGent_example_ocean/dnhS8M7KUOukmAwq.tempcontig /data1/bio_db/refseq/analysis/Manuscript/github_methods/bacterialEvolutionMetrics/popCOGent_example_ocean/tUdiF8kXcr2Awnze.tempcontig\n",
      "/data1/bio_db/refseq/analysis/Manuscript/github_methods/bacterialEvolutionMetrics/popCOGent_example_ocean/TOBG_MED-729.fna_@_TOBG_MED-582.fna.maf.length_bias.txt\n"
     ]
    },
    {
     "name": "stderr",
     "output_type": "stream",
     "text": [
      "\r",
      "Running PopCOGent:  52%|█████▏    | 259/495 [31:19<19:21,  4.92s/it]"
     ]
    },
    {
     "name": "stdout",
     "output_type": "stream",
     "text": [
      "export MUGSY_INSTALL=/data8/Human/NIH_4/MethodDevelopment/Mugsy/mugsy_x86-64-v1r2.3 ; /data8/Human/NIH_4/MethodDevelopment/Mugsy/mugsy_x86-64-v1r2.3/mugsy --directory /data1/bio_db/refseq/analysis/Manuscript/github_methods/bacterialEvolutionMetrics/popCOGent_example_ocean --prefix pZ4rU47UNjOMRugOn8CVxK02OOs47dSF /data1/bio_db/refseq/analysis/Manuscript/github_methods/bacterialEvolutionMetrics/popCOGent_example_ocean/pZ4rU47UNjOMRugO.tempcontig /data1/bio_db/refseq/analysis/Manuscript/github_methods/bacterialEvolutionMetrics/popCOGent_example_ocean/n8CVxK02OOs47dSF.tempcontig\n",
      "/data1/bio_db/refseq/analysis/Manuscript/github_methods/bacterialEvolutionMetrics/popCOGent_example_ocean/TOBG_NP-51.fna_@_TOBG_MED-581.fna.maf.length_bias.txt\n"
     ]
    },
    {
     "name": "stderr",
     "output_type": "stream",
     "text": [
      "\r",
      "Running PopCOGent:  53%|█████▎    | 260/495 [31:37<34:26,  8.80s/it]"
     ]
    },
    {
     "name": "stdout",
     "output_type": "stream",
     "text": [
      "export MUGSY_INSTALL=/data8/Human/NIH_4/MethodDevelopment/Mugsy/mugsy_x86-64-v1r2.3 ; /data8/Human/NIH_4/MethodDevelopment/Mugsy/mugsy_x86-64-v1r2.3/mugsy --directory /data1/bio_db/refseq/analysis/Manuscript/github_methods/bacterialEvolutionMetrics/popCOGent_example_ocean --prefix zE8hhG2lM9Y0bvDyGFJoy7qBtaUMIFxC /data1/bio_db/refseq/analysis/Manuscript/github_methods/bacterialEvolutionMetrics/popCOGent_example_ocean/zE8hhG2lM9Y0bvDy.tempcontig /data1/bio_db/refseq/analysis/Manuscript/github_methods/bacterialEvolutionMetrics/popCOGent_example_ocean/GFJoy7qBtaUMIFxC.tempcontig\n",
      "/data1/bio_db/refseq/analysis/Manuscript/github_methods/bacterialEvolutionMetrics/popCOGent_example_ocean/TOBG_NAT-28.fna_@_TOBG_MED-587.fna.maf.length_bias.txt\n"
     ]
    },
    {
     "name": "stderr",
     "output_type": "stream",
     "text": [
      "\r",
      "Running PopCOGent:  53%|█████▎    | 261/495 [31:37<24:31,  6.29s/it]"
     ]
    },
    {
     "name": "stdout",
     "output_type": "stream",
     "text": [
      "export MUGSY_INSTALL=/data8/Human/NIH_4/MethodDevelopment/Mugsy/mugsy_x86-64-v1r2.3 ; /data8/Human/NIH_4/MethodDevelopment/Mugsy/mugsy_x86-64-v1r2.3/mugsy --directory /data1/bio_db/refseq/analysis/Manuscript/github_methods/bacterialEvolutionMetrics/popCOGent_example_ocean --prefix MB2zVGA94CreOdAbaC7Ipis93ZBUmVEn /data1/bio_db/refseq/analysis/Manuscript/github_methods/bacterialEvolutionMetrics/popCOGent_example_ocean/MB2zVGA94CreOdAb.tempcontig /data1/bio_db/refseq/analysis/Manuscript/github_methods/bacterialEvolutionMetrics/popCOGent_example_ocean/aC7Ipis93ZBUmVEn.tempcontig\n",
      "/data1/bio_db/refseq/analysis/Manuscript/github_methods/bacterialEvolutionMetrics/popCOGent_example_ocean/TOBG_MED-645.fna_@_TOBG_MED-598.fna.maf.length_bias.txt\n"
     ]
    },
    {
     "name": "stderr",
     "output_type": "stream",
     "text": [
      "\r",
      "Running PopCOGent:  53%|█████▎    | 262/495 [31:38<18:22,  4.73s/it]"
     ]
    },
    {
     "name": "stdout",
     "output_type": "stream",
     "text": [
      "export MUGSY_INSTALL=/data8/Human/NIH_4/MethodDevelopment/Mugsy/mugsy_x86-64-v1r2.3 ; /data8/Human/NIH_4/MethodDevelopment/Mugsy/mugsy_x86-64-v1r2.3/mugsy --directory /data1/bio_db/refseq/analysis/Manuscript/github_methods/bacterialEvolutionMetrics/popCOGent_example_ocean --prefix mv89UCo0rHkLoarwROuAjjOWJNLYzZMy /data1/bio_db/refseq/analysis/Manuscript/github_methods/bacterialEvolutionMetrics/popCOGent_example_ocean/mv89UCo0rHkLoarw.tempcontig /data1/bio_db/refseq/analysis/Manuscript/github_methods/bacterialEvolutionMetrics/popCOGent_example_ocean/ROuAjjOWJNLYzZMy.tempcontig\n",
      "/data1/bio_db/refseq/analysis/Manuscript/github_methods/bacterialEvolutionMetrics/popCOGent_example_ocean/TOBG_RS-364.fna_@_TOBG_MED-587.fna.maf.length_bias.txt\n"
     ]
    },
    {
     "name": "stderr",
     "output_type": "stream",
     "text": [
      "\r",
      "Running PopCOGent:  53%|█████▎    | 263/495 [31:52<29:07,  7.53s/it]"
     ]
    },
    {
     "name": "stdout",
     "output_type": "stream",
     "text": [
      "export MUGSY_INSTALL=/data8/Human/NIH_4/MethodDevelopment/Mugsy/mugsy_x86-64-v1r2.3 ; /data8/Human/NIH_4/MethodDevelopment/Mugsy/mugsy_x86-64-v1r2.3/mugsy --directory /data1/bio_db/refseq/analysis/Manuscript/github_methods/bacterialEvolutionMetrics/popCOGent_example_ocean --prefix CBuEmrdTrMVSh6sEsLoeGwXZDAkD22Vx /data1/bio_db/refseq/analysis/Manuscript/github_methods/bacterialEvolutionMetrics/popCOGent_example_ocean/CBuEmrdTrMVSh6sE.tempcontig /data1/bio_db/refseq/analysis/Manuscript/github_methods/bacterialEvolutionMetrics/popCOGent_example_ocean/sLoeGwXZDAkD22Vx.tempcontig\n",
      "/data1/bio_db/refseq/analysis/Manuscript/github_methods/bacterialEvolutionMetrics/popCOGent_example_ocean/TOBG_SAT-73.fna_@_TOBG_MED-587.fna.maf.length_bias.txt\n"
     ]
    },
    {
     "name": "stderr",
     "output_type": "stream",
     "text": [
      "\r",
      "Running PopCOGent:  53%|█████▎    | 264/495 [31:59<28:08,  7.31s/it]"
     ]
    },
    {
     "name": "stdout",
     "output_type": "stream",
     "text": [
      "export MUGSY_INSTALL=/data8/Human/NIH_4/MethodDevelopment/Mugsy/mugsy_x86-64-v1r2.3 ; /data8/Human/NIH_4/MethodDevelopment/Mugsy/mugsy_x86-64-v1r2.3/mugsy --directory /data1/bio_db/refseq/analysis/Manuscript/github_methods/bacterialEvolutionMetrics/popCOGent_example_ocean --prefix sLWqFkcoTBbxfsICsq48SRgsuf7wQygq /data1/bio_db/refseq/analysis/Manuscript/github_methods/bacterialEvolutionMetrics/popCOGent_example_ocean/sLWqFkcoTBbxfsIC.tempcontig /data1/bio_db/refseq/analysis/Manuscript/github_methods/bacterialEvolutionMetrics/popCOGent_example_ocean/sq48SRgsuf7wQygq.tempcontig\n",
      "/data1/bio_db/refseq/analysis/Manuscript/github_methods/bacterialEvolutionMetrics/popCOGent_example_ocean/TOBG_SAT-69.fna_@_TOBG_MED-592.fna.maf.length_bias.txt\n"
     ]
    },
    {
     "name": "stderr",
     "output_type": "stream",
     "text": [
      "\r",
      "Running PopCOGent:  54%|█████▎    | 265/495 [32:02<22:50,  5.96s/it]"
     ]
    },
    {
     "name": "stdout",
     "output_type": "stream",
     "text": [
      "export MUGSY_INSTALL=/data8/Human/NIH_4/MethodDevelopment/Mugsy/mugsy_x86-64-v1r2.3 ; /data8/Human/NIH_4/MethodDevelopment/Mugsy/mugsy_x86-64-v1r2.3/mugsy --directory /data1/bio_db/refseq/analysis/Manuscript/github_methods/bacterialEvolutionMetrics/popCOGent_example_ocean --prefix 4fWVhLX79wg4rGEgp0Gq0elyHqtoWn1F /data1/bio_db/refseq/analysis/Manuscript/github_methods/bacterialEvolutionMetrics/popCOGent_example_ocean/4fWVhLX79wg4rGEg.tempcontig /data1/bio_db/refseq/analysis/Manuscript/github_methods/bacterialEvolutionMetrics/popCOGent_example_ocean/p0Gq0elyHqtoWn1F.tempcontig\n",
      "/data1/bio_db/refseq/analysis/Manuscript/github_methods/bacterialEvolutionMetrics/popCOGent_example_ocean/TOBG_SP-108.fna_@_TOBG_MED-598.fna.maf.length_bias.txt\n"
     ]
    },
    {
     "name": "stderr",
     "output_type": "stream",
     "text": [
      "\r",
      "Running PopCOGent:  54%|█████▎    | 266/495 [32:10<25:09,  6.59s/it]"
     ]
    },
    {
     "name": "stdout",
     "output_type": "stream",
     "text": [
      "export MUGSY_INSTALL=/data8/Human/NIH_4/MethodDevelopment/Mugsy/mugsy_x86-64-v1r2.3 ; /data8/Human/NIH_4/MethodDevelopment/Mugsy/mugsy_x86-64-v1r2.3/mugsy --directory /data1/bio_db/refseq/analysis/Manuscript/github_methods/bacterialEvolutionMetrics/popCOGent_example_ocean --prefix 4WEfu5VXicR8dLx6zVqtKZoBPMWIuoP6 /data1/bio_db/refseq/analysis/Manuscript/github_methods/bacterialEvolutionMetrics/popCOGent_example_ocean/4WEfu5VXicR8dLx6.tempcontig /data1/bio_db/refseq/analysis/Manuscript/github_methods/bacterialEvolutionMetrics/popCOGent_example_ocean/zVqtKZoBPMWIuoP6.tempcontig\n",
      "/data1/bio_db/refseq/analysis/Manuscript/github_methods/bacterialEvolutionMetrics/popCOGent_example_ocean/TOBG_SAT-19.fna_@_TOBG_MED-588.fna.maf.length_bias.txt\n"
     ]
    },
    {
     "name": "stderr",
     "output_type": "stream",
     "text": [
      "\r",
      "Running PopCOGent:  54%|█████▍    | 267/495 [32:27<37:24,  9.84s/it]"
     ]
    },
    {
     "name": "stdout",
     "output_type": "stream",
     "text": [
      "export MUGSY_INSTALL=/data8/Human/NIH_4/MethodDevelopment/Mugsy/mugsy_x86-64-v1r2.3 ; /data8/Human/NIH_4/MethodDevelopment/Mugsy/mugsy_x86-64-v1r2.3/mugsy --directory /data1/bio_db/refseq/analysis/Manuscript/github_methods/bacterialEvolutionMetrics/popCOGent_example_ocean --prefix MgebPTkcbSIOsF6M7E4xfZrismpwxTxJ /data1/bio_db/refseq/analysis/Manuscript/github_methods/bacterialEvolutionMetrics/popCOGent_example_ocean/MgebPTkcbSIOsF6M.tempcontig /data1/bio_db/refseq/analysis/Manuscript/github_methods/bacterialEvolutionMetrics/popCOGent_example_ocean/7E4xfZrismpwxTxJ.tempcontig\n",
      "/data1/bio_db/refseq/analysis/Manuscript/github_methods/bacterialEvolutionMetrics/popCOGent_example_ocean/TOBG_RS-412.fna_@_TOBG_MED-616.fna.maf.length_bias.txt\n"
     ]
    },
    {
     "name": "stderr",
     "output_type": "stream",
     "text": [
      "\r",
      "Running PopCOGent:  54%|█████▍    | 268/495 [32:34<33:27,  8.84s/it]"
     ]
    },
    {
     "name": "stdout",
     "output_type": "stream",
     "text": [
      "export MUGSY_INSTALL=/data8/Human/NIH_4/MethodDevelopment/Mugsy/mugsy_x86-64-v1r2.3 ; /data8/Human/NIH_4/MethodDevelopment/Mugsy/mugsy_x86-64-v1r2.3/mugsy --directory /data1/bio_db/refseq/analysis/Manuscript/github_methods/bacterialEvolutionMetrics/popCOGent_example_ocean --prefix J3X0CoNBgRNcnckNAVtZ4VBZYwX99rbu /data1/bio_db/refseq/analysis/Manuscript/github_methods/bacterialEvolutionMetrics/popCOGent_example_ocean/J3X0CoNBgRNcnckN.tempcontig /data1/bio_db/refseq/analysis/Manuscript/github_methods/bacterialEvolutionMetrics/popCOGent_example_ocean/AVtZ4VBZYwX99rbu.tempcontig\n",
      "/data1/bio_db/refseq/analysis/Manuscript/github_methods/bacterialEvolutionMetrics/popCOGent_example_ocean/TOBG_NAT-79.fna_@_TOBG_MED-599.fna.maf.length_bias.txt\n"
     ]
    },
    {
     "name": "stderr",
     "output_type": "stream",
     "text": [
      "\r",
      "Running PopCOGent:  54%|█████▍    | 269/495 [32:37<26:30,  7.04s/it]"
     ]
    },
    {
     "name": "stdout",
     "output_type": "stream",
     "text": [
      "export MUGSY_INSTALL=/data8/Human/NIH_4/MethodDevelopment/Mugsy/mugsy_x86-64-v1r2.3 ; /data8/Human/NIH_4/MethodDevelopment/Mugsy/mugsy_x86-64-v1r2.3/mugsy --directory /data1/bio_db/refseq/analysis/Manuscript/github_methods/bacterialEvolutionMetrics/popCOGent_example_ocean --prefix mqqHakX9SULtVoetIdWW32a9vt1u4inO /data1/bio_db/refseq/analysis/Manuscript/github_methods/bacterialEvolutionMetrics/popCOGent_example_ocean/mqqHakX9SULtVoet.tempcontig /data1/bio_db/refseq/analysis/Manuscript/github_methods/bacterialEvolutionMetrics/popCOGent_example_ocean/IdWW32a9vt1u4inO.tempcontig\n",
      "/data1/bio_db/refseq/analysis/Manuscript/github_methods/bacterialEvolutionMetrics/popCOGent_example_ocean/TOBG_NAT-187.fna_@_TOBG_MED-621.fna.maf.length_bias.txt\n"
     ]
    },
    {
     "name": "stderr",
     "output_type": "stream",
     "text": [
      "\r",
      "Running PopCOGent:  55%|█████▍    | 270/495 [32:44<26:42,  7.12s/it]"
     ]
    },
    {
     "name": "stdout",
     "output_type": "stream",
     "text": [
      "export MUGSY_INSTALL=/data8/Human/NIH_4/MethodDevelopment/Mugsy/mugsy_x86-64-v1r2.3 ; /data8/Human/NIH_4/MethodDevelopment/Mugsy/mugsy_x86-64-v1r2.3/mugsy --directory /data1/bio_db/refseq/analysis/Manuscript/github_methods/bacterialEvolutionMetrics/popCOGent_example_ocean --prefix XEMymoxnURRAnYJs5QMUXYBLjVMB1hsC /data1/bio_db/refseq/analysis/Manuscript/github_methods/bacterialEvolutionMetrics/popCOGent_example_ocean/XEMymoxnURRAnYJs.tempcontig /data1/bio_db/refseq/analysis/Manuscript/github_methods/bacterialEvolutionMetrics/popCOGent_example_ocean/5QMUXYBLjVMB1hsC.tempcontig\n",
      "/data1/bio_db/refseq/analysis/Manuscript/github_methods/bacterialEvolutionMetrics/popCOGent_example_ocean/TOBG_MED-604.fna_@_TOBG_MED-603.fna.maf.length_bias.txt\n"
     ]
    },
    {
     "name": "stderr",
     "output_type": "stream",
     "text": [
      "\r",
      "Running PopCOGent:  55%|█████▍    | 271/495 [32:49<23:52,  6.39s/it]"
     ]
    },
    {
     "name": "stdout",
     "output_type": "stream",
     "text": [
      "export MUGSY_INSTALL=/data8/Human/NIH_4/MethodDevelopment/Mugsy/mugsy_x86-64-v1r2.3 ; /data8/Human/NIH_4/MethodDevelopment/Mugsy/mugsy_x86-64-v1r2.3/mugsy --directory /data1/bio_db/refseq/analysis/Manuscript/github_methods/bacterialEvolutionMetrics/popCOGent_example_ocean --prefix vFwLNgCK4mbId4Tybda6NOPqjzpsTsGE /data1/bio_db/refseq/analysis/Manuscript/github_methods/bacterialEvolutionMetrics/popCOGent_example_ocean/vFwLNgCK4mbId4Ty.tempcontig /data1/bio_db/refseq/analysis/Manuscript/github_methods/bacterialEvolutionMetrics/popCOGent_example_ocean/bda6NOPqjzpsTsGE.tempcontig\n",
      "/data1/bio_db/refseq/analysis/Manuscript/github_methods/bacterialEvolutionMetrics/popCOGent_example_ocean/TOBG_NP-60.fna_@_TOBG_MED-599.fna.maf.length_bias.txt\n"
     ]
    },
    {
     "name": "stderr",
     "output_type": "stream",
     "text": [
      "\r",
      "Running PopCOGent:  55%|█████▍    | 272/495 [32:50<18:12,  4.90s/it]"
     ]
    },
    {
     "name": "stdout",
     "output_type": "stream",
     "text": [
      "export MUGSY_INSTALL=/data8/Human/NIH_4/MethodDevelopment/Mugsy/mugsy_x86-64-v1r2.3 ; /data8/Human/NIH_4/MethodDevelopment/Mugsy/mugsy_x86-64-v1r2.3/mugsy --directory /data1/bio_db/refseq/analysis/Manuscript/github_methods/bacterialEvolutionMetrics/popCOGent_example_ocean --prefix wS5RC4eh4XO38PRXnWBYy8zFc0gsAPfZ /data1/bio_db/refseq/analysis/Manuscript/github_methods/bacterialEvolutionMetrics/popCOGent_example_ocean/wS5RC4eh4XO38PRX.tempcontig /data1/bio_db/refseq/analysis/Manuscript/github_methods/bacterialEvolutionMetrics/popCOGent_example_ocean/nWBYy8zFc0gsAPfZ.tempcontig\n",
      "export MUGSY_INSTALL=/data8/Human/NIH_4/MethodDevelopment/Mugsy/mugsy_x86-64-v1r2.3 ; /data8/Human/NIH_4/MethodDevelopment/Mugsy/mugsy_x86-64-v1r2.3/mugsy --directory /data1/bio_db/refseq/analysis/Manuscript/github_methods/bacterialEvolutionMetrics/popCOGent_example_ocean --prefix 0WoxD5LLVFTaJN5qGjKZUAL7Qjkygmn4 /data1/bio_db/refseq/analysis/Manuscript/github_methods/bacterialEvolutionMetrics/popCOGent_example_ocean/0WoxD5LLVFTaJN5q.tempcontig /data1/bio_db/refseq/analysis/Manuscript/github_methods/bacterialEvolutionMetrics/popCOGent_example_ocean/GjKZUAL7Qjkygmn4.tempcontig\n",
      "/data1/bio_db/refseq/analysis/Manuscript/github_methods/bacterialEvolutionMetrics/popCOGent_example_ocean/TOBG_SAT-10.fna_@_TOBG_MED-599.fna.maf.length_bias.txt\n",
      "/data1/bio_db/refseq/analysis/Manuscript/github_methods/bacterialEvolutionMetrics/popCOGent_example_ocean/TOBG_SAT-175.fna_@_TOBG_MED-621.fna.maf.length_bias.txt\n"
     ]
    },
    {
     "name": "stderr",
     "output_type": "stream",
     "text": [
      "\r",
      "Running PopCOGent:  55%|█████▌    | 274/495 [32:52<13:49,  3.76s/it]"
     ]
    },
    {
     "name": "stdout",
     "output_type": "stream",
     "text": [
      "export MUGSY_INSTALL=/data8/Human/NIH_4/MethodDevelopment/Mugsy/mugsy_x86-64-v1r2.3 ; /data8/Human/NIH_4/MethodDevelopment/Mugsy/mugsy_x86-64-v1r2.3/mugsy --directory /data1/bio_db/refseq/analysis/Manuscript/github_methods/bacterialEvolutionMetrics/popCOGent_example_ocean --prefix T2flvFewQ29V9mmB5hfCycgPm43OgdtY /data1/bio_db/refseq/analysis/Manuscript/github_methods/bacterialEvolutionMetrics/popCOGent_example_ocean/T2flvFewQ29V9mmB.tempcontig /data1/bio_db/refseq/analysis/Manuscript/github_methods/bacterialEvolutionMetrics/popCOGent_example_ocean/5hfCycgPm43OgdtY.tempcontig\n",
      "/data1/bio_db/refseq/analysis/Manuscript/github_methods/bacterialEvolutionMetrics/popCOGent_example_ocean/TOBG_SAT-103.fna_@_TOBG_MED-621.fna.maf.length_bias.txt\n"
     ]
    },
    {
     "name": "stderr",
     "output_type": "stream",
     "text": [
      "\r",
      "Running PopCOGent:  56%|█████▌    | 275/495 [33:17<37:05, 10.12s/it]"
     ]
    },
    {
     "name": "stdout",
     "output_type": "stream",
     "text": [
      "export MUGSY_INSTALL=/data8/Human/NIH_4/MethodDevelopment/Mugsy/mugsy_x86-64-v1r2.3 ; /data8/Human/NIH_4/MethodDevelopment/Mugsy/mugsy_x86-64-v1r2.3/mugsy --directory /data1/bio_db/refseq/analysis/Manuscript/github_methods/bacterialEvolutionMetrics/popCOGent_example_ocean --prefix BTQH22y6pPmzCo9mR7KE0BdlJIyoG0QD /data1/bio_db/refseq/analysis/Manuscript/github_methods/bacterialEvolutionMetrics/popCOGent_example_ocean/BTQH22y6pPmzCo9m.tempcontig /data1/bio_db/refseq/analysis/Manuscript/github_methods/bacterialEvolutionMetrics/popCOGent_example_ocean/R7KE0BdlJIyoG0QD.tempcontig\n",
      "/data1/bio_db/refseq/analysis/Manuscript/github_methods/bacterialEvolutionMetrics/popCOGent_example_ocean/TOBG_NP-53.fna_@_TOBG_MED-629.fna.maf.length_bias.txt\n"
     ]
    },
    {
     "name": "stderr",
     "output_type": "stream",
     "text": [
      "\r",
      "Running PopCOGent:  56%|█████▌    | 276/495 [33:30<39:31, 10.83s/it]"
     ]
    },
    {
     "name": "stdout",
     "output_type": "stream",
     "text": [
      "export MUGSY_INSTALL=/data8/Human/NIH_4/MethodDevelopment/Mugsy/mugsy_x86-64-v1r2.3 ; /data8/Human/NIH_4/MethodDevelopment/Mugsy/mugsy_x86-64-v1r2.3/mugsy --directory /data1/bio_db/refseq/analysis/Manuscript/github_methods/bacterialEvolutionMetrics/popCOGent_example_ocean --prefix gCyg4jvshYUJHDNUa6Us4fa2gdkc5Ian /data1/bio_db/refseq/analysis/Manuscript/github_methods/bacterialEvolutionMetrics/popCOGent_example_ocean/gCyg4jvshYUJHDNU.tempcontig /data1/bio_db/refseq/analysis/Manuscript/github_methods/bacterialEvolutionMetrics/popCOGent_example_ocean/a6Us4fa2gdkc5Ian.tempcontig\n",
      "/data1/bio_db/refseq/analysis/Manuscript/github_methods/bacterialEvolutionMetrics/popCOGent_example_ocean/TOBG_SP-159.fna_@_TOBG_MED-633.fna.maf.length_bias.txt\n"
     ]
    },
    {
     "name": "stderr",
     "output_type": "stream",
     "text": [
      "\r",
      "Running PopCOGent:  56%|█████▌    | 277/495 [33:30<28:09,  7.75s/it]"
     ]
    },
    {
     "name": "stdout",
     "output_type": "stream",
     "text": [
      "export MUGSY_INSTALL=/data8/Human/NIH_4/MethodDevelopment/Mugsy/mugsy_x86-64-v1r2.3 ; /data8/Human/NIH_4/MethodDevelopment/Mugsy/mugsy_x86-64-v1r2.3/mugsy --directory /data1/bio_db/refseq/analysis/Manuscript/github_methods/bacterialEvolutionMetrics/popCOGent_example_ocean --prefix kBIs7tQzs3zleY1OiaJzaMymA9wL5w01 /data1/bio_db/refseq/analysis/Manuscript/github_methods/bacterialEvolutionMetrics/popCOGent_example_ocean/kBIs7tQzs3zleY1O.tempcontig /data1/bio_db/refseq/analysis/Manuscript/github_methods/bacterialEvolutionMetrics/popCOGent_example_ocean/iaJzaMymA9wL5w01.tempcontig\n",
      "/data1/bio_db/refseq/analysis/Manuscript/github_methods/bacterialEvolutionMetrics/popCOGent_example_ocean/TOBG_NP-10.fna_@_TOBG_MED-633.fna.maf.length_bias.txt\n"
     ]
    },
    {
     "name": "stderr",
     "output_type": "stream",
     "text": [
      "\r",
      "Running PopCOGent:  56%|█████▌    | 278/495 [33:32<21:33,  5.96s/it]"
     ]
    },
    {
     "name": "stdout",
     "output_type": "stream",
     "text": [
      "export MUGSY_INSTALL=/data8/Human/NIH_4/MethodDevelopment/Mugsy/mugsy_x86-64-v1r2.3 ; /data8/Human/NIH_4/MethodDevelopment/Mugsy/mugsy_x86-64-v1r2.3/mugsy --directory /data1/bio_db/refseq/analysis/Manuscript/github_methods/bacterialEvolutionMetrics/popCOGent_example_ocean --prefix CqRXGt3Tr6rJ4ILEUVqIDudnNOhU6nSq /data1/bio_db/refseq/analysis/Manuscript/github_methods/bacterialEvolutionMetrics/popCOGent_example_ocean/CqRXGt3Tr6rJ4ILE.tempcontig /data1/bio_db/refseq/analysis/Manuscript/github_methods/bacterialEvolutionMetrics/popCOGent_example_ocean/UVqIDudnNOhU6nSq.tempcontig\n",
      "/data1/bio_db/refseq/analysis/Manuscript/github_methods/bacterialEvolutionMetrics/popCOGent_example_ocean/TOBG_SP-57.fna_@_TOBG_MED-633.fna.maf.length_bias.txt\n"
     ]
    },
    {
     "name": "stderr",
     "output_type": "stream",
     "text": [
      "\r",
      "Running PopCOGent:  56%|█████▋    | 279/495 [33:32<15:16,  4.24s/it]"
     ]
    },
    {
     "name": "stdout",
     "output_type": "stream",
     "text": [
      "export MUGSY_INSTALL=/data8/Human/NIH_4/MethodDevelopment/Mugsy/mugsy_x86-64-v1r2.3 ; /data8/Human/NIH_4/MethodDevelopment/Mugsy/mugsy_x86-64-v1r2.3/mugsy --directory /data1/bio_db/refseq/analysis/Manuscript/github_methods/bacterialEvolutionMetrics/popCOGent_example_ocean --prefix bSYab3FQWZt3DX4rJwejeLRZuAHXlz8U /data1/bio_db/refseq/analysis/Manuscript/github_methods/bacterialEvolutionMetrics/popCOGent_example_ocean/bSYab3FQWZt3DX4r.tempcontig /data1/bio_db/refseq/analysis/Manuscript/github_methods/bacterialEvolutionMetrics/popCOGent_example_ocean/JwejeLRZuAHXlz8U.tempcontig\n",
      "/data1/bio_db/refseq/analysis/Manuscript/github_methods/bacterialEvolutionMetrics/popCOGent_example_ocean/TOBG_NP-7.fna_@_TOBG_MED-633.fna.maf.length_bias.txt\n"
     ]
    },
    {
     "name": "stderr",
     "output_type": "stream",
     "text": [
      "\r",
      "Running PopCOGent:  57%|█████▋    | 280/495 [33:36<14:18,  3.99s/it]"
     ]
    },
    {
     "name": "stdout",
     "output_type": "stream",
     "text": [
      "export MUGSY_INSTALL=/data8/Human/NIH_4/MethodDevelopment/Mugsy/mugsy_x86-64-v1r2.3 ; /data8/Human/NIH_4/MethodDevelopment/Mugsy/mugsy_x86-64-v1r2.3/mugsy --directory /data1/bio_db/refseq/analysis/Manuscript/github_methods/bacterialEvolutionMetrics/popCOGent_example_ocean --prefix 5EUiEFj001uJ8gXrlrgmIUzYrHmJuPYa /data1/bio_db/refseq/analysis/Manuscript/github_methods/bacterialEvolutionMetrics/popCOGent_example_ocean/5EUiEFj001uJ8gXr.tempcontig /data1/bio_db/refseq/analysis/Manuscript/github_methods/bacterialEvolutionMetrics/popCOGent_example_ocean/lrgmIUzYrHmJuPYa.tempcontig\n",
      "/data1/bio_db/refseq/analysis/Manuscript/github_methods/bacterialEvolutionMetrics/popCOGent_example_ocean/TOBG_SAT-8.fna_@_TOBG_MED-633.fna.maf.length_bias.txt\n"
     ]
    },
    {
     "name": "stderr",
     "output_type": "stream",
     "text": [
      "\r",
      "Running PopCOGent:  57%|█████▋    | 281/495 [33:45<20:14,  5.67s/it]"
     ]
    },
    {
     "name": "stdout",
     "output_type": "stream",
     "text": [
      "export MUGSY_INSTALL=/data8/Human/NIH_4/MethodDevelopment/Mugsy/mugsy_x86-64-v1r2.3 ; /data8/Human/NIH_4/MethodDevelopment/Mugsy/mugsy_x86-64-v1r2.3/mugsy --directory /data1/bio_db/refseq/analysis/Manuscript/github_methods/bacterialEvolutionMetrics/popCOGent_example_ocean --prefix 9BUQHyK0da6OBJqqyVSLZkGCc8mVvjo5 /data1/bio_db/refseq/analysis/Manuscript/github_methods/bacterialEvolutionMetrics/popCOGent_example_ocean/9BUQHyK0da6OBJqq.tempcontig /data1/bio_db/refseq/analysis/Manuscript/github_methods/bacterialEvolutionMetrics/popCOGent_example_ocean/yVSLZkGCc8mVvjo5.tempcontig\n",
      "/data1/bio_db/refseq/analysis/Manuscript/github_methods/bacterialEvolutionMetrics/popCOGent_example_ocean/TOBG_SP-108.fna_@_TOBG_MED-645.fna.maf.length_bias.txt\n"
     ]
    },
    {
     "name": "stderr",
     "output_type": "stream",
     "text": [
      "\r",
      "Running PopCOGent:  57%|█████▋    | 282/495 [33:47<16:18,  4.59s/it]"
     ]
    },
    {
     "name": "stdout",
     "output_type": "stream",
     "text": [
      "export MUGSY_INSTALL=/data8/Human/NIH_4/MethodDevelopment/Mugsy/mugsy_x86-64-v1r2.3 ; /data8/Human/NIH_4/MethodDevelopment/Mugsy/mugsy_x86-64-v1r2.3/mugsy --directory /data1/bio_db/refseq/analysis/Manuscript/github_methods/bacterialEvolutionMetrics/popCOGent_example_ocean --prefix xsSy5ol44D61ejB3dm3Lx4K5ipUybmmH /data1/bio_db/refseq/analysis/Manuscript/github_methods/bacterialEvolutionMetrics/popCOGent_example_ocean/xsSy5ol44D61ejB3.tempcontig /data1/bio_db/refseq/analysis/Manuscript/github_methods/bacterialEvolutionMetrics/popCOGent_example_ocean/dm3Lx4K5ipUybmmH.tempcontig\n",
      "/data1/bio_db/refseq/analysis/Manuscript/github_methods/bacterialEvolutionMetrics/popCOGent_example_ocean/TOBG_SAT-47.fna_@_TOBG_MED-635.fna.maf.length_bias.txt\n"
     ]
    },
    {
     "name": "stderr",
     "output_type": "stream",
     "text": [
      "\r",
      "Running PopCOGent:  57%|█████▋    | 283/495 [33:54<18:31,  5.24s/it]"
     ]
    },
    {
     "name": "stdout",
     "output_type": "stream",
     "text": [
      "export MUGSY_INSTALL=/data8/Human/NIH_4/MethodDevelopment/Mugsy/mugsy_x86-64-v1r2.3 ; /data8/Human/NIH_4/MethodDevelopment/Mugsy/mugsy_x86-64-v1r2.3/mugsy --directory /data1/bio_db/refseq/analysis/Manuscript/github_methods/bacterialEvolutionMetrics/popCOGent_example_ocean --prefix smRphLF2AoBYfYuB04rH5Ccpjp0yKkgE /data1/bio_db/refseq/analysis/Manuscript/github_methods/bacterialEvolutionMetrics/popCOGent_example_ocean/smRphLF2AoBYfYuB.tempcontig /data1/bio_db/refseq/analysis/Manuscript/github_methods/bacterialEvolutionMetrics/popCOGent_example_ocean/04rH5Ccpjp0yKkgE.tempcontig\n",
      "/data1/bio_db/refseq/analysis/Manuscript/github_methods/bacterialEvolutionMetrics/popCOGent_example_ocean/TOBG_NP-52.fna_@_TOBG_MED-637.fna.maf.length_bias.txt\n"
     ]
    },
    {
     "name": "stderr",
     "output_type": "stream",
     "text": [
      "\r",
      "Running PopCOGent:  57%|█████▋    | 284/495 [33:56<14:49,  4.22s/it]"
     ]
    },
    {
     "name": "stdout",
     "output_type": "stream",
     "text": [
      "export MUGSY_INSTALL=/data8/Human/NIH_4/MethodDevelopment/Mugsy/mugsy_x86-64-v1r2.3 ; /data8/Human/NIH_4/MethodDevelopment/Mugsy/mugsy_x86-64-v1r2.3/mugsy --directory /data1/bio_db/refseq/analysis/Manuscript/github_methods/bacterialEvolutionMetrics/popCOGent_example_ocean --prefix 8yVu5bAIPCa5HDHritfz8n0W4BTIz5xT /data1/bio_db/refseq/analysis/Manuscript/github_methods/bacterialEvolutionMetrics/popCOGent_example_ocean/8yVu5bAIPCa5HDHr.tempcontig /data1/bio_db/refseq/analysis/Manuscript/github_methods/bacterialEvolutionMetrics/popCOGent_example_ocean/itfz8n0W4BTIz5xT.tempcontig\n",
      "/data1/bio_db/refseq/analysis/Manuscript/github_methods/bacterialEvolutionMetrics/popCOGent_example_ocean/TOBG_NAT-12.fna_@_TOBG_MED-649.fna.maf.length_bias.txt\n"
     ]
    },
    {
     "name": "stderr",
     "output_type": "stream",
     "text": [
      "\r",
      "Running PopCOGent:  58%|█████▊    | 285/495 [34:03<17:48,  5.09s/it]"
     ]
    },
    {
     "name": "stdout",
     "output_type": "stream",
     "text": [
      "export MUGSY_INSTALL=/data8/Human/NIH_4/MethodDevelopment/Mugsy/mugsy_x86-64-v1r2.3 ; /data8/Human/NIH_4/MethodDevelopment/Mugsy/mugsy_x86-64-v1r2.3/mugsy --directory /data1/bio_db/refseq/analysis/Manuscript/github_methods/bacterialEvolutionMetrics/popCOGent_example_ocean --prefix g4ke6rFYeg84HlaRloNQbyrshhdQV1GL /data1/bio_db/refseq/analysis/Manuscript/github_methods/bacterialEvolutionMetrics/popCOGent_example_ocean/g4ke6rFYeg84HlaR.tempcontig /data1/bio_db/refseq/analysis/Manuscript/github_methods/bacterialEvolutionMetrics/popCOGent_example_ocean/loNQbyrshhdQV1GL.tempcontig\n",
      "/data1/bio_db/refseq/analysis/Manuscript/github_methods/bacterialEvolutionMetrics/popCOGent_example_ocean/TOBG_RS-344.fna_@_TOBG_MED-650.fna.maf.length_bias.txt\n"
     ]
    },
    {
     "name": "stderr",
     "output_type": "stream",
     "text": [
      "\r",
      "Running PopCOGent:  58%|█████▊    | 286/495 [34:04<13:55,  4.00s/it]"
     ]
    },
    {
     "name": "stdout",
     "output_type": "stream",
     "text": [
      "export MUGSY_INSTALL=/data8/Human/NIH_4/MethodDevelopment/Mugsy/mugsy_x86-64-v1r2.3 ; /data8/Human/NIH_4/MethodDevelopment/Mugsy/mugsy_x86-64-v1r2.3/mugsy --directory /data1/bio_db/refseq/analysis/Manuscript/github_methods/bacterialEvolutionMetrics/popCOGent_example_ocean --prefix nJmSJgrUMxw9bUSsMxe0leBHCas84wLO /data1/bio_db/refseq/analysis/Manuscript/github_methods/bacterialEvolutionMetrics/popCOGent_example_ocean/nJmSJgrUMxw9bUSs.tempcontig /data1/bio_db/refseq/analysis/Manuscript/github_methods/bacterialEvolutionMetrics/popCOGent_example_ocean/Mxe0leBHCas84wLO.tempcontig\n",
      "/data1/bio_db/refseq/analysis/Manuscript/github_methods/bacterialEvolutionMetrics/popCOGent_example_ocean/TOBG_RS-404.fna_@_TOBG_MED-637.fna.maf.length_bias.txt\n"
     ]
    },
    {
     "name": "stderr",
     "output_type": "stream",
     "text": [
      "\r",
      "Running PopCOGent:  58%|█████▊    | 287/495 [34:06<11:29,  3.32s/it]"
     ]
    },
    {
     "name": "stdout",
     "output_type": "stream",
     "text": [
      "export MUGSY_INSTALL=/data8/Human/NIH_4/MethodDevelopment/Mugsy/mugsy_x86-64-v1r2.3 ; /data8/Human/NIH_4/MethodDevelopment/Mugsy/mugsy_x86-64-v1r2.3/mugsy --directory /data1/bio_db/refseq/analysis/Manuscript/github_methods/bacterialEvolutionMetrics/popCOGent_example_ocean --prefix 44HO670H2UcynslyNGprOs5GeCj66uCM /data1/bio_db/refseq/analysis/Manuscript/github_methods/bacterialEvolutionMetrics/popCOGent_example_ocean/44HO670H2Ucynsly.tempcontig /data1/bio_db/refseq/analysis/Manuscript/github_methods/bacterialEvolutionMetrics/popCOGent_example_ocean/NGprOs5GeCj66uCM.tempcontig\n",
      "/data1/bio_db/refseq/analysis/Manuscript/github_methods/bacterialEvolutionMetrics/popCOGent_example_ocean/TOBG_SP-47.fna_@_TOBG_MED-651.fna.maf.length_bias.txt\n"
     ]
    },
    {
     "name": "stderr",
     "output_type": "stream",
     "text": [
      "\r",
      "Running PopCOGent:  58%|█████▊    | 288/495 [34:23<25:34,  7.41s/it]"
     ]
    },
    {
     "name": "stdout",
     "output_type": "stream",
     "text": [
      "export MUGSY_INSTALL=/data8/Human/NIH_4/MethodDevelopment/Mugsy/mugsy_x86-64-v1r2.3 ; /data8/Human/NIH_4/MethodDevelopment/Mugsy/mugsy_x86-64-v1r2.3/mugsy --directory /data1/bio_db/refseq/analysis/Manuscript/github_methods/bacterialEvolutionMetrics/popCOGent_example_ocean --prefix LC4xMwlF1jcatZZnf2TPcOWT3W77atRR /data1/bio_db/refseq/analysis/Manuscript/github_methods/bacterialEvolutionMetrics/popCOGent_example_ocean/LC4xMwlF1jcatZZn.tempcontig /data1/bio_db/refseq/analysis/Manuscript/github_methods/bacterialEvolutionMetrics/popCOGent_example_ocean/f2TPcOWT3W77atRR.tempcontig\n",
      "/data1/bio_db/refseq/analysis/Manuscript/github_methods/bacterialEvolutionMetrics/popCOGent_example_ocean/TOBG_MED-695.fna_@_TOBG_MED-636.fna.maf.length_bias.txt\n"
     ]
    },
    {
     "name": "stderr",
     "output_type": "stream",
     "text": [
      "\r",
      "Running PopCOGent:  58%|█████▊    | 289/495 [34:24<19:03,  5.55s/it]"
     ]
    },
    {
     "name": "stdout",
     "output_type": "stream",
     "text": [
      "export MUGSY_INSTALL=/data8/Human/NIH_4/MethodDevelopment/Mugsy/mugsy_x86-64-v1r2.3 ; /data8/Human/NIH_4/MethodDevelopment/Mugsy/mugsy_x86-64-v1r2.3/mugsy --directory /data1/bio_db/refseq/analysis/Manuscript/github_methods/bacterialEvolutionMetrics/popCOGent_example_ocean --prefix trSpj4Uoxbg4EwQPkwpDNpOlTQYkEpyO /data1/bio_db/refseq/analysis/Manuscript/github_methods/bacterialEvolutionMetrics/popCOGent_example_ocean/trSpj4Uoxbg4EwQP.tempcontig /data1/bio_db/refseq/analysis/Manuscript/github_methods/bacterialEvolutionMetrics/popCOGent_example_ocean/kwpDNpOlTQYkEpyO.tempcontig\n",
      "/data1/bio_db/refseq/analysis/Manuscript/github_methods/bacterialEvolutionMetrics/popCOGent_example_ocean/TOBG_SP-186.fna_@_TOBG_MED-653.fna.maf.length_bias.txt\n"
     ]
    },
    {
     "name": "stderr",
     "output_type": "stream",
     "text": [
      "\r",
      "Running PopCOGent:  59%|█████▊    | 290/495 [34:33<22:00,  6.44s/it]"
     ]
    },
    {
     "name": "stdout",
     "output_type": "stream",
     "text": [
      "export MUGSY_INSTALL=/data8/Human/NIH_4/MethodDevelopment/Mugsy/mugsy_x86-64-v1r2.3 ; /data8/Human/NIH_4/MethodDevelopment/Mugsy/mugsy_x86-64-v1r2.3/mugsy --directory /data1/bio_db/refseq/analysis/Manuscript/github_methods/bacterialEvolutionMetrics/popCOGent_example_ocean --prefix EyxQX6hCesa1uKtHpCSlqKlqOzxA0joz /data1/bio_db/refseq/analysis/Manuscript/github_methods/bacterialEvolutionMetrics/popCOGent_example_ocean/EyxQX6hCesa1uKtH.tempcontig /data1/bio_db/refseq/analysis/Manuscript/github_methods/bacterialEvolutionMetrics/popCOGent_example_ocean/pCSlqKlqOzxA0joz.tempcontig\n",
      "/data1/bio_db/refseq/analysis/Manuscript/github_methods/bacterialEvolutionMetrics/popCOGent_example_ocean/TOBG_NAT-181.fna_@_TOBG_MED-655.fna.maf.length_bias.txt\n"
     ]
    },
    {
     "name": "stderr",
     "output_type": "stream",
     "text": [
      "\r",
      "Running PopCOGent:  59%|█████▉    | 291/495 [34:51<34:02, 10.01s/it]"
     ]
    },
    {
     "name": "stdout",
     "output_type": "stream",
     "text": [
      "export MUGSY_INSTALL=/data8/Human/NIH_4/MethodDevelopment/Mugsy/mugsy_x86-64-v1r2.3 ; /data8/Human/NIH_4/MethodDevelopment/Mugsy/mugsy_x86-64-v1r2.3/mugsy --directory /data1/bio_db/refseq/analysis/Manuscript/github_methods/bacterialEvolutionMetrics/popCOGent_example_ocean --prefix 7XlZCkUrHGKBK2ZS3njyZ5VS9Z8bmyjX /data1/bio_db/refseq/analysis/Manuscript/github_methods/bacterialEvolutionMetrics/popCOGent_example_ocean/7XlZCkUrHGKBK2ZS.tempcontig /data1/bio_db/refseq/analysis/Manuscript/github_methods/bacterialEvolutionMetrics/popCOGent_example_ocean/3njyZ5VS9Z8bmyjX.tempcontig\n",
      "/data1/bio_db/refseq/analysis/Manuscript/github_methods/bacterialEvolutionMetrics/popCOGent_example_ocean/TOBG_SP-145.fna_@_TOBG_MED-659.fna.maf.length_bias.txt\n"
     ]
    },
    {
     "name": "stderr",
     "output_type": "stream",
     "text": [
      "\r",
      "Running PopCOGent:  59%|█████▉    | 292/495 [35:01<33:20,  9.86s/it]"
     ]
    },
    {
     "name": "stdout",
     "output_type": "stream",
     "text": [
      "export MUGSY_INSTALL=/data8/Human/NIH_4/MethodDevelopment/Mugsy/mugsy_x86-64-v1r2.3 ; /data8/Human/NIH_4/MethodDevelopment/Mugsy/mugsy_x86-64-v1r2.3/mugsy --directory /data1/bio_db/refseq/analysis/Manuscript/github_methods/bacterialEvolutionMetrics/popCOGent_example_ocean --prefix N9f7LdLUls33tw3d79kARTc2IBy49msz /data1/bio_db/refseq/analysis/Manuscript/github_methods/bacterialEvolutionMetrics/popCOGent_example_ocean/N9f7LdLUls33tw3d.tempcontig /data1/bio_db/refseq/analysis/Manuscript/github_methods/bacterialEvolutionMetrics/popCOGent_example_ocean/79kARTc2IBy49msz.tempcontig\n",
      "/data1/bio_db/refseq/analysis/Manuscript/github_methods/bacterialEvolutionMetrics/popCOGent_example_ocean/TOBG_RS-402.fna_@_TOBG_MED-677.fna.maf.length_bias.txt\n"
     ]
    },
    {
     "name": "stderr",
     "output_type": "stream",
     "text": [
      "\r",
      "Running PopCOGent:  59%|█████▉    | 293/495 [35:19<41:56, 12.46s/it]"
     ]
    },
    {
     "name": "stdout",
     "output_type": "stream",
     "text": [
      "export MUGSY_INSTALL=/data8/Human/NIH_4/MethodDevelopment/Mugsy/mugsy_x86-64-v1r2.3 ; /data8/Human/NIH_4/MethodDevelopment/Mugsy/mugsy_x86-64-v1r2.3/mugsy --directory /data1/bio_db/refseq/analysis/Manuscript/github_methods/bacterialEvolutionMetrics/popCOGent_example_ocean --prefix XbkMA3v7nphrbTzVcidhD6Fwk4VgVuZw /data1/bio_db/refseq/analysis/Manuscript/github_methods/bacterialEvolutionMetrics/popCOGent_example_ocean/XbkMA3v7nphrbTzV.tempcontig /data1/bio_db/refseq/analysis/Manuscript/github_methods/bacterialEvolutionMetrics/popCOGent_example_ocean/cidhD6Fwk4VgVuZw.tempcontig\n",
      "/data1/bio_db/refseq/analysis/Manuscript/github_methods/bacterialEvolutionMetrics/popCOGent_example_ocean/TOBG_MED-715.fna_@_TOBG_MED-689.fna.maf.length_bias.txt\n"
     ]
    },
    {
     "name": "stderr",
     "output_type": "stream",
     "text": [
      "\r",
      "Running PopCOGent:  59%|█████▉    | 294/495 [35:30<40:01, 11.95s/it]"
     ]
    },
    {
     "name": "stdout",
     "output_type": "stream",
     "text": [
      "export MUGSY_INSTALL=/data8/Human/NIH_4/MethodDevelopment/Mugsy/mugsy_x86-64-v1r2.3 ; /data8/Human/NIH_4/MethodDevelopment/Mugsy/mugsy_x86-64-v1r2.3/mugsy --directory /data1/bio_db/refseq/analysis/Manuscript/github_methods/bacterialEvolutionMetrics/popCOGent_example_ocean --prefix cWWzA5W7qv1abKKH1VXaIePtGvtc6n6w /data1/bio_db/refseq/analysis/Manuscript/github_methods/bacterialEvolutionMetrics/popCOGent_example_ocean/cWWzA5W7qv1abKKH.tempcontig /data1/bio_db/refseq/analysis/Manuscript/github_methods/bacterialEvolutionMetrics/popCOGent_example_ocean/1VXaIePtGvtc6n6w.tempcontig\n",
      "/data1/bio_db/refseq/analysis/Manuscript/github_methods/bacterialEvolutionMetrics/popCOGent_example_ocean/TOBG_NAT-510.fna_@_TOBG_MED-713.fna.maf.length_bias.txt\n"
     ]
    },
    {
     "name": "stderr",
     "output_type": "stream",
     "text": [
      "\r",
      "Running PopCOGent:  60%|█████▉    | 295/495 [35:39<36:31, 10.96s/it]"
     ]
    },
    {
     "name": "stdout",
     "output_type": "stream",
     "text": [
      "export MUGSY_INSTALL=/data8/Human/NIH_4/MethodDevelopment/Mugsy/mugsy_x86-64-v1r2.3 ; /data8/Human/NIH_4/MethodDevelopment/Mugsy/mugsy_x86-64-v1r2.3/mugsy --directory /data1/bio_db/refseq/analysis/Manuscript/github_methods/bacterialEvolutionMetrics/popCOGent_example_ocean --prefix Zepw583fPygdQHwP7zIGq29jyesqTCeg /data1/bio_db/refseq/analysis/Manuscript/github_methods/bacterialEvolutionMetrics/popCOGent_example_ocean/Zepw583fPygdQHwP.tempcontig /data1/bio_db/refseq/analysis/Manuscript/github_methods/bacterialEvolutionMetrics/popCOGent_example_ocean/7zIGq29jyesqTCeg.tempcontig\n",
      "/data1/bio_db/refseq/analysis/Manuscript/github_methods/bacterialEvolutionMetrics/popCOGent_example_ocean/TOBG_NP-58.fna_@_TOBG_MED-659.fna.maf.length_bias.txt\n"
     ]
    },
    {
     "name": "stderr",
     "output_type": "stream",
     "text": [
      "\r",
      "Running PopCOGent:  60%|█████▉    | 296/495 [35:39<26:03,  7.85s/it]"
     ]
    },
    {
     "name": "stdout",
     "output_type": "stream",
     "text": [
      "export MUGSY_INSTALL=/data8/Human/NIH_4/MethodDevelopment/Mugsy/mugsy_x86-64-v1r2.3 ; /data8/Human/NIH_4/MethodDevelopment/Mugsy/mugsy_x86-64-v1r2.3/mugsy --directory /data1/bio_db/refseq/analysis/Manuscript/github_methods/bacterialEvolutionMetrics/popCOGent_example_ocean --prefix z98t904yMqCYZM6nZVnfHgg8BeObI6Dh /data1/bio_db/refseq/analysis/Manuscript/github_methods/bacterialEvolutionMetrics/popCOGent_example_ocean/z98t904yMqCYZM6n.tempcontig /data1/bio_db/refseq/analysis/Manuscript/github_methods/bacterialEvolutionMetrics/popCOGent_example_ocean/ZVnfHgg8BeObI6Dh.tempcontig\n",
      "/data1/bio_db/refseq/analysis/Manuscript/github_methods/bacterialEvolutionMetrics/popCOGent_example_ocean/TOBG_SP-114.fna_@_TOBG_MED-659.fna.maf.length_bias.txt\n"
     ]
    },
    {
     "name": "stderr",
     "output_type": "stream",
     "text": [
      "\r",
      "Running PopCOGent:  60%|██████    | 297/495 [35:43<22:04,  6.69s/it]"
     ]
    },
    {
     "name": "stdout",
     "output_type": "stream",
     "text": [
      "export MUGSY_INSTALL=/data8/Human/NIH_4/MethodDevelopment/Mugsy/mugsy_x86-64-v1r2.3 ; /data8/Human/NIH_4/MethodDevelopment/Mugsy/mugsy_x86-64-v1r2.3/mugsy --directory /data1/bio_db/refseq/analysis/Manuscript/github_methods/bacterialEvolutionMetrics/popCOGent_example_ocean --prefix CPlMFaydQa7ZK04obqFQ78nhCcqHiZI5 /data1/bio_db/refseq/analysis/Manuscript/github_methods/bacterialEvolutionMetrics/popCOGent_example_ocean/CPlMFaydQa7ZK04o.tempcontig /data1/bio_db/refseq/analysis/Manuscript/github_methods/bacterialEvolutionMetrics/popCOGent_example_ocean/bqFQ78nhCcqHiZI5.tempcontig\n",
      "/data1/bio_db/refseq/analysis/Manuscript/github_methods/bacterialEvolutionMetrics/popCOGent_example_ocean/TOBG_NAT-53.fna_@_TOBG_MED-731.fna.maf.length_bias.txt\n"
     ]
    },
    {
     "name": "stderr",
     "output_type": "stream",
     "text": [
      "\r",
      "Running PopCOGent:  60%|██████    | 298/495 [35:49<21:20,  6.50s/it]"
     ]
    },
    {
     "name": "stdout",
     "output_type": "stream",
     "text": [
      "export MUGSY_INSTALL=/data8/Human/NIH_4/MethodDevelopment/Mugsy/mugsy_x86-64-v1r2.3 ; /data8/Human/NIH_4/MethodDevelopment/Mugsy/mugsy_x86-64-v1r2.3/mugsy --directory /data1/bio_db/refseq/analysis/Manuscript/github_methods/bacterialEvolutionMetrics/popCOGent_example_ocean --prefix IN16sy2DOogkTPblOmuDDSQxhFTYILzY /data1/bio_db/refseq/analysis/Manuscript/github_methods/bacterialEvolutionMetrics/popCOGent_example_ocean/IN16sy2DOogkTPbl.tempcontig /data1/bio_db/refseq/analysis/Manuscript/github_methods/bacterialEvolutionMetrics/popCOGent_example_ocean/OmuDDSQxhFTYILzY.tempcontig\n",
      "/data1/bio_db/refseq/analysis/Manuscript/github_methods/bacterialEvolutionMetrics/popCOGent_example_ocean/TOBG_SAT-74.fna_@_TOBG_MED-702.fna.maf.length_bias.txt\n"
     ]
    },
    {
     "name": "stderr",
     "output_type": "stream",
     "text": [
      "\r",
      "Running PopCOGent:  60%|██████    | 299/495 [35:54<19:11,  5.88s/it]"
     ]
    },
    {
     "name": "stdout",
     "output_type": "stream",
     "text": [
      "export MUGSY_INSTALL=/data8/Human/NIH_4/MethodDevelopment/Mugsy/mugsy_x86-64-v1r2.3 ; /data8/Human/NIH_4/MethodDevelopment/Mugsy/mugsy_x86-64-v1r2.3/mugsy --directory /data1/bio_db/refseq/analysis/Manuscript/github_methods/bacterialEvolutionMetrics/popCOGent_example_ocean --prefix LaaZegS7LjnldKL4aTiMiLqDyih3d5OQ /data1/bio_db/refseq/analysis/Manuscript/github_methods/bacterialEvolutionMetrics/popCOGent_example_ocean/LaaZegS7LjnldKL4.tempcontig /data1/bio_db/refseq/analysis/Manuscript/github_methods/bacterialEvolutionMetrics/popCOGent_example_ocean/aTiMiLqDyih3d5OQ.tempcontig\n",
      "/data1/bio_db/refseq/analysis/Manuscript/github_methods/bacterialEvolutionMetrics/popCOGent_example_ocean/TOBG_SP-52.fna_@_TOBG_MED-659.fna.maf.length_bias.txt\n"
     ]
    },
    {
     "name": "stderr",
     "output_type": "stream",
     "text": [
      "\r",
      "Running PopCOGent:  61%|██████    | 300/495 [36:07<26:04,  8.02s/it]"
     ]
    },
    {
     "name": "stdout",
     "output_type": "stream",
     "text": [
      "export MUGSY_INSTALL=/data8/Human/NIH_4/MethodDevelopment/Mugsy/mugsy_x86-64-v1r2.3 ; /data8/Human/NIH_4/MethodDevelopment/Mugsy/mugsy_x86-64-v1r2.3/mugsy --directory /data1/bio_db/refseq/analysis/Manuscript/github_methods/bacterialEvolutionMetrics/popCOGent_example_ocean --prefix 1w7oMRmdN0kpYhhrn9CcycDtvWErthaf /data1/bio_db/refseq/analysis/Manuscript/github_methods/bacterialEvolutionMetrics/popCOGent_example_ocean/1w7oMRmdN0kpYhhr.tempcontig /data1/bio_db/refseq/analysis/Manuscript/github_methods/bacterialEvolutionMetrics/popCOGent_example_ocean/n9CcycDtvWErthaf.tempcontig\n",
      "/data1/bio_db/refseq/analysis/Manuscript/github_methods/bacterialEvolutionMetrics/popCOGent_example_ocean/TOBG_NP-142.fna_@_TOBG_MED-740.fna.maf.length_bias.txt\n"
     ]
    },
    {
     "name": "stderr",
     "output_type": "stream",
     "text": [
      "\r",
      "Running PopCOGent:  61%|██████    | 301/495 [36:11<22:23,  6.92s/it]"
     ]
    },
    {
     "name": "stdout",
     "output_type": "stream",
     "text": [
      "export MUGSY_INSTALL=/data8/Human/NIH_4/MethodDevelopment/Mugsy/mugsy_x86-64-v1r2.3 ; /data8/Human/NIH_4/MethodDevelopment/Mugsy/mugsy_x86-64-v1r2.3/mugsy --directory /data1/bio_db/refseq/analysis/Manuscript/github_methods/bacterialEvolutionMetrics/popCOGent_example_ocean --prefix e6TmiS741RBhYxevNbWGNhm2lTrYwtjh /data1/bio_db/refseq/analysis/Manuscript/github_methods/bacterialEvolutionMetrics/popCOGent_example_ocean/e6TmiS741RBhYxev.tempcontig /data1/bio_db/refseq/analysis/Manuscript/github_methods/bacterialEvolutionMetrics/popCOGent_example_ocean/NbWGNhm2lTrYwtjh.tempcontig\n",
      "/data1/bio_db/refseq/analysis/Manuscript/github_methods/bacterialEvolutionMetrics/popCOGent_example_ocean/TOBG_SP-292.fna_@_TOBG_MED-732.fna.maf.length_bias.txt\n"
     ]
    },
    {
     "name": "stderr",
     "output_type": "stream",
     "text": [
      "\r",
      "Running PopCOGent:  61%|██████    | 302/495 [36:21<25:12,  7.84s/it]"
     ]
    },
    {
     "name": "stdout",
     "output_type": "stream",
     "text": [
      "export MUGSY_INSTALL=/data8/Human/NIH_4/MethodDevelopment/Mugsy/mugsy_x86-64-v1r2.3 ; /data8/Human/NIH_4/MethodDevelopment/Mugsy/mugsy_x86-64-v1r2.3/mugsy --directory /data1/bio_db/refseq/analysis/Manuscript/github_methods/bacterialEvolutionMetrics/popCOGent_example_ocean --prefix LJzZWXp6RL1Ttlw1ua1VLK9FFHD3Pteg /data1/bio_db/refseq/analysis/Manuscript/github_methods/bacterialEvolutionMetrics/popCOGent_example_ocean/LJzZWXp6RL1Ttlw1.tempcontig /data1/bio_db/refseq/analysis/Manuscript/github_methods/bacterialEvolutionMetrics/popCOGent_example_ocean/ua1VLK9FFHD3Pteg.tempcontig\n",
      "/data1/bio_db/refseq/analysis/Manuscript/github_methods/bacterialEvolutionMetrics/popCOGent_example_ocean/TOBG_SAT-65.fna_@_TOBG_MED-734.fna.maf.length_bias.txt\n"
     ]
    },
    {
     "name": "stderr",
     "output_type": "stream",
     "text": [
      "\r",
      "Running PopCOGent:  61%|██████    | 303/495 [36:24<20:41,  6.46s/it]"
     ]
    },
    {
     "name": "stdout",
     "output_type": "stream",
     "text": [
      "export MUGSY_INSTALL=/data8/Human/NIH_4/MethodDevelopment/Mugsy/mugsy_x86-64-v1r2.3 ; /data8/Human/NIH_4/MethodDevelopment/Mugsy/mugsy_x86-64-v1r2.3/mugsy --directory /data1/bio_db/refseq/analysis/Manuscript/github_methods/bacterialEvolutionMetrics/popCOGent_example_ocean --prefix ETAIMuvPNOklms5DLrpfQ0A8OHhhhddB /data1/bio_db/refseq/analysis/Manuscript/github_methods/bacterialEvolutionMetrics/popCOGent_example_ocean/ETAIMuvPNOklms5D.tempcontig /data1/bio_db/refseq/analysis/Manuscript/github_methods/bacterialEvolutionMetrics/popCOGent_example_ocean/LrpfQ0A8OHhhhddB.tempcontig\n",
      "/data1/bio_db/refseq/analysis/Manuscript/github_methods/bacterialEvolutionMetrics/popCOGent_example_ocean/TOBG_SP-3068.fna_@_TOBG_MED-743.fna.maf.length_bias.txt\n"
     ]
    },
    {
     "name": "stderr",
     "output_type": "stream",
     "text": [
      "\r",
      "Running PopCOGent:  61%|██████▏   | 304/495 [36:31<20:29,  6.44s/it]"
     ]
    },
    {
     "name": "stdout",
     "output_type": "stream",
     "text": [
      "export MUGSY_INSTALL=/data8/Human/NIH_4/MethodDevelopment/Mugsy/mugsy_x86-64-v1r2.3 ; /data8/Human/NIH_4/MethodDevelopment/Mugsy/mugsy_x86-64-v1r2.3/mugsy --directory /data1/bio_db/refseq/analysis/Manuscript/github_methods/bacterialEvolutionMetrics/popCOGent_example_ocean --prefix 9EMgQKSybvtx7soWU41ylxsMKbTrIUNL /data1/bio_db/refseq/analysis/Manuscript/github_methods/bacterialEvolutionMetrics/popCOGent_example_ocean/9EMgQKSybvtx7soW.tempcontig /data1/bio_db/refseq/analysis/Manuscript/github_methods/bacterialEvolutionMetrics/popCOGent_example_ocean/U41ylxsMKbTrIUNL.tempcontig\n",
      "/data1/bio_db/refseq/analysis/Manuscript/github_methods/bacterialEvolutionMetrics/popCOGent_example_ocean/TOBG_NAT-18.fna_@_TOBG_MED-736.fna.maf.length_bias.txt\n"
     ]
    },
    {
     "name": "stderr",
     "output_type": "stream",
     "text": [
      "Running PopCOGent:  62%|██████▏   | 306/495 [36:47<20:51,  6.62s/it]"
     ]
    },
    {
     "name": "stdout",
     "output_type": "stream",
     "text": [
      "export MUGSY_INSTALL=/data8/Human/NIH_4/MethodDevelopment/Mugsy/mugsy_x86-64-v1r2.3 ; /data8/Human/NIH_4/MethodDevelopment/Mugsy/mugsy_x86-64-v1r2.3/mugsy --directory /data1/bio_db/refseq/analysis/Manuscript/github_methods/bacterialEvolutionMetrics/popCOGent_example_ocean --prefix qQQkE14uJR9C81OjUxTGlJdQkxirSzsE /data1/bio_db/refseq/analysis/Manuscript/github_methods/bacterialEvolutionMetrics/popCOGent_example_ocean/qQQkE14uJR9C81Oj.tempcontig /data1/bio_db/refseq/analysis/Manuscript/github_methods/bacterialEvolutionMetrics/popCOGent_example_ocean/UxTGlJdQkxirSzsE.tempcontig\n",
      "export MUGSY_INSTALL=/data8/Human/NIH_4/MethodDevelopment/Mugsy/mugsy_x86-64-v1r2.3 ; /data8/Human/NIH_4/MethodDevelopment/Mugsy/mugsy_x86-64-v1r2.3/mugsy --directory /data1/bio_db/refseq/analysis/Manuscript/github_methods/bacterialEvolutionMetrics/popCOGent_example_ocean --prefix fJgYClJUOM3hs2HzTisVyJAURsormlKr /data1/bio_db/refseq/analysis/Manuscript/github_methods/bacterialEvolutionMetrics/popCOGent_example_ocean/fJgYClJUOM3hs2Hz.tempcontig /data1/bio_db/refseq/analysis/Manuscript/github_methods/bacterialEvolutionMetrics/popCOGent_example_ocean/TisVyJAURsormlKr.tempcontig\n",
      "/data1/bio_db/refseq/analysis/Manuscript/github_methods/bacterialEvolutionMetrics/popCOGent_example_ocean/TOBG_SAT-157.fna_@_TOBG_MED-777.fna.maf.length_bias.txt\n",
      "/data1/bio_db/refseq/analysis/Manuscript/github_methods/bacterialEvolutionMetrics/popCOGent_example_ocean/TOBG_SP-272.fna_@_TOBG_MED-777.fna.maf.length_bias.txt\n"
     ]
    },
    {
     "name": "stderr",
     "output_type": "stream",
     "text": [
      "\r",
      "Running PopCOGent:  62%|██████▏   | 307/495 [36:48<15:37,  4.99s/it]"
     ]
    },
    {
     "name": "stdout",
     "output_type": "stream",
     "text": [
      "export MUGSY_INSTALL=/data8/Human/NIH_4/MethodDevelopment/Mugsy/mugsy_x86-64-v1r2.3 ; /data8/Human/NIH_4/MethodDevelopment/Mugsy/mugsy_x86-64-v1r2.3/mugsy --directory /data1/bio_db/refseq/analysis/Manuscript/github_methods/bacterialEvolutionMetrics/popCOGent_example_ocean --prefix aKg14tBMrIDWVBJ2Z4bZvlIWOF6Ae6Mp /data1/bio_db/refseq/analysis/Manuscript/github_methods/bacterialEvolutionMetrics/popCOGent_example_ocean/aKg14tBMrIDWVBJ2.tempcontig /data1/bio_db/refseq/analysis/Manuscript/github_methods/bacterialEvolutionMetrics/popCOGent_example_ocean/Z4bZvlIWOF6Ae6Mp.tempcontig\n",
      "/data1/bio_db/refseq/analysis/Manuscript/github_methods/bacterialEvolutionMetrics/popCOGent_example_ocean/TOBG_MED-697.fna_@_TOBG_MED-661.fna.maf.length_bias.txt\n"
     ]
    },
    {
     "name": "stderr",
     "output_type": "stream",
     "text": [
      "\r",
      "Running PopCOGent:  62%|██████▏   | 308/495 [36:55<16:44,  5.37s/it]"
     ]
    },
    {
     "name": "stdout",
     "output_type": "stream",
     "text": [
      "export MUGSY_INSTALL=/data8/Human/NIH_4/MethodDevelopment/Mugsy/mugsy_x86-64-v1r2.3 ; /data8/Human/NIH_4/MethodDevelopment/Mugsy/mugsy_x86-64-v1r2.3/mugsy --directory /data1/bio_db/refseq/analysis/Manuscript/github_methods/bacterialEvolutionMetrics/popCOGent_example_ocean --prefix M3HLAeeSOZNZ8u2DeeLIGqPvByPaQDNJ /data1/bio_db/refseq/analysis/Manuscript/github_methods/bacterialEvolutionMetrics/popCOGent_example_ocean/M3HLAeeSOZNZ8u2D.tempcontig /data1/bio_db/refseq/analysis/Manuscript/github_methods/bacterialEvolutionMetrics/popCOGent_example_ocean/eeLIGqPvByPaQDNJ.tempcontig\n",
      "/data1/bio_db/refseq/analysis/Manuscript/github_methods/bacterialEvolutionMetrics/popCOGent_example_ocean/TOBG_SP-156.fna_@_TOBG_MED-803.fna.maf.length_bias.txt\n"
     ]
    },
    {
     "name": "stderr",
     "output_type": "stream",
     "text": [
      "\r",
      "Running PopCOGent:  62%|██████▏   | 309/495 [37:06<22:30,  7.26s/it]"
     ]
    },
    {
     "name": "stdout",
     "output_type": "stream",
     "text": [
      "export MUGSY_INSTALL=/data8/Human/NIH_4/MethodDevelopment/Mugsy/mugsy_x86-64-v1r2.3 ; /data8/Human/NIH_4/MethodDevelopment/Mugsy/mugsy_x86-64-v1r2.3/mugsy --directory /data1/bio_db/refseq/analysis/Manuscript/github_methods/bacterialEvolutionMetrics/popCOGent_example_ocean --prefix 0i0VAXbfDFJlQJhQG6BvF6MN6wnGqfSo /data1/bio_db/refseq/analysis/Manuscript/github_methods/bacterialEvolutionMetrics/popCOGent_example_ocean/0i0VAXbfDFJlQJhQ.tempcontig /data1/bio_db/refseq/analysis/Manuscript/github_methods/bacterialEvolutionMetrics/popCOGent_example_ocean/G6BvF6MN6wnGqfSo.tempcontig\n",
      "/data1/bio_db/refseq/analysis/Manuscript/github_methods/bacterialEvolutionMetrics/popCOGent_example_ocean/TOBG_NP-20.fna_@_TOBG_MED-837.fna.maf.length_bias.txt\n"
     ]
    },
    {
     "name": "stderr",
     "output_type": "stream",
     "text": [
      "\r",
      "Running PopCOGent:  63%|██████▎   | 310/495 [37:08<17:00,  5.51s/it]"
     ]
    },
    {
     "name": "stdout",
     "output_type": "stream",
     "text": [
      "export MUGSY_INSTALL=/data8/Human/NIH_4/MethodDevelopment/Mugsy/mugsy_x86-64-v1r2.3 ; /data8/Human/NIH_4/MethodDevelopment/Mugsy/mugsy_x86-64-v1r2.3/mugsy --directory /data1/bio_db/refseq/analysis/Manuscript/github_methods/bacterialEvolutionMetrics/popCOGent_example_ocean --prefix BpytApUupAqsOP5mA37E4y6eOOCswJUr /data1/bio_db/refseq/analysis/Manuscript/github_methods/bacterialEvolutionMetrics/popCOGent_example_ocean/BpytApUupAqsOP5m.tempcontig /data1/bio_db/refseq/analysis/Manuscript/github_methods/bacterialEvolutionMetrics/popCOGent_example_ocean/A37E4y6eOOCswJUr.tempcontig\n",
      "/data1/bio_db/refseq/analysis/Manuscript/github_methods/bacterialEvolutionMetrics/popCOGent_example_ocean/TOBG_SAT-1608.fna_@_TOBG_MED-837.fna.maf.length_bias.txt\n"
     ]
    },
    {
     "name": "stderr",
     "output_type": "stream",
     "text": [
      "\r",
      "Running PopCOGent:  63%|██████▎   | 311/495 [37:17<20:23,  6.65s/it]"
     ]
    },
    {
     "name": "stdout",
     "output_type": "stream",
     "text": [
      "export MUGSY_INSTALL=/data8/Human/NIH_4/MethodDevelopment/Mugsy/mugsy_x86-64-v1r2.3 ; /data8/Human/NIH_4/MethodDevelopment/Mugsy/mugsy_x86-64-v1r2.3/mugsy --directory /data1/bio_db/refseq/analysis/Manuscript/github_methods/bacterialEvolutionMetrics/popCOGent_example_ocean --prefix 3BjmYBMP92j42fSwVQQ05ssWxewHE61j /data1/bio_db/refseq/analysis/Manuscript/github_methods/bacterialEvolutionMetrics/popCOGent_example_ocean/3BjmYBMP92j42fSw.tempcontig /data1/bio_db/refseq/analysis/Manuscript/github_methods/bacterialEvolutionMetrics/popCOGent_example_ocean/VQQ05ssWxewHE61j.tempcontig\n",
      "/data1/bio_db/refseq/analysis/Manuscript/github_methods/bacterialEvolutionMetrics/popCOGent_example_ocean/TOBG_SP-237.fna_@_TOBG_MED-856.fna.maf.length_bias.txt\n"
     ]
    },
    {
     "name": "stderr",
     "output_type": "stream",
     "text": [
      "\r",
      "Running PopCOGent:  63%|██████▎   | 312/495 [37:26<22:10,  7.27s/it]"
     ]
    },
    {
     "name": "stdout",
     "output_type": "stream",
     "text": [
      "export MUGSY_INSTALL=/data8/Human/NIH_4/MethodDevelopment/Mugsy/mugsy_x86-64-v1r2.3 ; /data8/Human/NIH_4/MethodDevelopment/Mugsy/mugsy_x86-64-v1r2.3/mugsy --directory /data1/bio_db/refseq/analysis/Manuscript/github_methods/bacterialEvolutionMetrics/popCOGent_example_ocean --prefix ifD3Zm0KdrgT0fjeYWlkMs0rKAlqjFhi /data1/bio_db/refseq/analysis/Manuscript/github_methods/bacterialEvolutionMetrics/popCOGent_example_ocean/ifD3Zm0KdrgT0fje.tempcontig /data1/bio_db/refseq/analysis/Manuscript/github_methods/bacterialEvolutionMetrics/popCOGent_example_ocean/YWlkMs0rKAlqjFhi.tempcontig\n",
      "/data1/bio_db/refseq/analysis/Manuscript/github_methods/bacterialEvolutionMetrics/popCOGent_example_ocean/TOBG_SP-11.fna_@_TOBG_NAT-111.fna.maf.length_bias.txt\n"
     ]
    },
    {
     "name": "stderr",
     "output_type": "stream",
     "text": [
      "\r",
      "Running PopCOGent:  63%|██████▎   | 313/495 [37:27<16:38,  5.48s/it]"
     ]
    },
    {
     "name": "stdout",
     "output_type": "stream",
     "text": [
      "export MUGSY_INSTALL=/data8/Human/NIH_4/MethodDevelopment/Mugsy/mugsy_x86-64-v1r2.3 ; /data8/Human/NIH_4/MethodDevelopment/Mugsy/mugsy_x86-64-v1r2.3/mugsy --directory /data1/bio_db/refseq/analysis/Manuscript/github_methods/bacterialEvolutionMetrics/popCOGent_example_ocean --prefix LvwCoi8ndcZdENnlSHWhKxpyboecWLql /data1/bio_db/refseq/analysis/Manuscript/github_methods/bacterialEvolutionMetrics/popCOGent_example_ocean/LvwCoi8ndcZdENnl.tempcontig /data1/bio_db/refseq/analysis/Manuscript/github_methods/bacterialEvolutionMetrics/popCOGent_example_ocean/SHWhKxpyboecWLql.tempcontig\n",
      "/data1/bio_db/refseq/analysis/Manuscript/github_methods/bacterialEvolutionMetrics/popCOGent_example_ocean/TOBG_NP-1472.fna_@_TOBG_NAT-109.fna.maf.length_bias.txt\n"
     ]
    },
    {
     "name": "stderr",
     "output_type": "stream",
     "text": [
      "\r",
      "Running PopCOGent:  63%|██████▎   | 314/495 [37:28<12:00,  3.98s/it]"
     ]
    },
    {
     "name": "stdout",
     "output_type": "stream",
     "text": [
      "export MUGSY_INSTALL=/data8/Human/NIH_4/MethodDevelopment/Mugsy/mugsy_x86-64-v1r2.3 ; /data8/Human/NIH_4/MethodDevelopment/Mugsy/mugsy_x86-64-v1r2.3/mugsy --directory /data1/bio_db/refseq/analysis/Manuscript/github_methods/bacterialEvolutionMetrics/popCOGent_example_ocean --prefix 26eF28UG0RFl6jomWddP9m4vK54P5NB4 /data1/bio_db/refseq/analysis/Manuscript/github_methods/bacterialEvolutionMetrics/popCOGent_example_ocean/26eF28UG0RFl6jom.tempcontig /data1/bio_db/refseq/analysis/Manuscript/github_methods/bacterialEvolutionMetrics/popCOGent_example_ocean/WddP9m4vK54P5NB4.tempcontig\n",
      "/data1/bio_db/refseq/analysis/Manuscript/github_methods/bacterialEvolutionMetrics/popCOGent_example_ocean/TOBG_NP-1444.fna_@_TOBG_NAT-109.fna.maf.length_bias.txt\n"
     ]
    },
    {
     "name": "stderr",
     "output_type": "stream",
     "text": [
      "\r",
      "Running PopCOGent:  64%|██████▎   | 315/495 [37:29<09:16,  3.09s/it]"
     ]
    },
    {
     "name": "stdout",
     "output_type": "stream",
     "text": [
      "export MUGSY_INSTALL=/data8/Human/NIH_4/MethodDevelopment/Mugsy/mugsy_x86-64-v1r2.3 ; /data8/Human/NIH_4/MethodDevelopment/Mugsy/mugsy_x86-64-v1r2.3/mugsy --directory /data1/bio_db/refseq/analysis/Manuscript/github_methods/bacterialEvolutionMetrics/popCOGent_example_ocean --prefix RZIX9z2VzkPxc31ntg13OAm6vQz1wuwz /data1/bio_db/refseq/analysis/Manuscript/github_methods/bacterialEvolutionMetrics/popCOGent_example_ocean/RZIX9z2VzkPxc31n.tempcontig /data1/bio_db/refseq/analysis/Manuscript/github_methods/bacterialEvolutionMetrics/popCOGent_example_ocean/tg13OAm6vQz1wuwz.tempcontig\n"
     ]
    },
    {
     "name": "stderr",
     "output_type": "stream",
     "text": [
      "\r",
      "Running PopCOGent:  64%|██████▍   | 316/495 [37:29<06:35,  2.21s/it]"
     ]
    },
    {
     "name": "stdout",
     "output_type": "stream",
     "text": [
      "/data1/bio_db/refseq/analysis/Manuscript/github_methods/bacterialEvolutionMetrics/popCOGent_example_ocean/TOBG_SAT-133.fna_@_TOBG_NAT-109.fna.maf.length_bias.txt\n",
      "/data1/bio_db/refseq/analysis/Manuscript/github_methods/bacterialEvolutionMetrics/popCOGent_example_ocean/TOBG_NP-57.fna_@_TOBG_NAT-108.fna.maf.length_bias.txt\n",
      "export MUGSY_INSTALL=/data8/Human/NIH_4/MethodDevelopment/Mugsy/mugsy_x86-64-v1r2.3 ; /data8/Human/NIH_4/MethodDevelopment/Mugsy/mugsy_x86-64-v1r2.3/mugsy --directory /data1/bio_db/refseq/analysis/Manuscript/github_methods/bacterialEvolutionMetrics/popCOGent_example_ocean --prefix tjqn0JEPSUaJTLe8kp8OrOeNwr9WOsk4 /data1/bio_db/refseq/analysis/Manuscript/github_methods/bacterialEvolutionMetrics/popCOGent_example_ocean/tjqn0JEPSUaJTLe8.tempcontig /data1/bio_db/refseq/analysis/Manuscript/github_methods/bacterialEvolutionMetrics/popCOGent_example_ocean/kp8OrOeNwr9WOsk4.tempcontig\n"
     ]
    },
    {
     "name": "stderr",
     "output_type": "stream",
     "text": [
      "\r",
      "Running PopCOGent:  64%|██████▍   | 317/495 [37:44<18:03,  6.09s/it]"
     ]
    },
    {
     "name": "stdout",
     "output_type": "stream",
     "text": [
      "export MUGSY_INSTALL=/data8/Human/NIH_4/MethodDevelopment/Mugsy/mugsy_x86-64-v1r2.3 ; /data8/Human/NIH_4/MethodDevelopment/Mugsy/mugsy_x86-64-v1r2.3/mugsy --directory /data1/bio_db/refseq/analysis/Manuscript/github_methods/bacterialEvolutionMetrics/popCOGent_example_ocean --prefix kvkHIdTD8zgrv2zUU3pr0WN5CpQclXE6 /data1/bio_db/refseq/analysis/Manuscript/github_methods/bacterialEvolutionMetrics/popCOGent_example_ocean/kvkHIdTD8zgrv2zU.tempcontig /data1/bio_db/refseq/analysis/Manuscript/github_methods/bacterialEvolutionMetrics/popCOGent_example_ocean/U3pr0WN5CpQclXE6.tempcontig\n",
      "/data1/bio_db/refseq/analysis/Manuscript/github_methods/bacterialEvolutionMetrics/popCOGent_example_ocean/TOBG_NP-25.fna_@_TOBG_NAT-116.fna.maf.length_bias.txt\n"
     ]
    },
    {
     "name": "stderr",
     "output_type": "stream",
     "text": [
      "\r",
      "Running PopCOGent:  64%|██████▍   | 318/495 [37:45<13:15,  4.50s/it]"
     ]
    },
    {
     "name": "stdout",
     "output_type": "stream",
     "text": [
      "export MUGSY_INSTALL=/data8/Human/NIH_4/MethodDevelopment/Mugsy/mugsy_x86-64-v1r2.3 ; /data8/Human/NIH_4/MethodDevelopment/Mugsy/mugsy_x86-64-v1r2.3/mugsy --directory /data1/bio_db/refseq/analysis/Manuscript/github_methods/bacterialEvolutionMetrics/popCOGent_example_ocean --prefix bKjszj4F81rVEAQ6LNWuWJeiZnsSaOoM /data1/bio_db/refseq/analysis/Manuscript/github_methods/bacterialEvolutionMetrics/popCOGent_example_ocean/bKjszj4F81rVEAQ6.tempcontig /data1/bio_db/refseq/analysis/Manuscript/github_methods/bacterialEvolutionMetrics/popCOGent_example_ocean/LNWuWJeiZnsSaOoM.tempcontig\n",
      "/data1/bio_db/refseq/analysis/Manuscript/github_methods/bacterialEvolutionMetrics/popCOGent_example_ocean/TOBG_RS-341.fna_@_TOBG_NAT-136.fna.maf.length_bias.txt\n"
     ]
    },
    {
     "name": "stderr",
     "output_type": "stream",
     "text": [
      "\r",
      "Running PopCOGent:  64%|██████▍   | 319/495 [37:45<09:54,  3.38s/it]"
     ]
    },
    {
     "name": "stdout",
     "output_type": "stream",
     "text": [
      "export MUGSY_INSTALL=/data8/Human/NIH_4/MethodDevelopment/Mugsy/mugsy_x86-64-v1r2.3 ; /data8/Human/NIH_4/MethodDevelopment/Mugsy/mugsy_x86-64-v1r2.3/mugsy --directory /data1/bio_db/refseq/analysis/Manuscript/github_methods/bacterialEvolutionMetrics/popCOGent_example_ocean --prefix 9sIaHwkgEKWxPPPhuzcHhdBtFwHI96M2 /data1/bio_db/refseq/analysis/Manuscript/github_methods/bacterialEvolutionMetrics/popCOGent_example_ocean/9sIaHwkgEKWxPPPh.tempcontig /data1/bio_db/refseq/analysis/Manuscript/github_methods/bacterialEvolutionMetrics/popCOGent_example_ocean/uzcHhdBtFwHI96M2.tempcontig\n",
      "/data1/bio_db/refseq/analysis/Manuscript/github_methods/bacterialEvolutionMetrics/popCOGent_example_ocean/TOBG_RS-384.fna_@_TOBG_NAT-13.fna.maf.length_bias.txt\n"
     ]
    },
    {
     "name": "stderr",
     "output_type": "stream",
     "text": [
      "\r",
      "Running PopCOGent:  65%|██████▍   | 320/495 [38:01<20:14,  6.94s/it]"
     ]
    },
    {
     "name": "stdout",
     "output_type": "stream",
     "text": [
      "export MUGSY_INSTALL=/data8/Human/NIH_4/MethodDevelopment/Mugsy/mugsy_x86-64-v1r2.3 ; /data8/Human/NIH_4/MethodDevelopment/Mugsy/mugsy_x86-64-v1r2.3/mugsy --directory /data1/bio_db/refseq/analysis/Manuscript/github_methods/bacterialEvolutionMetrics/popCOGent_example_ocean --prefix G4TCp3ZEzfGhQU6aKHXEWmnHsknATIS9 /data1/bio_db/refseq/analysis/Manuscript/github_methods/bacterialEvolutionMetrics/popCOGent_example_ocean/G4TCp3ZEzfGhQU6a.tempcontig /data1/bio_db/refseq/analysis/Manuscript/github_methods/bacterialEvolutionMetrics/popCOGent_example_ocean/KHXEWmnHsknATIS9.tempcontig\n",
      "export MUGSY_INSTALL=/data8/Human/NIH_4/MethodDevelopment/Mugsy/mugsy_x86-64-v1r2.3 ; /data8/Human/NIH_4/MethodDevelopment/Mugsy/mugsy_x86-64-v1r2.3/mugsy --directory /data1/bio_db/refseq/analysis/Manuscript/github_methods/bacterialEvolutionMetrics/popCOGent_example_ocean --prefix tDr72UkmlIJNo5kNHKLHOMDqAhKHN3RC /data1/bio_db/refseq/analysis/Manuscript/github_methods/bacterialEvolutionMetrics/popCOGent_example_ocean/tDr72UkmlIJNo5kN.tempcontig /data1/bio_db/refseq/analysis/Manuscript/github_methods/bacterialEvolutionMetrics/popCOGent_example_ocean/HKLHOMDqAhKHN3RC.tempcontig\n",
      "/data1/bio_db/refseq/analysis/Manuscript/github_methods/bacterialEvolutionMetrics/popCOGent_example_ocean/TOBG_SP-3041.fna_@_TOBG_NAT-118.fna.maf.length_bias.txt\n",
      "/data1/bio_db/refseq/analysis/Manuscript/github_methods/bacterialEvolutionMetrics/popCOGent_example_ocean/TOBG_SAT-181.fna_@_TOBG_NAT-118.fna.maf.length_bias.txt\n"
     ]
    },
    {
     "name": "stderr",
     "output_type": "stream",
     "text": [
      "\r",
      "Running PopCOGent:  65%|██████▌   | 322/495 [38:08<17:12,  5.97s/it]"
     ]
    },
    {
     "name": "stdout",
     "output_type": "stream",
     "text": [
      "export MUGSY_INSTALL=/data8/Human/NIH_4/MethodDevelopment/Mugsy/mugsy_x86-64-v1r2.3 ; /data8/Human/NIH_4/MethodDevelopment/Mugsy/mugsy_x86-64-v1r2.3/mugsy --directory /data1/bio_db/refseq/analysis/Manuscript/github_methods/bacterialEvolutionMetrics/popCOGent_example_ocean --prefix f6mU34mFl5e2qkpZM9Wn8wUrQjURhN6s /data1/bio_db/refseq/analysis/Manuscript/github_methods/bacterialEvolutionMetrics/popCOGent_example_ocean/f6mU34mFl5e2qkpZ.tempcontig /data1/bio_db/refseq/analysis/Manuscript/github_methods/bacterialEvolutionMetrics/popCOGent_example_ocean/M9Wn8wUrQjURhN6s.tempcontig\n",
      "/data1/bio_db/refseq/analysis/Manuscript/github_methods/bacterialEvolutionMetrics/popCOGent_example_ocean/TOBG_SP-244.fna_@_TOBG_NAT-129.fna.maf.length_bias.txt\n"
     ]
    },
    {
     "name": "stderr",
     "output_type": "stream",
     "text": [
      "\r",
      "Running PopCOGent:  65%|██████▌   | 323/495 [38:10<13:42,  4.78s/it]"
     ]
    },
    {
     "name": "stdout",
     "output_type": "stream",
     "text": [
      "export MUGSY_INSTALL=/data8/Human/NIH_4/MethodDevelopment/Mugsy/mugsy_x86-64-v1r2.3 ; /data8/Human/NIH_4/MethodDevelopment/Mugsy/mugsy_x86-64-v1r2.3/mugsy --directory /data1/bio_db/refseq/analysis/Manuscript/github_methods/bacterialEvolutionMetrics/popCOGent_example_ocean --prefix r4T6VOZRNvoE4Bpy74DdGZuM6yz2MQox /data1/bio_db/refseq/analysis/Manuscript/github_methods/bacterialEvolutionMetrics/popCOGent_example_ocean/r4T6VOZRNvoE4Bpy.tempcontig /data1/bio_db/refseq/analysis/Manuscript/github_methods/bacterialEvolutionMetrics/popCOGent_example_ocean/74DdGZuM6yz2MQox.tempcontig\n",
      "/data1/bio_db/refseq/analysis/Manuscript/github_methods/bacterialEvolutionMetrics/popCOGent_example_ocean/TOBG_SP-43.fna_@_TOBG_NAT-157.fna.maf.length_bias.txt\n"
     ]
    },
    {
     "name": "stderr",
     "output_type": "stream",
     "text": [
      "\r",
      "Running PopCOGent:  65%|██████▌   | 324/495 [38:13<12:03,  4.23s/it]"
     ]
    },
    {
     "name": "stdout",
     "output_type": "stream",
     "text": [
      "export MUGSY_INSTALL=/data8/Human/NIH_4/MethodDevelopment/Mugsy/mugsy_x86-64-v1r2.3 ; /data8/Human/NIH_4/MethodDevelopment/Mugsy/mugsy_x86-64-v1r2.3/mugsy --directory /data1/bio_db/refseq/analysis/Manuscript/github_methods/bacterialEvolutionMetrics/popCOGent_example_ocean --prefix yxdExDZ9BVd6VpulebqPHIFyp1P8s6B7 /data1/bio_db/refseq/analysis/Manuscript/github_methods/bacterialEvolutionMetrics/popCOGent_example_ocean/yxdExDZ9BVd6Vpul.tempcontig /data1/bio_db/refseq/analysis/Manuscript/github_methods/bacterialEvolutionMetrics/popCOGent_example_ocean/ebqPHIFyp1P8s6B7.tempcontig\n",
      "/data1/bio_db/refseq/analysis/Manuscript/github_methods/bacterialEvolutionMetrics/popCOGent_example_ocean/TOBG_RS-435.fna_@_TOBG_NAT-137.fna.maf.length_bias.txt\n"
     ]
    },
    {
     "name": "stderr",
     "output_type": "stream",
     "text": [
      "\r",
      "Running PopCOGent:  66%|██████▌   | 325/495 [38:25<18:43,  6.61s/it]"
     ]
    },
    {
     "name": "stdout",
     "output_type": "stream",
     "text": [
      "export MUGSY_INSTALL=/data8/Human/NIH_4/MethodDevelopment/Mugsy/mugsy_x86-64-v1r2.3 ; /data8/Human/NIH_4/MethodDevelopment/Mugsy/mugsy_x86-64-v1r2.3/mugsy --directory /data1/bio_db/refseq/analysis/Manuscript/github_methods/bacterialEvolutionMetrics/popCOGent_example_ocean --prefix rkUtKPtreGf43dzxgVbktl0tgq1nsjud /data1/bio_db/refseq/analysis/Manuscript/github_methods/bacterialEvolutionMetrics/popCOGent_example_ocean/rkUtKPtreGf43dzx.tempcontig /data1/bio_db/refseq/analysis/Manuscript/github_methods/bacterialEvolutionMetrics/popCOGent_example_ocean/gVbktl0tgq1nsjud.tempcontig\n",
      "/data1/bio_db/refseq/analysis/Manuscript/github_methods/bacterialEvolutionMetrics/popCOGent_example_ocean/TOBG_SAT-175.fna_@_TOBG_NAT-187.fna.maf.length_bias.txt\n"
     ]
    },
    {
     "name": "stderr",
     "output_type": "stream",
     "text": [
      "\r",
      "Running PopCOGent:  66%|██████▌   | 326/495 [38:30<17:19,  6.15s/it]"
     ]
    },
    {
     "name": "stdout",
     "output_type": "stream",
     "text": [
      "export MUGSY_INSTALL=/data8/Human/NIH_4/MethodDevelopment/Mugsy/mugsy_x86-64-v1r2.3 ; /data8/Human/NIH_4/MethodDevelopment/Mugsy/mugsy_x86-64-v1r2.3/mugsy --directory /data1/bio_db/refseq/analysis/Manuscript/github_methods/bacterialEvolutionMetrics/popCOGent_example_ocean --prefix P77mb0ibZLAOj8PAcELcM6n9tI7cYCkp /data1/bio_db/refseq/analysis/Manuscript/github_methods/bacterialEvolutionMetrics/popCOGent_example_ocean/P77mb0ibZLAOj8PA.tempcontig /data1/bio_db/refseq/analysis/Manuscript/github_methods/bacterialEvolutionMetrics/popCOGent_example_ocean/cELcM6n9tI7cYCkp.tempcontig\n",
      "/data1/bio_db/refseq/analysis/Manuscript/github_methods/bacterialEvolutionMetrics/popCOGent_example_ocean/TOBG_SAT-103.fna_@_TOBG_NAT-187.fna.maf.length_bias.txt\n"
     ]
    },
    {
     "name": "stderr",
     "output_type": "stream",
     "text": [
      "\r",
      "Running PopCOGent:  66%|██████▌   | 327/495 [38:33<14:02,  5.02s/it]"
     ]
    },
    {
     "name": "stdout",
     "output_type": "stream",
     "text": [
      "export MUGSY_INSTALL=/data8/Human/NIH_4/MethodDevelopment/Mugsy/mugsy_x86-64-v1r2.3 ; /data8/Human/NIH_4/MethodDevelopment/Mugsy/mugsy_x86-64-v1r2.3/mugsy --directory /data1/bio_db/refseq/analysis/Manuscript/github_methods/bacterialEvolutionMetrics/popCOGent_example_ocean --prefix 9WWNZFS88V0QPzpV9oPu1FVDrQmYo4cv /data1/bio_db/refseq/analysis/Manuscript/github_methods/bacterialEvolutionMetrics/popCOGent_example_ocean/9WWNZFS88V0QPzpV.tempcontig /data1/bio_db/refseq/analysis/Manuscript/github_methods/bacterialEvolutionMetrics/popCOGent_example_ocean/9oPu1FVDrQmYo4cv.tempcontig\n",
      "/data1/bio_db/refseq/analysis/Manuscript/github_methods/bacterialEvolutionMetrics/popCOGent_example_ocean/TOBG_RS-406.fna_@_TOBG_NAT-154.fna.maf.length_bias.txt\n"
     ]
    },
    {
     "name": "stderr",
     "output_type": "stream",
     "text": [
      "\r",
      "Running PopCOGent:  66%|██████▋   | 328/495 [38:44<19:32,  7.02s/it]"
     ]
    },
    {
     "name": "stdout",
     "output_type": "stream",
     "text": [
      "export MUGSY_INSTALL=/data8/Human/NIH_4/MethodDevelopment/Mugsy/mugsy_x86-64-v1r2.3 ; /data8/Human/NIH_4/MethodDevelopment/Mugsy/mugsy_x86-64-v1r2.3/mugsy --directory /data1/bio_db/refseq/analysis/Manuscript/github_methods/bacterialEvolutionMetrics/popCOGent_example_ocean --prefix xP9ovY0IXmWXnmNArQnw1skD8nNA1FFG /data1/bio_db/refseq/analysis/Manuscript/github_methods/bacterialEvolutionMetrics/popCOGent_example_ocean/xP9ovY0IXmWXnmNA.tempcontig /data1/bio_db/refseq/analysis/Manuscript/github_methods/bacterialEvolutionMetrics/popCOGent_example_ocean/rQnw1skD8nNA1FFG.tempcontig\n",
      "/data1/bio_db/refseq/analysis/Manuscript/github_methods/bacterialEvolutionMetrics/popCOGent_example_ocean/TOBG_SP-20.fna_@_TOBG_NAT-16.fna.maf.length_bias.txt\n"
     ]
    },
    {
     "name": "stderr",
     "output_type": "stream",
     "text": [
      "\r",
      "Running PopCOGent:  66%|██████▋   | 329/495 [38:48<16:29,  5.96s/it]"
     ]
    },
    {
     "name": "stdout",
     "output_type": "stream",
     "text": [
      "export MUGSY_INSTALL=/data8/Human/NIH_4/MethodDevelopment/Mugsy/mugsy_x86-64-v1r2.3 ; /data8/Human/NIH_4/MethodDevelopment/Mugsy/mugsy_x86-64-v1r2.3/mugsy --directory /data1/bio_db/refseq/analysis/Manuscript/github_methods/bacterialEvolutionMetrics/popCOGent_example_ocean --prefix JAn280tDmsegltBK5s1f5yWs4VcBbOWJ /data1/bio_db/refseq/analysis/Manuscript/github_methods/bacterialEvolutionMetrics/popCOGent_example_ocean/JAn280tDmsegltBK.tempcontig /data1/bio_db/refseq/analysis/Manuscript/github_methods/bacterialEvolutionMetrics/popCOGent_example_ocean/5s1f5yWs4VcBbOWJ.tempcontig\n",
      "/data1/bio_db/refseq/analysis/Manuscript/github_methods/bacterialEvolutionMetrics/popCOGent_example_ocean/TOBG_NP-120.fna_@_TOBG_NAT-176.fna.maf.length_bias.txt\n"
     ]
    },
    {
     "name": "stderr",
     "output_type": "stream",
     "text": [
      "\r",
      "Running PopCOGent:  67%|██████▋   | 330/495 [38:53<15:20,  5.58s/it]"
     ]
    },
    {
     "name": "stdout",
     "output_type": "stream",
     "text": [
      "export MUGSY_INSTALL=/data8/Human/NIH_4/MethodDevelopment/Mugsy/mugsy_x86-64-v1r2.3 ; /data8/Human/NIH_4/MethodDevelopment/Mugsy/mugsy_x86-64-v1r2.3/mugsy --directory /data1/bio_db/refseq/analysis/Manuscript/github_methods/bacterialEvolutionMetrics/popCOGent_example_ocean --prefix Anl8wMJ8XqltLt3kB58VEm1F51aoTLvu /data1/bio_db/refseq/analysis/Manuscript/github_methods/bacterialEvolutionMetrics/popCOGent_example_ocean/Anl8wMJ8XqltLt3k.tempcontig /data1/bio_db/refseq/analysis/Manuscript/github_methods/bacterialEvolutionMetrics/popCOGent_example_ocean/B58VEm1F51aoTLvu.tempcontig\n",
      "/data1/bio_db/refseq/analysis/Manuscript/github_methods/bacterialEvolutionMetrics/popCOGent_example_ocean/TOBG_NP-103.fna_@_TOBG_NAT-19.fna.maf.length_bias.txt\n"
     ]
    },
    {
     "name": "stderr",
     "output_type": "stream",
     "text": [
      "\r",
      "Running PopCOGent:  67%|██████▋   | 331/495 [39:02<18:10,  6.65s/it]"
     ]
    },
    {
     "name": "stdout",
     "output_type": "stream",
     "text": [
      "export MUGSY_INSTALL=/data8/Human/NIH_4/MethodDevelopment/Mugsy/mugsy_x86-64-v1r2.3 ; /data8/Human/NIH_4/MethodDevelopment/Mugsy/mugsy_x86-64-v1r2.3/mugsy --directory /data1/bio_db/refseq/analysis/Manuscript/github_methods/bacterialEvolutionMetrics/popCOGent_example_ocean --prefix M5r7XlA67XQq2BXes5jBPSGpvBJJbIlL /data1/bio_db/refseq/analysis/Manuscript/github_methods/bacterialEvolutionMetrics/popCOGent_example_ocean/M5r7XlA67XQq2BXe.tempcontig /data1/bio_db/refseq/analysis/Manuscript/github_methods/bacterialEvolutionMetrics/popCOGent_example_ocean/s5jBPSGpvBJJbIlL.tempcontig\n",
      "/data1/bio_db/refseq/analysis/Manuscript/github_methods/bacterialEvolutionMetrics/popCOGent_example_ocean/TOBG_RS-408.fna_@_TOBG_NAT-252.fna.maf.length_bias.txt\n"
     ]
    },
    {
     "name": "stderr",
     "output_type": "stream",
     "text": [
      "\r",
      "Running PopCOGent:  67%|██████▋   | 332/495 [39:02<12:56,  4.77s/it]"
     ]
    },
    {
     "name": "stdout",
     "output_type": "stream",
     "text": [
      "export MUGSY_INSTALL=/data8/Human/NIH_4/MethodDevelopment/Mugsy/mugsy_x86-64-v1r2.3 ; /data8/Human/NIH_4/MethodDevelopment/Mugsy/mugsy_x86-64-v1r2.3/mugsy --directory /data1/bio_db/refseq/analysis/Manuscript/github_methods/bacterialEvolutionMetrics/popCOGent_example_ocean --prefix H0R35MricDlSj3zeZUknMHdGCM90hESI /data1/bio_db/refseq/analysis/Manuscript/github_methods/bacterialEvolutionMetrics/popCOGent_example_ocean/H0R35MricDlSj3ze.tempcontig /data1/bio_db/refseq/analysis/Manuscript/github_methods/bacterialEvolutionMetrics/popCOGent_example_ocean/ZUknMHdGCM90hESI.tempcontig\n",
      "/data1/bio_db/refseq/analysis/Manuscript/github_methods/bacterialEvolutionMetrics/popCOGent_example_ocean/TOBG_SP-283.fna_@_TOBG_NAT-231.fna.maf.length_bias.txt\n"
     ]
    },
    {
     "name": "stderr",
     "output_type": "stream",
     "text": [
      "\r",
      "Running PopCOGent:  67%|██████▋   | 333/495 [39:06<12:25,  4.60s/it]"
     ]
    },
    {
     "name": "stdout",
     "output_type": "stream",
     "text": [
      "export MUGSY_INSTALL=/data8/Human/NIH_4/MethodDevelopment/Mugsy/mugsy_x86-64-v1r2.3 ; /data8/Human/NIH_4/MethodDevelopment/Mugsy/mugsy_x86-64-v1r2.3/mugsy --directory /data1/bio_db/refseq/analysis/Manuscript/github_methods/bacterialEvolutionMetrics/popCOGent_example_ocean --prefix JrqeI2C6elwEvbX4rD6t5qmvFwdYBJEt /data1/bio_db/refseq/analysis/Manuscript/github_methods/bacterialEvolutionMetrics/popCOGent_example_ocean/JrqeI2C6elwEvbX4.tempcontig /data1/bio_db/refseq/analysis/Manuscript/github_methods/bacterialEvolutionMetrics/popCOGent_example_ocean/rD6t5qmvFwdYBJEt.tempcontig\n",
      "/data1/bio_db/refseq/analysis/Manuscript/github_methods/bacterialEvolutionMetrics/popCOGent_example_ocean/TOBG_NP-64.fna_@_TOBG_NAT-259.fna.maf.length_bias.txt\n"
     ]
    },
    {
     "name": "stderr",
     "output_type": "stream",
     "text": [
      "\r",
      "Running PopCOGent:  67%|██████▋   | 334/495 [39:22<21:01,  7.84s/it]"
     ]
    },
    {
     "name": "stdout",
     "output_type": "stream",
     "text": [
      "export MUGSY_INSTALL=/data8/Human/NIH_4/MethodDevelopment/Mugsy/mugsy_x86-64-v1r2.3 ; /data8/Human/NIH_4/MethodDevelopment/Mugsy/mugsy_x86-64-v1r2.3/mugsy --directory /data1/bio_db/refseq/analysis/Manuscript/github_methods/bacterialEvolutionMetrics/popCOGent_example_ocean --prefix ZaG7sp8HaRLUOi79QTJ93pIRR9ACBCK5 /data1/bio_db/refseq/analysis/Manuscript/github_methods/bacterialEvolutionMetrics/popCOGent_example_ocean/ZaG7sp8HaRLUOi79.tempcontig /data1/bio_db/refseq/analysis/Manuscript/github_methods/bacterialEvolutionMetrics/popCOGent_example_ocean/QTJ93pIRR9ACBCK5.tempcontig\n",
      "/data1/bio_db/refseq/analysis/Manuscript/github_methods/bacterialEvolutionMetrics/popCOGent_example_ocean/TOBG_SAT-145.fna_@_TOBG_NAT-288.fna.maf.length_bias.txt\n"
     ]
    },
    {
     "name": "stderr",
     "output_type": "stream",
     "text": [
      "\r",
      "Running PopCOGent:  68%|██████▊   | 335/495 [39:22<14:50,  5.57s/it]"
     ]
    },
    {
     "name": "stdout",
     "output_type": "stream",
     "text": [
      "export MUGSY_INSTALL=/data8/Human/NIH_4/MethodDevelopment/Mugsy/mugsy_x86-64-v1r2.3 ; /data8/Human/NIH_4/MethodDevelopment/Mugsy/mugsy_x86-64-v1r2.3/mugsy --directory /data1/bio_db/refseq/analysis/Manuscript/github_methods/bacterialEvolutionMetrics/popCOGent_example_ocean --prefix bTaJuDCs9QeEQjs2VyOrFkvUZEpdo6gc /data1/bio_db/refseq/analysis/Manuscript/github_methods/bacterialEvolutionMetrics/popCOGent_example_ocean/bTaJuDCs9QeEQjs2.tempcontig /data1/bio_db/refseq/analysis/Manuscript/github_methods/bacterialEvolutionMetrics/popCOGent_example_ocean/VyOrFkvUZEpdo6gc.tempcontig\n",
      "/data1/bio_db/refseq/analysis/Manuscript/github_methods/bacterialEvolutionMetrics/popCOGent_example_ocean/TOBG_SP-10.fna_@_TOBG_NAT-22.fna.maf.length_bias.txt\n"
     ]
    },
    {
     "name": "stderr",
     "output_type": "stream",
     "text": [
      "\r",
      "Running PopCOGent:  68%|██████▊   | 336/495 [39:23<11:06,  4.19s/it]"
     ]
    },
    {
     "name": "stdout",
     "output_type": "stream",
     "text": [
      "export MUGSY_INSTALL=/data8/Human/NIH_4/MethodDevelopment/Mugsy/mugsy_x86-64-v1r2.3 ; /data8/Human/NIH_4/MethodDevelopment/Mugsy/mugsy_x86-64-v1r2.3/mugsy --directory /data1/bio_db/refseq/analysis/Manuscript/github_methods/bacterialEvolutionMetrics/popCOGent_example_ocean --prefix HNbEEE4xmFe7TaCm7f8Un5CimIhypGsj /data1/bio_db/refseq/analysis/Manuscript/github_methods/bacterialEvolutionMetrics/popCOGent_example_ocean/HNbEEE4xmFe7TaCm.tempcontig /data1/bio_db/refseq/analysis/Manuscript/github_methods/bacterialEvolutionMetrics/popCOGent_example_ocean/7f8Un5CimIhypGsj.tempcontig\n",
      "/data1/bio_db/refseq/analysis/Manuscript/github_methods/bacterialEvolutionMetrics/popCOGent_example_ocean/TOBG_RS-364.fna_@_TOBG_NAT-28.fna.maf.length_bias.txt\n"
     ]
    },
    {
     "name": "stderr",
     "output_type": "stream",
     "text": [
      "\r",
      "Running PopCOGent:  68%|██████▊   | 337/495 [39:31<14:25,  5.48s/it]"
     ]
    },
    {
     "name": "stdout",
     "output_type": "stream",
     "text": [
      "export MUGSY_INSTALL=/data8/Human/NIH_4/MethodDevelopment/Mugsy/mugsy_x86-64-v1r2.3 ; /data8/Human/NIH_4/MethodDevelopment/Mugsy/mugsy_x86-64-v1r2.3/mugsy --directory /data1/bio_db/refseq/analysis/Manuscript/github_methods/bacterialEvolutionMetrics/popCOGent_example_ocean --prefix M5mxK3aFy7U0BQTKoLiIMVFRSm8448n0 /data1/bio_db/refseq/analysis/Manuscript/github_methods/bacterialEvolutionMetrics/popCOGent_example_ocean/M5mxK3aFy7U0BQTK.tempcontig /data1/bio_db/refseq/analysis/Manuscript/github_methods/bacterialEvolutionMetrics/popCOGent_example_ocean/oLiIMVFRSm8448n0.tempcontig\n",
      "/data1/bio_db/refseq/analysis/Manuscript/github_methods/bacterialEvolutionMetrics/popCOGent_example_ocean/TOBG_NAT-68.fna_@_TOBG_NAT-288.fna.maf.length_bias.txt\n"
     ]
    },
    {
     "name": "stderr",
     "output_type": "stream",
     "text": [
      "\r",
      "Running PopCOGent:  68%|██████▊   | 338/495 [39:36<13:57,  5.34s/it]"
     ]
    },
    {
     "name": "stdout",
     "output_type": "stream",
     "text": [
      "export MUGSY_INSTALL=/data8/Human/NIH_4/MethodDevelopment/Mugsy/mugsy_x86-64-v1r2.3 ; /data8/Human/NIH_4/MethodDevelopment/Mugsy/mugsy_x86-64-v1r2.3/mugsy --directory /data1/bio_db/refseq/analysis/Manuscript/github_methods/bacterialEvolutionMetrics/popCOGent_example_ocean --prefix YYGSuhv7xhpcuUSZ1geQVa10pOKXulJm /data1/bio_db/refseq/analysis/Manuscript/github_methods/bacterialEvolutionMetrics/popCOGent_example_ocean/YYGSuhv7xhpcuUSZ.tempcontig /data1/bio_db/refseq/analysis/Manuscript/github_methods/bacterialEvolutionMetrics/popCOGent_example_ocean/1geQVa10pOKXulJm.tempcontig\n",
      "/data1/bio_db/refseq/analysis/Manuscript/github_methods/bacterialEvolutionMetrics/popCOGent_example_ocean/TOBG_SAT-73.fna_@_TOBG_NAT-28.fna.maf.length_bias.txt\n"
     ]
    },
    {
     "name": "stderr",
     "output_type": "stream",
     "text": [
      "\r",
      "Running PopCOGent:  68%|██████▊   | 339/495 [39:39<11:32,  4.44s/it]"
     ]
    },
    {
     "name": "stdout",
     "output_type": "stream",
     "text": [
      "export MUGSY_INSTALL=/data8/Human/NIH_4/MethodDevelopment/Mugsy/mugsy_x86-64-v1r2.3 ; /data8/Human/NIH_4/MethodDevelopment/Mugsy/mugsy_x86-64-v1r2.3/mugsy --directory /data1/bio_db/refseq/analysis/Manuscript/github_methods/bacterialEvolutionMetrics/popCOGent_example_ocean --prefix nSAK0GMXizfJSZguSDgVJFodVAVJnT5q /data1/bio_db/refseq/analysis/Manuscript/github_methods/bacterialEvolutionMetrics/popCOGent_example_ocean/nSAK0GMXizfJSZgu.tempcontig /data1/bio_db/refseq/analysis/Manuscript/github_methods/bacterialEvolutionMetrics/popCOGent_example_ocean/SDgVJFodVAVJnT5q.tempcontig\n",
      "/data1/bio_db/refseq/analysis/Manuscript/github_methods/bacterialEvolutionMetrics/popCOGent_example_ocean/TOBG_RS-420.fna_@_TOBG_NAT-417.fna.maf.length_bias.txt\n"
     ]
    },
    {
     "name": "stderr",
     "output_type": "stream",
     "text": [
      "\r",
      "Running PopCOGent:  69%|██████▊   | 340/495 [39:48<15:01,  5.82s/it]"
     ]
    },
    {
     "name": "stdout",
     "output_type": "stream",
     "text": [
      "export MUGSY_INSTALL=/data8/Human/NIH_4/MethodDevelopment/Mugsy/mugsy_x86-64-v1r2.3 ; /data8/Human/NIH_4/MethodDevelopment/Mugsy/mugsy_x86-64-v1r2.3/mugsy --directory /data1/bio_db/refseq/analysis/Manuscript/github_methods/bacterialEvolutionMetrics/popCOGent_example_ocean --prefix 9Mcyy7H9qU78y924JaGFyJ17GzVRCJWt /data1/bio_db/refseq/analysis/Manuscript/github_methods/bacterialEvolutionMetrics/popCOGent_example_ocean/9Mcyy7H9qU78y924.tempcontig /data1/bio_db/refseq/analysis/Manuscript/github_methods/bacterialEvolutionMetrics/popCOGent_example_ocean/JaGFyJ17GzVRCJWt.tempcontig\n",
      "/data1/bio_db/refseq/analysis/Manuscript/github_methods/bacterialEvolutionMetrics/popCOGent_example_ocean/TOBG_SAT-13.fna_@_TOBG_NAT-417.fna.maf.length_bias.txt\n"
     ]
    },
    {
     "name": "stderr",
     "output_type": "stream",
     "text": [
      "\r",
      "Running PopCOGent:  69%|██████▉   | 341/495 [39:58<18:29,  7.21s/it]"
     ]
    },
    {
     "name": "stdout",
     "output_type": "stream",
     "text": [
      "export MUGSY_INSTALL=/data8/Human/NIH_4/MethodDevelopment/Mugsy/mugsy_x86-64-v1r2.3 ; /data8/Human/NIH_4/MethodDevelopment/Mugsy/mugsy_x86-64-v1r2.3/mugsy --directory /data1/bio_db/refseq/analysis/Manuscript/github_methods/bacterialEvolutionMetrics/popCOGent_example_ocean --prefix Wc4luR5MlPtVQK1DCwA1pBqkV4O8II71 /data1/bio_db/refseq/analysis/Manuscript/github_methods/bacterialEvolutionMetrics/popCOGent_example_ocean/Wc4luR5MlPtVQK1D.tempcontig /data1/bio_db/refseq/analysis/Manuscript/github_methods/bacterialEvolutionMetrics/popCOGent_example_ocean/CwA1pBqkV4O8II71.tempcontig\n",
      "/data1/bio_db/refseq/analysis/Manuscript/github_methods/bacterialEvolutionMetrics/popCOGent_example_ocean/TOBG_SAT-182.fna_@_TOBG_NAT-417.fna.maf.length_bias.txt\n"
     ]
    },
    {
     "name": "stderr",
     "output_type": "stream",
     "text": [
      "\r",
      "Running PopCOGent:  69%|██████▉   | 342/495 [40:04<17:32,  6.88s/it]"
     ]
    },
    {
     "name": "stdout",
     "output_type": "stream",
     "text": [
      "export MUGSY_INSTALL=/data8/Human/NIH_4/MethodDevelopment/Mugsy/mugsy_x86-64-v1r2.3 ; /data8/Human/NIH_4/MethodDevelopment/Mugsy/mugsy_x86-64-v1r2.3/mugsy --directory /data1/bio_db/refseq/analysis/Manuscript/github_methods/bacterialEvolutionMetrics/popCOGent_example_ocean --prefix tUnuLNP3sXF9Mx0uA2UiKWGB9a2Gm3Oj /data1/bio_db/refseq/analysis/Manuscript/github_methods/bacterialEvolutionMetrics/popCOGent_example_ocean/tUnuLNP3sXF9Mx0u.tempcontig /data1/bio_db/refseq/analysis/Manuscript/github_methods/bacterialEvolutionMetrics/popCOGent_example_ocean/A2UiKWGB9a2Gm3Oj.tempcontig\n",
      "/data1/bio_db/refseq/analysis/Manuscript/github_methods/bacterialEvolutionMetrics/popCOGent_example_ocean/TOBG_SAT-206.fna_@_TOBG_NAT-417.fna.maf.length_bias.txt\n"
     ]
    },
    {
     "name": "stderr",
     "output_type": "stream",
     "text": [
      "\r",
      "Running PopCOGent:  69%|██████▉   | 343/495 [40:06<13:24,  5.29s/it]"
     ]
    },
    {
     "name": "stdout",
     "output_type": "stream",
     "text": [
      "export MUGSY_INSTALL=/data8/Human/NIH_4/MethodDevelopment/Mugsy/mugsy_x86-64-v1r2.3 ; /data8/Human/NIH_4/MethodDevelopment/Mugsy/mugsy_x86-64-v1r2.3/mugsy --directory /data1/bio_db/refseq/analysis/Manuscript/github_methods/bacterialEvolutionMetrics/popCOGent_example_ocean --prefix 061SlZaRdSV77A2UAlI4R6SPQrcHfzXs /data1/bio_db/refseq/analysis/Manuscript/github_methods/bacterialEvolutionMetrics/popCOGent_example_ocean/061SlZaRdSV77A2U.tempcontig /data1/bio_db/refseq/analysis/Manuscript/github_methods/bacterialEvolutionMetrics/popCOGent_example_ocean/AlI4R6SPQrcHfzXs.tempcontig\n",
      "/data1/bio_db/refseq/analysis/Manuscript/github_methods/bacterialEvolutionMetrics/popCOGent_example_ocean/TOBG_SAT-64.fna_@_TOBG_NAT-30.fna.maf.length_bias.txt\n"
     ]
    },
    {
     "name": "stderr",
     "output_type": "stream",
     "text": [
      "\r",
      "Running PopCOGent:  69%|██████▉   | 344/495 [40:07<10:15,  4.08s/it]"
     ]
    },
    {
     "name": "stdout",
     "output_type": "stream",
     "text": [
      "export MUGSY_INSTALL=/data8/Human/NIH_4/MethodDevelopment/Mugsy/mugsy_x86-64-v1r2.3 ; /data8/Human/NIH_4/MethodDevelopment/Mugsy/mugsy_x86-64-v1r2.3/mugsy --directory /data1/bio_db/refseq/analysis/Manuscript/github_methods/bacterialEvolutionMetrics/popCOGent_example_ocean --prefix uXpLZsgUfWQmoLwb5jizJ53PmMSXYCui /data1/bio_db/refseq/analysis/Manuscript/github_methods/bacterialEvolutionMetrics/popCOGent_example_ocean/uXpLZsgUfWQmoLwb.tempcontig /data1/bio_db/refseq/analysis/Manuscript/github_methods/bacterialEvolutionMetrics/popCOGent_example_ocean/5jizJ53PmMSXYCui.tempcontig\n",
      "/data1/bio_db/refseq/analysis/Manuscript/github_methods/bacterialEvolutionMetrics/popCOGent_example_ocean/TOBG_SP-78.fna_@_TOBG_NAT-430.fna.maf.length_bias.txt\n"
     ]
    },
    {
     "name": "stderr",
     "output_type": "stream",
     "text": [
      "\r",
      "Running PopCOGent:  70%|██████▉   | 345/495 [40:11<09:55,  3.97s/it]"
     ]
    },
    {
     "name": "stdout",
     "output_type": "stream",
     "text": [
      "export MUGSY_INSTALL=/data8/Human/NIH_4/MethodDevelopment/Mugsy/mugsy_x86-64-v1r2.3 ; /data8/Human/NIH_4/MethodDevelopment/Mugsy/mugsy_x86-64-v1r2.3/mugsy --directory /data1/bio_db/refseq/analysis/Manuscript/github_methods/bacterialEvolutionMetrics/popCOGent_example_ocean --prefix sdaWUkRUkSd3YOZ3qORlRgesplQynmpW /data1/bio_db/refseq/analysis/Manuscript/github_methods/bacterialEvolutionMetrics/popCOGent_example_ocean/sdaWUkRUkSd3YOZ3.tempcontig /data1/bio_db/refseq/analysis/Manuscript/github_methods/bacterialEvolutionMetrics/popCOGent_example_ocean/qORlRgesplQynmpW.tempcontig\n",
      "/data1/bio_db/refseq/analysis/Manuscript/github_methods/bacterialEvolutionMetrics/popCOGent_example_ocean/TOBG_SP-98.fna_@_TOBG_NAT-43.fna.maf.length_bias.txt\n"
     ]
    },
    {
     "name": "stderr",
     "output_type": "stream",
     "text": [
      "\r",
      "Running PopCOGent:  70%|██████▉   | 346/495 [40:18<12:29,  5.03s/it]"
     ]
    },
    {
     "name": "stdout",
     "output_type": "stream",
     "text": [
      "export MUGSY_INSTALL=/data8/Human/NIH_4/MethodDevelopment/Mugsy/mugsy_x86-64-v1r2.3 ; /data8/Human/NIH_4/MethodDevelopment/Mugsy/mugsy_x86-64-v1r2.3/mugsy --directory /data1/bio_db/refseq/analysis/Manuscript/github_methods/bacterialEvolutionMetrics/popCOGent_example_ocean --prefix uSJlEgRIbM4EN8SjlHEHKzLtSq0u8DGg /data1/bio_db/refseq/analysis/Manuscript/github_methods/bacterialEvolutionMetrics/popCOGent_example_ocean/uSJlEgRIbM4EN8Sj.tempcontig /data1/bio_db/refseq/analysis/Manuscript/github_methods/bacterialEvolutionMetrics/popCOGent_example_ocean/lHEHKzLtSq0u8DGg.tempcontig\n",
      "/data1/bio_db/refseq/analysis/Manuscript/github_methods/bacterialEvolutionMetrics/popCOGent_example_ocean/TOBG_SP-174.fna_@_TOBG_NAT-535.fna.maf.length_bias.txt\n"
     ]
    },
    {
     "name": "stderr",
     "output_type": "stream",
     "text": [
      "\r",
      "Running PopCOGent:  70%|███████   | 347/495 [40:24<13:12,  5.35s/it]"
     ]
    },
    {
     "name": "stdout",
     "output_type": "stream",
     "text": [
      "export MUGSY_INSTALL=/data8/Human/NIH_4/MethodDevelopment/Mugsy/mugsy_x86-64-v1r2.3 ; /data8/Human/NIH_4/MethodDevelopment/Mugsy/mugsy_x86-64-v1r2.3/mugsy --directory /data1/bio_db/refseq/analysis/Manuscript/github_methods/bacterialEvolutionMetrics/popCOGent_example_ocean --prefix GFYpkFc5Z9Gla4Y8hWmbzN5UFTBWdmvY /data1/bio_db/refseq/analysis/Manuscript/github_methods/bacterialEvolutionMetrics/popCOGent_example_ocean/GFYpkFc5Z9Gla4Y8.tempcontig /data1/bio_db/refseq/analysis/Manuscript/github_methods/bacterialEvolutionMetrics/popCOGent_example_ocean/hWmbzN5UFTBWdmvY.tempcontig\n",
      "/data1/bio_db/refseq/analysis/Manuscript/github_methods/bacterialEvolutionMetrics/popCOGent_example_ocean/TOBG_SP-4154.fna_@_TOBG_NAT-535.fna.maf.length_bias.txt\n"
     ]
    },
    {
     "name": "stderr",
     "output_type": "stream",
     "text": [
      "\r",
      "Running PopCOGent:  70%|███████   | 348/495 [40:30<13:09,  5.37s/it]"
     ]
    },
    {
     "name": "stdout",
     "output_type": "stream",
     "text": [
      "export MUGSY_INSTALL=/data8/Human/NIH_4/MethodDevelopment/Mugsy/mugsy_x86-64-v1r2.3 ; /data8/Human/NIH_4/MethodDevelopment/Mugsy/mugsy_x86-64-v1r2.3/mugsy --directory /data1/bio_db/refseq/analysis/Manuscript/github_methods/bacterialEvolutionMetrics/popCOGent_example_ocean --prefix NMFgGnmoeJAGTOegc18KSrtS0vy4KSub /data1/bio_db/refseq/analysis/Manuscript/github_methods/bacterialEvolutionMetrics/popCOGent_example_ocean/NMFgGnmoeJAGTOeg.tempcontig /data1/bio_db/refseq/analysis/Manuscript/github_methods/bacterialEvolutionMetrics/popCOGent_example_ocean/c18KSrtS0vy4KSub.tempcontig\n",
      "/data1/bio_db/refseq/analysis/Manuscript/github_methods/bacterialEvolutionMetrics/popCOGent_example_ocean/TOBG_SP-284.fna_@_TOBG_NAT-575.fna.maf.length_bias.txt\n"
     ]
    },
    {
     "name": "stderr",
     "output_type": "stream",
     "text": [
      "\r",
      "Running PopCOGent:  71%|███████   | 349/495 [40:36<13:48,  5.68s/it]"
     ]
    },
    {
     "name": "stdout",
     "output_type": "stream",
     "text": [
      "export MUGSY_INSTALL=/data8/Human/NIH_4/MethodDevelopment/Mugsy/mugsy_x86-64-v1r2.3 ; /data8/Human/NIH_4/MethodDevelopment/Mugsy/mugsy_x86-64-v1r2.3/mugsy --directory /data1/bio_db/refseq/analysis/Manuscript/github_methods/bacterialEvolutionMetrics/popCOGent_example_ocean --prefix KHdYVwDJ9c8GJzNYvj6bc5foctrpcUI5 /data1/bio_db/refseq/analysis/Manuscript/github_methods/bacterialEvolutionMetrics/popCOGent_example_ocean/KHdYVwDJ9c8GJzNY.tempcontig /data1/bio_db/refseq/analysis/Manuscript/github_methods/bacterialEvolutionMetrics/popCOGent_example_ocean/vj6bc5foctrpcUI5.tempcontig\n",
      "/data1/bio_db/refseq/analysis/Manuscript/github_methods/bacterialEvolutionMetrics/popCOGent_example_ocean/TOBG_NP-49.fna_@_TOBG_NAT-33.fna.maf.length_bias.txt\n"
     ]
    },
    {
     "name": "stderr",
     "output_type": "stream",
     "text": [
      "\r",
      "Running PopCOGent:  71%|███████   | 350/495 [40:36<09:45,  4.04s/it]"
     ]
    },
    {
     "name": "stdout",
     "output_type": "stream",
     "text": [
      "export MUGSY_INSTALL=/data8/Human/NIH_4/MethodDevelopment/Mugsy/mugsy_x86-64-v1r2.3 ; /data8/Human/NIH_4/MethodDevelopment/Mugsy/mugsy_x86-64-v1r2.3/mugsy --directory /data1/bio_db/refseq/analysis/Manuscript/github_methods/bacterialEvolutionMetrics/popCOGent_example_ocean --prefix fC4tQ01d2790M9Vz11heZTW0Z4SwQazj /data1/bio_db/refseq/analysis/Manuscript/github_methods/bacterialEvolutionMetrics/popCOGent_example_ocean/fC4tQ01d2790M9Vz.tempcontig /data1/bio_db/refseq/analysis/Manuscript/github_methods/bacterialEvolutionMetrics/popCOGent_example_ocean/11heZTW0Z4SwQazj.tempcontig\n",
      "/data1/bio_db/refseq/analysis/Manuscript/github_methods/bacterialEvolutionMetrics/popCOGent_example_ocean/TOBG_RS-397.fna_@_TOBG_NAT-60.fna.maf.length_bias.txt\n"
     ]
    },
    {
     "name": "stderr",
     "output_type": "stream",
     "text": [
      "\r",
      "Running PopCOGent:  71%|███████   | 351/495 [40:42<10:39,  4.44s/it]"
     ]
    },
    {
     "name": "stdout",
     "output_type": "stream",
     "text": [
      "export MUGSY_INSTALL=/data8/Human/NIH_4/MethodDevelopment/Mugsy/mugsy_x86-64-v1r2.3 ; /data8/Human/NIH_4/MethodDevelopment/Mugsy/mugsy_x86-64-v1r2.3/mugsy --directory /data1/bio_db/refseq/analysis/Manuscript/github_methods/bacterialEvolutionMetrics/popCOGent_example_ocean --prefix LXxiEKwPRJ8rOoZn0tKgCWUC4cHS3g0l /data1/bio_db/refseq/analysis/Manuscript/github_methods/bacterialEvolutionMetrics/popCOGent_example_ocean/LXxiEKwPRJ8rOoZn.tempcontig /data1/bio_db/refseq/analysis/Manuscript/github_methods/bacterialEvolutionMetrics/popCOGent_example_ocean/0tKgCWUC4cHS3g0l.tempcontig\n",
      "/data1/bio_db/refseq/analysis/Manuscript/github_methods/bacterialEvolutionMetrics/popCOGent_example_ocean/TOBG_SP-246.fna_@_TOBG_NAT-60.fna.maf.length_bias.txt\n"
     ]
    },
    {
     "name": "stderr",
     "output_type": "stream",
     "text": [
      "\r",
      "Running PopCOGent:  71%|███████   | 352/495 [40:51<14:07,  5.93s/it]"
     ]
    },
    {
     "name": "stdout",
     "output_type": "stream",
     "text": [
      "export MUGSY_INSTALL=/data8/Human/NIH_4/MethodDevelopment/Mugsy/mugsy_x86-64-v1r2.3 ; /data8/Human/NIH_4/MethodDevelopment/Mugsy/mugsy_x86-64-v1r2.3/mugsy --directory /data1/bio_db/refseq/analysis/Manuscript/github_methods/bacterialEvolutionMetrics/popCOGent_example_ocean --prefix mPNZlTuMBGEJhiDOU2WpzK07cbeIGE51 /data1/bio_db/refseq/analysis/Manuscript/github_methods/bacterialEvolutionMetrics/popCOGent_example_ocean/mPNZlTuMBGEJhiDO.tempcontig /data1/bio_db/refseq/analysis/Manuscript/github_methods/bacterialEvolutionMetrics/popCOGent_example_ocean/U2WpzK07cbeIGE51.tempcontig\n",
      "/data1/bio_db/refseq/analysis/Manuscript/github_methods/bacterialEvolutionMetrics/popCOGent_example_ocean/TOBG_NP-151.fna_@_TOBG_NAT-64.fna.maf.length_bias.txt\n"
     ]
    },
    {
     "name": "stderr",
     "output_type": "stream",
     "text": [
      "\r",
      "Running PopCOGent:  71%|███████▏  | 353/495 [41:04<18:32,  7.83s/it]"
     ]
    },
    {
     "name": "stdout",
     "output_type": "stream",
     "text": [
      "export MUGSY_INSTALL=/data8/Human/NIH_4/MethodDevelopment/Mugsy/mugsy_x86-64-v1r2.3 ; /data8/Human/NIH_4/MethodDevelopment/Mugsy/mugsy_x86-64-v1r2.3/mugsy --directory /data1/bio_db/refseq/analysis/Manuscript/github_methods/bacterialEvolutionMetrics/popCOGent_example_ocean --prefix Fz6Zb5taSm0pB6FhpGuMCoetiDjt3JDb /data1/bio_db/refseq/analysis/Manuscript/github_methods/bacterialEvolutionMetrics/popCOGent_example_ocean/Fz6Zb5taSm0pB6Fh.tempcontig /data1/bio_db/refseq/analysis/Manuscript/github_methods/bacterialEvolutionMetrics/popCOGent_example_ocean/pGuMCoetiDjt3JDb.tempcontig\n",
      "/data1/bio_db/refseq/analysis/Manuscript/github_methods/bacterialEvolutionMetrics/popCOGent_example_ocean/TOBG_RS-380.fna_@_TOBG_NAT-66.fna.maf.length_bias.txt\n"
     ]
    },
    {
     "name": "stderr",
     "output_type": "stream",
     "text": [
      "\r",
      "Running PopCOGent:  72%|███████▏  | 354/495 [41:10<17:23,  7.40s/it]"
     ]
    },
    {
     "name": "stdout",
     "output_type": "stream",
     "text": [
      "export MUGSY_INSTALL=/data8/Human/NIH_4/MethodDevelopment/Mugsy/mugsy_x86-64-v1r2.3 ; /data8/Human/NIH_4/MethodDevelopment/Mugsy/mugsy_x86-64-v1r2.3/mugsy --directory /data1/bio_db/refseq/analysis/Manuscript/github_methods/bacterialEvolutionMetrics/popCOGent_example_ocean --prefix wOTPwgFzNhJ9vLFqPEjHnnU3I8dqdYw4 /data1/bio_db/refseq/analysis/Manuscript/github_methods/bacterialEvolutionMetrics/popCOGent_example_ocean/wOTPwgFzNhJ9vLFq.tempcontig /data1/bio_db/refseq/analysis/Manuscript/github_methods/bacterialEvolutionMetrics/popCOGent_example_ocean/PEjHnnU3I8dqdYw4.tempcontig\n",
      "/data1/bio_db/refseq/analysis/Manuscript/github_methods/bacterialEvolutionMetrics/popCOGent_example_ocean/TOBG_SAT-1.fna_@_TOBG_NAT-64.fna.maf.length_bias.txt\n"
     ]
    },
    {
     "name": "stderr",
     "output_type": "stream",
     "text": [
      "\r",
      "Running PopCOGent:  72%|███████▏  | 355/495 [41:13<14:21,  6.15s/it]"
     ]
    },
    {
     "name": "stdout",
     "output_type": "stream",
     "text": [
      "export MUGSY_INSTALL=/data8/Human/NIH_4/MethodDevelopment/Mugsy/mugsy_x86-64-v1r2.3 ; /data8/Human/NIH_4/MethodDevelopment/Mugsy/mugsy_x86-64-v1r2.3/mugsy --directory /data1/bio_db/refseq/analysis/Manuscript/github_methods/bacterialEvolutionMetrics/popCOGent_example_ocean --prefix wdIlnZZ2vBx1kyIdKdvydXYbT0B386EY /data1/bio_db/refseq/analysis/Manuscript/github_methods/bacterialEvolutionMetrics/popCOGent_example_ocean/wdIlnZZ2vBx1kyId.tempcontig /data1/bio_db/refseq/analysis/Manuscript/github_methods/bacterialEvolutionMetrics/popCOGent_example_ocean/KdvydXYbT0B386EY.tempcontig\n",
      "/data1/bio_db/refseq/analysis/Manuscript/github_methods/bacterialEvolutionMetrics/popCOGent_example_ocean/TOBG_SAT-145.fna_@_TOBG_NAT-68.fna.maf.length_bias.txt\n"
     ]
    },
    {
     "name": "stderr",
     "output_type": "stream",
     "text": [
      "\r",
      "Running PopCOGent:  72%|███████▏  | 356/495 [41:20<14:56,  6.45s/it]"
     ]
    },
    {
     "name": "stdout",
     "output_type": "stream",
     "text": [
      "export MUGSY_INSTALL=/data8/Human/NIH_4/MethodDevelopment/Mugsy/mugsy_x86-64-v1r2.3 ; /data8/Human/NIH_4/MethodDevelopment/Mugsy/mugsy_x86-64-v1r2.3/mugsy --directory /data1/bio_db/refseq/analysis/Manuscript/github_methods/bacterialEvolutionMetrics/popCOGent_example_ocean --prefix nz77dwXxP6fWzc7heylnTWuxQ2XzbaOO /data1/bio_db/refseq/analysis/Manuscript/github_methods/bacterialEvolutionMetrics/popCOGent_example_ocean/nz77dwXxP6fWzc7h.tempcontig /data1/bio_db/refseq/analysis/Manuscript/github_methods/bacterialEvolutionMetrics/popCOGent_example_ocean/eylnTWuxQ2XzbaOO.tempcontig\n",
      "/data1/bio_db/refseq/analysis/Manuscript/github_methods/bacterialEvolutionMetrics/popCOGent_example_ocean/TOBG_SAT-14.fna_@_TOBG_NAT-69.fna.maf.length_bias.txt\n"
     ]
    },
    {
     "name": "stderr",
     "output_type": "stream",
     "text": [
      "\r",
      "Running PopCOGent:  72%|███████▏  | 357/495 [41:32<18:36,  8.09s/it]"
     ]
    },
    {
     "name": "stdout",
     "output_type": "stream",
     "text": [
      "export MUGSY_INSTALL=/data8/Human/NIH_4/MethodDevelopment/Mugsy/mugsy_x86-64-v1r2.3 ; /data8/Human/NIH_4/MethodDevelopment/Mugsy/mugsy_x86-64-v1r2.3/mugsy --directory /data1/bio_db/refseq/analysis/Manuscript/github_methods/bacterialEvolutionMetrics/popCOGent_example_ocean --prefix nKqC8KTEF7sg0En0JokPXyNDqHN63Jgg /data1/bio_db/refseq/analysis/Manuscript/github_methods/bacterialEvolutionMetrics/popCOGent_example_ocean/nKqC8KTEF7sg0En0.tempcontig /data1/bio_db/refseq/analysis/Manuscript/github_methods/bacterialEvolutionMetrics/popCOGent_example_ocean/JokPXyNDqHN63Jgg.tempcontig\n",
      "/data1/bio_db/refseq/analysis/Manuscript/github_methods/bacterialEvolutionMetrics/popCOGent_example_ocean/TOBG_NP-12.fna_@_TOBG_NAT-75.fna.maf.length_bias.txt\n"
     ]
    },
    {
     "name": "stderr",
     "output_type": "stream",
     "text": [
      "\r",
      "Running PopCOGent:  72%|███████▏  | 358/495 [41:46<22:10,  9.71s/it]"
     ]
    },
    {
     "name": "stdout",
     "output_type": "stream",
     "text": [
      "export MUGSY_INSTALL=/data8/Human/NIH_4/MethodDevelopment/Mugsy/mugsy_x86-64-v1r2.3 ; /data8/Human/NIH_4/MethodDevelopment/Mugsy/mugsy_x86-64-v1r2.3/mugsy --directory /data1/bio_db/refseq/analysis/Manuscript/github_methods/bacterialEvolutionMetrics/popCOGent_example_ocean --prefix oAF5xAuBLVOJ7xffMyvijLqwmkjoClRJ /data1/bio_db/refseq/analysis/Manuscript/github_methods/bacterialEvolutionMetrics/popCOGent_example_ocean/oAF5xAuBLVOJ7xff.tempcontig /data1/bio_db/refseq/analysis/Manuscript/github_methods/bacterialEvolutionMetrics/popCOGent_example_ocean/MyvijLqwmkjoClRJ.tempcontig\n",
      "/data1/bio_db/refseq/analysis/Manuscript/github_methods/bacterialEvolutionMetrics/popCOGent_example_ocean/TOBG_SP-32.fna_@_TOBG_NAT-75.fna.maf.length_bias.txt\n"
     ]
    },
    {
     "name": "stderr",
     "output_type": "stream",
     "text": [
      "\r",
      "Running PopCOGent:  73%|███████▎  | 359/495 [41:54<20:45,  9.16s/it]"
     ]
    },
    {
     "name": "stdout",
     "output_type": "stream",
     "text": [
      "export MUGSY_INSTALL=/data8/Human/NIH_4/MethodDevelopment/Mugsy/mugsy_x86-64-v1r2.3 ; /data8/Human/NIH_4/MethodDevelopment/Mugsy/mugsy_x86-64-v1r2.3/mugsy --directory /data1/bio_db/refseq/analysis/Manuscript/github_methods/bacterialEvolutionMetrics/popCOGent_example_ocean --prefix hSxjmJScM6YaYg9LBMmGAA2tcuSIYVlC /data1/bio_db/refseq/analysis/Manuscript/github_methods/bacterialEvolutionMetrics/popCOGent_example_ocean/hSxjmJScM6YaYg9L.tempcontig /data1/bio_db/refseq/analysis/Manuscript/github_methods/bacterialEvolutionMetrics/popCOGent_example_ocean/BMmGAA2tcuSIYVlC.tempcontig\n",
      "/data1/bio_db/refseq/analysis/Manuscript/github_methods/bacterialEvolutionMetrics/popCOGent_example_ocean/TOBG_SP-64.fna_@_TOBG_NAT-75.fna.maf.length_bias.txt\n"
     ]
    },
    {
     "name": "stderr",
     "output_type": "stream",
     "text": [
      "\r",
      "Running PopCOGent:  73%|███████▎  | 360/495 [42:10<25:23, 11.28s/it]"
     ]
    },
    {
     "name": "stdout",
     "output_type": "stream",
     "text": [
      "export MUGSY_INSTALL=/data8/Human/NIH_4/MethodDevelopment/Mugsy/mugsy_x86-64-v1r2.3 ; /data8/Human/NIH_4/MethodDevelopment/Mugsy/mugsy_x86-64-v1r2.3/mugsy --directory /data1/bio_db/refseq/analysis/Manuscript/github_methods/bacterialEvolutionMetrics/popCOGent_example_ocean --prefix E5knHJ7YhYVeKiqGJZ2cEEytKmQOJjF6 /data1/bio_db/refseq/analysis/Manuscript/github_methods/bacterialEvolutionMetrics/popCOGent_example_ocean/E5knHJ7YhYVeKiqG.tempcontig /data1/bio_db/refseq/analysis/Manuscript/github_methods/bacterialEvolutionMetrics/popCOGent_example_ocean/JZ2cEEytKmQOJjF6.tempcontig\n",
      "/data1/bio_db/refseq/analysis/Manuscript/github_methods/bacterialEvolutionMetrics/popCOGent_example_ocean/TOBG_NP-60.fna_@_TOBG_NAT-79.fna.maf.length_bias.txt\n"
     ]
    },
    {
     "name": "stderr",
     "output_type": "stream",
     "text": [
      "\r",
      "Running PopCOGent:  73%|███████▎  | 361/495 [42:10<18:01,  8.07s/it]"
     ]
    },
    {
     "name": "stdout",
     "output_type": "stream",
     "text": [
      "export MUGSY_INSTALL=/data8/Human/NIH_4/MethodDevelopment/Mugsy/mugsy_x86-64-v1r2.3 ; /data8/Human/NIH_4/MethodDevelopment/Mugsy/mugsy_x86-64-v1r2.3/mugsy --directory /data1/bio_db/refseq/analysis/Manuscript/github_methods/bacterialEvolutionMetrics/popCOGent_example_ocean --prefix Cy7iv5BvrWOAlTwrZ2nqigaBDOB3R3cR /data1/bio_db/refseq/analysis/Manuscript/github_methods/bacterialEvolutionMetrics/popCOGent_example_ocean/Cy7iv5BvrWOAlTwr.tempcontig /data1/bio_db/refseq/analysis/Manuscript/github_methods/bacterialEvolutionMetrics/popCOGent_example_ocean/Z2nqigaBDOB3R3cR.tempcontig\n",
      "/data1/bio_db/refseq/analysis/Manuscript/github_methods/bacterialEvolutionMetrics/popCOGent_example_ocean/TOBG_SAT-10.fna_@_TOBG_NAT-79.fna.maf.length_bias.txt\n"
     ]
    },
    {
     "name": "stderr",
     "output_type": "stream",
     "text": [
      "\r",
      "Running PopCOGent:  73%|███████▎  | 362/495 [42:13<13:56,  6.29s/it]"
     ]
    },
    {
     "name": "stdout",
     "output_type": "stream",
     "text": [
      "export MUGSY_INSTALL=/data8/Human/NIH_4/MethodDevelopment/Mugsy/mugsy_x86-64-v1r2.3 ; /data8/Human/NIH_4/MethodDevelopment/Mugsy/mugsy_x86-64-v1r2.3/mugsy --directory /data1/bio_db/refseq/analysis/Manuscript/github_methods/bacterialEvolutionMetrics/popCOGent_example_ocean --prefix u4bDCMxmG4dcd9RIzuV3YHGln0Vp7h04 /data1/bio_db/refseq/analysis/Manuscript/github_methods/bacterialEvolutionMetrics/popCOGent_example_ocean/u4bDCMxmG4dcd9RI.tempcontig /data1/bio_db/refseq/analysis/Manuscript/github_methods/bacterialEvolutionMetrics/popCOGent_example_ocean/zuV3YHGln0Vp7h04.tempcontig\n",
      "/data1/bio_db/refseq/analysis/Manuscript/github_methods/bacterialEvolutionMetrics/popCOGent_example_ocean/TOBG_NP-41.fna_@_TOBG_NAT-81.fna.maf.length_bias.txt\n"
     ]
    },
    {
     "name": "stderr",
     "output_type": "stream",
     "text": [
      "\r",
      "Running PopCOGent:  73%|███████▎  | 363/495 [42:16<11:59,  5.45s/it]"
     ]
    },
    {
     "name": "stdout",
     "output_type": "stream",
     "text": [
      "export MUGSY_INSTALL=/data8/Human/NIH_4/MethodDevelopment/Mugsy/mugsy_x86-64-v1r2.3 ; /data8/Human/NIH_4/MethodDevelopment/Mugsy/mugsy_x86-64-v1r2.3/mugsy --directory /data1/bio_db/refseq/analysis/Manuscript/github_methods/bacterialEvolutionMetrics/popCOGent_example_ocean --prefix nXnvTyjPdCA1N7HsczJuru95qEWYKUAs /data1/bio_db/refseq/analysis/Manuscript/github_methods/bacterialEvolutionMetrics/popCOGent_example_ocean/nXnvTyjPdCA1N7Hs.tempcontig /data1/bio_db/refseq/analysis/Manuscript/github_methods/bacterialEvolutionMetrics/popCOGent_example_ocean/czJuru95qEWYKUAs.tempcontig\n",
      "/data1/bio_db/refseq/analysis/Manuscript/github_methods/bacterialEvolutionMetrics/popCOGent_example_ocean/TOBG_SAT-38.fna_@_TOBG_NAT-96.fna.maf.length_bias.txt\n"
     ]
    },
    {
     "name": "stderr",
     "output_type": "stream",
     "text": [
      "\r",
      "Running PopCOGent:  74%|███████▎  | 364/495 [42:25<14:11,  6.50s/it]"
     ]
    },
    {
     "name": "stdout",
     "output_type": "stream",
     "text": [
      "export MUGSY_INSTALL=/data8/Human/NIH_4/MethodDevelopment/Mugsy/mugsy_x86-64-v1r2.3 ; /data8/Human/NIH_4/MethodDevelopment/Mugsy/mugsy_x86-64-v1r2.3/mugsy --directory /data1/bio_db/refseq/analysis/Manuscript/github_methods/bacterialEvolutionMetrics/popCOGent_example_ocean --prefix HerwnSb7RgwFSdcJblynA4DhUcaSg9PU /data1/bio_db/refseq/analysis/Manuscript/github_methods/bacterialEvolutionMetrics/popCOGent_example_ocean/HerwnSb7RgwFSdcJ.tempcontig /data1/bio_db/refseq/analysis/Manuscript/github_methods/bacterialEvolutionMetrics/popCOGent_example_ocean/blynA4DhUcaSg9PU.tempcontig\n",
      "/data1/bio_db/refseq/analysis/Manuscript/github_methods/bacterialEvolutionMetrics/popCOGent_example_ocean/TOBG_SAT-108.fna_@_TOBG_NAT-9.fna.maf.length_bias.txt\n"
     ]
    },
    {
     "name": "stderr",
     "output_type": "stream",
     "text": [
      "\r",
      "Running PopCOGent:  74%|███████▎  | 365/495 [42:41<19:57,  9.21s/it]"
     ]
    },
    {
     "name": "stdout",
     "output_type": "stream",
     "text": [
      "export MUGSY_INSTALL=/data8/Human/NIH_4/MethodDevelopment/Mugsy/mugsy_x86-64-v1r2.3 ; /data8/Human/NIH_4/MethodDevelopment/Mugsy/mugsy_x86-64-v1r2.3/mugsy --directory /data1/bio_db/refseq/analysis/Manuscript/github_methods/bacterialEvolutionMetrics/popCOGent_example_ocean --prefix Tc00dvzGPUpzpmDNdzaNmdlvZbAHIjMm /data1/bio_db/refseq/analysis/Manuscript/github_methods/bacterialEvolutionMetrics/popCOGent_example_ocean/Tc00dvzGPUpzpmDN.tempcontig /data1/bio_db/refseq/analysis/Manuscript/github_methods/bacterialEvolutionMetrics/popCOGent_example_ocean/dzaNmdlvZbAHIjMm.tempcontig\n",
      "/data1/bio_db/refseq/analysis/Manuscript/github_methods/bacterialEvolutionMetrics/popCOGent_example_ocean/TOBG_SAT-111.fna_@_TOBG_NP-1.fna.maf.length_bias.txt\n"
     ]
    },
    {
     "name": "stderr",
     "output_type": "stream",
     "text": [
      "\r",
      "Running PopCOGent:  74%|███████▍  | 366/495 [42:52<21:15,  9.88s/it]"
     ]
    },
    {
     "name": "stdout",
     "output_type": "stream",
     "text": [
      "export MUGSY_INSTALL=/data8/Human/NIH_4/MethodDevelopment/Mugsy/mugsy_x86-64-v1r2.3 ; /data8/Human/NIH_4/MethodDevelopment/Mugsy/mugsy_x86-64-v1r2.3/mugsy --directory /data1/bio_db/refseq/analysis/Manuscript/github_methods/bacterialEvolutionMetrics/popCOGent_example_ocean --prefix HjrlXPF7Njv31c6lN1IybTPXDI9TTlN1 /data1/bio_db/refseq/analysis/Manuscript/github_methods/bacterialEvolutionMetrics/popCOGent_example_ocean/HjrlXPF7Njv31c6l.tempcontig /data1/bio_db/refseq/analysis/Manuscript/github_methods/bacterialEvolutionMetrics/popCOGent_example_ocean/N1IybTPXDI9TTlN1.tempcontig\n",
      "/data1/bio_db/refseq/analysis/Manuscript/github_methods/bacterialEvolutionMetrics/popCOGent_example_ocean/TOBG_NP-7.fna_@_TOBG_NP-10.fna.maf.length_bias.txt\n"
     ]
    },
    {
     "name": "stderr",
     "output_type": "stream",
     "text": [
      "\r",
      "Running PopCOGent:  74%|███████▍  | 367/495 [42:57<17:45,  8.32s/it]"
     ]
    },
    {
     "name": "stdout",
     "output_type": "stream",
     "text": [
      "export MUGSY_INSTALL=/data8/Human/NIH_4/MethodDevelopment/Mugsy/mugsy_x86-64-v1r2.3 ; /data8/Human/NIH_4/MethodDevelopment/Mugsy/mugsy_x86-64-v1r2.3/mugsy --directory /data1/bio_db/refseq/analysis/Manuscript/github_methods/bacterialEvolutionMetrics/popCOGent_example_ocean --prefix CHugloHjMPdcUzZ1meg3T3EuyeXfuBQn /data1/bio_db/refseq/analysis/Manuscript/github_methods/bacterialEvolutionMetrics/popCOGent_example_ocean/CHugloHjMPdcUzZ1.tempcontig /data1/bio_db/refseq/analysis/Manuscript/github_methods/bacterialEvolutionMetrics/popCOGent_example_ocean/meg3T3EuyeXfuBQn.tempcontig\n",
      "/data1/bio_db/refseq/analysis/Manuscript/github_methods/bacterialEvolutionMetrics/popCOGent_example_ocean/TOBG_SP-81.fna_@_TOBG_NP-101.fna.maf.length_bias.txt\n"
     ]
    },
    {
     "name": "stderr",
     "output_type": "stream",
     "text": [
      "\r",
      "Running PopCOGent:  74%|███████▍  | 368/495 [42:59<13:43,  6.48s/it]"
     ]
    },
    {
     "name": "stdout",
     "output_type": "stream",
     "text": [
      "export MUGSY_INSTALL=/data8/Human/NIH_4/MethodDevelopment/Mugsy/mugsy_x86-64-v1r2.3 ; /data8/Human/NIH_4/MethodDevelopment/Mugsy/mugsy_x86-64-v1r2.3/mugsy --directory /data1/bio_db/refseq/analysis/Manuscript/github_methods/bacterialEvolutionMetrics/popCOGent_example_ocean --prefix VJj6nrIJtklx68Pm5tkRu07geWyoT8Sn /data1/bio_db/refseq/analysis/Manuscript/github_methods/bacterialEvolutionMetrics/popCOGent_example_ocean/VJj6nrIJtklx68Pm.tempcontig /data1/bio_db/refseq/analysis/Manuscript/github_methods/bacterialEvolutionMetrics/popCOGent_example_ocean/5tkRu07geWyoT8Sn.tempcontig\n",
      "/data1/bio_db/refseq/analysis/Manuscript/github_methods/bacterialEvolutionMetrics/popCOGent_example_ocean/TOBG_SAT-8.fna_@_TOBG_NP-10.fna.maf.length_bias.txt\n"
     ]
    },
    {
     "name": "stderr",
     "output_type": "stream",
     "text": [
      "\r",
      "Running PopCOGent:  75%|███████▍  | 369/495 [43:00<10:31,  5.01s/it]"
     ]
    },
    {
     "name": "stdout",
     "output_type": "stream",
     "text": [
      "export MUGSY_INSTALL=/data8/Human/NIH_4/MethodDevelopment/Mugsy/mugsy_x86-64-v1r2.3 ; /data8/Human/NIH_4/MethodDevelopment/Mugsy/mugsy_x86-64-v1r2.3/mugsy --directory /data1/bio_db/refseq/analysis/Manuscript/github_methods/bacterialEvolutionMetrics/popCOGent_example_ocean --prefix OXPi1LnzQL7ULdnu1Y7gjjLsLZCFA35T /data1/bio_db/refseq/analysis/Manuscript/github_methods/bacterialEvolutionMetrics/popCOGent_example_ocean/OXPi1LnzQL7ULdnu.tempcontig /data1/bio_db/refseq/analysis/Manuscript/github_methods/bacterialEvolutionMetrics/popCOGent_example_ocean/1Y7gjjLsLZCFA35T.tempcontig\n",
      "/data1/bio_db/refseq/analysis/Manuscript/github_methods/bacterialEvolutionMetrics/popCOGent_example_ocean/TOBG_SP-159.fna_@_TOBG_NP-10.fna.maf.length_bias.txt\n"
     ]
    },
    {
     "name": "stderr",
     "output_type": "stream",
     "text": [
      "\r",
      "Running PopCOGent:  75%|███████▍  | 370/495 [43:02<08:34,  4.12s/it]"
     ]
    },
    {
     "name": "stdout",
     "output_type": "stream",
     "text": [
      "export MUGSY_INSTALL=/data8/Human/NIH_4/MethodDevelopment/Mugsy/mugsy_x86-64-v1r2.3 ; /data8/Human/NIH_4/MethodDevelopment/Mugsy/mugsy_x86-64-v1r2.3/mugsy --directory /data1/bio_db/refseq/analysis/Manuscript/github_methods/bacterialEvolutionMetrics/popCOGent_example_ocean --prefix hkkZ4SKg7G1YLbA2UKTedklcDO2pFh6r /data1/bio_db/refseq/analysis/Manuscript/github_methods/bacterialEvolutionMetrics/popCOGent_example_ocean/hkkZ4SKg7G1YLbA2.tempcontig /data1/bio_db/refseq/analysis/Manuscript/github_methods/bacterialEvolutionMetrics/popCOGent_example_ocean/UKTedklcDO2pFh6r.tempcontig\n",
      "/data1/bio_db/refseq/analysis/Manuscript/github_methods/bacterialEvolutionMetrics/popCOGent_example_ocean/TOBG_SP-57.fna_@_TOBG_NP-10.fna.maf.length_bias.txt\n"
     ]
    },
    {
     "name": "stderr",
     "output_type": "stream",
     "text": [
      "\r",
      "Running PopCOGent:  75%|███████▍  | 371/495 [43:08<09:24,  4.55s/it]"
     ]
    },
    {
     "name": "stdout",
     "output_type": "stream",
     "text": [
      "export MUGSY_INSTALL=/data8/Human/NIH_4/MethodDevelopment/Mugsy/mugsy_x86-64-v1r2.3 ; /data8/Human/NIH_4/MethodDevelopment/Mugsy/mugsy_x86-64-v1r2.3/mugsy --directory /data1/bio_db/refseq/analysis/Manuscript/github_methods/bacterialEvolutionMetrics/popCOGent_example_ocean --prefix P6GjzPFortmB4PV5reLV8SC6SCRsJaaA /data1/bio_db/refseq/analysis/Manuscript/github_methods/bacterialEvolutionMetrics/popCOGent_example_ocean/P6GjzPFortmB4PV5.tempcontig /data1/bio_db/refseq/analysis/Manuscript/github_methods/bacterialEvolutionMetrics/popCOGent_example_ocean/reLV8SC6SCRsJaaA.tempcontig\n",
      "/data1/bio_db/refseq/analysis/Manuscript/github_methods/bacterialEvolutionMetrics/popCOGent_example_ocean/TOBG_SP-142.fna_@_TOBG_NAT-81.fna.maf.length_bias.txt\n"
     ]
    },
    {
     "name": "stderr",
     "output_type": "stream",
     "text": [
      "\r",
      "Running PopCOGent:  75%|███████▌  | 372/495 [43:40<25:57, 12.66s/it]"
     ]
    },
    {
     "name": "stdout",
     "output_type": "stream",
     "text": [
      "export MUGSY_INSTALL=/data8/Human/NIH_4/MethodDevelopment/Mugsy/mugsy_x86-64-v1r2.3 ; /data8/Human/NIH_4/MethodDevelopment/Mugsy/mugsy_x86-64-v1r2.3/mugsy --directory /data1/bio_db/refseq/analysis/Manuscript/github_methods/bacterialEvolutionMetrics/popCOGent_example_ocean --prefix BSjZi3Jxk21pBwJOqVoGchn4AEw3Rozt /data1/bio_db/refseq/analysis/Manuscript/github_methods/bacterialEvolutionMetrics/popCOGent_example_ocean/BSjZi3Jxk21pBwJO.tempcontig /data1/bio_db/refseq/analysis/Manuscript/github_methods/bacterialEvolutionMetrics/popCOGent_example_ocean/qVoGchn4AEw3Rozt.tempcontig\n",
      "/data1/bio_db/refseq/analysis/Manuscript/github_methods/bacterialEvolutionMetrics/popCOGent_example_ocean/TOBG_SP-293.fna_@_TOBG_NP-1052.fna.maf.length_bias.txt\n"
     ]
    },
    {
     "name": "stderr",
     "output_type": "stream",
     "text": [
      "\r",
      "Running PopCOGent:  75%|███████▌  | 373/495 [43:43<19:50,  9.76s/it]"
     ]
    },
    {
     "name": "stdout",
     "output_type": "stream",
     "text": [
      "export MUGSY_INSTALL=/data8/Human/NIH_4/MethodDevelopment/Mugsy/mugsy_x86-64-v1r2.3 ; /data8/Human/NIH_4/MethodDevelopment/Mugsy/mugsy_x86-64-v1r2.3/mugsy --directory /data1/bio_db/refseq/analysis/Manuscript/github_methods/bacterialEvolutionMetrics/popCOGent_example_ocean --prefix BM86nVhbwvyUm3aVls5ouenHZJ8HaSxR /data1/bio_db/refseq/analysis/Manuscript/github_methods/bacterialEvolutionMetrics/popCOGent_example_ocean/BM86nVhbwvyUm3aV.tempcontig /data1/bio_db/refseq/analysis/Manuscript/github_methods/bacterialEvolutionMetrics/popCOGent_example_ocean/ls5ouenHZJ8HaSxR.tempcontig\n",
      "/data1/bio_db/refseq/analysis/Manuscript/github_methods/bacterialEvolutionMetrics/popCOGent_example_ocean/TOBG_SP-63.fna_@_TOBG_NP-127.fna.maf.length_bias.txt\n"
     ]
    },
    {
     "name": "stderr",
     "output_type": "stream",
     "text": [
      "\r",
      "Running PopCOGent:  76%|███████▌  | 374/495 [43:48<17:06,  8.48s/it]"
     ]
    },
    {
     "name": "stdout",
     "output_type": "stream",
     "text": [
      "export MUGSY_INSTALL=/data8/Human/NIH_4/MethodDevelopment/Mugsy/mugsy_x86-64-v1r2.3 ; /data8/Human/NIH_4/MethodDevelopment/Mugsy/mugsy_x86-64-v1r2.3/mugsy --directory /data1/bio_db/refseq/analysis/Manuscript/github_methods/bacterialEvolutionMetrics/popCOGent_example_ocean --prefix xIVoa09rrs2OlbpMd7Qx3gkdQYRd9dpJ /data1/bio_db/refseq/analysis/Manuscript/github_methods/bacterialEvolutionMetrics/popCOGent_example_ocean/xIVoa09rrs2OlbpM.tempcontig /data1/bio_db/refseq/analysis/Manuscript/github_methods/bacterialEvolutionMetrics/popCOGent_example_ocean/d7Qx3gkdQYRd9dpJ.tempcontig\n",
      "/data1/bio_db/refseq/analysis/Manuscript/github_methods/bacterialEvolutionMetrics/popCOGent_example_ocean/TOBG_SP-32.fna_@_TOBG_NP-12.fna.maf.length_bias.txt\n"
     ]
    },
    {
     "name": "stderr",
     "output_type": "stream",
     "text": [
      "\r",
      "Running PopCOGent:  76%|███████▌  | 375/495 [43:51<13:37,  6.81s/it]"
     ]
    },
    {
     "name": "stdout",
     "output_type": "stream",
     "text": [
      "export MUGSY_INSTALL=/data8/Human/NIH_4/MethodDevelopment/Mugsy/mugsy_x86-64-v1r2.3 ; /data8/Human/NIH_4/MethodDevelopment/Mugsy/mugsy_x86-64-v1r2.3/mugsy --directory /data1/bio_db/refseq/analysis/Manuscript/github_methods/bacterialEvolutionMetrics/popCOGent_example_ocean --prefix 44aBMvGSfNu7dbdycReOYfOqtyr3NvqB /data1/bio_db/refseq/analysis/Manuscript/github_methods/bacterialEvolutionMetrics/popCOGent_example_ocean/44aBMvGSfNu7dbdy.tempcontig /data1/bio_db/refseq/analysis/Manuscript/github_methods/bacterialEvolutionMetrics/popCOGent_example_ocean/cReOYfOqtyr3NvqB.tempcontig\n",
      "/data1/bio_db/refseq/analysis/Manuscript/github_methods/bacterialEvolutionMetrics/popCOGent_example_ocean/TOBG_NP-90.fna_@_TOBG_NP-13.fna.maf.length_bias.txt\n"
     ]
    },
    {
     "name": "stderr",
     "output_type": "stream",
     "text": [
      "\r",
      "Running PopCOGent:  76%|███████▌  | 376/495 [43:53<10:51,  5.48s/it]"
     ]
    },
    {
     "name": "stdout",
     "output_type": "stream",
     "text": [
      "export MUGSY_INSTALL=/data8/Human/NIH_4/MethodDevelopment/Mugsy/mugsy_x86-64-v1r2.3 ; /data8/Human/NIH_4/MethodDevelopment/Mugsy/mugsy_x86-64-v1r2.3/mugsy --directory /data1/bio_db/refseq/analysis/Manuscript/github_methods/bacterialEvolutionMetrics/popCOGent_example_ocean --prefix DQIVO6mCVbnt5owaKrVUurjCh2NweiL1 /data1/bio_db/refseq/analysis/Manuscript/github_methods/bacterialEvolutionMetrics/popCOGent_example_ocean/DQIVO6mCVbnt5owa.tempcontig /data1/bio_db/refseq/analysis/Manuscript/github_methods/bacterialEvolutionMetrics/popCOGent_example_ocean/KrVUurjCh2NweiL1.tempcontig\n",
      "/data1/bio_db/refseq/analysis/Manuscript/github_methods/bacterialEvolutionMetrics/popCOGent_example_ocean/TOBG_SP-64.fna_@_TOBG_NP-12.fna.maf.length_bias.txt\n"
     ]
    },
    {
     "name": "stderr",
     "output_type": "stream",
     "text": [
      "\r",
      "Running PopCOGent:  76%|███████▌  | 377/495 [44:13<19:09,  9.74s/it]"
     ]
    },
    {
     "name": "stdout",
     "output_type": "stream",
     "text": [
      "export MUGSY_INSTALL=/data8/Human/NIH_4/MethodDevelopment/Mugsy/mugsy_x86-64-v1r2.3 ; /data8/Human/NIH_4/MethodDevelopment/Mugsy/mugsy_x86-64-v1r2.3/mugsy --directory /data1/bio_db/refseq/analysis/Manuscript/github_methods/bacterialEvolutionMetrics/popCOGent_example_ocean --prefix 7t7ZJO4GofXTkMqFiMzR8wopsHhATlNc /data1/bio_db/refseq/analysis/Manuscript/github_methods/bacterialEvolutionMetrics/popCOGent_example_ocean/7t7ZJO4GofXTkMqF.tempcontig /data1/bio_db/refseq/analysis/Manuscript/github_methods/bacterialEvolutionMetrics/popCOGent_example_ocean/iMzR8wopsHhATlNc.tempcontig\n",
      "/data1/bio_db/refseq/analysis/Manuscript/github_methods/bacterialEvolutionMetrics/popCOGent_example_ocean/TOBG_NP-94.fna_@_TOBG_NP-13.fna.maf.length_bias.txt\n"
     ]
    },
    {
     "name": "stderr",
     "output_type": "stream",
     "text": [
      "\r",
      "Running PopCOGent:  76%|███████▋  | 378/495 [44:14<14:05,  7.23s/it]"
     ]
    },
    {
     "name": "stdout",
     "output_type": "stream",
     "text": [
      "export MUGSY_INSTALL=/data8/Human/NIH_4/MethodDevelopment/Mugsy/mugsy_x86-64-v1r2.3 ; /data8/Human/NIH_4/MethodDevelopment/Mugsy/mugsy_x86-64-v1r2.3/mugsy --directory /data1/bio_db/refseq/analysis/Manuscript/github_methods/bacterialEvolutionMetrics/popCOGent_example_ocean --prefix frYDo8lnxBzeXP2PHi9OYySDIZ2LrShk /data1/bio_db/refseq/analysis/Manuscript/github_methods/bacterialEvolutionMetrics/popCOGent_example_ocean/frYDo8lnxBzeXP2P.tempcontig /data1/bio_db/refseq/analysis/Manuscript/github_methods/bacterialEvolutionMetrics/popCOGent_example_ocean/Hi9OYySDIZ2LrShk.tempcontig\n",
      "/data1/bio_db/refseq/analysis/Manuscript/github_methods/bacterialEvolutionMetrics/popCOGent_example_ocean/TOBG_SAT-1611.fna_@_TOBG_NP-140.fna.maf.length_bias.txt\n"
     ]
    },
    {
     "name": "stderr",
     "output_type": "stream",
     "text": [
      "\r",
      "Running PopCOGent:  77%|███████▋  | 379/495 [44:21<13:32,  7.01s/it]"
     ]
    },
    {
     "name": "stdout",
     "output_type": "stream",
     "text": [
      "export MUGSY_INSTALL=/data8/Human/NIH_4/MethodDevelopment/Mugsy/mugsy_x86-64-v1r2.3 ; /data8/Human/NIH_4/MethodDevelopment/Mugsy/mugsy_x86-64-v1r2.3/mugsy --directory /data1/bio_db/refseq/analysis/Manuscript/github_methods/bacterialEvolutionMetrics/popCOGent_example_ocean --prefix xEq5Z7TBxYNaYupX7wJqPmqe0sFKBNiI /data1/bio_db/refseq/analysis/Manuscript/github_methods/bacterialEvolutionMetrics/popCOGent_example_ocean/xEq5Z7TBxYNaYupX.tempcontig /data1/bio_db/refseq/analysis/Manuscript/github_methods/bacterialEvolutionMetrics/popCOGent_example_ocean/7wJqPmqe0sFKBNiI.tempcontig\n",
      "/data1/bio_db/refseq/analysis/Manuscript/github_methods/bacterialEvolutionMetrics/popCOGent_example_ocean/TOBG_SAT-93.fna_@_TOBG_NP-13.fna.maf.length_bias.txt\n"
     ]
    },
    {
     "name": "stderr",
     "output_type": "stream",
     "text": [
      "\r",
      "Running PopCOGent:  77%|███████▋  | 380/495 [44:25<12:00,  6.26s/it]"
     ]
    },
    {
     "name": "stdout",
     "output_type": "stream",
     "text": [
      "export MUGSY_INSTALL=/data8/Human/NIH_4/MethodDevelopment/Mugsy/mugsy_x86-64-v1r2.3 ; /data8/Human/NIH_4/MethodDevelopment/Mugsy/mugsy_x86-64-v1r2.3/mugsy --directory /data1/bio_db/refseq/analysis/Manuscript/github_methods/bacterialEvolutionMetrics/popCOGent_example_ocean --prefix dTiZ820D7BovtPQnQiaPpqeS4yVJ1L7j /data1/bio_db/refseq/analysis/Manuscript/github_methods/bacterialEvolutionMetrics/popCOGent_example_ocean/dTiZ820D7BovtPQn.tempcontig /data1/bio_db/refseq/analysis/Manuscript/github_methods/bacterialEvolutionMetrics/popCOGent_example_ocean/QiaPpqeS4yVJ1L7j.tempcontig\n",
      "/data1/bio_db/refseq/analysis/Manuscript/github_methods/bacterialEvolutionMetrics/popCOGent_example_ocean/TOBG_NP-1472.fna_@_TOBG_NP-1444.fna.maf.length_bias.txt\n"
     ]
    },
    {
     "name": "stderr",
     "output_type": "stream",
     "text": [
      "\r",
      "Running PopCOGent:  77%|███████▋  | 381/495 [44:28<09:52,  5.20s/it]"
     ]
    },
    {
     "name": "stdout",
     "output_type": "stream",
     "text": [
      "export MUGSY_INSTALL=/data8/Human/NIH_4/MethodDevelopment/Mugsy/mugsy_x86-64-v1r2.3 ; /data8/Human/NIH_4/MethodDevelopment/Mugsy/mugsy_x86-64-v1r2.3/mugsy --directory /data1/bio_db/refseq/analysis/Manuscript/github_methods/bacterialEvolutionMetrics/popCOGent_example_ocean --prefix 2NCxoLoNMXR6ruHckOFFP60tSAuPk6sv /data1/bio_db/refseq/analysis/Manuscript/github_methods/bacterialEvolutionMetrics/popCOGent_example_ocean/2NCxoLoNMXR6ruHc.tempcontig /data1/bio_db/refseq/analysis/Manuscript/github_methods/bacterialEvolutionMetrics/popCOGent_example_ocean/kOFFP60tSAuPk6sv.tempcontig\n",
      "/data1/bio_db/refseq/analysis/Manuscript/github_methods/bacterialEvolutionMetrics/popCOGent_example_ocean/TOBG_SAT-133.fna_@_TOBG_NP-1444.fna.maf.length_bias.txt\n"
     ]
    },
    {
     "name": "stderr",
     "output_type": "stream",
     "text": [
      "\r",
      "Running PopCOGent:  77%|███████▋  | 382/495 [44:43<15:22,  8.17s/it]"
     ]
    },
    {
     "name": "stdout",
     "output_type": "stream",
     "text": [
      "export MUGSY_INSTALL=/data8/Human/NIH_4/MethodDevelopment/Mugsy/mugsy_x86-64-v1r2.3 ; /data8/Human/NIH_4/MethodDevelopment/Mugsy/mugsy_x86-64-v1r2.3/mugsy --directory /data1/bio_db/refseq/analysis/Manuscript/github_methods/bacterialEvolutionMetrics/popCOGent_example_ocean --prefix pxXWXhqwLhF2PMXP1MmxefEEMJpmT6kS /data1/bio_db/refseq/analysis/Manuscript/github_methods/bacterialEvolutionMetrics/popCOGent_example_ocean/pxXWXhqwLhF2PMXP.tempcontig /data1/bio_db/refseq/analysis/Manuscript/github_methods/bacterialEvolutionMetrics/popCOGent_example_ocean/1MmxefEEMJpmT6kS.tempcontig\n",
      "/data1/bio_db/refseq/analysis/Manuscript/github_methods/bacterialEvolutionMetrics/popCOGent_example_ocean/TOBG_SAT-133.fna_@_TOBG_NP-1472.fna.maf.length_bias.txt\n"
     ]
    },
    {
     "name": "stderr",
     "output_type": "stream",
     "text": [
      "\r",
      "Running PopCOGent:  77%|███████▋  | 383/495 [44:44<11:21,  6.09s/it]"
     ]
    },
    {
     "name": "stdout",
     "output_type": "stream",
     "text": [
      "export MUGSY_INSTALL=/data8/Human/NIH_4/MethodDevelopment/Mugsy/mugsy_x86-64-v1r2.3 ; /data8/Human/NIH_4/MethodDevelopment/Mugsy/mugsy_x86-64-v1r2.3/mugsy --directory /data1/bio_db/refseq/analysis/Manuscript/github_methods/bacterialEvolutionMetrics/popCOGent_example_ocean --prefix geWao08OP4jpYIZMkPE2ODdSlzW3Jzwh /data1/bio_db/refseq/analysis/Manuscript/github_methods/bacterialEvolutionMetrics/popCOGent_example_ocean/geWao08OP4jpYIZM.tempcontig /data1/bio_db/refseq/analysis/Manuscript/github_methods/bacterialEvolutionMetrics/popCOGent_example_ocean/kPE2ODdSlzW3Jzwh.tempcontig\n",
      "/data1/bio_db/refseq/analysis/Manuscript/github_methods/bacterialEvolutionMetrics/popCOGent_example_ocean/TOBG_SP-60.fna_@_TOBG_NP-13.fna.maf.length_bias.txt\n"
     ]
    },
    {
     "name": "stderr",
     "output_type": "stream",
     "text": [
      "\r",
      "Running PopCOGent:  78%|███████▊  | 384/495 [44:55<13:55,  7.52s/it]"
     ]
    },
    {
     "name": "stdout",
     "output_type": "stream",
     "text": [
      "export MUGSY_INSTALL=/data8/Human/NIH_4/MethodDevelopment/Mugsy/mugsy_x86-64-v1r2.3 ; /data8/Human/NIH_4/MethodDevelopment/Mugsy/mugsy_x86-64-v1r2.3/mugsy --directory /data1/bio_db/refseq/analysis/Manuscript/github_methods/bacterialEvolutionMetrics/popCOGent_example_ocean --prefix abFy6z8yd63ANmUeRdxh7NWDQFkTEhs4 /data1/bio_db/refseq/analysis/Manuscript/github_methods/bacterialEvolutionMetrics/popCOGent_example_ocean/abFy6z8yd63ANmUe.tempcontig /data1/bio_db/refseq/analysis/Manuscript/github_methods/bacterialEvolutionMetrics/popCOGent_example_ocean/Rdxh7NWDQFkTEhs4.tempcontig\n",
      "/data1/bio_db/refseq/analysis/Manuscript/github_methods/bacterialEvolutionMetrics/popCOGent_example_ocean/TOBG_SAT-1.fna_@_TOBG_NP-151.fna.maf.length_bias.txt\n"
     ]
    },
    {
     "name": "stderr",
     "output_type": "stream",
     "text": [
      "\r",
      "Running PopCOGent:  78%|███████▊  | 385/495 [45:00<12:06,  6.61s/it]"
     ]
    },
    {
     "name": "stdout",
     "output_type": "stream",
     "text": [
      "export MUGSY_INSTALL=/data8/Human/NIH_4/MethodDevelopment/Mugsy/mugsy_x86-64-v1r2.3 ; /data8/Human/NIH_4/MethodDevelopment/Mugsy/mugsy_x86-64-v1r2.3/mugsy --directory /data1/bio_db/refseq/analysis/Manuscript/github_methods/bacterialEvolutionMetrics/popCOGent_example_ocean --prefix 5KzjePgvJKw5Ch5vsciCPO1kYGOfuH5z /data1/bio_db/refseq/analysis/Manuscript/github_methods/bacterialEvolutionMetrics/popCOGent_example_ocean/5KzjePgvJKw5Ch5v.tempcontig /data1/bio_db/refseq/analysis/Manuscript/github_methods/bacterialEvolutionMetrics/popCOGent_example_ocean/sciCPO1kYGOfuH5z.tempcontig\n",
      "/data1/bio_db/refseq/analysis/Manuscript/github_methods/bacterialEvolutionMetrics/popCOGent_example_ocean/TOBG_NP-59.fna_@_TOBG_NP-21.fna.maf.length_bias.txt\n"
     ]
    },
    {
     "name": "stderr",
     "output_type": "stream",
     "text": [
      "\r",
      "Running PopCOGent:  78%|███████▊  | 386/495 [45:02<09:37,  5.29s/it]"
     ]
    },
    {
     "name": "stdout",
     "output_type": "stream",
     "text": [
      "export MUGSY_INSTALL=/data8/Human/NIH_4/MethodDevelopment/Mugsy/mugsy_x86-64-v1r2.3 ; /data8/Human/NIH_4/MethodDevelopment/Mugsy/mugsy_x86-64-v1r2.3/mugsy --directory /data1/bio_db/refseq/analysis/Manuscript/github_methods/bacterialEvolutionMetrics/popCOGent_example_ocean --prefix dw33cpvkvgN5NUM7EspTmNfTbegrICkv /data1/bio_db/refseq/analysis/Manuscript/github_methods/bacterialEvolutionMetrics/popCOGent_example_ocean/dw33cpvkvgN5NUM7.tempcontig /data1/bio_db/refseq/analysis/Manuscript/github_methods/bacterialEvolutionMetrics/popCOGent_example_ocean/EspTmNfTbegrICkv.tempcontig\n",
      "/data1/bio_db/refseq/analysis/Manuscript/github_methods/bacterialEvolutionMetrics/popCOGent_example_ocean/TOBG_SAT-1608.fna_@_TOBG_NP-20.fna.maf.length_bias.txt\n"
     ]
    },
    {
     "name": "stderr",
     "output_type": "stream",
     "text": [
      "\r",
      "Running PopCOGent:  78%|███████▊  | 387/495 [45:15<13:53,  7.72s/it]"
     ]
    },
    {
     "name": "stdout",
     "output_type": "stream",
     "text": [
      "export MUGSY_INSTALL=/data8/Human/NIH_4/MethodDevelopment/Mugsy/mugsy_x86-64-v1r2.3 ; /data8/Human/NIH_4/MethodDevelopment/Mugsy/mugsy_x86-64-v1r2.3/mugsy --directory /data1/bio_db/refseq/analysis/Manuscript/github_methods/bacterialEvolutionMetrics/popCOGent_example_ocean --prefix XUKvAym03aIDOPrzEACP399NMdbd37BY /data1/bio_db/refseq/analysis/Manuscript/github_methods/bacterialEvolutionMetrics/popCOGent_example_ocean/XUKvAym03aIDOPrz.tempcontig /data1/bio_db/refseq/analysis/Manuscript/github_methods/bacterialEvolutionMetrics/popCOGent_example_ocean/EACP399NMdbd37BY.tempcontig\n",
      "/data1/bio_db/refseq/analysis/Manuscript/github_methods/bacterialEvolutionMetrics/popCOGent_example_ocean/TOBG_SAT-162.fna_@_TOBG_NP-1463.fna.maf.length_bias.txt\n"
     ]
    },
    {
     "name": "stderr",
     "output_type": "stream",
     "text": [
      "\r",
      "Running PopCOGent:  78%|███████▊  | 388/495 [45:31<18:12, 10.21s/it]"
     ]
    },
    {
     "name": "stdout",
     "output_type": "stream",
     "text": [
      "export MUGSY_INSTALL=/data8/Human/NIH_4/MethodDevelopment/Mugsy/mugsy_x86-64-v1r2.3 ; /data8/Human/NIH_4/MethodDevelopment/Mugsy/mugsy_x86-64-v1r2.3/mugsy --directory /data1/bio_db/refseq/analysis/Manuscript/github_methods/bacterialEvolutionMetrics/popCOGent_example_ocean --prefix PPWiN5EVXMLejZaNlt30cspsFn4k9XMG /data1/bio_db/refseq/analysis/Manuscript/github_methods/bacterialEvolutionMetrics/popCOGent_example_ocean/PPWiN5EVXMLejZaN.tempcontig /data1/bio_db/refseq/analysis/Manuscript/github_methods/bacterialEvolutionMetrics/popCOGent_example_ocean/lt30cspsFn4k9XMG.tempcontig\n",
      "/data1/bio_db/refseq/analysis/Manuscript/github_methods/bacterialEvolutionMetrics/popCOGent_example_ocean/TOBG_SAT-7.fna_@_TOBG_NP-26.fna.maf.length_bias.txt\n"
     ]
    },
    {
     "name": "stderr",
     "output_type": "stream",
     "text": [
      "\r",
      "Running PopCOGent:  79%|███████▊  | 389/495 [45:34<13:55,  7.88s/it]"
     ]
    },
    {
     "name": "stdout",
     "output_type": "stream",
     "text": [
      "export MUGSY_INSTALL=/data8/Human/NIH_4/MethodDevelopment/Mugsy/mugsy_x86-64-v1r2.3 ; /data8/Human/NIH_4/MethodDevelopment/Mugsy/mugsy_x86-64-v1r2.3/mugsy --directory /data1/bio_db/refseq/analysis/Manuscript/github_methods/bacterialEvolutionMetrics/popCOGent_example_ocean --prefix XVByIywgcdHXEmXvH0IpqT8p8TaOpsKY /data1/bio_db/refseq/analysis/Manuscript/github_methods/bacterialEvolutionMetrics/popCOGent_example_ocean/XVByIywgcdHXEmXv.tempcontig /data1/bio_db/refseq/analysis/Manuscript/github_methods/bacterialEvolutionMetrics/popCOGent_example_ocean/H0IpqT8p8TaOpsKY.tempcontig\n",
      "/data1/bio_db/refseq/analysis/Manuscript/github_methods/bacterialEvolutionMetrics/popCOGent_example_ocean/TOBG_SAT-62.fna_@_TOBG_NP-16.fna.maf.length_bias.txt\n"
     ]
    },
    {
     "name": "stderr",
     "output_type": "stream",
     "text": [
      "\r",
      "Running PopCOGent:  79%|███████▉  | 390/495 [45:35<10:13,  5.84s/it]"
     ]
    },
    {
     "name": "stdout",
     "output_type": "stream",
     "text": [
      "export MUGSY_INSTALL=/data8/Human/NIH_4/MethodDevelopment/Mugsy/mugsy_x86-64-v1r2.3 ; /data8/Human/NIH_4/MethodDevelopment/Mugsy/mugsy_x86-64-v1r2.3/mugsy --directory /data1/bio_db/refseq/analysis/Manuscript/github_methods/bacterialEvolutionMetrics/popCOGent_example_ocean --prefix DRfQ9mJW0FXqs6RdZxF0qXt4K50UsXDc /data1/bio_db/refseq/analysis/Manuscript/github_methods/bacterialEvolutionMetrics/popCOGent_example_ocean/DRfQ9mJW0FXqs6Rd.tempcontig /data1/bio_db/refseq/analysis/Manuscript/github_methods/bacterialEvolutionMetrics/popCOGent_example_ocean/ZxF0qXt4K50UsXDc.tempcontig\n",
      "/data1/bio_db/refseq/analysis/Manuscript/github_methods/bacterialEvolutionMetrics/popCOGent_example_ocean/TOBG_SAT-183.fna_@_TOBG_NP-28.fna.maf.length_bias.txt\n"
     ]
    },
    {
     "name": "stderr",
     "output_type": "stream",
     "text": [
      "\r",
      "Running PopCOGent:  79%|███████▉  | 391/495 [46:03<21:45, 12.56s/it]"
     ]
    },
    {
     "name": "stdout",
     "output_type": "stream",
     "text": [
      "export MUGSY_INSTALL=/data8/Human/NIH_4/MethodDevelopment/Mugsy/mugsy_x86-64-v1r2.3 ; /data8/Human/NIH_4/MethodDevelopment/Mugsy/mugsy_x86-64-v1r2.3/mugsy --directory /data1/bio_db/refseq/analysis/Manuscript/github_methods/bacterialEvolutionMetrics/popCOGent_example_ocean --prefix HFZ3nlAiRbqJPkZZHXUsg75s6W0gDkV3 /data1/bio_db/refseq/analysis/Manuscript/github_methods/bacterialEvolutionMetrics/popCOGent_example_ocean/HFZ3nlAiRbqJPkZZ.tempcontig /data1/bio_db/refseq/analysis/Manuscript/github_methods/bacterialEvolutionMetrics/popCOGent_example_ocean/HXUsg75s6W0gDkV3.tempcontig\n",
      "/data1/bio_db/refseq/analysis/Manuscript/github_methods/bacterialEvolutionMetrics/popCOGent_example_ocean/TOBG_RS-404.fna_@_TOBG_NP-52.fna.maf.length_bias.txt\n"
     ]
    },
    {
     "name": "stderr",
     "output_type": "stream",
     "text": [
      "\r",
      "Running PopCOGent:  79%|███████▉  | 392/495 [46:06<16:18,  9.50s/it]"
     ]
    },
    {
     "name": "stdout",
     "output_type": "stream",
     "text": [
      "export MUGSY_INSTALL=/data8/Human/NIH_4/MethodDevelopment/Mugsy/mugsy_x86-64-v1r2.3 ; /data8/Human/NIH_4/MethodDevelopment/Mugsy/mugsy_x86-64-v1r2.3/mugsy --directory /data1/bio_db/refseq/analysis/Manuscript/github_methods/bacterialEvolutionMetrics/popCOGent_example_ocean --prefix xZ1Pc2X3jKfEC49qrzutWES0Y8VxEHfp /data1/bio_db/refseq/analysis/Manuscript/github_methods/bacterialEvolutionMetrics/popCOGent_example_ocean/xZ1Pc2X3jKfEC49q.tempcontig /data1/bio_db/refseq/analysis/Manuscript/github_methods/bacterialEvolutionMetrics/popCOGent_example_ocean/rzutWES0Y8VxEHfp.tempcontig\n",
      "/data1/bio_db/refseq/analysis/Manuscript/github_methods/bacterialEvolutionMetrics/popCOGent_example_ocean/TOBG_SAT-1462.fna_@_TOBG_NP-42.fna.maf.length_bias.txt\n"
     ]
    },
    {
     "name": "stderr",
     "output_type": "stream",
     "text": [
      "\r",
      "Running PopCOGent:  79%|███████▉  | 393/495 [46:25<21:15, 12.51s/it]"
     ]
    },
    {
     "name": "stdout",
     "output_type": "stream",
     "text": [
      "export MUGSY_INSTALL=/data8/Human/NIH_4/MethodDevelopment/Mugsy/mugsy_x86-64-v1r2.3 ; /data8/Human/NIH_4/MethodDevelopment/Mugsy/mugsy_x86-64-v1r2.3/mugsy --directory /data1/bio_db/refseq/analysis/Manuscript/github_methods/bacterialEvolutionMetrics/popCOGent_example_ocean --prefix CKjdBdOGKhF8DCPYW8os5D5Lgvi4gWna /data1/bio_db/refseq/analysis/Manuscript/github_methods/bacterialEvolutionMetrics/popCOGent_example_ocean/CKjdBdOGKhF8DCPY.tempcontig /data1/bio_db/refseq/analysis/Manuscript/github_methods/bacterialEvolutionMetrics/popCOGent_example_ocean/W8os5D5Lgvi4gWna.tempcontig\n",
      "/data1/bio_db/refseq/analysis/Manuscript/github_methods/bacterialEvolutionMetrics/popCOGent_example_ocean/TOBG_SP-332.fna_@_TOBG_NP-47.fna.maf.length_bias.txt\n"
     ]
    },
    {
     "name": "stderr",
     "output_type": "stream",
     "text": [
      "\r",
      "Running PopCOGent:  80%|███████▉  | 394/495 [46:43<23:51, 14.18s/it]"
     ]
    },
    {
     "name": "stdout",
     "output_type": "stream",
     "text": [
      "export MUGSY_INSTALL=/data8/Human/NIH_4/MethodDevelopment/Mugsy/mugsy_x86-64-v1r2.3 ; /data8/Human/NIH_4/MethodDevelopment/Mugsy/mugsy_x86-64-v1r2.3/mugsy --directory /data1/bio_db/refseq/analysis/Manuscript/github_methods/bacterialEvolutionMetrics/popCOGent_example_ocean --prefix T9QoqFa5nn30xns19QysS2Ngv1yJopkC /data1/bio_db/refseq/analysis/Manuscript/github_methods/bacterialEvolutionMetrics/popCOGent_example_ocean/T9QoqFa5nn30xns1.tempcontig /data1/bio_db/refseq/analysis/Manuscript/github_methods/bacterialEvolutionMetrics/popCOGent_example_ocean/9QysS2Ngv1yJopkC.tempcontig\n",
      "/data1/bio_db/refseq/analysis/Manuscript/github_methods/bacterialEvolutionMetrics/popCOGent_example_ocean/TOBG_SP-142.fna_@_TOBG_NP-41.fna.maf.length_bias.txt\n"
     ]
    },
    {
     "name": "stderr",
     "output_type": "stream",
     "text": [
      "\r",
      "Running PopCOGent:  80%|███████▉  | 395/495 [46:48<18:47, 11.28s/it]"
     ]
    },
    {
     "name": "stdout",
     "output_type": "stream",
     "text": [
      "export MUGSY_INSTALL=/data8/Human/NIH_4/MethodDevelopment/Mugsy/mugsy_x86-64-v1r2.3 ; /data8/Human/NIH_4/MethodDevelopment/Mugsy/mugsy_x86-64-v1r2.3/mugsy --directory /data1/bio_db/refseq/analysis/Manuscript/github_methods/bacterialEvolutionMetrics/popCOGent_example_ocean --prefix 5G1qqRoaoyZ4zULToxg2LHyjhfEmQhG7 /data1/bio_db/refseq/analysis/Manuscript/github_methods/bacterialEvolutionMetrics/popCOGent_example_ocean/5G1qqRoaoyZ4zULT.tempcontig /data1/bio_db/refseq/analysis/Manuscript/github_methods/bacterialEvolutionMetrics/popCOGent_example_ocean/oxg2LHyjhfEmQhG7.tempcontig\n",
      "/data1/bio_db/refseq/analysis/Manuscript/github_methods/bacterialEvolutionMetrics/popCOGent_example_ocean/TOBG_SP-145.fna_@_TOBG_NP-58.fna.maf.length_bias.txt\n"
     ]
    },
    {
     "name": "stderr",
     "output_type": "stream",
     "text": [
      "\r",
      "Running PopCOGent:  80%|████████  | 396/495 [46:51<14:51,  9.01s/it]"
     ]
    },
    {
     "name": "stdout",
     "output_type": "stream",
     "text": [
      "export MUGSY_INSTALL=/data8/Human/NIH_4/MethodDevelopment/Mugsy/mugsy_x86-64-v1r2.3 ; /data8/Human/NIH_4/MethodDevelopment/Mugsy/mugsy_x86-64-v1r2.3/mugsy --directory /data1/bio_db/refseq/analysis/Manuscript/github_methods/bacterialEvolutionMetrics/popCOGent_example_ocean --prefix q5Gif0ZT930aZeherkKAn4dq4KiLmziQ /data1/bio_db/refseq/analysis/Manuscript/github_methods/bacterialEvolutionMetrics/popCOGent_example_ocean/q5Gif0ZT930aZehe.tempcontig /data1/bio_db/refseq/analysis/Manuscript/github_methods/bacterialEvolutionMetrics/popCOGent_example_ocean/rkKAn4dq4KiLmziQ.tempcontig\n",
      "/data1/bio_db/refseq/analysis/Manuscript/github_methods/bacterialEvolutionMetrics/popCOGent_example_ocean/TOBG_SP-114.fna_@_TOBG_NP-58.fna.maf.length_bias.txt\n"
     ]
    },
    {
     "name": "stderr",
     "output_type": "stream",
     "text": [
      "\r",
      "Running PopCOGent:  80%|████████  | 397/495 [46:56<12:41,  7.77s/it]"
     ]
    },
    {
     "name": "stdout",
     "output_type": "stream",
     "text": [
      "export MUGSY_INSTALL=/data8/Human/NIH_4/MethodDevelopment/Mugsy/mugsy_x86-64-v1r2.3 ; /data8/Human/NIH_4/MethodDevelopment/Mugsy/mugsy_x86-64-v1r2.3/mugsy --directory /data1/bio_db/refseq/analysis/Manuscript/github_methods/bacterialEvolutionMetrics/popCOGent_example_ocean --prefix PdVCoKvRpkj4J7u9rYllvXZJiqzHfQuJ /data1/bio_db/refseq/analysis/Manuscript/github_methods/bacterialEvolutionMetrics/popCOGent_example_ocean/PdVCoKvRpkj4J7u9.tempcontig /data1/bio_db/refseq/analysis/Manuscript/github_methods/bacterialEvolutionMetrics/popCOGent_example_ocean/rYllvXZJiqzHfQuJ.tempcontig\n",
      "/data1/bio_db/refseq/analysis/Manuscript/github_methods/bacterialEvolutionMetrics/popCOGent_example_ocean/TOBG_SP-304.fna_@_TOBG_NP-68.fna.maf.length_bias.txt\n"
     ]
    },
    {
     "name": "stderr",
     "output_type": "stream",
     "text": [
      "\r",
      "Running PopCOGent:  80%|████████  | 398/495 [47:13<16:58, 10.50s/it]"
     ]
    },
    {
     "name": "stdout",
     "output_type": "stream",
     "text": [
      "export MUGSY_INSTALL=/data8/Human/NIH_4/MethodDevelopment/Mugsy/mugsy_x86-64-v1r2.3 ; /data8/Human/NIH_4/MethodDevelopment/Mugsy/mugsy_x86-64-v1r2.3/mugsy --directory /data1/bio_db/refseq/analysis/Manuscript/github_methods/bacterialEvolutionMetrics/popCOGent_example_ocean --prefix FxZvA7FhcGVIZzGBufgr4F8ALgblgLMJ /data1/bio_db/refseq/analysis/Manuscript/github_methods/bacterialEvolutionMetrics/popCOGent_example_ocean/FxZvA7FhcGVIZzGB.tempcontig /data1/bio_db/refseq/analysis/Manuscript/github_methods/bacterialEvolutionMetrics/popCOGent_example_ocean/ufgr4F8ALgblgLMJ.tempcontig\n",
      "/data1/bio_db/refseq/analysis/Manuscript/github_methods/bacterialEvolutionMetrics/popCOGent_example_ocean/TOBG_SAT-10.fna_@_TOBG_NP-60.fna.maf.length_bias.txt\n"
     ]
    },
    {
     "name": "stderr",
     "output_type": "stream",
     "text": [
      "\r",
      "Running PopCOGent:  81%|████████  | 399/495 [47:23<16:15, 10.16s/it]"
     ]
    },
    {
     "name": "stdout",
     "output_type": "stream",
     "text": [
      "export MUGSY_INSTALL=/data8/Human/NIH_4/MethodDevelopment/Mugsy/mugsy_x86-64-v1r2.3 ; /data8/Human/NIH_4/MethodDevelopment/Mugsy/mugsy_x86-64-v1r2.3/mugsy --directory /data1/bio_db/refseq/analysis/Manuscript/github_methods/bacterialEvolutionMetrics/popCOGent_example_ocean --prefix CLzjk3rGridag9GhZzbTO7M6VpAZ728W /data1/bio_db/refseq/analysis/Manuscript/github_methods/bacterialEvolutionMetrics/popCOGent_example_ocean/CLzjk3rGridag9Gh.tempcontig /data1/bio_db/refseq/analysis/Manuscript/github_methods/bacterialEvolutionMetrics/popCOGent_example_ocean/ZzbTO7M6VpAZ728W.tempcontig\n",
      "/data1/bio_db/refseq/analysis/Manuscript/github_methods/bacterialEvolutionMetrics/popCOGent_example_ocean/TOBG_SP-52.fna_@_TOBG_NP-58.fna.maf.length_bias.txt\n"
     ]
    },
    {
     "name": "stderr",
     "output_type": "stream",
     "text": [
      "\r",
      "Running PopCOGent:  81%|████████  | 400/495 [47:26<13:04,  8.26s/it]"
     ]
    },
    {
     "name": "stdout",
     "output_type": "stream",
     "text": [
      "export MUGSY_INSTALL=/data8/Human/NIH_4/MethodDevelopment/Mugsy/mugsy_x86-64-v1r2.3 ; /data8/Human/NIH_4/MethodDevelopment/Mugsy/mugsy_x86-64-v1r2.3/mugsy --directory /data1/bio_db/refseq/analysis/Manuscript/github_methods/bacterialEvolutionMetrics/popCOGent_example_ocean --prefix 0x0oZaTeHJCFIzupTFH1NdZ0EKjyfhLw /data1/bio_db/refseq/analysis/Manuscript/github_methods/bacterialEvolutionMetrics/popCOGent_example_ocean/0x0oZaTeHJCFIzup.tempcontig /data1/bio_db/refseq/analysis/Manuscript/github_methods/bacterialEvolutionMetrics/popCOGent_example_ocean/TFH1NdZ0EKjyfhLw.tempcontig\n",
      "/data1/bio_db/refseq/analysis/Manuscript/github_methods/bacterialEvolutionMetrics/popCOGent_example_ocean/TOBG_SP-159.fna_@_TOBG_NP-7.fna.maf.length_bias.txt\n"
     ]
    },
    {
     "name": "stderr",
     "output_type": "stream",
     "text": [
      "\r",
      "Running PopCOGent:  81%|████████  | 401/495 [47:27<09:11,  5.86s/it]"
     ]
    },
    {
     "name": "stdout",
     "output_type": "stream",
     "text": [
      "export MUGSY_INSTALL=/data8/Human/NIH_4/MethodDevelopment/Mugsy/mugsy_x86-64-v1r2.3 ; /data8/Human/NIH_4/MethodDevelopment/Mugsy/mugsy_x86-64-v1r2.3/mugsy --directory /data1/bio_db/refseq/analysis/Manuscript/github_methods/bacterialEvolutionMetrics/popCOGent_example_ocean --prefix gqGrqS8ZXdl3h76YEYa1oCwlw6H3yN5N /data1/bio_db/refseq/analysis/Manuscript/github_methods/bacterialEvolutionMetrics/popCOGent_example_ocean/gqGrqS8ZXdl3h76Y.tempcontig /data1/bio_db/refseq/analysis/Manuscript/github_methods/bacterialEvolutionMetrics/popCOGent_example_ocean/EYa1oCwlw6H3yN5N.tempcontig\n",
      "/data1/bio_db/refseq/analysis/Manuscript/github_methods/bacterialEvolutionMetrics/popCOGent_example_ocean/TOBG_SAT-8.fna_@_TOBG_NP-7.fna.maf.length_bias.txt\n"
     ]
    },
    {
     "name": "stderr",
     "output_type": "stream",
     "text": [
      "\r",
      "Running PopCOGent:  81%|████████  | 402/495 [47:28<06:58,  4.50s/it]"
     ]
    },
    {
     "name": "stdout",
     "output_type": "stream",
     "text": [
      "export MUGSY_INSTALL=/data8/Human/NIH_4/MethodDevelopment/Mugsy/mugsy_x86-64-v1r2.3 ; /data8/Human/NIH_4/MethodDevelopment/Mugsy/mugsy_x86-64-v1r2.3/mugsy --directory /data1/bio_db/refseq/analysis/Manuscript/github_methods/bacterialEvolutionMetrics/popCOGent_example_ocean --prefix pj2Qy9PbaG16QzE8m379bfpGmhQRiIxc /data1/bio_db/refseq/analysis/Manuscript/github_methods/bacterialEvolutionMetrics/popCOGent_example_ocean/pj2Qy9PbaG16QzE8.tempcontig /data1/bio_db/refseq/analysis/Manuscript/github_methods/bacterialEvolutionMetrics/popCOGent_example_ocean/m379bfpGmhQRiIxc.tempcontig\n",
      "/data1/bio_db/refseq/analysis/Manuscript/github_methods/bacterialEvolutionMetrics/popCOGent_example_ocean/TOBG_SAT-134.fna_@_TOBG_NP-8.fna.maf.length_bias.txt\n"
     ]
    },
    {
     "name": "stderr",
     "output_type": "stream",
     "text": [
      "\r",
      "Running PopCOGent:  81%|████████▏ | 403/495 [47:32<06:53,  4.50s/it]"
     ]
    },
    {
     "name": "stdout",
     "output_type": "stream",
     "text": [
      "export MUGSY_INSTALL=/data8/Human/NIH_4/MethodDevelopment/Mugsy/mugsy_x86-64-v1r2.3 ; /data8/Human/NIH_4/MethodDevelopment/Mugsy/mugsy_x86-64-v1r2.3/mugsy --directory /data1/bio_db/refseq/analysis/Manuscript/github_methods/bacterialEvolutionMetrics/popCOGent_example_ocean --prefix q794J9w0eG1tzoiM7F7YMOQJ9bIL9yw4 /data1/bio_db/refseq/analysis/Manuscript/github_methods/bacterialEvolutionMetrics/popCOGent_example_ocean/q794J9w0eG1tzoiM.tempcontig /data1/bio_db/refseq/analysis/Manuscript/github_methods/bacterialEvolutionMetrics/popCOGent_example_ocean/7F7YMOQJ9bIL9yw4.tempcontig\n",
      "/data1/bio_db/refseq/analysis/Manuscript/github_methods/bacterialEvolutionMetrics/popCOGent_example_ocean/TOBG_SP-57.fna_@_TOBG_NP-7.fna.maf.length_bias.txt\n"
     ]
    },
    {
     "name": "stderr",
     "output_type": "stream",
     "text": [
      "\r",
      "Running PopCOGent:  82%|████████▏ | 404/495 [47:45<10:30,  6.92s/it]"
     ]
    },
    {
     "name": "stdout",
     "output_type": "stream",
     "text": [
      "export MUGSY_INSTALL=/data8/Human/NIH_4/MethodDevelopment/Mugsy/mugsy_x86-64-v1r2.3 ; /data8/Human/NIH_4/MethodDevelopment/Mugsy/mugsy_x86-64-v1r2.3/mugsy --directory /data1/bio_db/refseq/analysis/Manuscript/github_methods/bacterialEvolutionMetrics/popCOGent_example_ocean --prefix JhzTBhVFTgj3NMKK4DUuOr0h2G8Jz9t3 /data1/bio_db/refseq/analysis/Manuscript/github_methods/bacterialEvolutionMetrics/popCOGent_example_ocean/JhzTBhVFTgj3NMKK.tempcontig /data1/bio_db/refseq/analysis/Manuscript/github_methods/bacterialEvolutionMetrics/popCOGent_example_ocean/4DUuOr0h2G8Jz9t3.tempcontig\n",
      "/data1/bio_db/refseq/analysis/Manuscript/github_methods/bacterialEvolutionMetrics/popCOGent_example_ocean/TOBG_SP-350.fna_@_TOBG_NP-8.fna.maf.length_bias.txt\n"
     ]
    },
    {
     "name": "stderr",
     "output_type": "stream",
     "text": [
      "\r",
      "Running PopCOGent:  82%|████████▏ | 405/495 [47:58<13:10,  8.79s/it]"
     ]
    },
    {
     "name": "stdout",
     "output_type": "stream",
     "text": [
      "export MUGSY_INSTALL=/data8/Human/NIH_4/MethodDevelopment/Mugsy/mugsy_x86-64-v1r2.3 ; /data8/Human/NIH_4/MethodDevelopment/Mugsy/mugsy_x86-64-v1r2.3/mugsy --directory /data1/bio_db/refseq/analysis/Manuscript/github_methods/bacterialEvolutionMetrics/popCOGent_example_ocean --prefix NBUMcMOvv4ZNrAlxzh7o7nHkvNEuXc8i /data1/bio_db/refseq/analysis/Manuscript/github_methods/bacterialEvolutionMetrics/popCOGent_example_ocean/NBUMcMOvv4ZNrAlx.tempcontig /data1/bio_db/refseq/analysis/Manuscript/github_methods/bacterialEvolutionMetrics/popCOGent_example_ocean/zh7o7nHkvNEuXc8i.tempcontig\n",
      "/data1/bio_db/refseq/analysis/Manuscript/github_methods/bacterialEvolutionMetrics/popCOGent_example_ocean/TOBG_SP-93.fna_@_TOBG_NP-8.fna.maf.length_bias.txt\n"
     ]
    },
    {
     "name": "stderr",
     "output_type": "stream",
     "text": [
      "\r",
      "Running PopCOGent:  82%|████████▏ | 406/495 [48:14<16:02, 10.82s/it]"
     ]
    },
    {
     "name": "stdout",
     "output_type": "stream",
     "text": [
      "export MUGSY_INSTALL=/data8/Human/NIH_4/MethodDevelopment/Mugsy/mugsy_x86-64-v1r2.3 ; /data8/Human/NIH_4/MethodDevelopment/Mugsy/mugsy_x86-64-v1r2.3/mugsy --directory /data1/bio_db/refseq/analysis/Manuscript/github_methods/bacterialEvolutionMetrics/popCOGent_example_ocean --prefix StjoDGMHTMaM34AEciLWwxx6QfQSSn7Z /data1/bio_db/refseq/analysis/Manuscript/github_methods/bacterialEvolutionMetrics/popCOGent_example_ocean/StjoDGMHTMaM34AE.tempcontig /data1/bio_db/refseq/analysis/Manuscript/github_methods/bacterialEvolutionMetrics/popCOGent_example_ocean/ciLWwxx6QfQSSn7Z.tempcontig\n",
      "/data1/bio_db/refseq/analysis/Manuscript/github_methods/bacterialEvolutionMetrics/popCOGent_example_ocean/TOBG_NP-94.fna_@_TOBG_NP-90.fna.maf.length_bias.txt\n"
     ]
    },
    {
     "name": "stderr",
     "output_type": "stream",
     "text": [
      "\r",
      "Running PopCOGent:  82%|████████▏ | 407/495 [48:15<11:49,  8.06s/it]"
     ]
    },
    {
     "name": "stdout",
     "output_type": "stream",
     "text": [
      "export MUGSY_INSTALL=/data8/Human/NIH_4/MethodDevelopment/Mugsy/mugsy_x86-64-v1r2.3 ; /data8/Human/NIH_4/MethodDevelopment/Mugsy/mugsy_x86-64-v1r2.3/mugsy --directory /data1/bio_db/refseq/analysis/Manuscript/github_methods/bacterialEvolutionMetrics/popCOGent_example_ocean --prefix qmet3LF9jlSLg9JQo2RG83QTpWaH4mym /data1/bio_db/refseq/analysis/Manuscript/github_methods/bacterialEvolutionMetrics/popCOGent_example_ocean/qmet3LF9jlSLg9JQ.tempcontig /data1/bio_db/refseq/analysis/Manuscript/github_methods/bacterialEvolutionMetrics/popCOGent_example_ocean/o2RG83QTpWaH4mym.tempcontig\n",
      "/data1/bio_db/refseq/analysis/Manuscript/github_methods/bacterialEvolutionMetrics/popCOGent_example_ocean/TOBG_SAT-93.fna_@_TOBG_NP-90.fna.maf.length_bias.txt\n"
     ]
    },
    {
     "name": "stderr",
     "output_type": "stream",
     "text": [
      "\r",
      "Running PopCOGent:  82%|████████▏ | 408/495 [48:21<10:49,  7.46s/it]"
     ]
    },
    {
     "name": "stdout",
     "output_type": "stream",
     "text": [
      "export MUGSY_INSTALL=/data8/Human/NIH_4/MethodDevelopment/Mugsy/mugsy_x86-64-v1r2.3 ; /data8/Human/NIH_4/MethodDevelopment/Mugsy/mugsy_x86-64-v1r2.3/mugsy --directory /data1/bio_db/refseq/analysis/Manuscript/github_methods/bacterialEvolutionMetrics/popCOGent_example_ocean --prefix 1sWqyclzOdRSEQp8yxryjijIhWYuxIQ5 /data1/bio_db/refseq/analysis/Manuscript/github_methods/bacterialEvolutionMetrics/popCOGent_example_ocean/1sWqyclzOdRSEQp8.tempcontig /data1/bio_db/refseq/analysis/Manuscript/github_methods/bacterialEvolutionMetrics/popCOGent_example_ocean/yxryjijIhWYuxIQ5.tempcontig\n",
      "/data1/bio_db/refseq/analysis/Manuscript/github_methods/bacterialEvolutionMetrics/popCOGent_example_ocean/TOBG_SAT-31.fna_@_TOBG_NP-9.fna.maf.length_bias.txt\n"
     ]
    },
    {
     "name": "stderr",
     "output_type": "stream",
     "text": [
      "\r",
      "Running PopCOGent:  83%|████████▎ | 409/495 [48:28<10:11,  7.11s/it]"
     ]
    },
    {
     "name": "stdout",
     "output_type": "stream",
     "text": [
      "export MUGSY_INSTALL=/data8/Human/NIH_4/MethodDevelopment/Mugsy/mugsy_x86-64-v1r2.3 ; /data8/Human/NIH_4/MethodDevelopment/Mugsy/mugsy_x86-64-v1r2.3/mugsy --directory /data1/bio_db/refseq/analysis/Manuscript/github_methods/bacterialEvolutionMetrics/popCOGent_example_ocean --prefix nVPoRMNw9vmIEy9Cz3LNyFnjBQKEKSFk /data1/bio_db/refseq/analysis/Manuscript/github_methods/bacterialEvolutionMetrics/popCOGent_example_ocean/nVPoRMNw9vmIEy9C.tempcontig /data1/bio_db/refseq/analysis/Manuscript/github_methods/bacterialEvolutionMetrics/popCOGent_example_ocean/z3LNyFnjBQKEKSFk.tempcontig\n",
      "/data1/bio_db/refseq/analysis/Manuscript/github_methods/bacterialEvolutionMetrics/popCOGent_example_ocean/TOBG_SP-60.fna_@_TOBG_NP-90.fna.maf.length_bias.txt\n"
     ]
    },
    {
     "name": "stderr",
     "output_type": "stream",
     "text": [
      "\r",
      "Running PopCOGent:  83%|████████▎ | 410/495 [48:47<15:14, 10.76s/it]"
     ]
    },
    {
     "name": "stdout",
     "output_type": "stream",
     "text": [
      "export MUGSY_INSTALL=/data8/Human/NIH_4/MethodDevelopment/Mugsy/mugsy_x86-64-v1r2.3 ; /data8/Human/NIH_4/MethodDevelopment/Mugsy/mugsy_x86-64-v1r2.3/mugsy --directory /data1/bio_db/refseq/analysis/Manuscript/github_methods/bacterialEvolutionMetrics/popCOGent_example_ocean --prefix QrA6bcgzkbS6Ujj2ufdnrC9VexonDgN5 /data1/bio_db/refseq/analysis/Manuscript/github_methods/bacterialEvolutionMetrics/popCOGent_example_ocean/QrA6bcgzkbS6Ujj2.tempcontig /data1/bio_db/refseq/analysis/Manuscript/github_methods/bacterialEvolutionMetrics/popCOGent_example_ocean/ufdnrC9VexonDgN5.tempcontig\n",
      "/data1/bio_db/refseq/analysis/Manuscript/github_methods/bacterialEvolutionMetrics/popCOGent_example_ocean/TOBG_SP-180.fna_@_TOBG_NP-9.fna.maf.length_bias.txt\n"
     ]
    },
    {
     "name": "stderr",
     "output_type": "stream",
     "text": [
      "\r",
      "Running PopCOGent:  83%|████████▎ | 411/495 [48:57<14:37, 10.45s/it]"
     ]
    },
    {
     "name": "stdout",
     "output_type": "stream",
     "text": [
      "export MUGSY_INSTALL=/data8/Human/NIH_4/MethodDevelopment/Mugsy/mugsy_x86-64-v1r2.3 ; /data8/Human/NIH_4/MethodDevelopment/Mugsy/mugsy_x86-64-v1r2.3/mugsy --directory /data1/bio_db/refseq/analysis/Manuscript/github_methods/bacterialEvolutionMetrics/popCOGent_example_ocean --prefix xcppkFClYSgvCWAf3AnYFBUYAQFWQAV0 /data1/bio_db/refseq/analysis/Manuscript/github_methods/bacterialEvolutionMetrics/popCOGent_example_ocean/xcppkFClYSgvCWAf.tempcontig /data1/bio_db/refseq/analysis/Manuscript/github_methods/bacterialEvolutionMetrics/popCOGent_example_ocean/3AnYFBUYAQFWQAV0.tempcontig\n",
      "/data1/bio_db/refseq/analysis/Manuscript/github_methods/bacterialEvolutionMetrics/popCOGent_example_ocean/TOBG_SAT-106.fna_@_TOBG_NP-91.fna.maf.length_bias.txt\n"
     ]
    },
    {
     "name": "stderr",
     "output_type": "stream",
     "text": [
      "\r",
      "Running PopCOGent:  83%|████████▎ | 412/495 [49:08<14:44, 10.65s/it]"
     ]
    },
    {
     "name": "stdout",
     "output_type": "stream",
     "text": [
      "export MUGSY_INSTALL=/data8/Human/NIH_4/MethodDevelopment/Mugsy/mugsy_x86-64-v1r2.3 ; /data8/Human/NIH_4/MethodDevelopment/Mugsy/mugsy_x86-64-v1r2.3/mugsy --directory /data1/bio_db/refseq/analysis/Manuscript/github_methods/bacterialEvolutionMetrics/popCOGent_example_ocean --prefix UWHTJRh6ORoCKYUqWbNTewSe18HATFbu /data1/bio_db/refseq/analysis/Manuscript/github_methods/bacterialEvolutionMetrics/popCOGent_example_ocean/UWHTJRh6ORoCKYUq.tempcontig /data1/bio_db/refseq/analysis/Manuscript/github_methods/bacterialEvolutionMetrics/popCOGent_example_ocean/WbNTewSe18HATFbu.tempcontig\n",
      "/data1/bio_db/refseq/analysis/Manuscript/github_methods/bacterialEvolutionMetrics/popCOGent_example_ocean/TOBG_SP-75.fna_@_TOBG_NP-91.fna.maf.length_bias.txt\n"
     ]
    },
    {
     "name": "stderr",
     "output_type": "stream",
     "text": [
      "\r",
      "Running PopCOGent:  83%|████████▎ | 413/495 [49:08<10:26,  7.64s/it]"
     ]
    },
    {
     "name": "stdout",
     "output_type": "stream",
     "text": [
      "export MUGSY_INSTALL=/data8/Human/NIH_4/MethodDevelopment/Mugsy/mugsy_x86-64-v1r2.3 ; /data8/Human/NIH_4/MethodDevelopment/Mugsy/mugsy_x86-64-v1r2.3/mugsy --directory /data1/bio_db/refseq/analysis/Manuscript/github_methods/bacterialEvolutionMetrics/popCOGent_example_ocean --prefix dhkIIuSXj7FiAgoswz7KE3RpCwoAUE2S /data1/bio_db/refseq/analysis/Manuscript/github_methods/bacterialEvolutionMetrics/popCOGent_example_ocean/dhkIIuSXj7FiAgos.tempcontig /data1/bio_db/refseq/analysis/Manuscript/github_methods/bacterialEvolutionMetrics/popCOGent_example_ocean/wz7KE3RpCwoAUE2S.tempcontig\n",
      "/data1/bio_db/refseq/analysis/Manuscript/github_methods/bacterialEvolutionMetrics/popCOGent_example_ocean/TOBG_SAT-93.fna_@_TOBG_NP-94.fna.maf.length_bias.txt\n"
     ]
    },
    {
     "name": "stderr",
     "output_type": "stream",
     "text": [
      "\r",
      "Running PopCOGent:  84%|████████▎ | 414/495 [49:23<13:04,  9.68s/it]"
     ]
    },
    {
     "name": "stdout",
     "output_type": "stream",
     "text": [
      "export MUGSY_INSTALL=/data8/Human/NIH_4/MethodDevelopment/Mugsy/mugsy_x86-64-v1r2.3 ; /data8/Human/NIH_4/MethodDevelopment/Mugsy/mugsy_x86-64-v1r2.3/mugsy --directory /data1/bio_db/refseq/analysis/Manuscript/github_methods/bacterialEvolutionMetrics/popCOGent_example_ocean --prefix BhoXRZGmghgHB7U5fBmndI8V1RHvwVRq /data1/bio_db/refseq/analysis/Manuscript/github_methods/bacterialEvolutionMetrics/popCOGent_example_ocean/BhoXRZGmghgHB7U5.tempcontig /data1/bio_db/refseq/analysis/Manuscript/github_methods/bacterialEvolutionMetrics/popCOGent_example_ocean/fBmndI8V1RHvwVRq.tempcontig\n",
      "export MUGSY_INSTALL=/data8/Human/NIH_4/MethodDevelopment/Mugsy/mugsy_x86-64-v1r2.3 ; /data8/Human/NIH_4/MethodDevelopment/Mugsy/mugsy_x86-64-v1r2.3/mugsy --directory /data1/bio_db/refseq/analysis/Manuscript/github_methods/bacterialEvolutionMetrics/popCOGent_example_ocean --prefix fddQtu5g5RU7sq20cPY8HSykBUn5eLo5 /data1/bio_db/refseq/analysis/Manuscript/github_methods/bacterialEvolutionMetrics/popCOGent_example_ocean/fddQtu5g5RU7sq20.tempcontig /data1/bio_db/refseq/analysis/Manuscript/github_methods/bacterialEvolutionMetrics/popCOGent_example_ocean/cPY8HSykBUn5eLo5.tempcontig\n",
      "/data1/bio_db/refseq/analysis/Manuscript/github_methods/bacterialEvolutionMetrics/popCOGent_example_ocean/TOBG_SP-2.fna_@_TOBG_NP-92.fna.maf.length_bias.txt\n",
      "/data1/bio_db/refseq/analysis/Manuscript/github_methods/bacterialEvolutionMetrics/popCOGent_example_ocean/TOBG_SAT-6.fna_@_TOBG_NP-92.fna.maf.length_bias.txt\n"
     ]
    },
    {
     "name": "stderr",
     "output_type": "stream",
     "text": [
      "\r",
      "Running PopCOGent:  84%|████████▍ | 416/495 [49:23<08:58,  6.82s/it]"
     ]
    },
    {
     "name": "stdout",
     "output_type": "stream",
     "text": [
      "export MUGSY_INSTALL=/data8/Human/NIH_4/MethodDevelopment/Mugsy/mugsy_x86-64-v1r2.3 ; /data8/Human/NIH_4/MethodDevelopment/Mugsy/mugsy_x86-64-v1r2.3/mugsy --directory /data1/bio_db/refseq/analysis/Manuscript/github_methods/bacterialEvolutionMetrics/popCOGent_example_ocean --prefix YSAU6cEdMTqC3wRowJC4X7pdYhzmPpIM /data1/bio_db/refseq/analysis/Manuscript/github_methods/bacterialEvolutionMetrics/popCOGent_example_ocean/YSAU6cEdMTqC3wRo.tempcontig /data1/bio_db/refseq/analysis/Manuscript/github_methods/bacterialEvolutionMetrics/popCOGent_example_ocean/wJC4X7pdYhzmPpIM.tempcontig\n",
      "/data1/bio_db/refseq/analysis/Manuscript/github_methods/bacterialEvolutionMetrics/popCOGent_example_ocean/TOBG_SP-60.fna_@_TOBG_NP-94.fna.maf.length_bias.txt\n"
     ]
    },
    {
     "name": "stderr",
     "output_type": "stream",
     "text": [
      "\r",
      "Running PopCOGent:  84%|████████▍ | 417/495 [49:36<11:09,  8.59s/it]"
     ]
    },
    {
     "name": "stdout",
     "output_type": "stream",
     "text": [
      "export MUGSY_INSTALL=/data8/Human/NIH_4/MethodDevelopment/Mugsy/mugsy_x86-64-v1r2.3 ; /data8/Human/NIH_4/MethodDevelopment/Mugsy/mugsy_x86-64-v1r2.3/mugsy --directory /data1/bio_db/refseq/analysis/Manuscript/github_methods/bacterialEvolutionMetrics/popCOGent_example_ocean --prefix UK8emmwkjax61NU9Oxc3imiowSqculGc /data1/bio_db/refseq/analysis/Manuscript/github_methods/bacterialEvolutionMetrics/popCOGent_example_ocean/UK8emmwkjax61NU9.tempcontig /data1/bio_db/refseq/analysis/Manuscript/github_methods/bacterialEvolutionMetrics/popCOGent_example_ocean/Oxc3imiowSqculGc.tempcontig\n",
      "/data1/bio_db/refseq/analysis/Manuscript/github_methods/bacterialEvolutionMetrics/popCOGent_example_ocean/TOBG_SP-35.fna_@_TOBG_NP-955.fna.maf.length_bias.txt\n"
     ]
    },
    {
     "name": "stderr",
     "output_type": "stream",
     "text": [
      "\r",
      "Running PopCOGent:  84%|████████▍ | 418/495 [49:41<09:49,  7.66s/it]"
     ]
    },
    {
     "name": "stdout",
     "output_type": "stream",
     "text": [
      "export MUGSY_INSTALL=/data8/Human/NIH_4/MethodDevelopment/Mugsy/mugsy_x86-64-v1r2.3 ; /data8/Human/NIH_4/MethodDevelopment/Mugsy/mugsy_x86-64-v1r2.3/mugsy --directory /data1/bio_db/refseq/analysis/Manuscript/github_methods/bacterialEvolutionMetrics/popCOGent_example_ocean --prefix 93phjIDxif0EOuKAsLlYg8MNMGZOe1RH /data1/bio_db/refseq/analysis/Manuscript/github_methods/bacterialEvolutionMetrics/popCOGent_example_ocean/93phjIDxif0EOuKA.tempcontig /data1/bio_db/refseq/analysis/Manuscript/github_methods/bacterialEvolutionMetrics/popCOGent_example_ocean/sLlYg8MNMGZOe1RH.tempcontig\n",
      "/data1/bio_db/refseq/analysis/Manuscript/github_methods/bacterialEvolutionMetrics/popCOGent_example_ocean/TOBG_SP-188.fna_@_TOBG_RS-346.fna.maf.length_bias.txt\n"
     ]
    },
    {
     "name": "stderr",
     "output_type": "stream",
     "text": [
      "\r",
      "Running PopCOGent:  85%|████████▍ | 419/495 [49:51<10:31,  8.31s/it]"
     ]
    },
    {
     "name": "stdout",
     "output_type": "stream",
     "text": [
      "export MUGSY_INSTALL=/data8/Human/NIH_4/MethodDevelopment/Mugsy/mugsy_x86-64-v1r2.3 ; /data8/Human/NIH_4/MethodDevelopment/Mugsy/mugsy_x86-64-v1r2.3/mugsy --directory /data1/bio_db/refseq/analysis/Manuscript/github_methods/bacterialEvolutionMetrics/popCOGent_example_ocean --prefix 0FKWDdl9kp9OcqloOchX0s89DvMX7mk4 /data1/bio_db/refseq/analysis/Manuscript/github_methods/bacterialEvolutionMetrics/popCOGent_example_ocean/0FKWDdl9kp9Ocqlo.tempcontig /data1/bio_db/refseq/analysis/Manuscript/github_methods/bacterialEvolutionMetrics/popCOGent_example_ocean/OchX0s89DvMX7mk4.tempcontig\n",
      "/data1/bio_db/refseq/analysis/Manuscript/github_methods/bacterialEvolutionMetrics/popCOGent_example_ocean/TOBG_SP-269.fna_@_TOBG_NP-96.fna.maf.length_bias.txt\n"
     ]
    },
    {
     "name": "stderr",
     "output_type": "stream",
     "text": [
      "\r",
      "Running PopCOGent:  85%|████████▍ | 420/495 [49:55<08:49,  7.06s/it]"
     ]
    },
    {
     "name": "stdout",
     "output_type": "stream",
     "text": [
      "export MUGSY_INSTALL=/data8/Human/NIH_4/MethodDevelopment/Mugsy/mugsy_x86-64-v1r2.3 ; /data8/Human/NIH_4/MethodDevelopment/Mugsy/mugsy_x86-64-v1r2.3/mugsy --directory /data1/bio_db/refseq/analysis/Manuscript/github_methods/bacterialEvolutionMetrics/popCOGent_example_ocean --prefix KVklWEMxzHT3g79pVuCdfoZlSryTV3WW /data1/bio_db/refseq/analysis/Manuscript/github_methods/bacterialEvolutionMetrics/popCOGent_example_ocean/KVklWEMxzHT3g79p.tempcontig /data1/bio_db/refseq/analysis/Manuscript/github_methods/bacterialEvolutionMetrics/popCOGent_example_ocean/VuCdfoZlSryTV3WW.tempcontig\n",
      "/data1/bio_db/refseq/analysis/Manuscript/github_methods/bacterialEvolutionMetrics/popCOGent_example_ocean/TOBG_SP-34.fna_@_TOBG_NP-960.fna.maf.length_bias.txt\n"
     ]
    },
    {
     "name": "stderr",
     "output_type": "stream",
     "text": [
      "\r",
      "Running PopCOGent:  85%|████████▌ | 421/495 [49:58<06:58,  5.65s/it]"
     ]
    },
    {
     "name": "stdout",
     "output_type": "stream",
     "text": [
      "export MUGSY_INSTALL=/data8/Human/NIH_4/MethodDevelopment/Mugsy/mugsy_x86-64-v1r2.3 ; /data8/Human/NIH_4/MethodDevelopment/Mugsy/mugsy_x86-64-v1r2.3/mugsy --directory /data1/bio_db/refseq/analysis/Manuscript/github_methods/bacterialEvolutionMetrics/popCOGent_example_ocean --prefix Kdq5pXCKSFhiuA6ij4V3jU16gVclAUwg /data1/bio_db/refseq/analysis/Manuscript/github_methods/bacterialEvolutionMetrics/popCOGent_example_ocean/Kdq5pXCKSFhiuA6i.tempcontig /data1/bio_db/refseq/analysis/Manuscript/github_methods/bacterialEvolutionMetrics/popCOGent_example_ocean/j4V3jU16gVclAUwg.tempcontig\n",
      "/data1/bio_db/refseq/analysis/Manuscript/github_methods/bacterialEvolutionMetrics/popCOGent_example_ocean/TOBG_SAT-193.fna_@_TOBG_RS-350.fna.maf.length_bias.txt\n"
     ]
    },
    {
     "name": "stderr",
     "output_type": "stream",
     "text": [
      "\r",
      "Running PopCOGent:  85%|████████▌ | 422/495 [50:00<05:29,  4.52s/it]"
     ]
    },
    {
     "name": "stdout",
     "output_type": "stream",
     "text": [
      "export MUGSY_INSTALL=/data8/Human/NIH_4/MethodDevelopment/Mugsy/mugsy_x86-64-v1r2.3 ; /data8/Human/NIH_4/MethodDevelopment/Mugsy/mugsy_x86-64-v1r2.3/mugsy --directory /data1/bio_db/refseq/analysis/Manuscript/github_methods/bacterialEvolutionMetrics/popCOGent_example_ocean --prefix QsD72GucQwQ8GQ4nEcwYcKAKQape1Qf9 /data1/bio_db/refseq/analysis/Manuscript/github_methods/bacterialEvolutionMetrics/popCOGent_example_ocean/QsD72GucQwQ8GQ4n.tempcontig /data1/bio_db/refseq/analysis/Manuscript/github_methods/bacterialEvolutionMetrics/popCOGent_example_ocean/EcwYcKAKQape1Qf9.tempcontig\n",
      "/data1/bio_db/refseq/analysis/Manuscript/github_methods/bacterialEvolutionMetrics/popCOGent_example_ocean/TOBG_RS-389.fna_@_TOBG_RS-350.fna.maf.length_bias.txt\n"
     ]
    },
    {
     "name": "stderr",
     "output_type": "stream",
     "text": [
      "\r",
      "Running PopCOGent:  85%|████████▌ | 423/495 [50:02<04:31,  3.78s/it]"
     ]
    },
    {
     "name": "stdout",
     "output_type": "stream",
     "text": [
      "export MUGSY_INSTALL=/data8/Human/NIH_4/MethodDevelopment/Mugsy/mugsy_x86-64-v1r2.3 ; /data8/Human/NIH_4/MethodDevelopment/Mugsy/mugsy_x86-64-v1r2.3/mugsy --directory /data1/bio_db/refseq/analysis/Manuscript/github_methods/bacterialEvolutionMetrics/popCOGent_example_ocean --prefix cuHBVBO5YLBsZ0Gxy92SC8tTbRLnvoDK /data1/bio_db/refseq/analysis/Manuscript/github_methods/bacterialEvolutionMetrics/popCOGent_example_ocean/cuHBVBO5YLBsZ0Gx.tempcontig /data1/bio_db/refseq/analysis/Manuscript/github_methods/bacterialEvolutionMetrics/popCOGent_example_ocean/y92SC8tTbRLnvoDK.tempcontig\n",
      "/data1/bio_db/refseq/analysis/Manuscript/github_methods/bacterialEvolutionMetrics/popCOGent_example_ocean/TOBG_SP-340.fna_@_TOBG_NP-97.fna.maf.length_bias.txt\n"
     ]
    },
    {
     "name": "stderr",
     "output_type": "stream",
     "text": [
      "\r",
      "Running PopCOGent:  86%|████████▌ | 424/495 [50:18<08:57,  7.58s/it]"
     ]
    },
    {
     "name": "stdout",
     "output_type": "stream",
     "text": [
      "export MUGSY_INSTALL=/data8/Human/NIH_4/MethodDevelopment/Mugsy/mugsy_x86-64-v1r2.3 ; /data8/Human/NIH_4/MethodDevelopment/Mugsy/mugsy_x86-64-v1r2.3/mugsy --directory /data1/bio_db/refseq/analysis/Manuscript/github_methods/bacterialEvolutionMetrics/popCOGent_example_ocean --prefix RgIBJyN3UnqwuTMEMywawZ0wJNEkVqvP /data1/bio_db/refseq/analysis/Manuscript/github_methods/bacterialEvolutionMetrics/popCOGent_example_ocean/RgIBJyN3UnqwuTME.tempcontig /data1/bio_db/refseq/analysis/Manuscript/github_methods/bacterialEvolutionMetrics/popCOGent_example_ocean/MywawZ0wJNEkVqvP.tempcontig\n",
      "/data1/bio_db/refseq/analysis/Manuscript/github_methods/bacterialEvolutionMetrics/popCOGent_example_ocean/TOBG_SP-243.fna_@_TOBG_RS-350.fna.maf.length_bias.txt\n"
     ]
    },
    {
     "name": "stderr",
     "output_type": "stream",
     "text": [
      "\r",
      "Running PopCOGent:  86%|████████▌ | 425/495 [50:18<06:17,  5.39s/it]"
     ]
    },
    {
     "name": "stdout",
     "output_type": "stream",
     "text": [
      "export MUGSY_INSTALL=/data8/Human/NIH_4/MethodDevelopment/Mugsy/mugsy_x86-64-v1r2.3 ; /data8/Human/NIH_4/MethodDevelopment/Mugsy/mugsy_x86-64-v1r2.3/mugsy --directory /data1/bio_db/refseq/analysis/Manuscript/github_methods/bacterialEvolutionMetrics/popCOGent_example_ocean --prefix zSnBxjoCAh1eKN7qM18PWFrSZEmEeojl /data1/bio_db/refseq/analysis/Manuscript/github_methods/bacterialEvolutionMetrics/popCOGent_example_ocean/zSnBxjoCAh1eKN7q.tempcontig /data1/bio_db/refseq/analysis/Manuscript/github_methods/bacterialEvolutionMetrics/popCOGent_example_ocean/M18PWFrSZEmEeojl.tempcontig\n",
      "/data1/bio_db/refseq/analysis/Manuscript/github_methods/bacterialEvolutionMetrics/popCOGent_example_ocean/TOBG_SP-349.fna_@_TOBG_RS-357.fna.maf.length_bias.txt\n"
     ]
    },
    {
     "name": "stderr",
     "output_type": "stream",
     "text": [
      "\r",
      "Running PopCOGent:  86%|████████▌ | 426/495 [50:40<11:42, 10.18s/it]"
     ]
    },
    {
     "name": "stdout",
     "output_type": "stream",
     "text": [
      "export MUGSY_INSTALL=/data8/Human/NIH_4/MethodDevelopment/Mugsy/mugsy_x86-64-v1r2.3 ; /data8/Human/NIH_4/MethodDevelopment/Mugsy/mugsy_x86-64-v1r2.3/mugsy --directory /data1/bio_db/refseq/analysis/Manuscript/github_methods/bacterialEvolutionMetrics/popCOGent_example_ocean --prefix bfg5EnprY4jvLPp7eKg56rwANNVmSj3O /data1/bio_db/refseq/analysis/Manuscript/github_methods/bacterialEvolutionMetrics/popCOGent_example_ocean/bfg5EnprY4jvLPp7.tempcontig /data1/bio_db/refseq/analysis/Manuscript/github_methods/bacterialEvolutionMetrics/popCOGent_example_ocean/eKg56rwANNVmSj3O.tempcontig\n",
      "/data1/bio_db/refseq/analysis/Manuscript/github_methods/bacterialEvolutionMetrics/popCOGent_example_ocean/TOBG_SAT-73.fna_@_TOBG_RS-364.fna.maf.length_bias.txt\n"
     ]
    },
    {
     "name": "stderr",
     "output_type": "stream",
     "text": [
      "\r",
      "Running PopCOGent:  86%|████████▋ | 427/495 [50:42<08:41,  7.66s/it]"
     ]
    },
    {
     "name": "stdout",
     "output_type": "stream",
     "text": [
      "export MUGSY_INSTALL=/data8/Human/NIH_4/MethodDevelopment/Mugsy/mugsy_x86-64-v1r2.3 ; /data8/Human/NIH_4/MethodDevelopment/Mugsy/mugsy_x86-64-v1r2.3/mugsy --directory /data1/bio_db/refseq/analysis/Manuscript/github_methods/bacterialEvolutionMetrics/popCOGent_example_ocean --prefix Mh5EC5dWuTyyohH7ObM1hJUjArkCGGyz /data1/bio_db/refseq/analysis/Manuscript/github_methods/bacterialEvolutionMetrics/popCOGent_example_ocean/Mh5EC5dWuTyyohH7.tempcontig /data1/bio_db/refseq/analysis/Manuscript/github_methods/bacterialEvolutionMetrics/popCOGent_example_ocean/ObM1hJUjArkCGGyz.tempcontig\n",
      "/data1/bio_db/refseq/analysis/Manuscript/github_methods/bacterialEvolutionMetrics/popCOGent_example_ocean/TOBG_SP-3984.fna_@_TOBG_RS-388.fna.maf.length_bias.txt\n"
     ]
    },
    {
     "name": "stderr",
     "output_type": "stream",
     "text": [
      "\r",
      "Running PopCOGent:  86%|████████▋ | 428/495 [50:44<06:50,  6.12s/it]"
     ]
    },
    {
     "name": "stdout",
     "output_type": "stream",
     "text": [
      "export MUGSY_INSTALL=/data8/Human/NIH_4/MethodDevelopment/Mugsy/mugsy_x86-64-v1r2.3 ; /data8/Human/NIH_4/MethodDevelopment/Mugsy/mugsy_x86-64-v1r2.3/mugsy --directory /data1/bio_db/refseq/analysis/Manuscript/github_methods/bacterialEvolutionMetrics/popCOGent_example_ocean --prefix XE7MY6qSBK3k1VJX9CopCVEGiLGN6r4z /data1/bio_db/refseq/analysis/Manuscript/github_methods/bacterialEvolutionMetrics/popCOGent_example_ocean/XE7MY6qSBK3k1VJX.tempcontig /data1/bio_db/refseq/analysis/Manuscript/github_methods/bacterialEvolutionMetrics/popCOGent_example_ocean/9CopCVEGiLGN6r4z.tempcontig\n",
      "/data1/bio_db/refseq/analysis/Manuscript/github_methods/bacterialEvolutionMetrics/popCOGent_example_ocean/TOBG_SAT-75.fna_@_TOBG_RS-342.fna.maf.length_bias.txt\n"
     ]
    },
    {
     "name": "stderr",
     "output_type": "stream",
     "text": [
      "\r",
      "Running PopCOGent:  87%|████████▋ | 429/495 [50:56<08:32,  7.76s/it]"
     ]
    },
    {
     "name": "stdout",
     "output_type": "stream",
     "text": [
      "export MUGSY_INSTALL=/data8/Human/NIH_4/MethodDevelopment/Mugsy/mugsy_x86-64-v1r2.3 ; /data8/Human/NIH_4/MethodDevelopment/Mugsy/mugsy_x86-64-v1r2.3/mugsy --directory /data1/bio_db/refseq/analysis/Manuscript/github_methods/bacterialEvolutionMetrics/popCOGent_example_ocean --prefix qtM75tTDadivi4U88IFz9TOE3GfsZP8y /data1/bio_db/refseq/analysis/Manuscript/github_methods/bacterialEvolutionMetrics/popCOGent_example_ocean/qtM75tTDadivi4U8.tempcontig /data1/bio_db/refseq/analysis/Manuscript/github_methods/bacterialEvolutionMetrics/popCOGent_example_ocean/8IFz9TOE3GfsZP8y.tempcontig\n",
      "/data1/bio_db/refseq/analysis/Manuscript/github_methods/bacterialEvolutionMetrics/popCOGent_example_ocean/TOBG_SP-24.fna_@_TOBG_RS-387.fna.maf.length_bias.txt\n"
     ]
    },
    {
     "name": "stderr",
     "output_type": "stream",
     "text": [
      "\r",
      "Running PopCOGent:  87%|████████▋ | 430/495 [50:59<06:49,  6.30s/it]"
     ]
    },
    {
     "name": "stdout",
     "output_type": "stream",
     "text": [
      "export MUGSY_INSTALL=/data8/Human/NIH_4/MethodDevelopment/Mugsy/mugsy_x86-64-v1r2.3 ; /data8/Human/NIH_4/MethodDevelopment/Mugsy/mugsy_x86-64-v1r2.3/mugsy --directory /data1/bio_db/refseq/analysis/Manuscript/github_methods/bacterialEvolutionMetrics/popCOGent_example_ocean --prefix Y4nZOLqXP9fGWjaGnDe2cCD7Ar624Y6b /data1/bio_db/refseq/analysis/Manuscript/github_methods/bacterialEvolutionMetrics/popCOGent_example_ocean/Y4nZOLqXP9fGWjaG.tempcontig /data1/bio_db/refseq/analysis/Manuscript/github_methods/bacterialEvolutionMetrics/popCOGent_example_ocean/nDe2cCD7Ar624Y6b.tempcontig\n",
      "/data1/bio_db/refseq/analysis/Manuscript/github_methods/bacterialEvolutionMetrics/popCOGent_example_ocean/TOBG_SP-243.fna_@_TOBG_RS-389.fna.maf.length_bias.txt\n"
     ]
    },
    {
     "name": "stderr",
     "output_type": "stream",
     "text": [
      "\r",
      "Running PopCOGent:  87%|████████▋ | 431/495 [51:02<05:40,  5.33s/it]"
     ]
    },
    {
     "name": "stdout",
     "output_type": "stream",
     "text": [
      "export MUGSY_INSTALL=/data8/Human/NIH_4/MethodDevelopment/Mugsy/mugsy_x86-64-v1r2.3 ; /data8/Human/NIH_4/MethodDevelopment/Mugsy/mugsy_x86-64-v1r2.3/mugsy --directory /data1/bio_db/refseq/analysis/Manuscript/github_methods/bacterialEvolutionMetrics/popCOGent_example_ocean --prefix 7SGsBIAbQ2elm4aXggRUC1QqcgB9HWo1 /data1/bio_db/refseq/analysis/Manuscript/github_methods/bacterialEvolutionMetrics/popCOGent_example_ocean/7SGsBIAbQ2elm4aX.tempcontig /data1/bio_db/refseq/analysis/Manuscript/github_methods/bacterialEvolutionMetrics/popCOGent_example_ocean/ggRUC1QqcgB9HWo1.tempcontig\n",
      "/data1/bio_db/refseq/analysis/Manuscript/github_methods/bacterialEvolutionMetrics/popCOGent_example_ocean/TOBG_SAT-193.fna_@_TOBG_RS-389.fna.maf.length_bias.txt\n"
     ]
    },
    {
     "name": "stderr",
     "output_type": "stream",
     "text": [
      "\r",
      "Running PopCOGent:  87%|████████▋ | 432/495 [51:17<08:47,  8.38s/it]"
     ]
    },
    {
     "name": "stdout",
     "output_type": "stream",
     "text": [
      "export MUGSY_INSTALL=/data8/Human/NIH_4/MethodDevelopment/Mugsy/mugsy_x86-64-v1r2.3 ; /data8/Human/NIH_4/MethodDevelopment/Mugsy/mugsy_x86-64-v1r2.3/mugsy --directory /data1/bio_db/refseq/analysis/Manuscript/github_methods/bacterialEvolutionMetrics/popCOGent_example_ocean --prefix N9a6tFlwS8b1DjAIYZOIDQuJN4LsGVZ9 /data1/bio_db/refseq/analysis/Manuscript/github_methods/bacterialEvolutionMetrics/popCOGent_example_ocean/N9a6tFlwS8b1DjAI.tempcontig /data1/bio_db/refseq/analysis/Manuscript/github_methods/bacterialEvolutionMetrics/popCOGent_example_ocean/YZOIDQuJN4LsGVZ9.tempcontig\n",
      "/data1/bio_db/refseq/analysis/Manuscript/github_methods/bacterialEvolutionMetrics/popCOGent_example_ocean/TOBG_RS-395.fna_@_TOBG_RS-383.fna.maf.length_bias.txt\n"
     ]
    },
    {
     "name": "stderr",
     "output_type": "stream",
     "text": [
      "\r",
      "Running PopCOGent:  87%|████████▋ | 433/495 [51:23<07:57,  7.70s/it]"
     ]
    },
    {
     "name": "stdout",
     "output_type": "stream",
     "text": [
      "export MUGSY_INSTALL=/data8/Human/NIH_4/MethodDevelopment/Mugsy/mugsy_x86-64-v1r2.3 ; /data8/Human/NIH_4/MethodDevelopment/Mugsy/mugsy_x86-64-v1r2.3/mugsy --directory /data1/bio_db/refseq/analysis/Manuscript/github_methods/bacterialEvolutionMetrics/popCOGent_example_ocean --prefix ZVT0R6s1nQcy0w4iyfRO2iyT6ZwIchAi /data1/bio_db/refseq/analysis/Manuscript/github_methods/bacterialEvolutionMetrics/popCOGent_example_ocean/ZVT0R6s1nQcy0w4i.tempcontig /data1/bio_db/refseq/analysis/Manuscript/github_methods/bacterialEvolutionMetrics/popCOGent_example_ocean/yfRO2iyT6ZwIchAi.tempcontig\n",
      "/data1/bio_db/refseq/analysis/Manuscript/github_methods/bacterialEvolutionMetrics/popCOGent_example_ocean/TOBG_SAT-13.fna_@_TOBG_RS-420.fna.maf.length_bias.txt\n"
     ]
    },
    {
     "name": "stderr",
     "output_type": "stream",
     "text": [
      "\r",
      "Running PopCOGent:  88%|████████▊ | 434/495 [51:24<05:52,  5.78s/it]"
     ]
    },
    {
     "name": "stdout",
     "output_type": "stream",
     "text": [
      "export MUGSY_INSTALL=/data8/Human/NIH_4/MethodDevelopment/Mugsy/mugsy_x86-64-v1r2.3 ; /data8/Human/NIH_4/MethodDevelopment/Mugsy/mugsy_x86-64-v1r2.3/mugsy --directory /data1/bio_db/refseq/analysis/Manuscript/github_methods/bacterialEvolutionMetrics/popCOGent_example_ocean --prefix HmFoTzSONMDU9eaPcYfIObZBF0PyG3SI /data1/bio_db/refseq/analysis/Manuscript/github_methods/bacterialEvolutionMetrics/popCOGent_example_ocean/HmFoTzSONMDU9eaP.tempcontig /data1/bio_db/refseq/analysis/Manuscript/github_methods/bacterialEvolutionMetrics/popCOGent_example_ocean/cYfIObZBF0PyG3SI.tempcontig\n",
      "/data1/bio_db/refseq/analysis/Manuscript/github_methods/bacterialEvolutionMetrics/popCOGent_example_ocean/TOBG_SP-12.fna_@_TOBG_RS-376.fna.maf.length_bias.txt\n"
     ]
    },
    {
     "name": "stderr",
     "output_type": "stream",
     "text": [
      "\r",
      "Running PopCOGent:  88%|████████▊ | 435/495 [51:29<05:15,  5.26s/it]"
     ]
    },
    {
     "name": "stdout",
     "output_type": "stream",
     "text": [
      "export MUGSY_INSTALL=/data8/Human/NIH_4/MethodDevelopment/Mugsy/mugsy_x86-64-v1r2.3 ; /data8/Human/NIH_4/MethodDevelopment/Mugsy/mugsy_x86-64-v1r2.3/mugsy --directory /data1/bio_db/refseq/analysis/Manuscript/github_methods/bacterialEvolutionMetrics/popCOGent_example_ocean --prefix LwpZimdJ4nrN2lwxTcpA0RG6XbkbI1TE /data1/bio_db/refseq/analysis/Manuscript/github_methods/bacterialEvolutionMetrics/popCOGent_example_ocean/LwpZimdJ4nrN2lwx.tempcontig /data1/bio_db/refseq/analysis/Manuscript/github_methods/bacterialEvolutionMetrics/popCOGent_example_ocean/TcpA0RG6XbkbI1TE.tempcontig\n",
      "/data1/bio_db/refseq/analysis/Manuscript/github_methods/bacterialEvolutionMetrics/popCOGent_example_ocean/TOBG_SP-348.fna_@_TOBG_RS-391.fna.maf.length_bias.txt\n"
     ]
    },
    {
     "name": "stderr",
     "output_type": "stream",
     "text": [
      "\r",
      "Running PopCOGent:  88%|████████▊ | 436/495 [51:31<04:12,  4.28s/it]"
     ]
    },
    {
     "name": "stdout",
     "output_type": "stream",
     "text": [
      "export MUGSY_INSTALL=/data8/Human/NIH_4/MethodDevelopment/Mugsy/mugsy_x86-64-v1r2.3 ; /data8/Human/NIH_4/MethodDevelopment/Mugsy/mugsy_x86-64-v1r2.3/mugsy --directory /data1/bio_db/refseq/analysis/Manuscript/github_methods/bacterialEvolutionMetrics/popCOGent_example_ocean --prefix Xn2d2t104YJpmpaxiPUZFPtVPLr2splY /data1/bio_db/refseq/analysis/Manuscript/github_methods/bacterialEvolutionMetrics/popCOGent_example_ocean/Xn2d2t104YJpmpax.tempcontig /data1/bio_db/refseq/analysis/Manuscript/github_methods/bacterialEvolutionMetrics/popCOGent_example_ocean/iPUZFPtVPLr2splY.tempcontig\n",
      "/data1/bio_db/refseq/analysis/Manuscript/github_methods/bacterialEvolutionMetrics/popCOGent_example_ocean/TOBG_SAT-182.fna_@_TOBG_RS-420.fna.maf.length_bias.txt\n"
     ]
    },
    {
     "name": "stderr",
     "output_type": "stream",
     "text": [
      "\r",
      "Running PopCOGent:  88%|████████▊ | 437/495 [51:33<03:44,  3.86s/it]"
     ]
    },
    {
     "name": "stdout",
     "output_type": "stream",
     "text": [
      "export MUGSY_INSTALL=/data8/Human/NIH_4/MethodDevelopment/Mugsy/mugsy_x86-64-v1r2.3 ; /data8/Human/NIH_4/MethodDevelopment/Mugsy/mugsy_x86-64-v1r2.3/mugsy --directory /data1/bio_db/refseq/analysis/Manuscript/github_methods/bacterialEvolutionMetrics/popCOGent_example_ocean --prefix mIBefxRVSGROAWujajz86vtzHVU3xjPt /data1/bio_db/refseq/analysis/Manuscript/github_methods/bacterialEvolutionMetrics/popCOGent_example_ocean/mIBefxRVSGROAWuj.tempcontig /data1/bio_db/refseq/analysis/Manuscript/github_methods/bacterialEvolutionMetrics/popCOGent_example_ocean/ajz86vtzHVU3xjPt.tempcontig\n",
      "/data1/bio_db/refseq/analysis/Manuscript/github_methods/bacterialEvolutionMetrics/popCOGent_example_ocean/TOBG_SP-246.fna_@_TOBG_RS-397.fna.maf.length_bias.txt\n"
     ]
    },
    {
     "name": "stderr",
     "output_type": "stream",
     "text": [
      "\r",
      "Running PopCOGent:  88%|████████▊ | 438/495 [51:35<02:56,  3.10s/it]"
     ]
    },
    {
     "name": "stdout",
     "output_type": "stream",
     "text": [
      "export MUGSY_INSTALL=/data8/Human/NIH_4/MethodDevelopment/Mugsy/mugsy_x86-64-v1r2.3 ; /data8/Human/NIH_4/MethodDevelopment/Mugsy/mugsy_x86-64-v1r2.3/mugsy --directory /data1/bio_db/refseq/analysis/Manuscript/github_methods/bacterialEvolutionMetrics/popCOGent_example_ocean --prefix TSAT5RtTl6ev28T5E0bNd5yjgtAHBHil /data1/bio_db/refseq/analysis/Manuscript/github_methods/bacterialEvolutionMetrics/popCOGent_example_ocean/TSAT5RtTl6ev28T5.tempcontig /data1/bio_db/refseq/analysis/Manuscript/github_methods/bacterialEvolutionMetrics/popCOGent_example_ocean/E0bNd5yjgtAHBHil.tempcontig\n",
      "/data1/bio_db/refseq/analysis/Manuscript/github_methods/bacterialEvolutionMetrics/popCOGent_example_ocean/TOBG_SAT-220.fna_@_TOBG_RS-453.fna.maf.length_bias.txt\n"
     ]
    },
    {
     "name": "stderr",
     "output_type": "stream",
     "text": [
      "\r",
      "Running PopCOGent:  89%|████████▊ | 439/495 [51:41<03:44,  4.02s/it]"
     ]
    },
    {
     "name": "stdout",
     "output_type": "stream",
     "text": [
      "export MUGSY_INSTALL=/data8/Human/NIH_4/MethodDevelopment/Mugsy/mugsy_x86-64-v1r2.3 ; /data8/Human/NIH_4/MethodDevelopment/Mugsy/mugsy_x86-64-v1r2.3/mugsy --directory /data1/bio_db/refseq/analysis/Manuscript/github_methods/bacterialEvolutionMetrics/popCOGent_example_ocean --prefix 91PFZhwuQZblqTJr3nnuu1qQQXm5IwbD /data1/bio_db/refseq/analysis/Manuscript/github_methods/bacterialEvolutionMetrics/popCOGent_example_ocean/91PFZhwuQZblqTJr.tempcontig /data1/bio_db/refseq/analysis/Manuscript/github_methods/bacterialEvolutionMetrics/popCOGent_example_ocean/3nnuu1qQQXm5IwbD.tempcontig\n",
      "/data1/bio_db/refseq/analysis/Manuscript/github_methods/bacterialEvolutionMetrics/popCOGent_example_ocean/TOBG_SP-190.fna_@_TOBG_RS-439.fna.maf.length_bias.txt\n"
     ]
    },
    {
     "name": "stderr",
     "output_type": "stream",
     "text": [
      "\r",
      "Running PopCOGent:  89%|████████▉ | 440/495 [51:45<03:36,  3.94s/it]"
     ]
    },
    {
     "name": "stdout",
     "output_type": "stream",
     "text": [
      "export MUGSY_INSTALL=/data8/Human/NIH_4/MethodDevelopment/Mugsy/mugsy_x86-64-v1r2.3 ; /data8/Human/NIH_4/MethodDevelopment/Mugsy/mugsy_x86-64-v1r2.3/mugsy --directory /data1/bio_db/refseq/analysis/Manuscript/github_methods/bacterialEvolutionMetrics/popCOGent_example_ocean --prefix o4m8hfdfNLIm1dMuYAbORGsLqI6GeYrR /data1/bio_db/refseq/analysis/Manuscript/github_methods/bacterialEvolutionMetrics/popCOGent_example_ocean/o4m8hfdfNLIm1dMu.tempcontig /data1/bio_db/refseq/analysis/Manuscript/github_methods/bacterialEvolutionMetrics/popCOGent_example_ocean/YAbORGsLqI6GeYrR.tempcontig\n",
      "/data1/bio_db/refseq/analysis/Manuscript/github_methods/bacterialEvolutionMetrics/popCOGent_example_ocean/TOBG_SP-69.fna_@_TOBG_RS-453.fna.maf.length_bias.txt\n"
     ]
    },
    {
     "name": "stderr",
     "output_type": "stream",
     "text": [
      "\r",
      "Running PopCOGent:  89%|████████▉ | 441/495 [51:48<03:17,  3.66s/it]"
     ]
    },
    {
     "name": "stdout",
     "output_type": "stream",
     "text": [
      "export MUGSY_INSTALL=/data8/Human/NIH_4/MethodDevelopment/Mugsy/mugsy_x86-64-v1r2.3 ; /data8/Human/NIH_4/MethodDevelopment/Mugsy/mugsy_x86-64-v1r2.3/mugsy --directory /data1/bio_db/refseq/analysis/Manuscript/github_methods/bacterialEvolutionMetrics/popCOGent_example_ocean --prefix 0h7AcY0peIZwvYHmznsSF529wnssMktC /data1/bio_db/refseq/analysis/Manuscript/github_methods/bacterialEvolutionMetrics/popCOGent_example_ocean/0h7AcY0peIZwvYHm.tempcontig /data1/bio_db/refseq/analysis/Manuscript/github_methods/bacterialEvolutionMetrics/popCOGent_example_ocean/znsSF529wnssMktC.tempcontig\n",
      "/data1/bio_db/refseq/analysis/Manuscript/github_methods/bacterialEvolutionMetrics/popCOGent_example_ocean/TOBG_SAT-206.fna_@_TOBG_RS-420.fna.maf.length_bias.txt\n"
     ]
    },
    {
     "name": "stderr",
     "output_type": "stream",
     "text": [
      "\r",
      "Running PopCOGent:  89%|████████▉ | 442/495 [51:48<02:26,  2.76s/it]"
     ]
    },
    {
     "name": "stdout",
     "output_type": "stream",
     "text": [
      "export MUGSY_INSTALL=/data8/Human/NIH_4/MethodDevelopment/Mugsy/mugsy_x86-64-v1r2.3 ; /data8/Human/NIH_4/MethodDevelopment/Mugsy/mugsy_x86-64-v1r2.3/mugsy --directory /data1/bio_db/refseq/analysis/Manuscript/github_methods/bacterialEvolutionMetrics/popCOGent_example_ocean --prefix RPHySKApb9W1vhHrdMnxz6WUjWVqzp4v /data1/bio_db/refseq/analysis/Manuscript/github_methods/bacterialEvolutionMetrics/popCOGent_example_ocean/RPHySKApb9W1vhHr.tempcontig /data1/bio_db/refseq/analysis/Manuscript/github_methods/bacterialEvolutionMetrics/popCOGent_example_ocean/dMnxz6WUjWVqzp4v.tempcontig\n",
      "/data1/bio_db/refseq/analysis/Manuscript/github_methods/bacterialEvolutionMetrics/popCOGent_example_ocean/TOBG_SP-4356.fna_@_TOBG_RS-535.fna.maf.length_bias.txt\n"
     ]
    },
    {
     "name": "stderr",
     "output_type": "stream",
     "text": [
      "\r",
      "Running PopCOGent:  89%|████████▉ | 443/495 [51:53<02:49,  3.25s/it]"
     ]
    },
    {
     "name": "stdout",
     "output_type": "stream",
     "text": [
      "export MUGSY_INSTALL=/data8/Human/NIH_4/MethodDevelopment/Mugsy/mugsy_x86-64-v1r2.3 ; /data8/Human/NIH_4/MethodDevelopment/Mugsy/mugsy_x86-64-v1r2.3/mugsy --directory /data1/bio_db/refseq/analysis/Manuscript/github_methods/bacterialEvolutionMetrics/popCOGent_example_ocean --prefix MNMjYHhcbN5GfXe2gcvyr8HP1FVjqYYW /data1/bio_db/refseq/analysis/Manuscript/github_methods/bacterialEvolutionMetrics/popCOGent_example_ocean/MNMjYHhcbN5GfXe2.tempcontig /data1/bio_db/refseq/analysis/Manuscript/github_methods/bacterialEvolutionMetrics/popCOGent_example_ocean/gcvyr8HP1FVjqYYW.tempcontig\n",
      "/data1/bio_db/refseq/analysis/Manuscript/github_methods/bacterialEvolutionMetrics/popCOGent_example_ocean/TOBG_SP-4379.fna_@_TOBG_RS-815.fna.maf.length_bias.txt\n"
     ]
    },
    {
     "name": "stderr",
     "output_type": "stream",
     "text": [
      "\r",
      "Running PopCOGent:  90%|████████▉ | 444/495 [52:08<05:42,  6.72s/it]"
     ]
    },
    {
     "name": "stdout",
     "output_type": "stream",
     "text": [
      "export MUGSY_INSTALL=/data8/Human/NIH_4/MethodDevelopment/Mugsy/mugsy_x86-64-v1r2.3 ; /data8/Human/NIH_4/MethodDevelopment/Mugsy/mugsy_x86-64-v1r2.3/mugsy --directory /data1/bio_db/refseq/analysis/Manuscript/github_methods/bacterialEvolutionMetrics/popCOGent_example_ocean --prefix G5ytreJZzDHb5DiBP3kcbDFeUIkuRGmq /data1/bio_db/refseq/analysis/Manuscript/github_methods/bacterialEvolutionMetrics/popCOGent_example_ocean/G5ytreJZzDHb5DiB.tempcontig /data1/bio_db/refseq/analysis/Manuscript/github_methods/bacterialEvolutionMetrics/popCOGent_example_ocean/P3kcbDFeUIkuRGmq.tempcontig\n",
      "/data1/bio_db/refseq/analysis/Manuscript/github_methods/bacterialEvolutionMetrics/popCOGent_example_ocean/TOBG_SAT-2619.fna_@_TOBG_RS-816.fna.maf.length_bias.txt\n"
     ]
    },
    {
     "name": "stderr",
     "output_type": "stream",
     "text": [
      "\r",
      "Running PopCOGent:  90%|████████▉ | 445/495 [52:08<04:00,  4.82s/it]"
     ]
    },
    {
     "name": "stdout",
     "output_type": "stream",
     "text": [
      "export MUGSY_INSTALL=/data8/Human/NIH_4/MethodDevelopment/Mugsy/mugsy_x86-64-v1r2.3 ; /data8/Human/NIH_4/MethodDevelopment/Mugsy/mugsy_x86-64-v1r2.3/mugsy --directory /data1/bio_db/refseq/analysis/Manuscript/github_methods/bacterialEvolutionMetrics/popCOGent_example_ocean --prefix CbI4lXCGxnHjVTsKVu5D1NJY5hNvO7hL /data1/bio_db/refseq/analysis/Manuscript/github_methods/bacterialEvolutionMetrics/popCOGent_example_ocean/CbI4lXCGxnHjVTsK.tempcontig /data1/bio_db/refseq/analysis/Manuscript/github_methods/bacterialEvolutionMetrics/popCOGent_example_ocean/Vu5D1NJY5hNvO7hL.tempcontig\n",
      "/data1/bio_db/refseq/analysis/Manuscript/github_methods/bacterialEvolutionMetrics/popCOGent_example_ocean/TOBG_SAT-228.fna_@_TOBG_RS-535.fna.maf.length_bias.txt\n"
     ]
    },
    {
     "name": "stderr",
     "output_type": "stream",
     "text": [
      "\r",
      "Running PopCOGent:  90%|█████████ | 446/495 [52:11<03:26,  4.22s/it]"
     ]
    },
    {
     "name": "stdout",
     "output_type": "stream",
     "text": [
      "export MUGSY_INSTALL=/data8/Human/NIH_4/MethodDevelopment/Mugsy/mugsy_x86-64-v1r2.3 ; /data8/Human/NIH_4/MethodDevelopment/Mugsy/mugsy_x86-64-v1r2.3/mugsy --directory /data1/bio_db/refseq/analysis/Manuscript/github_methods/bacterialEvolutionMetrics/popCOGent_example_ocean --prefix VXgglTVFTFwM97mri7ttdj5Db5IRcRpZ /data1/bio_db/refseq/analysis/Manuscript/github_methods/bacterialEvolutionMetrics/popCOGent_example_ocean/VXgglTVFTFwM97mr.tempcontig /data1/bio_db/refseq/analysis/Manuscript/github_methods/bacterialEvolutionMetrics/popCOGent_example_ocean/i7ttdj5Db5IRcRpZ.tempcontig\n",
      "/data1/bio_db/refseq/analysis/Manuscript/github_methods/bacterialEvolutionMetrics/popCOGent_example_ocean/TOBG_SP-262.fna_@_TOBG_RS-820.fna.maf.length_bias.txt\n"
     ]
    },
    {
     "name": "stderr",
     "output_type": "stream",
     "text": [
      "\r",
      "Running PopCOGent:  90%|█████████ | 447/495 [52:12<02:43,  3.40s/it]"
     ]
    },
    {
     "name": "stdout",
     "output_type": "stream",
     "text": [
      "export MUGSY_INSTALL=/data8/Human/NIH_4/MethodDevelopment/Mugsy/mugsy_x86-64-v1r2.3 ; /data8/Human/NIH_4/MethodDevelopment/Mugsy/mugsy_x86-64-v1r2.3/mugsy --directory /data1/bio_db/refseq/analysis/Manuscript/github_methods/bacterialEvolutionMetrics/popCOGent_example_ocean --prefix PZ84gYixs7YO9c2mBUjqh4iEs1KyOAzF /data1/bio_db/refseq/analysis/Manuscript/github_methods/bacterialEvolutionMetrics/popCOGent_example_ocean/PZ84gYixs7YO9c2m.tempcontig /data1/bio_db/refseq/analysis/Manuscript/github_methods/bacterialEvolutionMetrics/popCOGent_example_ocean/BUjqh4iEs1KyOAzF.tempcontig\n",
      "/data1/bio_db/refseq/analysis/Manuscript/github_methods/bacterialEvolutionMetrics/popCOGent_example_ocean/TOBG_SP-3044.fna_@_TOBG_RS-819.fna.maf.length_bias.txt\n"
     ]
    },
    {
     "name": "stderr",
     "output_type": "stream",
     "text": [
      "\r",
      "Running PopCOGent:  91%|█████████ | 448/495 [52:25<04:48,  6.13s/it]"
     ]
    },
    {
     "name": "stdout",
     "output_type": "stream",
     "text": [
      "export MUGSY_INSTALL=/data8/Human/NIH_4/MethodDevelopment/Mugsy/mugsy_x86-64-v1r2.3 ; /data8/Human/NIH_4/MethodDevelopment/Mugsy/mugsy_x86-64-v1r2.3/mugsy --directory /data1/bio_db/refseq/analysis/Manuscript/github_methods/bacterialEvolutionMetrics/popCOGent_example_ocean --prefix Tbl8faUiQ18NfVQpJVgCgVmyVeFwNNuK /data1/bio_db/refseq/analysis/Manuscript/github_methods/bacterialEvolutionMetrics/popCOGent_example_ocean/Tbl8faUiQ18NfVQp.tempcontig /data1/bio_db/refseq/analysis/Manuscript/github_methods/bacterialEvolutionMetrics/popCOGent_example_ocean/JVgCgVmyVeFwNNuK.tempcontig\n",
      "/data1/bio_db/refseq/analysis/Manuscript/github_methods/bacterialEvolutionMetrics/popCOGent_example_ocean/TOBG_SAT-175.fna_@_TOBG_SAT-103.fna.maf.length_bias.txt\n"
     ]
    },
    {
     "name": "stderr",
     "output_type": "stream",
     "text": [
      "\r",
      "Running PopCOGent:  91%|█████████ | 449/495 [52:28<03:59,  5.21s/it]"
     ]
    },
    {
     "name": "stdout",
     "output_type": "stream",
     "text": [
      "export MUGSY_INSTALL=/data8/Human/NIH_4/MethodDevelopment/Mugsy/mugsy_x86-64-v1r2.3 ; /data8/Human/NIH_4/MethodDevelopment/Mugsy/mugsy_x86-64-v1r2.3/mugsy --directory /data1/bio_db/refseq/analysis/Manuscript/github_methods/bacterialEvolutionMetrics/popCOGent_example_ocean --prefix vtkBYsaqefOjzLuOI3wIGeYplKQE27sq /data1/bio_db/refseq/analysis/Manuscript/github_methods/bacterialEvolutionMetrics/popCOGent_example_ocean/vtkBYsaqefOjzLuO.tempcontig /data1/bio_db/refseq/analysis/Manuscript/github_methods/bacterialEvolutionMetrics/popCOGent_example_ocean/I3wIGeYplKQE27sq.tempcontig\n",
      "/data1/bio_db/refseq/analysis/Manuscript/github_methods/bacterialEvolutionMetrics/popCOGent_example_ocean/TOBG_SP-305.fna_@_TOBG_SAT-105.fna.maf.length_bias.txt\n"
     ]
    },
    {
     "name": "stderr",
     "output_type": "stream",
     "text": [
      "\r",
      "Running PopCOGent:  91%|█████████ | 450/495 [52:51<08:02, 10.73s/it]"
     ]
    },
    {
     "name": "stdout",
     "output_type": "stream",
     "text": [
      "export MUGSY_INSTALL=/data8/Human/NIH_4/MethodDevelopment/Mugsy/mugsy_x86-64-v1r2.3 ; /data8/Human/NIH_4/MethodDevelopment/Mugsy/mugsy_x86-64-v1r2.3/mugsy --directory /data1/bio_db/refseq/analysis/Manuscript/github_methods/bacterialEvolutionMetrics/popCOGent_example_ocean --prefix l2z31YoufCdkqvo7uHU5mHF4i3CQJIML /data1/bio_db/refseq/analysis/Manuscript/github_methods/bacterialEvolutionMetrics/popCOGent_example_ocean/l2z31YoufCdkqvo7.tempcontig /data1/bio_db/refseq/analysis/Manuscript/github_methods/bacterialEvolutionMetrics/popCOGent_example_ocean/uHU5mHF4i3CQJIML.tempcontig\n",
      "/data1/bio_db/refseq/analysis/Manuscript/github_methods/bacterialEvolutionMetrics/popCOGent_example_ocean/TOBG_SP-203.fna_@_TOBG_RS-456.fna.maf.length_bias.txt\n"
     ]
    },
    {
     "name": "stderr",
     "output_type": "stream",
     "text": [
      "\r",
      "Running PopCOGent:  91%|█████████ | 451/495 [52:56<06:25,  8.75s/it]"
     ]
    },
    {
     "name": "stdout",
     "output_type": "stream",
     "text": [
      "export MUGSY_INSTALL=/data8/Human/NIH_4/MethodDevelopment/Mugsy/mugsy_x86-64-v1r2.3 ; /data8/Human/NIH_4/MethodDevelopment/Mugsy/mugsy_x86-64-v1r2.3/mugsy --directory /data1/bio_db/refseq/analysis/Manuscript/github_methods/bacterialEvolutionMetrics/popCOGent_example_ocean --prefix mLV9R3lfypVCKLkqN9qIOou0ih1L0d3d /data1/bio_db/refseq/analysis/Manuscript/github_methods/bacterialEvolutionMetrics/popCOGent_example_ocean/mLV9R3lfypVCKLkq.tempcontig /data1/bio_db/refseq/analysis/Manuscript/github_methods/bacterialEvolutionMetrics/popCOGent_example_ocean/N9qIOou0ih1L0d3d.tempcontig\n",
      "/data1/bio_db/refseq/analysis/Manuscript/github_methods/bacterialEvolutionMetrics/popCOGent_example_ocean/TOBG_SAT-182.fna_@_TOBG_SAT-13.fna.maf.length_bias.txt\n"
     ]
    },
    {
     "name": "stderr",
     "output_type": "stream",
     "text": [
      "\r",
      "Running PopCOGent:  91%|█████████▏| 452/495 [52:56<04:35,  6.42s/it]"
     ]
    },
    {
     "name": "stdout",
     "output_type": "stream",
     "text": [
      "export MUGSY_INSTALL=/data8/Human/NIH_4/MethodDevelopment/Mugsy/mugsy_x86-64-v1r2.3 ; /data8/Human/NIH_4/MethodDevelopment/Mugsy/mugsy_x86-64-v1r2.3/mugsy --directory /data1/bio_db/refseq/analysis/Manuscript/github_methods/bacterialEvolutionMetrics/popCOGent_example_ocean --prefix Ec72EFS6fg5Wj7qaiBv3TUEkuBlXPSKy /data1/bio_db/refseq/analysis/Manuscript/github_methods/bacterialEvolutionMetrics/popCOGent_example_ocean/Ec72EFS6fg5Wj7qa.tempcontig /data1/bio_db/refseq/analysis/Manuscript/github_methods/bacterialEvolutionMetrics/popCOGent_example_ocean/iBv3TUEkuBlXPSKy.tempcontig\n",
      "/data1/bio_db/refseq/analysis/Manuscript/github_methods/bacterialEvolutionMetrics/popCOGent_example_ocean/TOBG_SAT-206.fna_@_TOBG_SAT-13.fna.maf.length_bias.txt\n"
     ]
    },
    {
     "name": "stderr",
     "output_type": "stream",
     "text": [
      "\r",
      "Running PopCOGent:  92%|█████████▏| 453/495 [53:00<03:57,  5.65s/it]"
     ]
    },
    {
     "name": "stdout",
     "output_type": "stream",
     "text": [
      "export MUGSY_INSTALL=/data8/Human/NIH_4/MethodDevelopment/Mugsy/mugsy_x86-64-v1r2.3 ; /data8/Human/NIH_4/MethodDevelopment/Mugsy/mugsy_x86-64-v1r2.3/mugsy --directory /data1/bio_db/refseq/analysis/Manuscript/github_methods/bacterialEvolutionMetrics/popCOGent_example_ocean --prefix zfnpiJZslBLw2ZtVTFvWoM8ydmcj3FqP /data1/bio_db/refseq/analysis/Manuscript/github_methods/bacterialEvolutionMetrics/popCOGent_example_ocean/zfnpiJZslBLw2ZtV.tempcontig /data1/bio_db/refseq/analysis/Manuscript/github_methods/bacterialEvolutionMetrics/popCOGent_example_ocean/TFvWoM8ydmcj3FqP.tempcontig\n",
      "/data1/bio_db/refseq/analysis/Manuscript/github_methods/bacterialEvolutionMetrics/popCOGent_example_ocean/TOBG_SP-45.fna_@_TOBG_SAT-101.fna.maf.length_bias.txt\n"
     ]
    },
    {
     "name": "stderr",
     "output_type": "stream",
     "text": [
      "\r",
      "Running PopCOGent:  92%|█████████▏| 454/495 [53:02<02:58,  4.35s/it]"
     ]
    },
    {
     "name": "stdout",
     "output_type": "stream",
     "text": [
      "export MUGSY_INSTALL=/data8/Human/NIH_4/MethodDevelopment/Mugsy/mugsy_x86-64-v1r2.3 ; /data8/Human/NIH_4/MethodDevelopment/Mugsy/mugsy_x86-64-v1r2.3/mugsy --directory /data1/bio_db/refseq/analysis/Manuscript/github_methods/bacterialEvolutionMetrics/popCOGent_example_ocean --prefix Tkm4lBZdmUAzu0gsc83u4UfsjCrLDvHN /data1/bio_db/refseq/analysis/Manuscript/github_methods/bacterialEvolutionMetrics/popCOGent_example_ocean/Tkm4lBZdmUAzu0gs.tempcontig /data1/bio_db/refseq/analysis/Manuscript/github_methods/bacterialEvolutionMetrics/popCOGent_example_ocean/c83u4UfsjCrLDvHN.tempcontig\n",
      "/data1/bio_db/refseq/analysis/Manuscript/github_methods/bacterialEvolutionMetrics/popCOGent_example_ocean/TOBG_SP-288.fna_@_TOBG_SAT-113.fna.maf.length_bias.txt\n"
     ]
    },
    {
     "name": "stderr",
     "output_type": "stream",
     "text": [
      "\r",
      "Running PopCOGent:  92%|█████████▏| 455/495 [53:12<04:01,  6.05s/it]"
     ]
    },
    {
     "name": "stdout",
     "output_type": "stream",
     "text": [
      "export MUGSY_INSTALL=/data8/Human/NIH_4/MethodDevelopment/Mugsy/mugsy_x86-64-v1r2.3 ; /data8/Human/NIH_4/MethodDevelopment/Mugsy/mugsy_x86-64-v1r2.3/mugsy --directory /data1/bio_db/refseq/analysis/Manuscript/github_methods/bacterialEvolutionMetrics/popCOGent_example_ocean --prefix kUmEac8by0eudLFs1R5OMT4WptJGXUCD /data1/bio_db/refseq/analysis/Manuscript/github_methods/bacterialEvolutionMetrics/popCOGent_example_ocean/kUmEac8by0eudLFs.tempcontig /data1/bio_db/refseq/analysis/Manuscript/github_methods/bacterialEvolutionMetrics/popCOGent_example_ocean/1R5OMT4WptJGXUCD.tempcontig\n",
      "/data1/bio_db/refseq/analysis/Manuscript/github_methods/bacterialEvolutionMetrics/popCOGent_example_ocean/TOBG_SP-75.fna_@_TOBG_SAT-106.fna.maf.length_bias.txt\n"
     ]
    },
    {
     "name": "stderr",
     "output_type": "stream",
     "text": [
      "\r",
      "Running PopCOGent:  92%|█████████▏| 456/495 [53:23<04:58,  7.65s/it]"
     ]
    },
    {
     "name": "stdout",
     "output_type": "stream",
     "text": [
      "export MUGSY_INSTALL=/data8/Human/NIH_4/MethodDevelopment/Mugsy/mugsy_x86-64-v1r2.3 ; /data8/Human/NIH_4/MethodDevelopment/Mugsy/mugsy_x86-64-v1r2.3/mugsy --directory /data1/bio_db/refseq/analysis/Manuscript/github_methods/bacterialEvolutionMetrics/popCOGent_example_ocean --prefix bgEqzYlyLBGAgbQkmrpjRLXlDNLnYyyX /data1/bio_db/refseq/analysis/Manuscript/github_methods/bacterialEvolutionMetrics/popCOGent_example_ocean/bgEqzYlyLBGAgbQk.tempcontig /data1/bio_db/refseq/analysis/Manuscript/github_methods/bacterialEvolutionMetrics/popCOGent_example_ocean/mrpjRLXlDNLnYyyX.tempcontig\n",
      "/data1/bio_db/refseq/analysis/Manuscript/github_methods/bacterialEvolutionMetrics/popCOGent_example_ocean/TOBG_SP-350.fna_@_TOBG_SAT-134.fna.maf.length_bias.txt\n"
     ]
    },
    {
     "name": "stderr",
     "output_type": "stream",
     "text": [
      "\r",
      "Running PopCOGent:  92%|█████████▏| 457/495 [53:26<04:00,  6.33s/it]"
     ]
    },
    {
     "name": "stdout",
     "output_type": "stream",
     "text": [
      "export MUGSY_INSTALL=/data8/Human/NIH_4/MethodDevelopment/Mugsy/mugsy_x86-64-v1r2.3 ; /data8/Human/NIH_4/MethodDevelopment/Mugsy/mugsy_x86-64-v1r2.3/mugsy --directory /data1/bio_db/refseq/analysis/Manuscript/github_methods/bacterialEvolutionMetrics/popCOGent_example_ocean --prefix No49vmFrsNq7ELb3nygPN76tYScFgp1h /data1/bio_db/refseq/analysis/Manuscript/github_methods/bacterialEvolutionMetrics/popCOGent_example_ocean/No49vmFrsNq7ELb3.tempcontig /data1/bio_db/refseq/analysis/Manuscript/github_methods/bacterialEvolutionMetrics/popCOGent_example_ocean/nygPN76tYScFgp1h.tempcontig\n",
      "/data1/bio_db/refseq/analysis/Manuscript/github_methods/bacterialEvolutionMetrics/popCOGent_example_ocean/TOBG_SAT-161.fna_@_TOBG_SAT-1582.fna.maf.length_bias.txt\n"
     ]
    },
    {
     "name": "stderr",
     "output_type": "stream",
     "text": [
      "\r",
      "Running PopCOGent:  93%|█████████▎| 458/495 [53:29<03:14,  5.27s/it]"
     ]
    },
    {
     "name": "stdout",
     "output_type": "stream",
     "text": [
      "export MUGSY_INSTALL=/data8/Human/NIH_4/MethodDevelopment/Mugsy/mugsy_x86-64-v1r2.3 ; /data8/Human/NIH_4/MethodDevelopment/Mugsy/mugsy_x86-64-v1r2.3/mugsy --directory /data1/bio_db/refseq/analysis/Manuscript/github_methods/bacterialEvolutionMetrics/popCOGent_example_ocean --prefix RK9sdPOoR9KvVts7xH1Tm7tqqo2o75Dp /data1/bio_db/refseq/analysis/Manuscript/github_methods/bacterialEvolutionMetrics/popCOGent_example_ocean/RK9sdPOoR9KvVts7.tempcontig /data1/bio_db/refseq/analysis/Manuscript/github_methods/bacterialEvolutionMetrics/popCOGent_example_ocean/xH1Tm7tqqo2o75Dp.tempcontig\n",
      "/data1/bio_db/refseq/analysis/Manuscript/github_methods/bacterialEvolutionMetrics/popCOGent_example_ocean/TOBG_SP-93.fna_@_TOBG_SAT-134.fna.maf.length_bias.txt\n"
     ]
    },
    {
     "name": "stderr",
     "output_type": "stream",
     "text": [
      "\r",
      "Running PopCOGent:  93%|█████████▎| 459/495 [53:40<04:11,  6.98s/it]"
     ]
    },
    {
     "name": "stdout",
     "output_type": "stream",
     "text": [
      "export MUGSY_INSTALL=/data8/Human/NIH_4/MethodDevelopment/Mugsy/mugsy_x86-64-v1r2.3 ; /data8/Human/NIH_4/MethodDevelopment/Mugsy/mugsy_x86-64-v1r2.3/mugsy --directory /data1/bio_db/refseq/analysis/Manuscript/github_methods/bacterialEvolutionMetrics/popCOGent_example_ocean --prefix MzODrfBLOp9njfLZFVMr5tPPI7c1YeXy /data1/bio_db/refseq/analysis/Manuscript/github_methods/bacterialEvolutionMetrics/popCOGent_example_ocean/MzODrfBLOp9njfLZ.tempcontig /data1/bio_db/refseq/analysis/Manuscript/github_methods/bacterialEvolutionMetrics/popCOGent_example_ocean/FVMr5tPPI7c1YeXy.tempcontig\n",
      "export MUGSY_INSTALL=/data8/Human/NIH_4/MethodDevelopment/Mugsy/mugsy_x86-64-v1r2.3 ; /data8/Human/NIH_4/MethodDevelopment/Mugsy/mugsy_x86-64-v1r2.3/mugsy --directory /data1/bio_db/refseq/analysis/Manuscript/github_methods/bacterialEvolutionMetrics/popCOGent_example_ocean --prefix vDHSMpuJwIO64nujqWIZ42qHRZptsSRv /data1/bio_db/refseq/analysis/Manuscript/github_methods/bacterialEvolutionMetrics/popCOGent_example_ocean/vDHSMpuJwIO64nuj.tempcontig /data1/bio_db/refseq/analysis/Manuscript/github_methods/bacterialEvolutionMetrics/popCOGent_example_ocean/qWIZ42qHRZptsSRv.tempcontig\n",
      "/data1/bio_db/refseq/analysis/Manuscript/github_methods/bacterialEvolutionMetrics/popCOGent_example_ocean/TOBG_SP-3024.fna_@_TOBG_SAT-1508.fna.maf.length_bias.txt\n",
      "/data1/bio_db/refseq/analysis/Manuscript/github_methods/bacterialEvolutionMetrics/popCOGent_example_ocean/TOBG_SP-272.fna_@_TOBG_SAT-157.fna.maf.length_bias.txt\n"
     ]
    },
    {
     "name": "stderr",
     "output_type": "stream",
     "text": [
      "\r",
      "Running PopCOGent:  93%|█████████▎| 461/495 [53:42<02:57,  5.22s/it]"
     ]
    },
    {
     "name": "stdout",
     "output_type": "stream",
     "text": [
      "export MUGSY_INSTALL=/data8/Human/NIH_4/MethodDevelopment/Mugsy/mugsy_x86-64-v1r2.3 ; /data8/Human/NIH_4/MethodDevelopment/Mugsy/mugsy_x86-64-v1r2.3/mugsy --directory /data1/bio_db/refseq/analysis/Manuscript/github_methods/bacterialEvolutionMetrics/popCOGent_example_ocean --prefix Q4ZEB1uG9uTqQ0tGueLGKTGO0IVH2iDz /data1/bio_db/refseq/analysis/Manuscript/github_methods/bacterialEvolutionMetrics/popCOGent_example_ocean/Q4ZEB1uG9uTqQ0tG.tempcontig /data1/bio_db/refseq/analysis/Manuscript/github_methods/bacterialEvolutionMetrics/popCOGent_example_ocean/ueLGKTGO0IVH2iDz.tempcontig\n",
      "/data1/bio_db/refseq/analysis/Manuscript/github_methods/bacterialEvolutionMetrics/popCOGent_example_ocean/TOBG_SP-219.fna_@_TOBG_SAT-159.fna.maf.length_bias.txt\n"
     ]
    },
    {
     "name": "stderr",
     "output_type": "stream",
     "text": [
      "\r",
      "Running PopCOGent:  93%|█████████▎| 462/495 [53:43<02:09,  3.93s/it]"
     ]
    },
    {
     "name": "stdout",
     "output_type": "stream",
     "text": [
      "export MUGSY_INSTALL=/data8/Human/NIH_4/MethodDevelopment/Mugsy/mugsy_x86-64-v1r2.3 ; /data8/Human/NIH_4/MethodDevelopment/Mugsy/mugsy_x86-64-v1r2.3/mugsy --directory /data1/bio_db/refseq/analysis/Manuscript/github_methods/bacterialEvolutionMetrics/popCOGent_example_ocean --prefix NYDbFLifyYJk83tg1gjSmGsjSLHHu3M4 /data1/bio_db/refseq/analysis/Manuscript/github_methods/bacterialEvolutionMetrics/popCOGent_example_ocean/NYDbFLifyYJk83tg.tempcontig /data1/bio_db/refseq/analysis/Manuscript/github_methods/bacterialEvolutionMetrics/popCOGent_example_ocean/1gjSmGsjSLHHu3M4.tempcontig\n",
      "/data1/bio_db/refseq/analysis/Manuscript/github_methods/bacterialEvolutionMetrics/popCOGent_example_ocean/TOBG_SP-3041.fna_@_TOBG_SAT-181.fna.maf.length_bias.txt\n"
     ]
    },
    {
     "name": "stderr",
     "output_type": "stream",
     "text": [
      "\r",
      "Running PopCOGent:  94%|█████████▎| 463/495 [53:56<03:26,  6.46s/it]"
     ]
    },
    {
     "name": "stdout",
     "output_type": "stream",
     "text": [
      "export MUGSY_INSTALL=/data8/Human/NIH_4/MethodDevelopment/Mugsy/mugsy_x86-64-v1r2.3 ; /data8/Human/NIH_4/MethodDevelopment/Mugsy/mugsy_x86-64-v1r2.3/mugsy --directory /data1/bio_db/refseq/analysis/Manuscript/github_methods/bacterialEvolutionMetrics/popCOGent_example_ocean --prefix QoTgQ0fYfDGlQCNl7rPGDAMtWi9zeZe2 /data1/bio_db/refseq/analysis/Manuscript/github_methods/bacterialEvolutionMetrics/popCOGent_example_ocean/QoTgQ0fYfDGlQCNl.tempcontig /data1/bio_db/refseq/analysis/Manuscript/github_methods/bacterialEvolutionMetrics/popCOGent_example_ocean/7rPGDAMtWi9zeZe2.tempcontig\n",
      "/data1/bio_db/refseq/analysis/Manuscript/github_methods/bacterialEvolutionMetrics/popCOGent_example_ocean/TOBG_SP-69.fna_@_TOBG_SAT-220.fna.maf.length_bias.txt\n"
     ]
    },
    {
     "name": "stderr",
     "output_type": "stream",
     "text": [
      "\r",
      "Running PopCOGent:  94%|█████████▎| 464/495 [53:56<02:22,  4.60s/it]"
     ]
    },
    {
     "name": "stdout",
     "output_type": "stream",
     "text": [
      "export MUGSY_INSTALL=/data8/Human/NIH_4/MethodDevelopment/Mugsy/mugsy_x86-64-v1r2.3 ; /data8/Human/NIH_4/MethodDevelopment/Mugsy/mugsy_x86-64-v1r2.3/mugsy --directory /data1/bio_db/refseq/analysis/Manuscript/github_methods/bacterialEvolutionMetrics/popCOGent_example_ocean --prefix CkWLI7vofuk4jGiYqZDUDbVxlXEPMU7D /data1/bio_db/refseq/analysis/Manuscript/github_methods/bacterialEvolutionMetrics/popCOGent_example_ocean/CkWLI7vofuk4jGiY.tempcontig /data1/bio_db/refseq/analysis/Manuscript/github_methods/bacterialEvolutionMetrics/popCOGent_example_ocean/qZDUDbVxlXEPMU7D.tempcontig\n",
      "/data1/bio_db/refseq/analysis/Manuscript/github_methods/bacterialEvolutionMetrics/popCOGent_example_ocean/TOBG_SP-282.fna_@_TOBG_SAT-168.fna.maf.length_bias.txt\n"
     ]
    },
    {
     "name": "stderr",
     "output_type": "stream",
     "text": [
      "\r",
      "Running PopCOGent:  94%|█████████▍| 465/495 [54:04<02:47,  5.58s/it]"
     ]
    },
    {
     "name": "stdout",
     "output_type": "stream",
     "text": [
      "export MUGSY_INSTALL=/data8/Human/NIH_4/MethodDevelopment/Mugsy/mugsy_x86-64-v1r2.3 ; /data8/Human/NIH_4/MethodDevelopment/Mugsy/mugsy_x86-64-v1r2.3/mugsy --directory /data1/bio_db/refseq/analysis/Manuscript/github_methods/bacterialEvolutionMetrics/popCOGent_example_ocean --prefix hyxEfTk3oUWP8XjE57Dfky7Raiaq1wZZ /data1/bio_db/refseq/analysis/Manuscript/github_methods/bacterialEvolutionMetrics/popCOGent_example_ocean/hyxEfTk3oUWP8XjE.tempcontig /data1/bio_db/refseq/analysis/Manuscript/github_methods/bacterialEvolutionMetrics/popCOGent_example_ocean/57Dfky7Raiaq1wZZ.tempcontig\n",
      "/data1/bio_db/refseq/analysis/Manuscript/github_methods/bacterialEvolutionMetrics/popCOGent_example_ocean/TOBG_SP-243.fna_@_TOBG_SAT-193.fna.maf.length_bias.txt\n"
     ]
    },
    {
     "name": "stderr",
     "output_type": "stream",
     "text": [
      "\r",
      "Running PopCOGent:  94%|█████████▍| 466/495 [54:09<02:39,  5.49s/it]"
     ]
    },
    {
     "name": "stdout",
     "output_type": "stream",
     "text": [
      "export MUGSY_INSTALL=/data8/Human/NIH_4/MethodDevelopment/Mugsy/mugsy_x86-64-v1r2.3 ; /data8/Human/NIH_4/MethodDevelopment/Mugsy/mugsy_x86-64-v1r2.3/mugsy --directory /data1/bio_db/refseq/analysis/Manuscript/github_methods/bacterialEvolutionMetrics/popCOGent_example_ocean --prefix uJyMe3DgLHZRsJIuJTmCHTOV6HUmR2xC /data1/bio_db/refseq/analysis/Manuscript/github_methods/bacterialEvolutionMetrics/popCOGent_example_ocean/uJyMe3DgLHZRsJIu.tempcontig /data1/bio_db/refseq/analysis/Manuscript/github_methods/bacterialEvolutionMetrics/popCOGent_example_ocean/JTmCHTOV6HUmR2xC.tempcontig\n",
      "/data1/bio_db/refseq/analysis/Manuscript/github_methods/bacterialEvolutionMetrics/popCOGent_example_ocean/TOBG_SAT-206.fna_@_TOBG_SAT-182.fna.maf.length_bias.txt\n"
     ]
    },
    {
     "name": "stderr",
     "output_type": "stream",
     "text": [
      "\r",
      "Running PopCOGent:  94%|█████████▍| 467/495 [54:09<01:50,  3.94s/it]"
     ]
    },
    {
     "name": "stdout",
     "output_type": "stream",
     "text": [
      "export MUGSY_INSTALL=/data8/Human/NIH_4/MethodDevelopment/Mugsy/mugsy_x86-64-v1r2.3 ; /data8/Human/NIH_4/MethodDevelopment/Mugsy/mugsy_x86-64-v1r2.3/mugsy --directory /data1/bio_db/refseq/analysis/Manuscript/github_methods/bacterialEvolutionMetrics/popCOGent_example_ocean --prefix VVDAXjHkrTSJrb3vAwLU53R4xa5jgXSJ /data1/bio_db/refseq/analysis/Manuscript/github_methods/bacterialEvolutionMetrics/popCOGent_example_ocean/VVDAXjHkrTSJrb3v.tempcontig /data1/bio_db/refseq/analysis/Manuscript/github_methods/bacterialEvolutionMetrics/popCOGent_example_ocean/AwLU53R4xa5jgXSJ.tempcontig\n",
      "/data1/bio_db/refseq/analysis/Manuscript/github_methods/bacterialEvolutionMetrics/popCOGent_example_ocean/TOBG_SAT-165.fna_@_TOBG_SAT-164.fna.maf.length_bias.txt\n"
     ]
    },
    {
     "name": "stderr",
     "output_type": "stream",
     "text": [
      "\r",
      "Running PopCOGent:  95%|█████████▍| 468/495 [54:16<02:10,  4.85s/it]"
     ]
    },
    {
     "name": "stdout",
     "output_type": "stream",
     "text": [
      "export MUGSY_INSTALL=/data8/Human/NIH_4/MethodDevelopment/Mugsy/mugsy_x86-64-v1r2.3 ; /data8/Human/NIH_4/MethodDevelopment/Mugsy/mugsy_x86-64-v1r2.3/mugsy --directory /data1/bio_db/refseq/analysis/Manuscript/github_methods/bacterialEvolutionMetrics/popCOGent_example_ocean --prefix ED0oITxyXzXzNKEXMMCL6suPmB0m14VJ /data1/bio_db/refseq/analysis/Manuscript/github_methods/bacterialEvolutionMetrics/popCOGent_example_ocean/ED0oITxyXzXzNKEX.tempcontig /data1/bio_db/refseq/analysis/Manuscript/github_methods/bacterialEvolutionMetrics/popCOGent_example_ocean/MMCL6suPmB0m14VJ.tempcontig\n",
      "/data1/bio_db/refseq/analysis/Manuscript/github_methods/bacterialEvolutionMetrics/popCOGent_example_ocean/TOBG_SP-344.fna_@_TOBG_SAT-221.fna.maf.length_bias.txt\n"
     ]
    },
    {
     "name": "stderr",
     "output_type": "stream",
     "text": [
      "\r",
      "Running PopCOGent:  95%|█████████▍| 469/495 [54:21<02:02,  4.73s/it]"
     ]
    },
    {
     "name": "stdout",
     "output_type": "stream",
     "text": [
      "export MUGSY_INSTALL=/data8/Human/NIH_4/MethodDevelopment/Mugsy/mugsy_x86-64-v1r2.3 ; /data8/Human/NIH_4/MethodDevelopment/Mugsy/mugsy_x86-64-v1r2.3/mugsy --directory /data1/bio_db/refseq/analysis/Manuscript/github_methods/bacterialEvolutionMetrics/popCOGent_example_ocean --prefix EApe9g2ngyrUsGHX3JvFXcMURqlWAgJz /data1/bio_db/refseq/analysis/Manuscript/github_methods/bacterialEvolutionMetrics/popCOGent_example_ocean/EApe9g2ngyrUsGHX.tempcontig /data1/bio_db/refseq/analysis/Manuscript/github_methods/bacterialEvolutionMetrics/popCOGent_example_ocean/3JvFXcMURqlWAgJz.tempcontig\n",
      "/data1/bio_db/refseq/analysis/Manuscript/github_methods/bacterialEvolutionMetrics/popCOGent_example_ocean/TOBG_SP-73.fna_@_TOBG_SAT-194.fna.maf.length_bias.txt\n"
     ]
    },
    {
     "name": "stderr",
     "output_type": "stream",
     "text": [
      "\r",
      "Running PopCOGent:  95%|█████████▍| 470/495 [54:32<02:49,  6.79s/it]"
     ]
    },
    {
     "name": "stdout",
     "output_type": "stream",
     "text": [
      "export MUGSY_INSTALL=/data8/Human/NIH_4/MethodDevelopment/Mugsy/mugsy_x86-64-v1r2.3 ; /data8/Human/NIH_4/MethodDevelopment/Mugsy/mugsy_x86-64-v1r2.3/mugsy --directory /data1/bio_db/refseq/analysis/Manuscript/github_methods/bacterialEvolutionMetrics/popCOGent_example_ocean --prefix 5hbRzWcWsmuvj3r0Pjk2rClBII1jM8Eb /data1/bio_db/refseq/analysis/Manuscript/github_methods/bacterialEvolutionMetrics/popCOGent_example_ocean/5hbRzWcWsmuvj3r0.tempcontig /data1/bio_db/refseq/analysis/Manuscript/github_methods/bacterialEvolutionMetrics/popCOGent_example_ocean/Pjk2rClBII1jM8Eb.tempcontig\n",
      "/data1/bio_db/refseq/analysis/Manuscript/github_methods/bacterialEvolutionMetrics/popCOGent_example_ocean/TOBG_SP-4356.fna_@_TOBG_SAT-228.fna.maf.length_bias.txt\n"
     ]
    },
    {
     "name": "stderr",
     "output_type": "stream",
     "text": [
      "\r",
      "Running PopCOGent:  95%|█████████▌| 471/495 [54:52<04:15, 10.65s/it]"
     ]
    },
    {
     "name": "stdout",
     "output_type": "stream",
     "text": [
      "export MUGSY_INSTALL=/data8/Human/NIH_4/MethodDevelopment/Mugsy/mugsy_x86-64-v1r2.3 ; /data8/Human/NIH_4/MethodDevelopment/Mugsy/mugsy_x86-64-v1r2.3/mugsy --directory /data1/bio_db/refseq/analysis/Manuscript/github_methods/bacterialEvolutionMetrics/popCOGent_example_ocean --prefix d0vDTjK9b0azeLBgL2YUGSykOEvAHGZh /data1/bio_db/refseq/analysis/Manuscript/github_methods/bacterialEvolutionMetrics/popCOGent_example_ocean/d0vDTjK9b0azeLBg.tempcontig /data1/bio_db/refseq/analysis/Manuscript/github_methods/bacterialEvolutionMetrics/popCOGent_example_ocean/L2YUGSykOEvAHGZh.tempcontig\n",
      "/data1/bio_db/refseq/analysis/Manuscript/github_methods/bacterialEvolutionMetrics/popCOGent_example_ocean/TOBG_SP-3048.fna_@_TOBG_SAT-35.fna.maf.length_bias.txt\n"
     ]
    },
    {
     "name": "stderr",
     "output_type": "stream",
     "text": [
      "\r",
      "Running PopCOGent:  95%|█████████▌| 472/495 [54:57<03:23,  8.85s/it]"
     ]
    },
    {
     "name": "stdout",
     "output_type": "stream",
     "text": [
      "export MUGSY_INSTALL=/data8/Human/NIH_4/MethodDevelopment/Mugsy/mugsy_x86-64-v1r2.3 ; /data8/Human/NIH_4/MethodDevelopment/Mugsy/mugsy_x86-64-v1r2.3/mugsy --directory /data1/bio_db/refseq/analysis/Manuscript/github_methods/bacterialEvolutionMetrics/popCOGent_example_ocean --prefix zUrJH7BSZUEa9WuTuV9pmAVTzX87539O /data1/bio_db/refseq/analysis/Manuscript/github_methods/bacterialEvolutionMetrics/popCOGent_example_ocean/zUrJH7BSZUEa9WuT.tempcontig /data1/bio_db/refseq/analysis/Manuscript/github_methods/bacterialEvolutionMetrics/popCOGent_example_ocean/uV9pmAVTzX87539O.tempcontig\n",
      "/data1/bio_db/refseq/analysis/Manuscript/github_methods/bacterialEvolutionMetrics/popCOGent_example_ocean/TOBG_SP-312.fna_@_TOBG_SAT-40.fna.maf.length_bias.txt\n"
     ]
    },
    {
     "name": "stderr",
     "output_type": "stream",
     "text": [
      "\r",
      "Running PopCOGent:  96%|█████████▌| 473/495 [54:57<02:20,  6.38s/it]"
     ]
    },
    {
     "name": "stdout",
     "output_type": "stream",
     "text": [
      "export MUGSY_INSTALL=/data8/Human/NIH_4/MethodDevelopment/Mugsy/mugsy_x86-64-v1r2.3 ; /data8/Human/NIH_4/MethodDevelopment/Mugsy/mugsy_x86-64-v1r2.3/mugsy --directory /data1/bio_db/refseq/analysis/Manuscript/github_methods/bacterialEvolutionMetrics/popCOGent_example_ocean --prefix wou08767ftlh8Jnv7mKLFnuJLAfGdKpj /data1/bio_db/refseq/analysis/Manuscript/github_methods/bacterialEvolutionMetrics/popCOGent_example_ocean/wou08767ftlh8Jnv.tempcontig /data1/bio_db/refseq/analysis/Manuscript/github_methods/bacterialEvolutionMetrics/popCOGent_example_ocean/7mKLFnuJLAfGdKpj.tempcontig\n",
      "/data1/bio_db/refseq/analysis/Manuscript/github_methods/bacterialEvolutionMetrics/popCOGent_example_ocean/TOBG_SP-131.fna_@_TOBG_SAT-28.fna.maf.length_bias.txt\n"
     ]
    },
    {
     "name": "stderr",
     "output_type": "stream",
     "text": [
      "\r",
      "Running PopCOGent:  96%|█████████▌| 474/495 [55:08<02:40,  7.64s/it]"
     ]
    },
    {
     "name": "stdout",
     "output_type": "stream",
     "text": [
      "export MUGSY_INSTALL=/data8/Human/NIH_4/MethodDevelopment/Mugsy/mugsy_x86-64-v1r2.3 ; /data8/Human/NIH_4/MethodDevelopment/Mugsy/mugsy_x86-64-v1r2.3/mugsy --directory /data1/bio_db/refseq/analysis/Manuscript/github_methods/bacterialEvolutionMetrics/popCOGent_example_ocean --prefix ZashS7gl3NlryhTyFMrqzPHLQ8IWBUCR /data1/bio_db/refseq/analysis/Manuscript/github_methods/bacterialEvolutionMetrics/popCOGent_example_ocean/ZashS7gl3NlryhTy.tempcontig /data1/bio_db/refseq/analysis/Manuscript/github_methods/bacterialEvolutionMetrics/popCOGent_example_ocean/FMrqzPHLQ8IWBUCR.tempcontig\n",
      "/data1/bio_db/refseq/analysis/Manuscript/github_methods/bacterialEvolutionMetrics/popCOGent_example_ocean/TOBG_SP-76.fna_@_TOBG_SAT-49.fna.maf.length_bias.txt\n"
     ]
    },
    {
     "name": "stderr",
     "output_type": "stream",
     "text": [
      "\r",
      "Running PopCOGent:  96%|█████████▌| 475/495 [55:26<03:35, 10.79s/it]"
     ]
    },
    {
     "name": "stdout",
     "output_type": "stream",
     "text": [
      "export MUGSY_INSTALL=/data8/Human/NIH_4/MethodDevelopment/Mugsy/mugsy_x86-64-v1r2.3 ; /data8/Human/NIH_4/MethodDevelopment/Mugsy/mugsy_x86-64-v1r2.3/mugsy --directory /data1/bio_db/refseq/analysis/Manuscript/github_methods/bacterialEvolutionMetrics/popCOGent_example_ocean --prefix hi4v1gI3fT3dMzHVSCoUFVPATurZQ7LX /data1/bio_db/refseq/analysis/Manuscript/github_methods/bacterialEvolutionMetrics/popCOGent_example_ocean/hi4v1gI3fT3dMzHV.tempcontig /data1/bio_db/refseq/analysis/Manuscript/github_methods/bacterialEvolutionMetrics/popCOGent_example_ocean/SCoUFVPATurZQ7LX.tempcontig\n",
      "/data1/bio_db/refseq/analysis/Manuscript/github_methods/bacterialEvolutionMetrics/popCOGent_example_ocean/TOBG_SP-125.fna_@_TOBG_SAT-42.fna.maf.length_bias.txt\n"
     ]
    },
    {
     "name": "stderr",
     "output_type": "stream",
     "text": [
      "\r",
      "Running PopCOGent:  96%|█████████▌| 476/495 [55:30<02:46,  8.75s/it]"
     ]
    },
    {
     "name": "stdout",
     "output_type": "stream",
     "text": [
      "export MUGSY_INSTALL=/data8/Human/NIH_4/MethodDevelopment/Mugsy/mugsy_x86-64-v1r2.3 ; /data8/Human/NIH_4/MethodDevelopment/Mugsy/mugsy_x86-64-v1r2.3/mugsy --directory /data1/bio_db/refseq/analysis/Manuscript/github_methods/bacterialEvolutionMetrics/popCOGent_example_ocean --prefix 7cTu0fqb8Hgk8owpQLvbO1kMDX4xAx87 /data1/bio_db/refseq/analysis/Manuscript/github_methods/bacterialEvolutionMetrics/popCOGent_example_ocean/7cTu0fqb8Hgk8owp.tempcontig /data1/bio_db/refseq/analysis/Manuscript/github_methods/bacterialEvolutionMetrics/popCOGent_example_ocean/QLvbO1kMDX4xAx87.tempcontig\n",
      "/data1/bio_db/refseq/analysis/Manuscript/github_methods/bacterialEvolutionMetrics/popCOGent_example_ocean/TOBG_SP-180.fna_@_TOBG_SAT-31.fna.maf.length_bias.txt\n"
     ]
    },
    {
     "name": "stderr",
     "output_type": "stream",
     "text": [
      "\r",
      "Running PopCOGent:  96%|█████████▋| 477/495 [55:38<02:32,  8.47s/it]"
     ]
    },
    {
     "name": "stdout",
     "output_type": "stream",
     "text": [
      "export MUGSY_INSTALL=/data8/Human/NIH_4/MethodDevelopment/Mugsy/mugsy_x86-64-v1r2.3 ; /data8/Human/NIH_4/MethodDevelopment/Mugsy/mugsy_x86-64-v1r2.3/mugsy --directory /data1/bio_db/refseq/analysis/Manuscript/github_methods/bacterialEvolutionMetrics/popCOGent_example_ocean --prefix 7hpaUQFAC6qcOWqOOhFHT6aH7ISQynxm /data1/bio_db/refseq/analysis/Manuscript/github_methods/bacterialEvolutionMetrics/popCOGent_example_ocean/7hpaUQFAC6qcOWqO.tempcontig /data1/bio_db/refseq/analysis/Manuscript/github_methods/bacterialEvolutionMetrics/popCOGent_example_ocean/OhFHT6aH7ISQynxm.tempcontig\n",
      "/data1/bio_db/refseq/analysis/Manuscript/github_methods/bacterialEvolutionMetrics/popCOGent_example_ocean/TOBG_SP-2.fna_@_TOBG_SAT-6.fna.maf.length_bias.txt\n"
     ]
    },
    {
     "name": "stderr",
     "output_type": "stream",
     "text": [
      "\r",
      "Running PopCOGent:  97%|█████████▋| 478/495 [55:40<01:51,  6.56s/it]"
     ]
    },
    {
     "name": "stdout",
     "output_type": "stream",
     "text": [
      "export MUGSY_INSTALL=/data8/Human/NIH_4/MethodDevelopment/Mugsy/mugsy_x86-64-v1r2.3 ; /data8/Human/NIH_4/MethodDevelopment/Mugsy/mugsy_x86-64-v1r2.3/mugsy --directory /data1/bio_db/refseq/analysis/Manuscript/github_methods/bacterialEvolutionMetrics/popCOGent_example_ocean --prefix aK2UClG3PgHgRdFlNY1nzVxZXc8wzIVV /data1/bio_db/refseq/analysis/Manuscript/github_methods/bacterialEvolutionMetrics/popCOGent_example_ocean/aK2UClG3PgHgRdFl.tempcontig /data1/bio_db/refseq/analysis/Manuscript/github_methods/bacterialEvolutionMetrics/popCOGent_example_ocean/NY1nzVxZXc8wzIVV.tempcontig\n",
      "/data1/bio_db/refseq/analysis/Manuscript/github_methods/bacterialEvolutionMetrics/popCOGent_example_ocean/TOBG_SP-159.fna_@_TOBG_SAT-8.fna.maf.length_bias.txt\n"
     ]
    },
    {
     "name": "stderr",
     "output_type": "stream",
     "text": [
      "\r",
      "Running PopCOGent:  97%|█████████▋| 479/495 [55:46<01:40,  6.30s/it]"
     ]
    },
    {
     "name": "stdout",
     "output_type": "stream",
     "text": [
      "export MUGSY_INSTALL=/data8/Human/NIH_4/MethodDevelopment/Mugsy/mugsy_x86-64-v1r2.3 ; /data8/Human/NIH_4/MethodDevelopment/Mugsy/mugsy_x86-64-v1r2.3/mugsy --directory /data1/bio_db/refseq/analysis/Manuscript/github_methods/bacterialEvolutionMetrics/popCOGent_example_ocean --prefix IJmK4tVWY4brkl5bGV18lqOJVPOxQnGq /data1/bio_db/refseq/analysis/Manuscript/github_methods/bacterialEvolutionMetrics/popCOGent_example_ocean/IJmK4tVWY4brkl5b.tempcontig /data1/bio_db/refseq/analysis/Manuscript/github_methods/bacterialEvolutionMetrics/popCOGent_example_ocean/GV18lqOJVPOxQnGq.tempcontig\n",
      "/data1/bio_db/refseq/analysis/Manuscript/github_methods/bacterialEvolutionMetrics/popCOGent_example_ocean/TOBG_SP-57.fna_@_TOBG_SAT-8.fna.maf.length_bias.txt\n"
     ]
    },
    {
     "name": "stderr",
     "output_type": "stream",
     "text": [
      "\r",
      "Running PopCOGent:  97%|█████████▋| 480/495 [56:01<02:17,  9.18s/it]"
     ]
    },
    {
     "name": "stdout",
     "output_type": "stream",
     "text": [
      "export MUGSY_INSTALL=/data8/Human/NIH_4/MethodDevelopment/Mugsy/mugsy_x86-64-v1r2.3 ; /data8/Human/NIH_4/MethodDevelopment/Mugsy/mugsy_x86-64-v1r2.3/mugsy --directory /data1/bio_db/refseq/analysis/Manuscript/github_methods/bacterialEvolutionMetrics/popCOGent_example_ocean --prefix LL5QLOx5T5Y5TAyYF2oapcTVJoPVhhsc /data1/bio_db/refseq/analysis/Manuscript/github_methods/bacterialEvolutionMetrics/popCOGent_example_ocean/LL5QLOx5T5Y5TAyY.tempcontig /data1/bio_db/refseq/analysis/Manuscript/github_methods/bacterialEvolutionMetrics/popCOGent_example_ocean/F2oapcTVJoPVhhsc.tempcontig\n",
      "/data1/bio_db/refseq/analysis/Manuscript/github_methods/bacterialEvolutionMetrics/popCOGent_example_ocean/TOBG_SP-126.fna_@_TOBG_SAT-57.fna.maf.length_bias.txt\n"
     ]
    },
    {
     "name": "stderr",
     "output_type": "stream",
     "text": [
      "\r",
      "Running PopCOGent:  97%|█████████▋| 481/495 [56:09<01:59,  8.55s/it]"
     ]
    },
    {
     "name": "stdout",
     "output_type": "stream",
     "text": [
      "export MUGSY_INSTALL=/data8/Human/NIH_4/MethodDevelopment/Mugsy/mugsy_x86-64-v1r2.3 ; /data8/Human/NIH_4/MethodDevelopment/Mugsy/mugsy_x86-64-v1r2.3/mugsy --directory /data1/bio_db/refseq/analysis/Manuscript/github_methods/bacterialEvolutionMetrics/popCOGent_example_ocean --prefix qurvcXUqxCLRmU9Op2Urxz43TZNFQsPK /data1/bio_db/refseq/analysis/Manuscript/github_methods/bacterialEvolutionMetrics/popCOGent_example_ocean/qurvcXUqxCLRmU9O.tempcontig /data1/bio_db/refseq/analysis/Manuscript/github_methods/bacterialEvolutionMetrics/popCOGent_example_ocean/p2Urxz43TZNFQsPK.tempcontig\n",
      "/data1/bio_db/refseq/analysis/Manuscript/github_methods/bacterialEvolutionMetrics/popCOGent_example_ocean/TOBG_SP-60.fna_@_TOBG_SAT-93.fna.maf.length_bias.txt\n"
     ]
    },
    {
     "name": "stderr",
     "output_type": "stream",
     "text": [
      "\r",
      "Running PopCOGent:  97%|█████████▋| 482/495 [56:21<02:07,  9.84s/it]"
     ]
    },
    {
     "name": "stdout",
     "output_type": "stream",
     "text": [
      "export MUGSY_INSTALL=/data8/Human/NIH_4/MethodDevelopment/Mugsy/mugsy_x86-64-v1r2.3 ; /data8/Human/NIH_4/MethodDevelopment/Mugsy/mugsy_x86-64-v1r2.3/mugsy --directory /data1/bio_db/refseq/analysis/Manuscript/github_methods/bacterialEvolutionMetrics/popCOGent_example_ocean --prefix H6kluU7f8ZS6YnWI4Epegv3cTQjA63gT /data1/bio_db/refseq/analysis/Manuscript/github_methods/bacterialEvolutionMetrics/popCOGent_example_ocean/H6kluU7f8ZS6YnWI.tempcontig /data1/bio_db/refseq/analysis/Manuscript/github_methods/bacterialEvolutionMetrics/popCOGent_example_ocean/4Epegv3cTQjA63gT.tempcontig\n",
      "/data1/bio_db/refseq/analysis/Manuscript/github_methods/bacterialEvolutionMetrics/popCOGent_example_ocean/TOBG_SP-3966.fna_@_TOBG_SP-102.fna.maf.length_bias.txt\n"
     ]
    },
    {
     "name": "stderr",
     "output_type": "stream",
     "text": [
      "\r",
      "Running PopCOGent:  98%|█████████▊| 483/495 [56:23<01:29,  7.43s/it]"
     ]
    },
    {
     "name": "stdout",
     "output_type": "stream",
     "text": [
      "export MUGSY_INSTALL=/data8/Human/NIH_4/MethodDevelopment/Mugsy/mugsy_x86-64-v1r2.3 ; /data8/Human/NIH_4/MethodDevelopment/Mugsy/mugsy_x86-64-v1r2.3/mugsy --directory /data1/bio_db/refseq/analysis/Manuscript/github_methods/bacterialEvolutionMetrics/popCOGent_example_ocean --prefix yxLd16uErjud1zxAD8XAy6x5mQNOJCFA /data1/bio_db/refseq/analysis/Manuscript/github_methods/bacterialEvolutionMetrics/popCOGent_example_ocean/yxLd16uErjud1zxA.tempcontig /data1/bio_db/refseq/analysis/Manuscript/github_methods/bacterialEvolutionMetrics/popCOGent_example_ocean/D8XAy6x5mQNOJCFA.tempcontig\n",
      "/data1/bio_db/refseq/analysis/Manuscript/github_methods/bacterialEvolutionMetrics/popCOGent_example_ocean/TOBG_SP-133.fna_@_TOBG_SAT-88.fna.maf.length_bias.txt\n"
     ]
    },
    {
     "name": "stderr",
     "output_type": "stream",
     "text": [
      "\r",
      "Running PopCOGent:  98%|█████████▊| 484/495 [56:47<02:16, 12.44s/it]"
     ]
    },
    {
     "name": "stdout",
     "output_type": "stream",
     "text": [
      "export MUGSY_INSTALL=/data8/Human/NIH_4/MethodDevelopment/Mugsy/mugsy_x86-64-v1r2.3 ; /data8/Human/NIH_4/MethodDevelopment/Mugsy/mugsy_x86-64-v1r2.3/mugsy --directory /data1/bio_db/refseq/analysis/Manuscript/github_methods/bacterialEvolutionMetrics/popCOGent_example_ocean --prefix vl484y9isElbveS5P7t0Vy07yj3K4PDp /data1/bio_db/refseq/analysis/Manuscript/github_methods/bacterialEvolutionMetrics/popCOGent_example_ocean/vl484y9isElbveS5.tempcontig /data1/bio_db/refseq/analysis/Manuscript/github_methods/bacterialEvolutionMetrics/popCOGent_example_ocean/P7t0Vy07yj3K4PDp.tempcontig\n",
      "/data1/bio_db/refseq/analysis/Manuscript/github_methods/bacterialEvolutionMetrics/popCOGent_example_ocean/TOBG_SP-245.fna_@_TOBG_SP-118.fna.maf.length_bias.txt\n"
     ]
    },
    {
     "name": "stderr",
     "output_type": "stream",
     "text": [
      "\r",
      "Running PopCOGent:  98%|█████████▊| 485/495 [57:03<02:15, 13.51s/it]"
     ]
    },
    {
     "name": "stdout",
     "output_type": "stream",
     "text": [
      "export MUGSY_INSTALL=/data8/Human/NIH_4/MethodDevelopment/Mugsy/mugsy_x86-64-v1r2.3 ; /data8/Human/NIH_4/MethodDevelopment/Mugsy/mugsy_x86-64-v1r2.3/mugsy --directory /data1/bio_db/refseq/analysis/Manuscript/github_methods/bacterialEvolutionMetrics/popCOGent_example_ocean --prefix 5pZ4qmdfa8VK9r1Puu2OXs4EfuWZ5XE5 /data1/bio_db/refseq/analysis/Manuscript/github_methods/bacterialEvolutionMetrics/popCOGent_example_ocean/5pZ4qmdfa8VK9r1P.tempcontig /data1/bio_db/refseq/analysis/Manuscript/github_methods/bacterialEvolutionMetrics/popCOGent_example_ocean/uu2OXs4EfuWZ5XE5.tempcontig\n",
      "/data1/bio_db/refseq/analysis/Manuscript/github_methods/bacterialEvolutionMetrics/popCOGent_example_ocean/TOBG_SP-145.fna_@_TOBG_SP-114.fna.maf.length_bias.txt\n"
     ]
    },
    {
     "name": "stderr",
     "output_type": "stream",
     "text": [
      "\r",
      "Running PopCOGent:  98%|█████████▊| 486/495 [57:09<01:39, 11.08s/it]"
     ]
    },
    {
     "name": "stdout",
     "output_type": "stream",
     "text": [
      "export MUGSY_INSTALL=/data8/Human/NIH_4/MethodDevelopment/Mugsy/mugsy_x86-64-v1r2.3 ; /data8/Human/NIH_4/MethodDevelopment/Mugsy/mugsy_x86-64-v1r2.3/mugsy --directory /data1/bio_db/refseq/analysis/Manuscript/github_methods/bacterialEvolutionMetrics/popCOGent_example_ocean --prefix pdoGtXySBCeAKNKSH4eguFRO5JUMSsPP /data1/bio_db/refseq/analysis/Manuscript/github_methods/bacterialEvolutionMetrics/popCOGent_example_ocean/pdoGtXySBCeAKNKS.tempcontig /data1/bio_db/refseq/analysis/Manuscript/github_methods/bacterialEvolutionMetrics/popCOGent_example_ocean/H4eguFRO5JUMSsPP.tempcontig\n",
      "/data1/bio_db/refseq/analysis/Manuscript/github_methods/bacterialEvolutionMetrics/popCOGent_example_ocean/TOBG_SP-52.fna_@_TOBG_SP-114.fna.maf.length_bias.txt\n"
     ]
    },
    {
     "name": "stderr",
     "output_type": "stream",
     "text": [
      "\r",
      "Running PopCOGent:  98%|█████████▊| 487/495 [57:20<01:29, 11.24s/it]"
     ]
    },
    {
     "name": "stdout",
     "output_type": "stream",
     "text": [
      "export MUGSY_INSTALL=/data8/Human/NIH_4/MethodDevelopment/Mugsy/mugsy_x86-64-v1r2.3 ; /data8/Human/NIH_4/MethodDevelopment/Mugsy/mugsy_x86-64-v1r2.3/mugsy --directory /data1/bio_db/refseq/analysis/Manuscript/github_methods/bacterialEvolutionMetrics/popCOGent_example_ocean --prefix vQhysTbQW6wdgVt5CgQzNydTSPxa6g1j /data1/bio_db/refseq/analysis/Manuscript/github_methods/bacterialEvolutionMetrics/popCOGent_example_ocean/vQhysTbQW6wdgVt5.tempcontig /data1/bio_db/refseq/analysis/Manuscript/github_methods/bacterialEvolutionMetrics/popCOGent_example_ocean/CgQzNydTSPxa6g1j.tempcontig\n",
      "/data1/bio_db/refseq/analysis/Manuscript/github_methods/bacterialEvolutionMetrics/popCOGent_example_ocean/TOBG_SP-247.fna_@_TOBG_SP-149.fna.maf.length_bias.txt\n"
     ]
    },
    {
     "name": "stderr",
     "output_type": "stream",
     "text": [
      "\r",
      "Running PopCOGent:  99%|█████████▊| 488/495 [57:21<00:56,  8.00s/it]"
     ]
    },
    {
     "name": "stdout",
     "output_type": "stream",
     "text": [
      "export MUGSY_INSTALL=/data8/Human/NIH_4/MethodDevelopment/Mugsy/mugsy_x86-64-v1r2.3 ; /data8/Human/NIH_4/MethodDevelopment/Mugsy/mugsy_x86-64-v1r2.3/mugsy --directory /data1/bio_db/refseq/analysis/Manuscript/github_methods/bacterialEvolutionMetrics/popCOGent_example_ocean --prefix ecirequJBBuf4R1RyZ0spM0ZfZj833wZ /data1/bio_db/refseq/analysis/Manuscript/github_methods/bacterialEvolutionMetrics/popCOGent_example_ocean/ecirequJBBuf4R1R.tempcontig /data1/bio_db/refseq/analysis/Manuscript/github_methods/bacterialEvolutionMetrics/popCOGent_example_ocean/yZ0spM0ZfZj833wZ.tempcontig\n",
      "/data1/bio_db/refseq/analysis/Manuscript/github_methods/bacterialEvolutionMetrics/popCOGent_example_ocean/TOBG_SP-57.fna_@_TOBG_SP-159.fna.maf.length_bias.txt\n"
     ]
    },
    {
     "name": "stderr",
     "output_type": "stream",
     "text": [
      "\r",
      "Running PopCOGent:  99%|█████████▉| 489/495 [57:22<00:36,  6.06s/it]"
     ]
    },
    {
     "name": "stdout",
     "output_type": "stream",
     "text": [
      "export MUGSY_INSTALL=/data8/Human/NIH_4/MethodDevelopment/Mugsy/mugsy_x86-64-v1r2.3 ; /data8/Human/NIH_4/MethodDevelopment/Mugsy/mugsy_x86-64-v1r2.3/mugsy --directory /data1/bio_db/refseq/analysis/Manuscript/github_methods/bacterialEvolutionMetrics/popCOGent_example_ocean --prefix hKMv8GzaNxeWcUXJmkM8LmmbosBavLOL /data1/bio_db/refseq/analysis/Manuscript/github_methods/bacterialEvolutionMetrics/popCOGent_example_ocean/hKMv8GzaNxeWcUXJ.tempcontig /data1/bio_db/refseq/analysis/Manuscript/github_methods/bacterialEvolutionMetrics/popCOGent_example_ocean/mkM8LmmbosBavLOL.tempcontig\n",
      "/data1/bio_db/refseq/analysis/Manuscript/github_methods/bacterialEvolutionMetrics/popCOGent_example_ocean/TOBG_SP-4154.fna_@_TOBG_SP-174.fna.maf.length_bias.txt\n"
     ]
    },
    {
     "name": "stderr",
     "output_type": "stream",
     "text": [
      "\r",
      "Running PopCOGent:  99%|█████████▉| 490/495 [57:34<00:37,  7.59s/it]"
     ]
    },
    {
     "name": "stdout",
     "output_type": "stream",
     "text": [
      "/data1/bio_db/refseq/analysis/Manuscript/github_methods/bacterialEvolutionMetrics/popCOGent_example_ocean/TOBG_SP-39.fna_@_TOBG_SP-249.fna.maf.length_bias.txt\n"
     ]
    },
    {
     "name": "stderr",
     "output_type": "stream",
     "text": [
      "\r",
      "Running PopCOGent:  99%|█████████▉| 491/495 [57:43<00:33,  8.26s/it]"
     ]
    },
    {
     "name": "stdout",
     "output_type": "stream",
     "text": [
      "/data1/bio_db/refseq/analysis/Manuscript/github_methods/bacterialEvolutionMetrics/popCOGent_example_ocean/TOBG_SP-52.fna_@_TOBG_SP-145.fna.maf.length_bias.txt\n"
     ]
    },
    {
     "name": "stderr",
     "output_type": "stream",
     "text": [
      "\r",
      "Running PopCOGent:  99%|█████████▉| 492/495 [57:49<00:22,  7.36s/it]"
     ]
    },
    {
     "name": "stdout",
     "output_type": "stream",
     "text": [
      "/data1/bio_db/refseq/analysis/Manuscript/github_methods/bacterialEvolutionMetrics/popCOGent_example_ocean/TOBG_SP-267.fna_@_TOBG_SP-196.fna.maf.length_bias.txt\n"
     ]
    },
    {
     "name": "stderr",
     "output_type": "stream",
     "text": [
      "\r",
      "Running PopCOGent: 100%|█████████▉| 493/495 [57:57<00:15,  7.65s/it]"
     ]
    },
    {
     "name": "stdout",
     "output_type": "stream",
     "text": [
      "/data1/bio_db/refseq/analysis/Manuscript/github_methods/bacterialEvolutionMetrics/popCOGent_example_ocean/TOBG_SP-93.fna_@_TOBG_SP-350.fna.maf.length_bias.txt\n"
     ]
    },
    {
     "name": "stderr",
     "output_type": "stream",
     "text": [
      "\r",
      "Running PopCOGent: 100%|█████████▉| 494/495 [58:01<00:06,  6.66s/it]"
     ]
    },
    {
     "name": "stdout",
     "output_type": "stream",
     "text": [
      "/data1/bio_db/refseq/analysis/Manuscript/github_methods/bacterialEvolutionMetrics/popCOGent_example_ocean/TOBG_SP-141.fna_@_TOBG_SP-113.fna.maf.length_bias.txt\n"
     ]
    },
    {
     "name": "stderr",
     "output_type": "stream",
     "text": [
      "Running PopCOGent: 100%|██████████| 495/495 [58:15<00:00,  7.06s/it]"
     ]
    },
    {
     "name": "stdout",
     "output_type": "stream",
     "text": [
      "/data1/bio_db/refseq/analysis/Manuscript/github_methods/bacterialEvolutionMetrics/popCOGent_example_ocean/TOBG_SP-64.fna_@_TOBG_SP-32.fna.maf.length_bias.txt\n"
     ]
    },
    {
     "name": "stderr",
     "output_type": "stream",
     "text": [
      "\n"
     ]
    }
   ],
   "source": [
    "# Load genome locations from the dRep run\n",
    "Gdb = pd.read_csv('/data1/bio_db/refseq/analysis/MAGlists_2/goANI_oceanList/data_tables/Bdb.csv')\n",
    "g2l = Gdb.set_index('genome')['location'].to_dict()\n",
    "\n",
    "# Load list of genomes to compare\n",
    "Tdb = pd.read_csv('/data1/bio_db/refseq/analysis/Manuscript/github_methods/bacterialEvolutionMetrics/DataTables/OceanList_for_popCOGent.csv.gz')\n",
    "Tdb['genome1'] = Tdb['reference'].map(g2l)\n",
    "Tdb['genome2'] = Tdb['querry'].map(g2l)\n",
    "g1 = Tdb['genome1'].tolist()\n",
    "g2 = Tdb['genome2'].tolist()\n",
    "\n",
    "# Specify output\n",
    "outfolder = '/data1/bio_db/refseq/analysis/Manuscript/github_methods/bacterialEvolutionMetrics/popCOGent_example_ocean'\n",
    "if not os.path.exists(outfolder):\n",
    "    os.makedirs(outfolder)\n",
    "\n",
    "OPdb = mass_popcogent(g1, g2, outfolder, p=6)\n",
    "OPdb.to_csv('/data1/bio_db/refseq/analysis/Manuscript/github_methods/bacterialEvolutionMetrics/DataTables/oceanList.RESULTS.csv')\n"
   ]
  },
  {
   "cell_type": "code",
   "execution_count": null,
   "metadata": {},
   "outputs": [],
   "source": []
  }
 ],
 "metadata": {
  "kernelspec": {
   "display_name": "Python 3",
   "language": "python",
   "name": "python3"
  },
  "language_info": {
   "codemirror_mode": {
    "name": "ipython",
    "version": 3
   },
   "file_extension": ".py",
   "mimetype": "text/x-python",
   "name": "python",
   "nbconvert_exporter": "python",
   "pygments_lexer": "ipython3",
   "version": "3.7.4"
  }
 },
 "nbformat": 4,
 "nbformat_minor": 2
}
