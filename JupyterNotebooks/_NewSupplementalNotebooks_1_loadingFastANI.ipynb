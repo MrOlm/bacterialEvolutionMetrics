{
 "cells": [
  {
   "cell_type": "code",
   "execution_count": 2,
   "metadata": {},
   "outputs": [],
   "source": [
    "import os\n",
    "import sys\n",
    "import glob\n",
    "import scipy\n",
    "import pickle\n",
    "import matplotlib\n",
    "import numpy as np\n",
    "import pandas as pd\n",
    "import seaborn as sns\n",
    "from collections import defaultdict\n",
    "from matplotlib import pyplot as plt\n",
    "from matplotlib.backends.backend_pdf import PdfPages\n",
    "\n",
    "%matplotlib inline\n",
    "sns.set_style('whitegrid')\n",
    "pd.set_option('display.max_rows', 100)\n",
    "matplotlib.rcParams['ps.fonttype'] = 42\n",
    "matplotlib.rcParams['pdf.fonttype'] = 42\n",
    "pd.set_option('display.max_columns', 100)\n",
    "\n",
    "sys.path.append('/home/mattolm/Bio_scripts/')\n",
    "\n",
    "from IPython.display import display, HTML"
   ]
  },
  {
   "cell_type": "markdown",
   "metadata": {},
   "source": [
    "# List locations and names of fastANI outputs"
   ]
  },
  {
   "cell_type": "code",
   "execution_count": 3,
   "metadata": {},
   "outputs": [],
   "source": [
    "names = ['refseq', 'infant', 'ocean', 'soil']\n",
    "flocs = [\n",
    "'/data1/bio_db/refseq/analysis/SubsetClustering/ListTheta/clusterTesting/fastANI/RefSeqTheta.FastANI.out',\n",
    "'/data8/Human/NIH_4/MethodDevelopment/fastANI/delta.FastANI.out',\n",
    "'/data1/bio_db/refseq/analysis/fastANI/oceanGenomeListKappa.FastANI.out',\n",
    "'/data1/bio_db/refseq/analysis/fastANI/sigmaSoilList.FastANI.out'\n",
    "]"
   ]
  },
  {
   "cell_type": "markdown",
   "metadata": {},
   "source": [
    "# Load FastANI outputs in a standardized way"
   ]
  },
  {
   "cell_type": "code",
   "execution_count": 4,
   "metadata": {},
   "outputs": [],
   "source": [
    "def load_fastani(loc):\n",
    "    '''\n",
    "    loc = location of fastANI output\n",
    "    '''\n",
    "    fdb = pd.read_table(floc, names=['genome1', 'genome2', 'ANI', 'j1', 'j2'], delim_whitespace=True)\n",
    "    for c in ['genome1', 'genome2']:\n",
    "        fdb[c] = [os.path.basename(x) for x in fdb[c]]\n",
    "    fdb['fastani_fracAligned'] = [(j1/j2) for j1, j2 in zip(fdb['j1'], fdb['j2'])]\n",
    "    fdb = fdb.rename(columns={'ANI':'fast_ani'})\n",
    "    fdb = fdb[['genome1', 'genome2', 'fast_ani', 'fastani_fracAligned']]\n",
    "    fdb['fast_ani'] = [x/100 for x in fdb['fast_ani']]\n",
    "    \n",
    "    SFdb = standardize(fdb, vals=['fast_ani', 'fastani_fracAligned'])\n",
    "    return SFdb\n",
    "\n",
    "def standardize(db, g1='genome1', g2='genome2', vals=['fast_ani', 'fastani_fracAligned']):\n",
    "    '''\n",
    "    Standardize such that only one genome combination remains\n",
    "    \n",
    "    First, merge / concatonate everything together such that both fwd and reverse are present\n",
    "    Second, subset just that only comparisons where g1 > g2 are retained\n",
    "    '''\n",
    "    # Step 1- merge\n",
    "    \n",
    "    # Make a reverse database\n",
    "    rdb = db.copy()\n",
    "    rdb.rename(columns={g1:g2, g2:g1}, inplace=True)\n",
    "    rdb.rename(columns={v:'rev_{0}'.format(v) for v in vals}, inplace=True)\n",
    "    \n",
    "    # merge it in\n",
    "    cdb = pd.merge(db, rdb, on=[g1, g2], how='outer')\n",
    "    #cdb = special_merge(db, rdb, on=[g1, g2])\n",
    "    # take the average\n",
    "    for v in vals:\n",
    "        cdb['avg_{0}'.format(v)] = [make_av(v1, v2) for v1, v2 in zip(cdb[v], cdb['rev_{0}'.format(v)])]\n",
    "    \n",
    "    # Step 2- subset\n",
    "    \n",
    "    # Figure out which is to keep\n",
    "    cdb['keep'] = [True if v1 >= v2 else False for v1, v2 in zip(cdb[g1], cdb[g2])]    \n",
    "    # Only keep the keep\n",
    "    cdb = cdb[cdb['keep']]\n",
    "    \n",
    "    # Rename\n",
    "    del cdb['keep']\n",
    "    for v in vals:\n",
    "        del cdb['rev_{0}'.format(v)]\n",
    "        del cdb[v]\n",
    "\n",
    "        cdb = cdb.rename(columns={'avg_{0}'.format(v):v})\n",
    "    \n",
    "    # Make sure all is kosher\n",
    "    #assert len(cdb) == ((len(cdb[g1].unique()) * len(cdb[g1].unique())) / 2) + len(cdb[g1].unique())\n",
    "    return cdb.drop_duplicates(subset=[g1, g2])\n",
    "\n",
    "def make_av(v1, v2):\n",
    "    '''\n",
    "    If v1 and v2 are not NA, average. If one is NA, return the other. If both are NA, fail\n",
    "    '''\n",
    "    if np.isnan(v1):\n",
    "        assert not np.isnan(v2)\n",
    "        return v2\n",
    "    elif np.isnan(v2):\n",
    "        assert not np.isnan(v1)\n",
    "        return v1\n",
    "    else:\n",
    "        v = np.mean([v1,v2])\n",
    "        return v"
   ]
  },
  {
   "cell_type": "code",
   "execution_count": 5,
   "metadata": {},
   "outputs": [
    {
     "name": "stdout",
     "output_type": "stream",
     "text": [
      "Loading refseq\n",
      "Loading infant\n",
      "Loading ocean\n",
      "Loading soil\n"
     ]
    }
   ],
   "source": [
    "Fdb = pd.DataFrame()\n",
    "\n",
    "for name, floc in zip(names, flocs):\n",
    "    print(\"Loading {0}\".format(name))\n",
    "    db = load_fastani(floc)\n",
    "    db['method'] = name\n",
    "    Fdb = Fdb.append(db)\n",
    "    \n",
    "Fdb['method'] = Fdb['method'].astype('category')"
   ]
  },
  {
   "cell_type": "markdown",
   "metadata": {},
   "source": [
    "## Print an overview of how many comparisons successfully loaded for each method"
   ]
  },
  {
   "cell_type": "code",
   "execution_count": 6,
   "metadata": {},
   "outputs": [
    {
     "data": {
      "text/plain": [
       "soil      926259\n",
       "refseq    485506\n",
       "infant    284017\n",
       "ocean      25393\n",
       "Name: method, dtype: int64"
      ]
     },
     "execution_count": 6,
     "metadata": {},
     "output_type": "execute_result"
    }
   ],
   "source": [
    "Fdb['method'].value_counts()"
   ]
  },
  {
   "cell_type": "markdown",
   "metadata": {},
   "source": [
    "## Load information on which RefSeq genomes belong to the same species"
   ]
  },
  {
   "cell_type": "code",
   "execution_count": 11,
   "metadata": {},
   "outputs": [],
   "source": [
    "GLdb = pd.read_csv('/data1/bio_db/refseq/parsed/data_tables/refseq_info_v1.2.csv')\n",
    "GLdb['genome'] = [x + '.fasta' for x in GLdb['assembly_accession']]\n",
    "g2s = GLdb.set_index('genome')['species'].to_dict()\n",
    "\n",
    "Fdb['species1'] = Fdb['genome1'].map(g2s)\n",
    "Fdb['species2'] = Fdb['genome2'].map(g2s)\n",
    "\n",
    "Fdb['same_species'] = [x == y for x,y in zip(Fdb['species1'], Fdb['species2'])]\n",
    "\n",
    "for col in ['species1', 'species2']:\n",
    "    del Fdb[col]"
   ]
  },
  {
   "cell_type": "markdown",
   "metadata": {},
   "source": [
    "## Load completeness and contamination information from dRep runs"
   ]
  },
  {
   "cell_type": "code",
   "execution_count": 12,
   "metadata": {},
   "outputs": [],
   "source": [
    "dlocs = ['/data1/bio_db/refseq/analysis/MAGlists_2/goANI_soilList/data_tables/genomeInfo.csv',\n",
    "        '/data1/bio_db/refseq/analysis/MAGlists_2/goANI_oceanList/data_tables/genomeInfo.csv',\n",
    "        '/data1/bio_db/refseq/analysis/MAGlists_2/goANI_infantList/data_tables/genomeInfo.csv']\n",
    "\n",
    "# Snag the completeness and contamination\n",
    "G2con = {}\n",
    "G2comp = {}\n",
    "for floc in dlocs:\n",
    "    gdb = pd.read_csv(floc)\n",
    "    g2con = gdb.set_index('genome')['contamination'].to_dict()\n",
    "    g2comp = gdb.set_index('genome')['completeness'].to_dict()\n",
    "    \n",
    "    G2con = {**G2con, **g2con}\n",
    "    G2comp = {**G2comp, **g2comp}\n",
    "    \n",
    "Fdb['g1_con'] = Fdb['genome1'].map(G2con)\n",
    "Fdb['g2_con'] = Fdb['genome2'].map(G2con)\n",
    "Fdb['g1_comp'] = Fdb['genome1'].map(G2comp)\n",
    "Fdb['g2_comp'] = Fdb['genome2'].map(G2comp)\n",
    "\n",
    "assert len(Fdb[(Fdb['method'].isin(['soil', 'ocean', 'infant'])) \n",
    "                & ((Fdb['g1_con'].isna()) | (Fdb['g2_con'].isna()) \n",
    "                   | (Fdb['g1_comp'].isna()) | (Fdb['g2_comp'].isna()) )]) == 0\n",
    "\n",
    "# Make RefSeq just 100% complete\n",
    "for t in ['g1_con', 'g2_con']:\n",
    "    Fdb[t] = Fdb[t].fillna(0)\n",
    "for t in ['g1_comp', 'g2_comp']:\n",
    "    Fdb[t] = Fdb[t].fillna(100)\n"
   ]
  },
  {
   "cell_type": "markdown",
   "metadata": {},
   "source": [
    "## Filter genome set"
   ]
  },
  {
   "cell_type": "code",
   "execution_count": 17,
   "metadata": {},
   "outputs": [],
   "source": [
    "COMP = 70\n",
    "CON = 5\n",
    "\n",
    "FFdb = Fdb[(Fdb['g1_comp'] >= COMP) & (Fdb['g2_comp'] >= COMP)\\\n",
    "           &(Fdb['g1_con'] <= CON) & (Fdb['g2_con'] <= CON)]\n",
    "for col in ['g1_comp', 'g1_con', 'g2_comp', 'g2_con']:\n",
    "    del FFdb[col]\n",
    "    "
   ]
  },
  {
   "cell_type": "markdown",
   "metadata": {},
   "source": [
    "## Save"
   ]
  },
  {
   "cell_type": "code",
   "execution_count": 19,
   "metadata": {},
   "outputs": [
    {
     "data": {
      "text/html": [
       "<div>\n",
       "<style scoped>\n",
       "    .dataframe tbody tr th:only-of-type {\n",
       "        vertical-align: middle;\n",
       "    }\n",
       "\n",
       "    .dataframe tbody tr th {\n",
       "        vertical-align: top;\n",
       "    }\n",
       "\n",
       "    .dataframe thead th {\n",
       "        text-align: right;\n",
       "    }\n",
       "</style>\n",
       "<table border=\"1\" class=\"dataframe\">\n",
       "  <thead>\n",
       "    <tr style=\"text-align: right;\">\n",
       "      <th></th>\n",
       "      <th>genome1</th>\n",
       "      <th>genome2</th>\n",
       "      <th>fast_ani</th>\n",
       "      <th>fastani_fracAligned</th>\n",
       "      <th>method</th>\n",
       "      <th>same_species</th>\n",
       "    </tr>\n",
       "  </thead>\n",
       "  <tbody>\n",
       "    <tr>\n",
       "      <th>0</th>\n",
       "      <td>GCF_001280225.1.fasta</td>\n",
       "      <td>GCF_001280225.1.fasta</td>\n",
       "      <td>1.000000</td>\n",
       "      <td>1.000000</td>\n",
       "      <td>refseq</td>\n",
       "      <td>True</td>\n",
       "    </tr>\n",
       "    <tr>\n",
       "      <th>1</th>\n",
       "      <td>GCF_001280225.1.fasta</td>\n",
       "      <td>GCF_000521585.1.fasta</td>\n",
       "      <td>0.794963</td>\n",
       "      <td>0.607486</td>\n",
       "      <td>refseq</td>\n",
       "      <td>True</td>\n",
       "    </tr>\n",
       "    <tr>\n",
       "      <th>2</th>\n",
       "      <td>GCF_001280225.1.fasta</td>\n",
       "      <td>GCF_000225465.1.fasta</td>\n",
       "      <td>0.794084</td>\n",
       "      <td>0.571662</td>\n",
       "      <td>refseq</td>\n",
       "      <td>True</td>\n",
       "    </tr>\n",
       "    <tr>\n",
       "      <th>3</th>\n",
       "      <td>GCF_001280225.1.fasta</td>\n",
       "      <td>GCF_000009605.1.fasta</td>\n",
       "      <td>0.793860</td>\n",
       "      <td>0.547941</td>\n",
       "      <td>refseq</td>\n",
       "      <td>True</td>\n",
       "    </tr>\n",
       "    <tr>\n",
       "      <th>4</th>\n",
       "      <td>GCF_001280225.1.fasta</td>\n",
       "      <td>GCF_000183285.1.fasta</td>\n",
       "      <td>0.791693</td>\n",
       "      <td>0.564687</td>\n",
       "      <td>refseq</td>\n",
       "      <td>True</td>\n",
       "    </tr>\n",
       "  </tbody>\n",
       "</table>\n",
       "</div>"
      ],
      "text/plain": [
       "                 genome1                genome2  fast_ani  \\\n",
       "0  GCF_001280225.1.fasta  GCF_001280225.1.fasta  1.000000   \n",
       "1  GCF_001280225.1.fasta  GCF_000521585.1.fasta  0.794963   \n",
       "2  GCF_001280225.1.fasta  GCF_000225465.1.fasta  0.794084   \n",
       "3  GCF_001280225.1.fasta  GCF_000009605.1.fasta  0.793860   \n",
       "4  GCF_001280225.1.fasta  GCF_000183285.1.fasta  0.791693   \n",
       "\n",
       "   fastani_fracAligned  method  same_species  \n",
       "0             1.000000  refseq          True  \n",
       "1             0.607486  refseq          True  \n",
       "2             0.571662  refseq          True  \n",
       "3             0.547941  refseq          True  \n",
       "4             0.564687  refseq          True  "
      ]
     },
     "execution_count": 19,
     "metadata": {},
     "output_type": "execute_result"
    }
   ],
   "source": [
    "FFdb.head()"
   ]
  },
  {
   "cell_type": "code",
   "execution_count": 20,
   "metadata": {},
   "outputs": [],
   "source": [
    "FFdb.to_csv('/data1/bio_db/refseq/analysis/Manuscript/github_methods/bacterialEvolutionMetrics/DataTables/FastANI_comps.csv.gz')\n"
   ]
  }
 ],
 "metadata": {
  "kernelspec": {
   "display_name": "Python 3",
   "language": "python",
   "name": "python3"
  },
  "language_info": {
   "codemirror_mode": {
    "name": "ipython",
    "version": 3
   },
   "file_extension": ".py",
   "mimetype": "text/x-python",
   "name": "python",
   "nbconvert_exporter": "python",
   "pygments_lexer": "ipython3",
   "version": "3.7.4"
  }
 },
 "nbformat": 4,
 "nbformat_minor": 2
}
